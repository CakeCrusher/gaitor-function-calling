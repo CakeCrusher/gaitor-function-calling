{
 "cells": [
  {
   "cell_type": "code",
   "execution_count": 3,
   "metadata": {},
   "outputs": [
    {
     "name": "stdout",
     "output_type": "stream",
     "text": [
      "Requirement already satisfied: openai in c:\\users\\1seba\\anaconda3\\envs\\ai\\lib\\site-packages (0.27.6)\n",
      "Collecting openai\n",
      "  Downloading openai-1.1.0-py3-none-any.whl (217 kB)\n",
      "Collecting anyio<4,>=3.5.0\n",
      "  Using cached anyio-3.7.1-py3-none-any.whl (80 kB)\n",
      "Collecting httpx<1,>=0.23.0\n",
      "  Downloading httpx-0.25.1-py3-none-any.whl (75 kB)\n",
      "Requirement already satisfied: pydantic<3,>=1.9.0 in c:\\users\\1seba\\anaconda3\\envs\\ai\\lib\\site-packages (from openai) (1.10.7)\n",
      "Requirement already satisfied: tqdm>4 in c:\\users\\1seba\\anaconda3\\envs\\ai\\lib\\site-packages (from openai) (4.65.0)\n",
      "Collecting distro<2,>=1.7.0\n",
      "  Downloading distro-1.8.0-py3-none-any.whl (20 kB)\n",
      "Requirement already satisfied: typing-extensions<5,>=4.5 in c:\\users\\1seba\\anaconda3\\envs\\ai\\lib\\site-packages (from openai) (4.5.0)\n",
      "Collecting exceptiongroup\n",
      "  Using cached exceptiongroup-1.1.3-py3-none-any.whl (14 kB)\n",
      "Collecting sniffio>=1.1\n",
      "  Using cached sniffio-1.3.0-py3-none-any.whl (10 kB)\n",
      "Requirement already satisfied: idna>=2.8 in c:\\users\\1seba\\anaconda3\\envs\\ai\\lib\\site-packages (from anyio<4,>=3.5.0->openai) (2.10)\n",
      "Collecting httpcore\n",
      "  Downloading httpcore-1.0.1-py3-none-any.whl (76 kB)\n",
      "Requirement already satisfied: certifi in c:\\users\\1seba\\anaconda3\\envs\\ai\\lib\\site-packages (from httpx<1,>=0.23.0->openai) (2022.12.7)\n",
      "Requirement already satisfied: colorama in c:\\users\\1seba\\anaconda3\\envs\\ai\\lib\\site-packages (from tqdm>4->openai) (0.4.4)\n",
      "Collecting h11<0.15,>=0.13\n",
      "  Downloading h11-0.14.0-py3-none-any.whl (58 kB)\n",
      "Installing collected packages: sniffio, h11, exceptiongroup, httpcore, anyio, httpx, distro, openai\n",
      "  Attempting uninstall: openai\n",
      "    Found existing installation: openai 0.27.6\n",
      "    Uninstalling openai-0.27.6:\n",
      "      Successfully uninstalled openai-0.27.6\n",
      "Successfully installed anyio-3.7.1 distro-1.8.0 exceptiongroup-1.1.3 h11-0.14.0 httpcore-1.0.1 httpx-0.25.1 openai-1.1.0 sniffio-1.3.0\n"
     ]
    }
   ],
   "source": [
    "!pip install openai --upgrade"
   ]
  },
  {
   "cell_type": "code",
   "execution_count": 4,
   "metadata": {},
   "outputs": [
    {
     "name": "stdout",
     "output_type": "stream",
     "text": [
      "Name: openai\n",
      "Version: 1.1.0\n",
      "Summary: Client library for the openai API\n",
      "Home-page: None\n",
      "Author: None\n",
      "Author-email: OpenAI <support@openai.com>\n",
      "License: None\n",
      "Location: c:\\users\\1seba\\anaconda3\\envs\\ai\\lib\\site-packages\n",
      "Requires: typing-extensions, anyio, tqdm, httpx, distro, pydantic\n",
      "Required-by: \n"
     ]
    }
   ],
   "source": [
    "!pip show openai"
   ]
  },
  {
   "cell_type": "code",
   "execution_count": 11,
   "metadata": {},
   "outputs": [],
   "source": [
    "# DOCS https://platform.openai.com/docs/guides/gpt/function-calling\n",
    "import os\n",
    "import openai\n",
    "openai.api_key = os.getenv(\"OPENAI_API_KEY\")"
   ]
  },
  {
   "cell_type": "code",
   "execution_count": 15,
   "metadata": {},
   "outputs": [
    {
     "data": {
      "text/plain": [
       "<OpenAIObject chat.completion id=chatcmpl-8DFMDZzxNu9kevwZ7ONi7BrK7oO3j at 0x2c29fc50b30> JSON: {\n",
       "  \"id\": \"chatcmpl-8DFMDZzxNu9kevwZ7ONi7BrK7oO3j\",\n",
       "  \"object\": \"chat.completion\",\n",
       "  \"created\": 1698167989,\n",
       "  \"model\": \"gpt-3.5-turbo-0613\",\n",
       "  \"choices\": [\n",
       "    {\n",
       "      \"index\": 0,\n",
       "      \"message\": {\n",
       "        \"role\": \"assistant\",\n",
       "        \"content\": null,\n",
       "        \"function_call\": {\n",
       "          \"name\": \"get_current_weather\",\n",
       "          \"arguments\": \"{\\n  \\\"location\\\": \\\"Boston, MA\\\"\\n}\"\n",
       "        }\n",
       "      },\n",
       "      \"finish_reason\": \"function_call\"\n",
       "    }\n",
       "  ],\n",
       "  \"usage\": {\n",
       "    \"prompt_tokens\": 82,\n",
       "    \"completion_tokens\": 18,\n",
       "    \"total_tokens\": 100\n",
       "  }\n",
       "}"
      ]
     },
     "execution_count": 15,
     "metadata": {},
     "output_type": "execute_result"
    }
   ],
   "source": [
    "res = openai.ChatCompletion.create(\n",
    "    model=\"gpt-3.5-turbo-0613\",\n",
    "    messages=[\n",
    "        # {\"role\": \"user\", \"content\": \"Hi\"},\n",
    "        {\"role\": \"user\", \"content\": \"What is the weather like in Boston?\"},\n",
    "    ],\n",
    "    functions=[\n",
    "        {\n",
    "            \"name\": \"get_current_weather\",\n",
    "            \"description\": \"Get the current weather in a given location\",\n",
    "            \"parameters\": {\n",
    "                \"type\": \"object\",\n",
    "                \"properties\": {\n",
    "                \"location\": {\n",
    "                    \"type\": \"string\",\n",
    "                    \"description\": \"The city and state, e.g. San Francisco, CA\"\n",
    "                },\n",
    "                \"unit\": {\n",
    "                    \"type\": \"string\",\n",
    "                    \"enum\": [\"celsius\", \"fahrenheit\"]\n",
    "                }\n",
    "                },\n",
    "                \"required\": [\"location\"]\n",
    "            }\n",
    "        }\n",
    "    ],\n",
    "    function_call=\"auto\"\n",
    ")\n",
    "res"
   ]
  },
  {
   "cell_type": "code",
   "execution_count": null,
   "metadata": {},
   "outputs": [],
   "source": []
  }
 ],
 "metadata": {
  "kernelspec": {
   "display_name": "Python 3",
   "language": "python",
   "name": "python3"
  },
  "language_info": {
   "codemirror_mode": {
    "name": "ipython",
    "version": 3
   },
   "file_extension": ".py",
   "mimetype": "text/x-python",
   "name": "python",
   "nbconvert_exporter": "python",
   "pygments_lexer": "ipython3",
   "version": "3.8.8"
  }
 },
 "nbformat": 4,
 "nbformat_minor": 2
}
