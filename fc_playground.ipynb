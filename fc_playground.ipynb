{
 "cells": [
  {
   "cell_type": "code",
   "execution_count": 4,
   "metadata": {},
   "outputs": [
    {
     "name": "stdout",
     "output_type": "stream",
     "text": [
      "Requirement already satisfied: openai==0.28.1 in c:\\projects\\mimicbot\\mimicbotwrapper\\env\\lib\\site-packages (0.28.1)\n",
      "Requirement already satisfied: jsonformer in c:\\projects\\mimicbot\\mimicbotwrapper\\env\\lib\\site-packages (0.12.0)\n",
      "Requirement already satisfied: transformers in c:\\projects\\mimicbot\\mimicbotwrapper\\env\\lib\\site-packages (4.20.1)\n",
      "Requirement already satisfied: aiohttp in c:\\projects\\mimicbot\\mimicbotwrapper\\env\\lib\\site-packages (from openai==0.28.1) (3.7.4)\n",
      "Requirement already satisfied: tqdm in c:\\projects\\mimicbot\\mimicbotwrapper\\env\\lib\\site-packages (from openai==0.28.1) (4.64.0)\n",
      "Requirement already satisfied: requests>=2.20 in c:\\projects\\mimicbot\\mimicbotwrapper\\env\\lib\\site-packages (from openai==0.28.1) (2.27.1)\n",
      "Requirement already satisfied: termcolor<3.0.0,>=2.3.0 in c:\\projects\\mimicbot\\mimicbotwrapper\\env\\lib\\site-packages (from jsonformer) (2.4.0)\n",
      "Requirement already satisfied: huggingface-hub<1.0,>=0.1.0 in c:\\projects\\mimicbot\\mimicbotwrapper\\env\\lib\\site-packages (from transformers) (0.17.3)\n",
      "Requirement already satisfied: packaging>=20.0 in c:\\projects\\mimicbot\\mimicbotwrapper\\env\\lib\\site-packages (from transformers) (21.3)\n",
      "Requirement already satisfied: tokenizers!=0.11.3,<0.13,>=0.11.1 in c:\\projects\\mimicbot\\mimicbotwrapper\\env\\lib\\site-packages (from transformers) (0.12.1)\n",
      "Requirement already satisfied: filelock in c:\\projects\\mimicbot\\mimicbotwrapper\\env\\lib\\site-packages (from transformers) (3.6.0)\n",
      "Requirement already satisfied: numpy>=1.17 in c:\\projects\\mimicbot\\mimicbotwrapper\\env\\lib\\site-packages (from transformers) (1.23.0)\n",
      "Requirement already satisfied: regex!=2019.12.17 in c:\\projects\\mimicbot\\mimicbotwrapper\\env\\lib\\site-packages (from transformers) (2022.6.2)\n",
      "Requirement already satisfied: pyyaml>=5.1 in c:\\projects\\mimicbot\\mimicbotwrapper\\env\\lib\\site-packages (from transformers) (6.0)\n",
      "Requirement already satisfied: fsspec in c:\\projects\\mimicbot\\mimicbotwrapper\\env\\lib\\site-packages (from huggingface-hub<1.0,>=0.1.0->transformers) (2022.5.0)\n",
      "Requirement already satisfied: typing-extensions>=3.7.4.3 in c:\\projects\\mimicbot\\mimicbotwrapper\\env\\lib\\site-packages (from huggingface-hub<1.0,>=0.1.0->transformers) (4.8.0)\n",
      "Requirement already satisfied: pyparsing!=3.0.5,>=2.0.2 in c:\\projects\\mimicbot\\mimicbotwrapper\\env\\lib\\site-packages (from packaging>=20.0->transformers) (3.0.7)\n",
      "Requirement already satisfied: idna<4,>=2.5 in c:\\projects\\mimicbot\\mimicbotwrapper\\env\\lib\\site-packages (from requests>=2.20->openai==0.28.1) (3.3)\n",
      "Requirement already satisfied: certifi>=2017.4.17 in c:\\projects\\mimicbot\\mimicbotwrapper\\env\\lib\\site-packages (from requests>=2.20->openai==0.28.1) (2021.10.8)\n",
      "Requirement already satisfied: urllib3<1.27,>=1.21.1 in c:\\projects\\mimicbot\\mimicbotwrapper\\env\\lib\\site-packages (from requests>=2.20->openai==0.28.1) (1.26.18)\n",
      "Requirement already satisfied: charset-normalizer~=2.0.0 in c:\\projects\\mimicbot\\mimicbotwrapper\\env\\lib\\site-packages (from requests>=2.20->openai==0.28.1) (2.0.12)\n",
      "Requirement already satisfied: colorama in c:\\projects\\mimicbot\\mimicbotwrapper\\env\\lib\\site-packages (from tqdm->openai==0.28.1) (0.4.4)\n",
      "Requirement already satisfied: yarl<2.0,>=1.0 in c:\\projects\\mimicbot\\mimicbotwrapper\\env\\lib\\site-packages (from aiohttp->openai==0.28.1) (1.7.2)\n",
      "Requirement already satisfied: multidict<7.0,>=4.5 in c:\\projects\\mimicbot\\mimicbotwrapper\\env\\lib\\site-packages (from aiohttp->openai==0.28.1) (6.0.2)\n",
      "Requirement already satisfied: async-timeout<4.0,>=3.0 in c:\\projects\\mimicbot\\mimicbotwrapper\\env\\lib\\site-packages (from aiohttp->openai==0.28.1) (3.0.1)\n",
      "Requirement already satisfied: attrs>=17.3.0 in c:\\projects\\mimicbot\\mimicbotwrapper\\env\\lib\\site-packages (from aiohttp->openai==0.28.1) (21.4.0)\n",
      "Requirement already satisfied: chardet<4.0,>=2.0 in c:\\projects\\mimicbot\\mimicbotwrapper\\env\\lib\\site-packages (from aiohttp->openai==0.28.1) (3.0.4)\n"
     ]
    },
    {
     "name": "stderr",
     "output_type": "stream",
     "text": [
      "WARNING: You are using pip version 21.2.4; however, version 23.3.1 is available.\n",
      "You should consider upgrading via the 'C:\\Projects\\MimicBot\\mimicbotwrapper\\env\\Scripts\\python.exe -m pip install --upgrade pip' command.\n"
     ]
    }
   ],
   "source": [
    "!pip install \"openai==0.28.1\" \"jsonformer\" \"transformers\""
   ]
  },
  {
   "cell_type": "code",
   "execution_count": null,
   "metadata": {},
   "outputs": [],
   "source": [
    "from jsonformer import Jsonformer\n",
    "from transformers import AutoModelForCausalLM, AutoTokenizer\n",
    "\n",
    "model = AutoModelForCausalLM.from_pretrained(\"databricks/dolly-v2-3b\")\n",
    "tokenizer = AutoTokenizer.from_pretrained(\"databricks/dolly-v2-3b\")\n",
    "\n",
    "json_schema = {\n",
    "    \"type\": \"object\",\n",
    "    \"properties\": {\n",
    "        \"location\": {\n",
    "            \"type\": \"string\",\n",
    "            \"description\": \"The city and state, e.g. San Francisco, CA\"\n",
    "        },\n",
    "        \"unit\": {\n",
    "            \"type\": \"string\",\n",
    "            \"enum\": [\"celsius\", \"fahrenheit\"]\n",
    "        },\n",
    "        \"cost\": {\n",
    "            \"type\": \"number\",\n",
    "            \"minimum\": 0\n",
    "        }\n",
    "    }\n",
    "}\n",
    "\n",
    "prompt = \"Generate a person's information based on the following schema:\"\n",
    "jsonformer = Jsonformer(model, tokenizer, json_schema, prompt)\n",
    "generated_data = jsonformer()\n",
    "\n",
    "print(generated_data)"
   ]
  },
  {
   "cell_type": "code",
   "execution_count": 7,
   "metadata": {},
   "outputs": [],
   "source": [
    "# DOCS https://platform.openai.com/docs/guides/gpt/function-calling\n",
    "import os\n",
    "import openai\n",
    "openai.api_key = None"
   ]
  },
  {
   "cell_type": "code",
   "execution_count": null,
   "metadata": {},
   "outputs": [],
   "source": [
    "res = openai.ChatCompletion.create(\n",
    "    model=\"gpt-3.5-turbo-0613\",\n",
    "    messages=[\n",
    "        {\"role\": \"user\", \"content\": \"Hi!\"},\n",
    "    ],\n",
    "    functions=[\n",
    "        {\n",
    "            \"name\": \"get_current_weather\",\n",
    "            \"description\": \"Get the current weather in a given location\",\n",
    "            \"parameters\": {\n",
    "                \"type\": \"object\",\n",
    "                \"properties\": {\n",
    "                    \"location\": {\n",
    "                        \"type\": \"string\",\n",
    "                        \"description\": \"The city and state, e.g. San Francisco, CA\"\n",
    "                    },\n",
    "                    \"unit\": {\n",
    "                        \"type\": \"string\",\n",
    "                        \"enum\": [\"celsius\", \"fahrenheit\"]\n",
    "                    },\n",
    "                    \"cost\": {\n",
    "                        \"type\": \"number\",\n",
    "                        \"minimum\": 0\n",
    "                    }\n",
    "                },\n",
    "                \"required\": [\"location\"]\n",
    "            }\n",
    "        }\n",
    "    ],\n",
    "    function_call=\"auto\"\n",
    ")\n",
    "res.choices[0]"
   ]
  },
  {
   "cell_type": "code",
   "execution_count": 11,
   "metadata": {},
   "outputs": [
    {
     "data": {
      "text/plain": [
       "<OpenAIObject at 0x20ab53e02c0> JSON: {\n",
       "  \"index\": 0,\n",
       "  \"message\": {\n",
       "    \"role\": \"assistant\",\n",
       "    \"content\": null,\n",
       "    \"function_call\": {\n",
       "      \"name\": \"get_current_weather\",\n",
       "      \"arguments\": \"{\\n  \\\"location\\\": \\\"Boston, MA\\\"\\n}\"\n",
       "    }\n",
       "  },\n",
       "  \"finish_reason\": \"function_call\"\n",
       "}"
      ]
     },
     "execution_count": 11,
     "metadata": {},
     "output_type": "execute_result"
    }
   ],
   "source": [
    "res = openai.ChatCompletion.create(\n",
    "    model=\"gpt-3.5-turbo-0613\",\n",
    "    messages=[\n",
    "        {\"role\": \"user\", \"content\": \"What is the weather in Boston?\"},\n",
    "    ],\n",
    "    functions=[\n",
    "        {\n",
    "            \"name\": \"get_current_weather\",\n",
    "            \"description\": \"Get the current weather in a given location\",\n",
    "            \"parameters\": {\n",
    "                \"type\": \"object\",\n",
    "                \"properties\": {\n",
    "                    \"location\": {\n",
    "                        \"type\": \"string\",\n",
    "                        \"description\": \"The city and state, e.g. San Francisco, CA\"\n",
    "                    },\n",
    "                    \"unit\": {\n",
    "                        \"type\": \"string\",\n",
    "                        \"enum\": [\"celsius\", \"fahrenheit\"]\n",
    "                    },\n",
    "                    \"cost\": {\n",
    "                        \"type\": \"number\",\n",
    "                        \"minimum\": 0\n",
    "                    }\n",
    "                },\n",
    "                \"required\": [\"location\"]\n",
    "            }\n",
    "        }\n",
    "    ],\n",
    "    function_call=\"auto\"\n",
    ")\n",
    "res.choices[0]"
   ]
  },
  {
   "cell_type": "code",
   "execution_count": 14,
   "metadata": {},
   "outputs": [
    {
     "data": {
      "text/plain": [
       "<OpenAIObject at 0x20ab539d800> JSON: {\n",
       "  \"index\": 0,\n",
       "  \"message\": {\n",
       "    \"role\": \"assistant\",\n",
       "    \"content\": \"The current weather in Boston, MA is sunny with a temperature of 22 degrees Celsius.\"\n",
       "  },\n",
       "  \"finish_reason\": \"stop\"\n",
       "}"
      ]
     },
     "execution_count": 14,
     "metadata": {},
     "output_type": "execute_result"
    }
   ],
   "source": [
    "res = openai.ChatCompletion.create(\n",
    "    model=\"gpt-3.5-turbo-0613\",\n",
    "    messages=[\n",
    "        {\"role\": \"user\", \"content\": \"What is the weather in Boston?\"},\n",
    "        {\n",
    "            \"role\": \"assistant\",\n",
    "            \"content\": None,\n",
    "            \"function_call\":\n",
    "                {\n",
    "                    \"name\": \"get_current_weather\",\n",
    "                    \"arguments\": \"{ \\\"location\\\": \\\"Boston, MA\\\"}\"\n",
    "                }\n",
    "        },\n",
    "        {\n",
    "            \"role\": \"function\",\n",
    "            \"name\": \"get_current_weather\",\n",
    "            \"content\": \"{\\\"temperature\\\": 22, \\\"unit\\\": \\\"celsius\\\", \\\"description\\\": \\\"Sunny\\\"}\"\n",
    "        }\n",
    "    ],\n",
    "    functions=[\n",
    "        {\n",
    "            \"name\": \"get_current_weather\",\n",
    "            \"description\": \"Get the current weather in a given location\",\n",
    "            \"parameters\": {\n",
    "                \"type\": \"object\",\n",
    "                \"properties\": {\n",
    "                    \"location\": {\n",
    "                        \"type\": \"string\",\n",
    "                        \"description\": \"The city and state, e.g. San Francisco, CA\"\n",
    "                    },\n",
    "                    \"unit\": {\n",
    "                        \"type\": \"string\",\n",
    "                        \"enum\": [\"celsius\", \"fahrenheit\"]\n",
    "                    },\n",
    "                    \"cost\": {\n",
    "                        \"type\": \"number\",\n",
    "                        \"minimum\": 0\n",
    "                    }\n",
    "                },\n",
    "                \"required\": [\"location\"]\n",
    "            }\n",
    "        }\n",
    "    ],\n",
    "    function_call=\"auto\"\n",
    ")\n",
    "res.choices[0]"
   ]
  }
 ],
 "metadata": {
  "kernelspec": {
   "display_name": "Python 3",
   "language": "python",
   "name": "python3"
  },
  "language_info": {
   "codemirror_mode": {
    "name": "ipython",
    "version": 3
   },
   "file_extension": ".py",
   "mimetype": "text/x-python",
   "name": "python",
   "nbconvert_exporter": "python",
   "pygments_lexer": "ipython3",
   "version": "3.10.2"
  }
 },
 "nbformat": 4,
 "nbformat_minor": 2
}
