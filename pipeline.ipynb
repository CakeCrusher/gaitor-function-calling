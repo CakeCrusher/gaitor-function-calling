{
 "cells": [
  {
   "cell_type": "code",
   "execution_count": 1,
   "id": "091e1455-6621-4198-a135-886bf1950aa0",
   "metadata": {
    "scrolled": true
   },
   "outputs": [
    {
     "name": "stdout",
     "output_type": "stream",
     "text": [
      "Defaulting to user installation because normal site-packages is not writeable\n",
      "Requirement already satisfied: transformers==4.34.0 in /home/sosa.s/.local/lib/python3.10/site-packages (4.34.0)\n",
      "Requirement already satisfied: datasets==2.13.0 in /home/sosa.s/.local/lib/python3.10/site-packages (2.13.0)\n",
      "Requirement already satisfied: peft==0.4.0 in /home/sosa.s/.local/lib/python3.10/site-packages (0.4.0)\n",
      "Requirement already satisfied: accelerate==0.23.0 in /home/sosa.s/.local/lib/python3.10/site-packages (0.23.0)\n",
      "Requirement already satisfied: bitsandbytes==0.41.1 in /home/sosa.s/.local/lib/python3.10/site-packages (0.41.1)\n",
      "Requirement already satisfied: trl==0.4.7 in /home/sosa.s/.local/lib/python3.10/site-packages (0.4.7)\n",
      "Requirement already satisfied: safetensors>=0.3.1 in /home/sosa.s/.local/lib/python3.10/site-packages (0.4.0)\n",
      "Requirement already satisfied: ipywidgets in /home/sosa.s/.local/lib/python3.10/site-packages (8.1.1)\n",
      "Requirement already satisfied: wandb in /home/sosa.s/.local/lib/python3.10/site-packages (0.16.0)\n",
      "Requirement already satisfied: filelock in /apps/pytorch/2.0.1/lib/python3.10/site-packages (from transformers==4.34.0) (3.12.0)\n",
      "Requirement already satisfied: huggingface-hub<1.0,>=0.16.4 in /home/sosa.s/.local/lib/python3.10/site-packages (from transformers==4.34.0) (0.17.3)\n",
      "Requirement already satisfied: numpy>=1.17 in /apps/pytorch/2.0.1/lib/python3.10/site-packages (from transformers==4.34.0) (1.24.3)\n",
      "Requirement already satisfied: packaging>=20.0 in /apps/pytorch/2.0.1/lib/python3.10/site-packages (from transformers==4.34.0) (23.1)\n",
      "Requirement already satisfied: pyyaml>=5.1 in /apps/pytorch/2.0.1/lib/python3.10/site-packages (from transformers==4.34.0) (6.0.1)\n",
      "Requirement already satisfied: regex!=2019.12.17 in /home/sosa.s/.local/lib/python3.10/site-packages (from transformers==4.34.0) (2023.10.3)\n",
      "Requirement already satisfied: requests in /apps/pytorch/2.0.1/lib/python3.10/site-packages (from transformers==4.34.0) (2.29.0)\n",
      "Requirement already satisfied: tokenizers<0.15,>=0.14 in /home/sosa.s/.local/lib/python3.10/site-packages (from transformers==4.34.0) (0.14.1)\n",
      "Requirement already satisfied: tqdm>=4.27 in /apps/pytorch/2.0.1/lib/python3.10/site-packages (from transformers==4.34.0) (4.65.0)\n",
      "Requirement already satisfied: pyarrow>=8.0.0 in /home/sosa.s/.local/lib/python3.10/site-packages (from datasets==2.13.0) (14.0.0)\n",
      "Requirement already satisfied: dill<0.3.7,>=0.3.0 in /home/sosa.s/.local/lib/python3.10/site-packages (from datasets==2.13.0) (0.3.6)\n",
      "Requirement already satisfied: pandas in /home/sosa.s/.local/lib/python3.10/site-packages (from datasets==2.13.0) (2.1.3)\n",
      "Requirement already satisfied: xxhash in /home/sosa.s/.local/lib/python3.10/site-packages (from datasets==2.13.0) (3.4.1)\n",
      "Requirement already satisfied: multiprocess in /home/sosa.s/.local/lib/python3.10/site-packages (from datasets==2.13.0) (0.70.14)\n",
      "Requirement already satisfied: fsspec[http]>=2021.11.1 in /apps/pytorch/2.0.1/lib/python3.10/site-packages (from datasets==2.13.0) (2023.9.2)\n",
      "Requirement already satisfied: aiohttp in /apps/pytorch/2.0.1/lib/python3.10/site-packages (from datasets==2.13.0) (3.8.6)\n",
      "Requirement already satisfied: psutil in /apps/pytorch/2.0.1/lib/python3.10/site-packages (from peft==0.4.0) (5.9.5)\n",
      "Requirement already satisfied: torch>=1.13.0 in /apps/pytorch/2.0.1/lib/python3.10/site-packages (from peft==0.4.0) (2.0.1)\n",
      "Requirement already satisfied: comm>=0.1.3 in /apps/pytorch/2.0.1/lib/python3.10/site-packages (from ipywidgets) (0.1.3)\n",
      "Requirement already satisfied: ipython>=6.1.0 in /apps/pytorch/2.0.1/lib/python3.10/site-packages (from ipywidgets) (8.13.2)\n",
      "Requirement already satisfied: traitlets>=4.3.1 in /apps/pytorch/2.0.1/lib/python3.10/site-packages (from ipywidgets) (5.9.0)\n",
      "Requirement already satisfied: widgetsnbextension~=4.0.9 in /home/sosa.s/.local/lib/python3.10/site-packages (from ipywidgets) (4.0.9)\n",
      "Requirement already satisfied: jupyterlab-widgets~=3.0.9 in /home/sosa.s/.local/lib/python3.10/site-packages (from ipywidgets) (3.0.9)\n",
      "Requirement already satisfied: Click!=8.0.0,>=7.1 in /apps/pytorch/2.0.1/lib/python3.10/site-packages (from wandb) (8.1.7)\n",
      "Requirement already satisfied: GitPython!=3.1.29,>=1.0.0 in /home/sosa.s/.local/lib/python3.10/site-packages (from wandb) (3.1.40)\n",
      "Requirement already satisfied: sentry-sdk>=1.0.0 in /home/sosa.s/.local/lib/python3.10/site-packages (from wandb) (1.34.0)\n",
      "Requirement already satisfied: docker-pycreds>=0.4.0 in /home/sosa.s/.local/lib/python3.10/site-packages (from wandb) (0.4.0)\n",
      "Requirement already satisfied: setproctitle in /home/sosa.s/.local/lib/python3.10/site-packages (from wandb) (1.3.3)\n",
      "Requirement already satisfied: setuptools in /apps/pytorch/2.0.1/lib/python3.10/site-packages (from wandb) (67.7.2)\n",
      "Requirement already satisfied: appdirs>=1.4.3 in /home/sosa.s/.local/lib/python3.10/site-packages (from wandb) (1.4.4)\n",
      "Requirement already satisfied: protobuf!=4.21.0,<5,>=3.19.0 in /home/sosa.s/.local/lib/python3.10/site-packages (from wandb) (4.25.1)\n",
      "Requirement already satisfied: six>=1.4.0 in /apps/pytorch/2.0.1/lib/python3.10/site-packages (from docker-pycreds>=0.4.0->wandb) (1.16.0)\n",
      "Requirement already satisfied: attrs>=17.3.0 in /apps/pytorch/2.0.1/lib/python3.10/site-packages (from aiohttp->datasets==2.13.0) (23.1.0)\n",
      "Requirement already satisfied: charset-normalizer<4.0,>=2.0 in /apps/pytorch/2.0.1/lib/python3.10/site-packages (from aiohttp->datasets==2.13.0) (3.1.0)\n",
      "Requirement already satisfied: multidict<7.0,>=4.5 in /apps/pytorch/2.0.1/lib/python3.10/site-packages (from aiohttp->datasets==2.13.0) (6.0.4)\n",
      "Requirement already satisfied: async-timeout<5.0,>=4.0.0a3 in /apps/pytorch/2.0.1/lib/python3.10/site-packages (from aiohttp->datasets==2.13.0) (4.0.3)\n",
      "Requirement already satisfied: yarl<2.0,>=1.0 in /apps/pytorch/2.0.1/lib/python3.10/site-packages (from aiohttp->datasets==2.13.0) (1.9.2)\n",
      "Requirement already satisfied: frozenlist>=1.1.1 in /apps/pytorch/2.0.1/lib/python3.10/site-packages (from aiohttp->datasets==2.13.0) (1.4.0)\n",
      "Requirement already satisfied: aiosignal>=1.1.2 in /apps/pytorch/2.0.1/lib/python3.10/site-packages (from aiohttp->datasets==2.13.0) (1.3.1)\n",
      "Requirement already satisfied: gitdb<5,>=4.0.1 in /home/sosa.s/.local/lib/python3.10/site-packages (from GitPython!=3.1.29,>=1.0.0->wandb) (4.0.11)\n",
      "Requirement already satisfied: typing-extensions>=3.7.4.3 in /apps/pytorch/2.0.1/lib/python3.10/site-packages (from huggingface-hub<1.0,>=0.16.4->transformers==4.34.0) (4.5.0)\n",
      "Requirement already satisfied: backcall in /apps/pytorch/2.0.1/lib/python3.10/site-packages (from ipython>=6.1.0->ipywidgets) (0.2.0)\n",
      "Requirement already satisfied: decorator in /apps/pytorch/2.0.1/lib/python3.10/site-packages (from ipython>=6.1.0->ipywidgets) (5.1.1)\n",
      "Requirement already satisfied: jedi>=0.16 in /apps/pytorch/2.0.1/lib/python3.10/site-packages (from ipython>=6.1.0->ipywidgets) (0.18.2)\n",
      "Requirement already satisfied: matplotlib-inline in /apps/pytorch/2.0.1/lib/python3.10/site-packages (from ipython>=6.1.0->ipywidgets) (0.1.6)\n",
      "Requirement already satisfied: pickleshare in /apps/pytorch/2.0.1/lib/python3.10/site-packages (from ipython>=6.1.0->ipywidgets) (0.7.5)\n",
      "Requirement already satisfied: prompt-toolkit!=3.0.37,<3.1.0,>=3.0.30 in /apps/pytorch/2.0.1/lib/python3.10/site-packages (from ipython>=6.1.0->ipywidgets) (3.0.38)\n",
      "Requirement already satisfied: pygments>=2.4.0 in /apps/pytorch/2.0.1/lib/python3.10/site-packages (from ipython>=6.1.0->ipywidgets) (2.15.1)\n",
      "Requirement already satisfied: stack-data in /apps/pytorch/2.0.1/lib/python3.10/site-packages (from ipython>=6.1.0->ipywidgets) (0.6.2)\n",
      "Requirement already satisfied: pexpect>4.3 in /apps/pytorch/2.0.1/lib/python3.10/site-packages (from ipython>=6.1.0->ipywidgets) (4.8.0)\n",
      "Requirement already satisfied: idna<4,>=2.5 in /apps/pytorch/2.0.1/lib/python3.10/site-packages (from requests->transformers==4.34.0) (3.4)\n",
      "Requirement already satisfied: urllib3<1.27,>=1.21.1 in /apps/pytorch/2.0.1/lib/python3.10/site-packages (from requests->transformers==4.34.0) (1.26.15)\n",
      "Requirement already satisfied: certifi>=2017.4.17 in /apps/pytorch/2.0.1/lib/python3.10/site-packages (from requests->transformers==4.34.0) (2023.7.22)\n",
      "Requirement already satisfied: sympy in /apps/pytorch/2.0.1/lib/python3.10/site-packages (from torch>=1.13.0->peft==0.4.0) (1.12)\n",
      "Requirement already satisfied: networkx in /apps/pytorch/2.0.1/lib/python3.10/site-packages (from torch>=1.13.0->peft==0.4.0) (3.1)\n",
      "Requirement already satisfied: jinja2 in /apps/pytorch/2.0.1/lib/python3.10/site-packages (from torch>=1.13.0->peft==0.4.0) (3.1.2)\n",
      "Requirement already satisfied: python-dateutil>=2.8.2 in /apps/pytorch/2.0.1/lib/python3.10/site-packages (from pandas->datasets==2.13.0) (2.8.2)\n",
      "Requirement already satisfied: pytz>=2020.1 in /apps/pytorch/2.0.1/lib/python3.10/site-packages (from pandas->datasets==2.13.0) (2023.3)\n",
      "Requirement already satisfied: tzdata>=2022.1 in /home/sosa.s/.local/lib/python3.10/site-packages (from pandas->datasets==2.13.0) (2023.3)\n",
      "Requirement already satisfied: smmap<6,>=3.0.1 in /home/sosa.s/.local/lib/python3.10/site-packages (from gitdb<5,>=4.0.1->GitPython!=3.1.29,>=1.0.0->wandb) (5.0.1)\n",
      "Requirement already satisfied: parso<0.9.0,>=0.8.0 in /apps/pytorch/2.0.1/lib/python3.10/site-packages (from jedi>=0.16->ipython>=6.1.0->ipywidgets) (0.8.3)\n",
      "Requirement already satisfied: ptyprocess>=0.5 in /apps/pytorch/2.0.1/lib/python3.10/site-packages (from pexpect>4.3->ipython>=6.1.0->ipywidgets) (0.7.0)\n",
      "Requirement already satisfied: wcwidth in /apps/pytorch/2.0.1/lib/python3.10/site-packages (from prompt-toolkit!=3.0.37,<3.1.0,>=3.0.30->ipython>=6.1.0->ipywidgets) (0.2.6)\n",
      "Requirement already satisfied: MarkupSafe>=2.0 in /apps/pytorch/2.0.1/lib/python3.10/site-packages (from jinja2->torch>=1.13.0->peft==0.4.0) (2.1.2)\n",
      "Requirement already satisfied: executing>=1.2.0 in /apps/pytorch/2.0.1/lib/python3.10/site-packages (from stack-data->ipython>=6.1.0->ipywidgets) (1.2.0)\n",
      "Requirement already satisfied: asttokens>=2.1.0 in /apps/pytorch/2.0.1/lib/python3.10/site-packages (from stack-data->ipython>=6.1.0->ipywidgets) (2.2.1)\n",
      "Requirement already satisfied: pure-eval in /apps/pytorch/2.0.1/lib/python3.10/site-packages (from stack-data->ipython>=6.1.0->ipywidgets) (0.2.2)\n",
      "Requirement already satisfied: mpmath>=0.19 in /apps/pytorch/2.0.1/lib/python3.10/site-packages (from sympy->torch>=1.13.0->peft==0.4.0) (1.3.0)\n",
      "Defaulting to user installation because normal site-packages is not writeable\n",
      "Requirement already satisfied: ninja in /home/sosa.s/.local/lib/python3.10/site-packages (1.11.1.1)\n",
      "Requirement already satisfied: packaging in /apps/pytorch/2.0.1/lib/python3.10/site-packages (23.1)\n",
      "Defaulting to user installation because normal site-packages is not writeable\n",
      "Requirement already satisfied: flash-attn in /home/sosa.s/.local/lib/python3.10/site-packages (2.3.3)\n",
      "Requirement already satisfied: torch in /apps/pytorch/2.0.1/lib/python3.10/site-packages (from flash-attn) (2.0.1)\n",
      "Requirement already satisfied: einops in /home/sosa.s/.local/lib/python3.10/site-packages (from flash-attn) (0.7.0)\n",
      "Requirement already satisfied: packaging in /apps/pytorch/2.0.1/lib/python3.10/site-packages (from flash-attn) (23.1)\n",
      "Requirement already satisfied: ninja in /home/sosa.s/.local/lib/python3.10/site-packages (from flash-attn) (1.11.1.1)\n",
      "Requirement already satisfied: filelock in /apps/pytorch/2.0.1/lib/python3.10/site-packages (from torch->flash-attn) (3.12.0)\n",
      "Requirement already satisfied: typing-extensions in /apps/pytorch/2.0.1/lib/python3.10/site-packages (from torch->flash-attn) (4.5.0)\n",
      "Requirement already satisfied: sympy in /apps/pytorch/2.0.1/lib/python3.10/site-packages (from torch->flash-attn) (1.12)\n",
      "Requirement already satisfied: networkx in /apps/pytorch/2.0.1/lib/python3.10/site-packages (from torch->flash-attn) (3.1)\n",
      "Requirement already satisfied: jinja2 in /apps/pytorch/2.0.1/lib/python3.10/site-packages (from torch->flash-attn) (3.1.2)\n",
      "Requirement already satisfied: MarkupSafe>=2.0 in /apps/pytorch/2.0.1/lib/python3.10/site-packages (from jinja2->torch->flash-attn) (2.1.2)\n",
      "Requirement already satisfied: mpmath>=0.19 in /apps/pytorch/2.0.1/lib/python3.10/site-packages (from sympy->torch->flash-attn) (1.3.0)\n"
     ]
    }
   ],
   "source": [
    "!pip install \"transformers==4.34.0\" \"datasets==2.13.0\" \"peft==0.4.0\" \"accelerate==0.23.0\" \"bitsandbytes==0.41.1\" \"trl==0.4.7\" \"safetensors>=0.3.1\" ipywidgets wandb --upgrade\n",
    "!python -c \"import torch; assert torch.cuda.get_device_capability()[0] >= 8, 'Hardware not supported for Flash Attention'\"\n",
    "!pip install ninja packaging\n",
    "!MAX_JOBS=1 pip install flash-attn --no-build-isolation"
   ]
  },
  {
   "cell_type": "code",
   "execution_count": 2,
   "id": "2afb05ca-9182-4431-b115-0dcae7ddee89",
   "metadata": {},
   "outputs": [],
   "source": [
    "# add parent directory to path\n",
    "import sys\n",
    "import os\n",
    "\n",
    "project_dir = os.getcwd()\n",
    "parent_dir = os.path.dirname(project_dir)\n",
    "sys.path.insert(0, parent_dir)"
   ]
  },
  {
   "cell_type": "code",
   "execution_count": 3,
   "id": "f1e4cd8e",
   "metadata": {},
   "outputs": [
    {
     "data": {
      "text/plain": [
       "DatasetDict({\n",
       "    train: Dataset({\n",
       "        features: ['text'],\n",
       "        num_rows: 807\n",
       "    })\n",
       "    test: Dataset({\n",
       "        features: ['text'],\n",
       "        num_rows: 43\n",
       "    })\n",
       "})"
      ]
     },
     "execution_count": 3,
     "metadata": {},
     "output_type": "execute_result"
    }
   ],
   "source": [
    "# get data and convert to Datasets format\n",
    "import pandas as pd\n",
    "from datasets import Dataset, DatasetDict\n",
    "from gaitor_function_calling.data.data_utils import DataAbstractor\n",
    "from gaitor_function_calling.data.prompting_utils import INSTRUCTION\n",
    "\n",
    "data_abstractor = DataAbstractor(\"production_data-without_summary-only_fc.json\", \"unique\")\n",
    "data_abstractor.get_data()\n",
    "\n",
    "train_df = pd.DataFrame(data_abstractor.train_data)\n",
    "test_df = pd.DataFrame(data_abstractor.test_data)\n",
    "\n",
    "train_dataset = Dataset.from_pandas(train_df)\n",
    "test_dataset = Dataset.from_pandas(test_df)\n",
    "\n",
    "dataset_dict = DatasetDict({\n",
    "    'train': train_dataset,\n",
    "    'test': test_dataset\n",
    "})\n",
    "\n",
    "dataset_dict"
   ]
  },
  {
   "cell_type": "code",
   "execution_count": 4,
   "id": "baf42525",
   "metadata": {},
   "outputs": [],
   "source": [
    "# setup metrics and evaluation\n",
    "from transformers import EvalPrediction\n",
    "from gaitor_function_calling.evaluation.evaluation_utils import FunctionCallingMetric, compute_perplexity, get_logits_and_labels\n",
    "from gaitor_function_calling.data.prompting_utils import INSTRUCTION, json_arguments_from_prompt\n",
    "import numpy as np\n",
    "\n",
    "fc_metric = FunctionCallingMetric()\n",
    "def config_compute_metrics(tokenizer):\n",
    "    def compute_metrics(pred: EvalPrediction):\n",
    "        # pred.predictions are a batch of logits\n",
    "        # pred.label_ids are a batch of tokens\n",
    "        token_ids = np.argmax(pred.predictions, axis=-1)\n",
    "        predictions = tokenizer.batch_decode(token_ids, skip_special_tokens=False)\n",
    "        labels = tokenizer.batch_decode(pred.label_ids, skip_special_tokens=False)\n",
    "        \n",
    "        \n",
    "    \n",
    "        # Now use your metric class\n",
    "        fc_result = fc_metric.run(predictions, labels)  # Implement this method in your class\n",
    "    \n",
    "        return {\n",
    "            \"fc_combine\": fc_result\n",
    "        }\n",
    "    return compute_metrics\n",
    "\n",
    "def custom_evaluation(eval_dataset, model, tokenizer):\n",
    "    print(\"Starting custom evaluation.\")\n",
    "    model.eval()  # Set the model to evaluation mode\n",
    "    results = {}\n",
    "\n",
    "    fc_results = []\n",
    "    perplexity_results = []\n",
    "    for idx, example in enumerate(eval_dataset):\n",
    "        print(f\"Example {idx}: \", end=\"\")\n",
    "        post_message = \"\"\n",
    "        \n",
    "        # Custom Function Calling metric\n",
    "        fc_message = \"\"\n",
    "        try:\n",
    "            generated_arguments, expected_arguments = json_arguments_from_prompt(\n",
    "                example[\"text\"],\n",
    "                model,\n",
    "                tokenizer,\n",
    "                INSTRUCTION\n",
    "            )\n",
    "            fc_result = fc_metric.run(generated_arguments, expected_arguments)\n",
    "            fc_results.append(fc_result)\n",
    "        except Exception as e:\n",
    "            post_message += f\"Error function calling: {e}\\n\"\n",
    "            fc_results.append(0)\n",
    "\n",
    "        # perplexity metric\n",
    "        try:\n",
    "            logits, labels = get_logits_and_labels(example[\"text\"], model, tokenizer)\n",
    "            perplexity = compute_perplexity(logits[..., :-1, :], labels).item()\n",
    "            perplexity_results.append(perplexity)\n",
    "        except Exception as e:\n",
    "            post_message += f\"Error perplexity: {e}\\n\"\n",
    "            # perplexity_results.append(float('inf'))\n",
    "\n",
    "        example_metric = {\"fc_combine\": fc_results[-1], \"perplexity\": perplexity_results[-1]}\n",
    "        print(example_metric)\n",
    "        if post_message:\n",
    "            print(post_message)\n",
    "        \n",
    "    results[\"fc_combine\"] =  sum(fc_results) / len(fc_results)\n",
    "    results[\"perplexity\"] =  sum(perplexity_results) / len(perplexity_results)\n",
    "\n",
    "    return results"
   ]
  },
  {
   "cell_type": "code",
   "execution_count": 5,
   "id": "29fe3e3a",
   "metadata": {},
   "outputs": [],
   "source": [
    "# Hugging Face model id\n",
    "model_id = \"meta-llama/Llama-2-7b-chat-hf\"\n",
    "output_dir = \"llama-7-chat-instruction-int4-fc-pipeline\""
   ]
  },
  {
   "cell_type": "code",
   "execution_count": 6,
   "id": "ece0fe40",
   "metadata": {},
   "outputs": [
    {
     "data": {
      "application/vnd.jupyter.widget-view+json": {
       "model_id": "5ad0f11650dd45a697f606526d61b193",
       "version_major": 2,
       "version_minor": 0
      },
      "text/plain": [
       "Loading checkpoint shards:   0%|          | 0/2 [00:00<?, ?it/s]"
      ]
     },
     "metadata": {},
     "output_type": "display_data"
    }
   ],
   "source": [
    "# base LLM model and tokenizer\n",
    "import torch\n",
    "from transformers import AutoTokenizer, AutoModelForCausalLM, BitsAndBytesConfig\n",
    "\n",
    "use_flash_attention = False\n",
    "\n",
    "# BitsAndBytesConfig int-4 config\n",
    "bnb_config = BitsAndBytesConfig(\n",
    "    load_in_4bit=True, bnb_4bit_use_double_quant=True, bnb_4bit_quant_type=\"nf4\", bnb_4bit_compute_dtype=torch.bfloat16\n",
    ")\n",
    "\n",
    "# Load model and tokenizer\n",
    "model = AutoModelForCausalLM.from_pretrained(\n",
    "    model_id,\n",
    "    quantization_config=bnb_config,\n",
    "    use_cache=False,\n",
    "    use_flash_attention_2=use_flash_attention,\n",
    "    device_map=\"auto\",\n",
    ")\n",
    "model.config.pretraining_tp = 1\n",
    "\n",
    "\n",
    "tokenizer = AutoTokenizer.from_pretrained(model_id)\n",
    "tokenizer.pad_token = tokenizer.eos_token\n",
    "tokenizer.padding_side = \"right\""
   ]
  },
  {
   "cell_type": "code",
   "execution_count": 7,
   "id": "ed2b59eb",
   "metadata": {},
   "outputs": [],
   "source": [
    "# peft config on the model\n",
    "from peft import LoraConfig, prepare_model_for_kbit_training, get_peft_model\n",
    "\n",
    "# LoRA config based on QLoRA paper\n",
    "peft_config = LoraConfig(\n",
    "        lora_alpha=16,\n",
    "        lora_dropout=0.1,\n",
    "        r=64,\n",
    "        bias=\"none\",\n",
    "        task_type=\"CAUSAL_LM\",\n",
    ")\n",
    "\n",
    "\n",
    "# prepare model for training\n",
    "model = prepare_model_for_kbit_training(model)\n",
    "model = get_peft_model(model, peft_config)\n"
   ]
  },
  {
   "cell_type": "code",
   "execution_count": 8,
   "id": "94f62443",
   "metadata": {},
   "outputs": [],
   "source": [
    "# training config\n",
    "from transformers import TrainingArguments\n",
    "from trl import SFTTrainer\n",
    "\n",
    "\n",
    "args = TrainingArguments(\n",
    "    output_dir=output_dir,\n",
    "    num_train_epochs=1,\n",
    "    per_device_train_batch_size=6 if use_flash_attention else 4,\n",
    "    per_device_eval_batch_size=1,\n",
    "    gradient_accumulation_steps=2,\n",
    "    gradient_checkpointing=True,\n",
    "    optim=\"paged_adamw_32bit\",\n",
    "    logging_steps=10,\n",
    "    save_strategy=\"epoch\",\n",
    "    learning_rate=2e-4,\n",
    "    bf16=True,\n",
    "    tf32=True,\n",
    "    max_grad_norm=0.3,\n",
    "    warmup_ratio=0.03,\n",
    "    lr_scheduler_type=\"constant\",\n",
    "    disable_tqdm=True # disable tqdm since with packing values are in correct\n",
    ")\n",
    "\n",
    "\n",
    "max_seq_length = 2048 # max sequence length for model and packing of the dataset\n",
    "\n",
    "trainer = SFTTrainer(\n",
    "    model=model,\n",
    "    train_dataset=dataset_dict[\"train\"],\n",
    "    # eval_dataset=dataset_dict[\"test\"],\n",
    "    peft_config=peft_config,\n",
    "    max_seq_length=max_seq_length,\n",
    "    tokenizer=tokenizer,\n",
    "    packing=True,\n",
    "    compute_metrics=config_compute_metrics(tokenizer),\n",
    "    dataset_text_field=\"text\",\n",
    "    args=args,\n",
    ")"
   ]
  },
  {
   "cell_type": "code",
   "execution_count": null,
   "id": "77897708",
   "metadata": {},
   "outputs": [
    {
     "name": "stderr",
     "output_type": "stream",
     "text": [
      "Failed to detect the name of this notebook, you can set it manually with the WANDB_NOTEBOOK_NAME environment variable to enable code saving.\n",
      "\u001b[34m\u001b[1mwandb\u001b[0m: Currently logged in as: \u001b[33msebastiansosa\u001b[0m. Use \u001b[1m`wandb login --relogin`\u001b[0m to force relogin\n"
     ]
    },
    {
     "data": {
      "text/html": [
       "Tracking run with wandb version 0.16.0"
      ],
      "text/plain": [
       "<IPython.core.display.HTML object>"
      ]
     },
     "metadata": {},
     "output_type": "display_data"
    },
    {
     "data": {
      "text/html": [
       "Run data is saved locally in <code>/home/sosa.s/gaitor_function_calling/wandb/run-20231120_201706-ytxx9p0i</code>"
      ],
      "text/plain": [
       "<IPython.core.display.HTML object>"
      ]
     },
     "metadata": {},
     "output_type": "display_data"
    },
    {
     "data": {
      "text/html": [
       "Syncing run <strong><a href='https://wandb.ai/sebastiansosa/huggingface/runs/ytxx9p0i' target=\"_blank\">glad-sun-10</a></strong> to <a href='https://wandb.ai/sebastiansosa/huggingface' target=\"_blank\">Weights & Biases</a> (<a href='https://wandb.me/run' target=\"_blank\">docs</a>)<br/>"
      ],
      "text/plain": [
       "<IPython.core.display.HTML object>"
      ]
     },
     "metadata": {},
     "output_type": "display_data"
    },
    {
     "data": {
      "text/html": [
       " View project at <a href='https://wandb.ai/sebastiansosa/huggingface' target=\"_blank\">https://wandb.ai/sebastiansosa/huggingface</a>"
      ],
      "text/plain": [
       "<IPython.core.display.HTML object>"
      ]
     },
     "metadata": {},
     "output_type": "display_data"
    },
    {
     "data": {
      "text/html": [
       " View run at <a href='https://wandb.ai/sebastiansosa/huggingface/runs/ytxx9p0i' target=\"_blank\">https://wandb.ai/sebastiansosa/huggingface/runs/ytxx9p0i</a>"
      ],
      "text/plain": [
       "<IPython.core.display.HTML object>"
      ]
     },
     "metadata": {},
     "output_type": "display_data"
    },
    {
     "name": "stderr",
     "output_type": "stream",
     "text": [
      "You're using a LlamaTokenizerFast tokenizer. Please note that with a fast tokenizer, using the `__call__` method is faster than using a method to encode the text followed by a call to the `pad` method to get a padded encoding.\n"
     ]
    },
    {
     "name": "stdout",
     "output_type": "stream",
     "text": [
      "{'loss': 0.8772, 'learning_rate': 0.0002, 'epoch': 0.1}\n",
      "{'loss': 0.6309, 'learning_rate': 0.0002, 'epoch': 0.2}\n",
      "{'train_runtime': 186.2506, 'train_samples_per_second': 4.333, 'train_steps_per_second': 0.542, 'train_loss': 0.7487607056444342, 'epoch': 0.22}\n",
      "Starting custom evaluation.\n",
      "Example 0: {'fc_combine': 0, 'perplexity': 3.9063055515289307}\n",
      "Error function calling: 'NoneType' object has no attribute 'group'\n",
      "\n",
      "Example 1: "
     ]
    },
    {
     "name": "stderr",
     "output_type": "stream",
     "text": [
      "Asking to truncate to max_length but no maximum length is provided and the model has no predefined maximum length. Default to no truncation.\n"
     ]
    },
    {
     "name": "stdout",
     "output_type": "stream",
     "text": [
      "{'fc_combine': 0.3722313642501831, 'perplexity': 4.183399677276611}\n",
      "Example 2: {'fc_combine': 0.4100513756275177, 'perplexity': 3.222144842147827}\n",
      "Example 3: {'fc_combine': 0.6185612181822459, 'perplexity': 3.5680434703826904}\n",
      "Example 4: {'fc_combine': 0, 'perplexity': 3.9063055515289307}\n",
      "Error function calling: division by zero\n",
      "\n",
      "Example 5: {'fc_combine': 0, 'perplexity': 3.9063055515289307}\n",
      "Error function calling: division by zero\n",
      "\n",
      "Example 6: {'fc_combine': 0, 'perplexity': 4.838942527770996}\n",
      "Error function calling: 'NoneType' object has no attribute 'group'\n",
      "\n",
      "Example 7: {'fc_combine': 0, 'perplexity': 4.259296417236328}\n",
      "Error function calling: Expecting value: line 1 column 1 (char 0)\n",
      "\n",
      "Example 8: {'fc_combine': 0, 'perplexity': 4.570363521575928}\n",
      "Error function calling: 'NoneType' object has no attribute 'group'\n",
      "\n",
      "Example 9: {'fc_combine': 0, 'perplexity': 4.147039890289307}\n",
      "Error function calling: Expecting value: line 1 column 1 (char 0)\n",
      "\n",
      "Example 10: {'fc_combine': 0.4462427298227946, 'perplexity': 4.147039890289307}\n",
      "Example 11: {'fc_combine': 0.4909032106399536, 'perplexity': 4.843805313110352}\n",
      "Example 12: {'fc_combine': 0, 'perplexity': 4.575402736663818}\n",
      "Error function calling: 'NoneType' object has no attribute 'group'\n",
      "\n",
      "Example 13: {'fc_combine': 0.6630182862281799, 'perplexity': 4.131213665008545}\n",
      "Example 14: {'fc_combine': 0.6630182862281799, 'perplexity': 4.131213665008545}\n",
      "Example 15: {'fc_combine': 0, 'perplexity': 4.294612884521484}\n",
      "Error function calling: 'str' object has no attribute 'keys'\n",
      "\n",
      "Example 16: {'fc_combine': 0, 'perplexity': 4.458138942718506}\n",
      "Error function calling: Extra data: line 1 column 3 (char 2)\n",
      "\n",
      "Example 17: {'fc_combine': 0.7058643817901611, 'perplexity': 4.326133728027344}\n",
      "Example 18: {'fc_combine': 0, 'perplexity': 3.9334163665771484}\n",
      "Error function calling: 'NoneType' object has no attribute 'group'\n",
      "\n",
      "Example 19: {'fc_combine': 0, 'perplexity': 3.222144842147827}\n",
      "Error function calling: No function call found in generated data\n",
      "\n",
      "Example 20: {'fc_combine': 0, 'perplexity': 3.222144842147827}\n",
      "Error function calling: 'NoneType' object has no attribute 'group'\n",
      "\n",
      "Example 21: {'fc_combine': 0, 'perplexity': 3.222144842147827}\n",
      "Error function calling: Expecting property name enclosed in double quotes: line 1 column 2 (char 1)\n",
      "\n",
      "Example 22: {'fc_combine': 0.6131668090820312, 'perplexity': 3.4061765670776367}\n",
      "Example 23: {'fc_combine': 0, 'perplexity': 3.5120675563812256}\n",
      "Error function calling: Extra data: line 1 column 3 (char 2)\n",
      "\n",
      "Example 24: {'fc_combine': 0, 'perplexity': 3.619797706604004}\n",
      "Error function calling: Extra data: line 1 column 3 (char 2)\n",
      "\n",
      "Example 25: {'fc_combine': 0, 'perplexity': 3.6349241733551025}\n",
      "Error function calling: argument of type 'NoneType' is not iterable\n",
      "\n",
      "Example 26: {'fc_combine': 0, 'perplexity': 3.584834098815918}\n",
      "Error function calling: 'NoneType' object has no attribute 'group'\n",
      "\n",
      "Example 27: {'fc_combine': 0.7830722602930936, 'perplexity': 3.4348466396331787}\n",
      "Example 28: {'fc_combine': 0.3612387180328369, 'perplexity': 3.654435396194458}\n",
      "Example 29: {'fc_combine': 1.0, 'perplexity': 3.222144842147827}\n",
      "Example 30: {'fc_combine': 0, 'perplexity': 3.222144842147827}\n",
      "Error function calling: No function call found in generated data\n",
      "\n",
      "Example 31: {'fc_combine': 0, 'perplexity': 3.9063055515289307}\n",
      "Error function calling: division by zero\n",
      "\n",
      "Example 32: {'fc_combine': 0, 'perplexity': 3.9063055515289307}\n",
      "Error function calling: division by zero\n",
      "\n",
      "Example 33: {'fc_combine': 0, 'perplexity': 3.9063055515289307}\n",
      "Error function calling: No function call found in generated data\n",
      "\n",
      "Example 34: {'fc_combine': 0, 'perplexity': 3.9063055515289307}\n",
      "Error function calling: division by zero\n",
      "\n",
      "Example 35: {'fc_combine': 0.4844740480184555, 'perplexity': 4.147039890289307}\n",
      "Example 36: {'fc_combine': 0, 'perplexity': 4.1060333251953125}\n",
      "Error function calling: division by zero\n",
      "\n",
      "Example 37: {'fc_combine': 0, 'perplexity': 4.1060333251953125}\n",
      "Error function calling: division by zero\n",
      "\n",
      "Example 38: "
     ]
    }
   ],
   "source": [
    "# Training and Evaluation Loop\n",
    "num_epochs = 1\n",
    "for epoch in range(num_epochs):\n",
    "    # Train for one epoch\n",
    "    trainer.train()\n",
    "\n",
    "    # Evaluate the model with the custom evaluation logic\n",
    "    eval_result = custom_evaluation(dataset_dict[\"test\"], model, tokenizer)\n",
    "\n",
    "    # Save the model after each epoch (optional)\n",
    "    trainer.save_model()\n",
    "\n",
    "    # Log or print evaluation results\n",
    "    print(f\"Evaluation results for epoch {epoch}: {eval_result}\")"
   ]
  }
 ],
 "metadata": {
  "kernelspec": {
   "display_name": "PyTorch-2.0.1",
   "language": "python",
   "name": "pytorch-2.0.1"
  },
  "language_info": {
   "codemirror_mode": {
    "name": "ipython",
    "version": 3
   },
   "file_extension": ".py",
   "mimetype": "text/x-python",
   "name": "python",
   "nbconvert_exporter": "python",
   "pygments_lexer": "ipython3",
   "version": "3.10.11"
  }
 },
 "nbformat": 4,
 "nbformat_minor": 5
}
