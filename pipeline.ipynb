{
 "cells": [
  {
   "cell_type": "code",
   "execution_count": 1,
   "id": "2afb05ca-9182-4431-b115-0dcae7ddee89",
   "metadata": {},
   "outputs": [],
   "source": [
    "import sys\n",
    "import os\n",
    "\n",
    "project_dir = os.getcwd()\n",
    "parent_dir = os.path.dirname(project_dir)\n",
    "sys.path.insert(0, parent_dir)"
   ]
  },
  {
   "cell_type": "code",
   "execution_count": 2,
   "id": "e0480a0f-04de-48f2-83da-72397ea4ba56",
   "metadata": {},
   "outputs": [
    {
     "name": "stdout",
     "output_type": "stream",
     "text": [
      "c:\\Projects\\function_calling\\gaitor_function_calling\n"
     ]
    }
   ],
   "source": [
    "from gaitor_function_calling.data.data_utils import cwd\n",
    "print(cwd)"
   ]
  },
  {
   "cell_type": "code",
   "execution_count": 3,
   "metadata": {},
   "outputs": [
    {
     "name": "stdout",
     "output_type": "stream",
     "text": [
      "748 Error building prompt\n",
      "Train data size: 807\n",
      "Test data size: 43\n"
     ]
    }
   ],
   "source": [
    "from gaitor_function_calling.data.data_utils import DataAbstractor\n",
    "from gaitor_function_calling.data.prompting_utils import INSTRUCTION\n",
    "data_abstractor = DataAbstractor(\"production_data-without_summary-only_fc.json\", \"unique\")\n",
    "train_data, test_data = data_abstractor.build_data(instruction=INSTRUCTION)"
   ]
  },
  {
   "cell_type": "code",
   "execution_count": 15,
   "metadata": {},
   "outputs": [],
   "source": [
    "data_abstractor.save(data_abstractor.raw_data, train_data, test_data)\n",
    "data_abstractor.get_data()"
   ]
  },
  {
   "cell_type": "code",
   "execution_count": 4,
   "metadata": {},
   "outputs": [
    {
     "name": "stdout",
     "output_type": "stream",
     "text": [
      "EXAMPLES:\n",
      "\n",
      "raw_data:\n",
      "{\n",
      "    \"input\": [\n",
      "        {\n",
      "            \"chatgptMessage\": {\n",
      "                \"role\": \"user\",\n",
      "                \"content\": \"summarize this https://www.openplugin.io/?classification=research\"\n",
      "            },\n",
      "            \"functions\": [\n",
      "                {\n",
      "                    \"name\": \"transcodeWebPage\",\n",
      "                    \"description\": \"Acquire precise webpage details or real-time search engine responses based on user-input content.\",\n",
      "                    \"parameters\": {\n",
      "                        \"type\": \"object\",\n",
      "                        \"properties\": {\n",
      "                            \"json\": {\n",
      "                                \"properties\": {\n",
      "                                    \"link\": {\n",
      "                                        \"type\": \"string\",\n",
      "                                        \"description\": \"This parameter takes either a URL or a non-URL string. If a URL is given, the model will engage with the designated webpage to collect or interact with its data. If a non-URL string is given, the model will handle it as a search inquiry and try to find related real-time news or information. To guarantee the best results, make sure the input is a valid URL or a succinct search query.\"\n",
      "                                    }\n",
      "                                },\n",
      "                                \"type\": \"object\"\n",
      "                            }\n",
      "                        }\n",
      "                    }\n",
      "                }\n",
      "            ],\n",
      "            \"timeSent\": \"2023-10-02T20:00:33.949Z\"\n",
      "        }\n",
      "    ],\n",
      "    \"target\": {\n",
      "        \"chatgptMessage\": {\n",
      "            \"content\": null,\n",
      "            \"function_call\": {\n",
      "                \"arguments\": \"{\\\"json\\\": {\\\"link\\\": \\\"https://www.openplugin.io/?classification=research\\\"}}\",\n",
      "                \"name\": \"transcodeWebPage\"\n",
      "            },\n",
      "            \"role\": \"assistant\"\n",
      "        },\n",
      "        \"functions\": [\n",
      "            {\n",
      "                \"name\": \"transcodeWebPage\",\n",
      "                \"description\": \"Acquire precise webpage details or real-time search engine responses based on user-input content.\",\n",
      "                \"parameters\": {\n",
      "                    \"type\": \"object\",\n",
      "                    \"properties\": {\n",
      "                        \"json\": {\n",
      "                            \"properties\": {\n",
      "                                \"link\": {\n",
      "                                    \"type\": \"string\",\n",
      "                                    \"description\": \"This parameter takes either a URL or a non-URL string. If a URL is given, the model will engage with the designated webpage to collect or interact with its data. If a non-URL string is given, the model will handle it as a search inquiry and try to find related real-time news or information. To guarantee the best results, make sure the input is a valid URL or a succinct search query.\"\n",
      "                                }\n",
      "                            },\n",
      "                            \"type\": \"object\"\n",
      "                        }\n",
      "                    }\n",
      "                }\n",
      "            }\n",
      "        ],\n",
      "        \"timeSent\": \"2023-10-02T20:00:41.453Z\"\n",
      "    }\n",
      "}\n",
      "\n",
      "train_data:\n",
      "{\n",
      "    \"text\": \"<s>[INST] <<SYS>>\\nYour job is to identify weather or not the user input is related to the function specification delimited by <FUNCTIONS> and </FUNCTIONS>. If it is related then your response should be in the function_calling format: <FUNCTION_CALL_NAME>NAME_ASSOCIATED_WITH_THE_FUNCTION</FUNCTION_CALL_NAME><FUNCTION_CALL_ARGUMENTS>ARGUMENTS_IN_STRINGIFIED_JSON_FORMAT</FUNCTION_CALL_ARGUMENTS>. Otherwise simply return a normal response. \\n<FUNCTIONS>[{\\\"name\\\": \\\"transcodeWebPage\\\", \\\"description\\\": \\\"Acquire precise webpage details or real-time search engine responses based on user-input content.\\\", \\\"parameters\\\": {\\\"type\\\": \\\"object\\\", \\\"properties\\\": {\\\"json\\\": {\\\"properties\\\": {\\\"link\\\": {\\\"type\\\": \\\"string\\\", \\\"description\\\": \\\"This parameter takes either a URL or a non-URL string. If a URL is given, the model will engage with the designated webpage to collect or interact with its data. If a non-URL string is given, the model will handle it as a search inquiry and try to find related real-time news or information. To guarantee the best results, make sure the input is a valid URL or a succinct search query.\\\"}}, \\\"type\\\": \\\"object\\\"}}}}]</FUNCTIONS>\\n<</SYS>>\\n\\nIn two sentences tell me what this site is about https://www.openplugin.io/ [/INST] <FUNCTION_CALL_NAME>searchPapers</FUNCTION_CALL_NAME><FUNCTION_CALL_ARGUMENTS>{\\\"params\\\": {\\\"q\\\": \\\"teamplay in online-games\\\", \\\"page_number\\\": \\\"1\\\"}}</FUNCTION_CALL_ARGUMENTS> </s>\"\n",
      "}\n",
      "\n",
      "test_data:\n",
      "{\n",
      "    \"text\": \"<s>[INST] <<SYS>>\\nYour job is to identify weather or not the user input is related to the function specification delimited by <FUNCTIONS> and </FUNCTIONS>. If it is related then your response should be in the function_calling format: <FUNCTION_CALL_NAME>NAME_ASSOCIATED_WITH_THE_FUNCTION</FUNCTION_CALL_NAME><FUNCTION_CALL_ARGUMENTS>ARGUMENTS_IN_STRINGIFIED_JSON_FORMAT</FUNCTION_CALL_ARGUMENTS>. Otherwise simply return a normal response. \\n<FUNCTIONS>[{\\\"name\\\": \\\"root_healthcheck_get\\\", \\\"description\\\": \\\"Root\\\", \\\"parameters\\\": {\\\"type\\\": \\\"object\\\", \\\"properties\\\": {}}}, {\\\"name\\\": \\\"getSearchResults\\\", \\\"description\\\": \\\"Get a list of gifs based on the search query\\\", \\\"parameters\\\": {\\\"type\\\": \\\"object\\\", \\\"properties\\\": {\\\"json\\\": {\\\"properties\\\": {\\\"query\\\": {\\\"type\\\": \\\"string\\\", \\\"title\\\": \\\"Query\\\"}}, \\\"type\\\": \\\"object\\\", \\\"required\\\": [\\\"query\\\"], \\\"title\\\": \\\"GiphyRequest\\\"}}}}, {\\\"name\\\": \\\"getTrendingResults\\\", \\\"description\\\": \\\"Get a list of gifs based on the current trends\\\", \\\"parameters\\\": {\\\"type\\\": \\\"object\\\", \\\"properties\\\": {}}}]</FUNCTIONS>\\n<</SYS>>\\n\\nshow me one gif of a cool cat [/INST] <FUNCTION_CALL_NAME>getSearchResults</FUNCTION_CALL_NAME><FUNCTION_CALL_ARGUMENTS>{\\\"json\\\": {\\\"query\\\": \\\"cool cat\\\"}}</FUNCTION_CALL_ARGUMENTS> </s>\"\n",
      "}\n",
      "\n",
      "\n"
     ]
    }
   ],
   "source": [
    "print(data_abstractor)"
   ]
  }
 ],
 "metadata": {
  "kernelspec": {
   "display_name": "env",
   "language": "python",
   "name": "python3"
  },
  "language_info": {
   "codemirror_mode": {
    "name": "ipython",
    "version": 3
   },
   "file_extension": ".py",
   "mimetype": "text/x-python",
   "name": "python",
   "nbconvert_exporter": "python",
   "pygments_lexer": "ipython3",
   "version": "3.10.2"
  }
 },
 "nbformat": 4,
 "nbformat_minor": 5
}
