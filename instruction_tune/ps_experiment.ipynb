{
 "cells": [
  {
   "cell_type": "code",
   "execution_count": 2,
   "id": "75ddf7b6-1b32-4347-845a-b046ed1162b7",
   "metadata": {
    "tags": []
   },
   "outputs": [
    {
     "name": "stdout",
     "output_type": "stream",
     "text": [
      "Defaulting to user installation because normal site-packages is not writeable\n",
      "Requirement already satisfied: transformers==4.34.0 in /home/sosa.s/.local/lib/python3.10/site-packages (4.34.0)\n",
      "Requirement already satisfied: datasets==2.13.0 in /home/sosa.s/.local/lib/python3.10/site-packages (2.13.0)\n",
      "Requirement already satisfied: peft==0.4.0 in /home/sosa.s/.local/lib/python3.10/site-packages (0.4.0)\n",
      "Requirement already satisfied: accelerate==0.23.0 in /home/sosa.s/.local/lib/python3.10/site-packages (0.23.0)\n",
      "Requirement already satisfied: bitsandbytes==0.41.1 in /home/sosa.s/.local/lib/python3.10/site-packages (0.41.1)\n",
      "Requirement already satisfied: trl==0.4.7 in /home/sosa.s/.local/lib/python3.10/site-packages (0.4.7)\n",
      "Requirement already satisfied: safetensors>=0.3.1 in /home/sosa.s/.local/lib/python3.10/site-packages (0.4.0)\n",
      "Requirement already satisfied: ipywidgets in /home/sosa.s/.local/lib/python3.10/site-packages (8.1.1)\n",
      "Requirement already satisfied: wandb in /home/sosa.s/.local/lib/python3.10/site-packages (0.15.12)\n",
      "Requirement already satisfied: filelock in /apps/pytorch/2.0.1/lib/python3.10/site-packages (from transformers==4.34.0) (3.12.0)\n",
      "Requirement already satisfied: huggingface-hub<1.0,>=0.16.4 in /home/sosa.s/.local/lib/python3.10/site-packages (from transformers==4.34.0) (0.17.3)\n",
      "Requirement already satisfied: numpy>=1.17 in /apps/pytorch/2.0.1/lib/python3.10/site-packages (from transformers==4.34.0) (1.24.3)\n",
      "Requirement already satisfied: packaging>=20.0 in /apps/pytorch/2.0.1/lib/python3.10/site-packages (from transformers==4.34.0) (23.1)\n",
      "Requirement already satisfied: pyyaml>=5.1 in /apps/pytorch/2.0.1/lib/python3.10/site-packages (from transformers==4.34.0) (6.0.1)\n",
      "Requirement already satisfied: regex!=2019.12.17 in /home/sosa.s/.local/lib/python3.10/site-packages (from transformers==4.34.0) (2023.10.3)\n",
      "Requirement already satisfied: requests in /apps/pytorch/2.0.1/lib/python3.10/site-packages (from transformers==4.34.0) (2.29.0)\n",
      "Requirement already satisfied: tokenizers<0.15,>=0.14 in /home/sosa.s/.local/lib/python3.10/site-packages (from transformers==4.34.0) (0.14.1)\n",
      "Requirement already satisfied: tqdm>=4.27 in /apps/pytorch/2.0.1/lib/python3.10/site-packages (from transformers==4.34.0) (4.65.0)\n",
      "Requirement already satisfied: pyarrow>=8.0.0 in /home/sosa.s/.local/lib/python3.10/site-packages (from datasets==2.13.0) (14.0.0)\n",
      "Requirement already satisfied: dill<0.3.7,>=0.3.0 in /home/sosa.s/.local/lib/python3.10/site-packages (from datasets==2.13.0) (0.3.6)\n",
      "Requirement already satisfied: pandas in /apps/pytorch/2.0.1/lib/python3.10/site-packages (from datasets==2.13.0) (2.0.3)\n",
      "Requirement already satisfied: xxhash in /home/sosa.s/.local/lib/python3.10/site-packages (from datasets==2.13.0) (3.4.1)\n",
      "Requirement already satisfied: multiprocess in /home/sosa.s/.local/lib/python3.10/site-packages (from datasets==2.13.0) (0.70.14)\n",
      "Requirement already satisfied: fsspec[http]>=2021.11.1 in /apps/pytorch/2.0.1/lib/python3.10/site-packages (from datasets==2.13.0) (2023.9.2)\n",
      "Requirement already satisfied: aiohttp in /apps/pytorch/2.0.1/lib/python3.10/site-packages (from datasets==2.13.0) (3.8.6)\n",
      "Requirement already satisfied: psutil in /apps/pytorch/2.0.1/lib/python3.10/site-packages (from peft==0.4.0) (5.9.5)\n",
      "Requirement already satisfied: torch>=1.13.0 in /apps/pytorch/2.0.1/lib/python3.10/site-packages (from peft==0.4.0) (2.0.1)\n",
      "Requirement already satisfied: comm>=0.1.3 in /apps/pytorch/2.0.1/lib/python3.10/site-packages (from ipywidgets) (0.1.3)\n",
      "Requirement already satisfied: ipython>=6.1.0 in /apps/pytorch/2.0.1/lib/python3.10/site-packages (from ipywidgets) (8.13.2)\n",
      "Requirement already satisfied: traitlets>=4.3.1 in /apps/pytorch/2.0.1/lib/python3.10/site-packages (from ipywidgets) (5.9.0)\n",
      "Requirement already satisfied: widgetsnbextension~=4.0.9 in /home/sosa.s/.local/lib/python3.10/site-packages (from ipywidgets) (4.0.9)\n",
      "Requirement already satisfied: jupyterlab-widgets~=3.0.9 in /home/sosa.s/.local/lib/python3.10/site-packages (from ipywidgets) (3.0.9)\n",
      "Requirement already satisfied: Click!=8.0.0,>=7.1 in /apps/pytorch/2.0.1/lib/python3.10/site-packages (from wandb) (8.1.7)\n",
      "Requirement already satisfied: GitPython!=3.1.29,>=1.0.0 in /home/sosa.s/.local/lib/python3.10/site-packages (from wandb) (3.1.40)\n",
      "Requirement already satisfied: sentry-sdk>=1.0.0 in /home/sosa.s/.local/lib/python3.10/site-packages (from wandb) (1.34.0)\n",
      "Requirement already satisfied: docker-pycreds>=0.4.0 in /home/sosa.s/.local/lib/python3.10/site-packages (from wandb) (0.4.0)\n",
      "Requirement already satisfied: pathtools in /home/sosa.s/.local/lib/python3.10/site-packages (from wandb) (0.1.2)\n",
      "Requirement already satisfied: setproctitle in /home/sosa.s/.local/lib/python3.10/site-packages (from wandb) (1.3.3)\n",
      "Requirement already satisfied: setuptools in /apps/pytorch/2.0.1/lib/python3.10/site-packages (from wandb) (67.7.2)\n",
      "Requirement already satisfied: appdirs>=1.4.3 in /home/sosa.s/.local/lib/python3.10/site-packages (from wandb) (1.4.4)\n",
      "Requirement already satisfied: protobuf!=4.21.0,<5,>=3.19.0 in /apps/pytorch/2.0.1/lib/python3.10/site-packages (from wandb) (4.21.12)\n",
      "Requirement already satisfied: six>=1.4.0 in /apps/pytorch/2.0.1/lib/python3.10/site-packages (from docker-pycreds>=0.4.0->wandb) (1.16.0)\n",
      "Requirement already satisfied: attrs>=17.3.0 in /apps/pytorch/2.0.1/lib/python3.10/site-packages (from aiohttp->datasets==2.13.0) (23.1.0)\n",
      "Requirement already satisfied: charset-normalizer<4.0,>=2.0 in /apps/pytorch/2.0.1/lib/python3.10/site-packages (from aiohttp->datasets==2.13.0) (3.1.0)\n",
      "Requirement already satisfied: multidict<7.0,>=4.5 in /apps/pytorch/2.0.1/lib/python3.10/site-packages (from aiohttp->datasets==2.13.0) (6.0.4)\n",
      "Requirement already satisfied: async-timeout<5.0,>=4.0.0a3 in /apps/pytorch/2.0.1/lib/python3.10/site-packages (from aiohttp->datasets==2.13.0) (4.0.3)\n",
      "Requirement already satisfied: yarl<2.0,>=1.0 in /apps/pytorch/2.0.1/lib/python3.10/site-packages (from aiohttp->datasets==2.13.0) (1.9.2)\n",
      "Requirement already satisfied: frozenlist>=1.1.1 in /apps/pytorch/2.0.1/lib/python3.10/site-packages (from aiohttp->datasets==2.13.0) (1.4.0)\n",
      "Requirement already satisfied: aiosignal>=1.1.2 in /apps/pytorch/2.0.1/lib/python3.10/site-packages (from aiohttp->datasets==2.13.0) (1.3.1)\n",
      "Requirement already satisfied: gitdb<5,>=4.0.1 in /home/sosa.s/.local/lib/python3.10/site-packages (from GitPython!=3.1.29,>=1.0.0->wandb) (4.0.11)\n",
      "Requirement already satisfied: typing-extensions>=3.7.4.3 in /apps/pytorch/2.0.1/lib/python3.10/site-packages (from huggingface-hub<1.0,>=0.16.4->transformers==4.34.0) (4.5.0)\n",
      "Requirement already satisfied: backcall in /apps/pytorch/2.0.1/lib/python3.10/site-packages (from ipython>=6.1.0->ipywidgets) (0.2.0)\n",
      "Requirement already satisfied: decorator in /apps/pytorch/2.0.1/lib/python3.10/site-packages (from ipython>=6.1.0->ipywidgets) (5.1.1)\n",
      "Requirement already satisfied: jedi>=0.16 in /apps/pytorch/2.0.1/lib/python3.10/site-packages (from ipython>=6.1.0->ipywidgets) (0.18.2)\n",
      "Requirement already satisfied: matplotlib-inline in /apps/pytorch/2.0.1/lib/python3.10/site-packages (from ipython>=6.1.0->ipywidgets) (0.1.6)\n",
      "Requirement already satisfied: pickleshare in /apps/pytorch/2.0.1/lib/python3.10/site-packages (from ipython>=6.1.0->ipywidgets) (0.7.5)\n",
      "Requirement already satisfied: prompt-toolkit!=3.0.37,<3.1.0,>=3.0.30 in /apps/pytorch/2.0.1/lib/python3.10/site-packages (from ipython>=6.1.0->ipywidgets) (3.0.38)\n",
      "Requirement already satisfied: pygments>=2.4.0 in /apps/pytorch/2.0.1/lib/python3.10/site-packages (from ipython>=6.1.0->ipywidgets) (2.15.1)\n",
      "Requirement already satisfied: stack-data in /apps/pytorch/2.0.1/lib/python3.10/site-packages (from ipython>=6.1.0->ipywidgets) (0.6.2)\n",
      "Requirement already satisfied: pexpect>4.3 in /apps/pytorch/2.0.1/lib/python3.10/site-packages (from ipython>=6.1.0->ipywidgets) (4.8.0)\n",
      "Requirement already satisfied: idna<4,>=2.5 in /apps/pytorch/2.0.1/lib/python3.10/site-packages (from requests->transformers==4.34.0) (3.4)\n",
      "Requirement already satisfied: urllib3<1.27,>=1.21.1 in /apps/pytorch/2.0.1/lib/python3.10/site-packages (from requests->transformers==4.34.0) (1.26.15)\n",
      "Requirement already satisfied: certifi>=2017.4.17 in /apps/pytorch/2.0.1/lib/python3.10/site-packages (from requests->transformers==4.34.0) (2023.7.22)\n",
      "Requirement already satisfied: sympy in /apps/pytorch/2.0.1/lib/python3.10/site-packages (from torch>=1.13.0->peft==0.4.0) (1.12)\n",
      "Requirement already satisfied: networkx in /apps/pytorch/2.0.1/lib/python3.10/site-packages (from torch>=1.13.0->peft==0.4.0) (3.1)\n",
      "Requirement already satisfied: jinja2 in /apps/pytorch/2.0.1/lib/python3.10/site-packages (from torch>=1.13.0->peft==0.4.0) (3.1.2)\n",
      "Requirement already satisfied: python-dateutil>=2.8.2 in /apps/pytorch/2.0.1/lib/python3.10/site-packages (from pandas->datasets==2.13.0) (2.8.2)\n",
      "Requirement already satisfied: pytz>=2020.1 in /apps/pytorch/2.0.1/lib/python3.10/site-packages (from pandas->datasets==2.13.0) (2023.3)\n",
      "Requirement already satisfied: tzdata>=2022.1 in /apps/pytorch/2.0.1/lib/python3.10/site-packages (from pandas->datasets==2.13.0) (2023.3)\n",
      "Requirement already satisfied: smmap<6,>=3.0.1 in /home/sosa.s/.local/lib/python3.10/site-packages (from gitdb<5,>=4.0.1->GitPython!=3.1.29,>=1.0.0->wandb) (5.0.1)\n",
      "Requirement already satisfied: parso<0.9.0,>=0.8.0 in /apps/pytorch/2.0.1/lib/python3.10/site-packages (from jedi>=0.16->ipython>=6.1.0->ipywidgets) (0.8.3)\n",
      "Requirement already satisfied: ptyprocess>=0.5 in /apps/pytorch/2.0.1/lib/python3.10/site-packages (from pexpect>4.3->ipython>=6.1.0->ipywidgets) (0.7.0)\n",
      "Requirement already satisfied: wcwidth in /apps/pytorch/2.0.1/lib/python3.10/site-packages (from prompt-toolkit!=3.0.37,<3.1.0,>=3.0.30->ipython>=6.1.0->ipywidgets) (0.2.6)\n",
      "Requirement already satisfied: MarkupSafe>=2.0 in /apps/pytorch/2.0.1/lib/python3.10/site-packages (from jinja2->torch>=1.13.0->peft==0.4.0) (2.1.2)\n",
      "Requirement already satisfied: executing>=1.2.0 in /apps/pytorch/2.0.1/lib/python3.10/site-packages (from stack-data->ipython>=6.1.0->ipywidgets) (1.2.0)\n",
      "Requirement already satisfied: asttokens>=2.1.0 in /apps/pytorch/2.0.1/lib/python3.10/site-packages (from stack-data->ipython>=6.1.0->ipywidgets) (2.2.1)\n",
      "Requirement already satisfied: pure-eval in /apps/pytorch/2.0.1/lib/python3.10/site-packages (from stack-data->ipython>=6.1.0->ipywidgets) (0.2.2)\n",
      "Requirement already satisfied: mpmath>=0.19 in /apps/pytorch/2.0.1/lib/python3.10/site-packages (from sympy->torch>=1.13.0->peft==0.4.0) (1.3.0)\n"
     ]
    }
   ],
   "source": [
    "!pip install \"transformers==4.34.0\" \"datasets==2.13.0\" \"peft==0.4.0\" \"accelerate==0.23.0\" \"bitsandbytes==0.41.1\" \"trl==0.4.7\" \"safetensors>=0.3.1\" ipywidgets wandb --upgrade"
   ]
  },
  {
   "cell_type": "code",
   "execution_count": 3,
   "id": "d3d59154-6372-4024-b656-64c4f4774c4c",
   "metadata": {
    "tags": []
   },
   "outputs": [
    {
     "name": "stderr",
     "output_type": "stream",
     "text": [
      "Found cached dataset json (/home/sosa.s/.cache/huggingface/datasets/json/default-2254868de1ad7036/0.0.0/e347ab1c932092252e717ff3f949105a4dd28b27e842dd53157d2f72e276c2e4)\n"
     ]
    },
    {
     "name": "stdout",
     "output_type": "stream",
     "text": [
      "\n",
      "  Below is an instruction that describes a \"function calling\" task...\n",
      "\n",
      "  ### Instruction:\n",
      "  Analyze the prompt and json speicifaction pair (denoted in <FC></FC>) to produce a relevant \"function calling\" response (denoted in <FCR></FCR>), otherwise return a plain text response.\n",
      "\n",
      "  ### Input:\n",
      "  sumarize this in 1 sentence https://openai.com/blog/function-calling-and-other-api-updates\n",
      "  <FC>[{\"name\": \"transcodeWebPage\", \"description\": \"Acquire precise webpage details or real-time search engine responses based on user-input content.\", \"parameters\": {\"type\": \"object\", \"properties\": {\"json\": {\"properties\": {\"link\": {\"type\": \"string\", \"description\": \"This parameter takes either a URL or a non-URL string. If a URL is given, the model will engage with the designated webpage to collect or interact with its data. If a non-URL string is given, the model will handle it as a search inquiry and try to find related real-time news or information. To guarantee the best results, make sure the input is a valid URL or a succinct search query.\"}}, \"type\": \"object\"}}}}]</FC>\n",
      "  ### Response:\n",
      "  <FCR>{\"arguments\": \"{\\\"json\\\": {\\\"link\\\": \\\"https://openai.com/blog/function-calling-and-other-api-updates\\\"}}\", \"name\": \"transcodeWebPage\"}</FCR>\n"
     ]
    }
   ],
   "source": [
    "from datasets import load_dataset\n",
    "relative_path_to_data = '../data/ukey/train.json'\n",
    "\n",
    "dataset = load_dataset('json', data_files={'train': relative_path_to_data}, split=\"train\")\n",
    "base_model_name = \"meta-llama/Llama-2-7b-hf\"\n",
    "print(dataset[0][\"text\"])"
   ]
  },
  {
   "cell_type": "code",
   "execution_count": 15,
   "id": "7a4f17fa-5460-46a0-9ba5-9ba94bf0a086",
   "metadata": {
    "tags": []
   },
   "outputs": [
    {
     "name": "stderr",
     "output_type": "stream",
     "text": [
      "huggingface/tokenizers: The current process just got forked, after parallelism has already been used. Disabling parallelism to avoid deadlocks...\n",
      "To disable this warning, you can either:\n",
      "\t- Avoid using `tokenizers` before the fork if possible\n",
      "\t- Explicitly set the environment variable TOKENIZERS_PARALLELISM=(true | false)\n",
      "huggingface/tokenizers: The current process just got forked, after parallelism has already been used. Disabling parallelism to avoid deadlocks...\n",
      "To disable this warning, you can either:\n",
      "\t- Avoid using `tokenizers` before the fork if possible\n",
      "\t- Explicitly set the environment variable TOKENIZERS_PARALLELISM=(true | false)\n"
     ]
    },
    {
     "name": "stdout",
     "output_type": "stream",
     "text": [
      "Defaulting to user installation because normal site-packages is not writeable\n",
      "Requirement already satisfied: ninja in /home/sosa.s/.local/lib/python3.10/site-packages (1.11.1.1)\n",
      "Requirement already satisfied: packaging in /apps/pytorch/2.0.1/lib/python3.10/site-packages (23.1)\n"
     ]
    },
    {
     "name": "stderr",
     "output_type": "stream",
     "text": [
      "huggingface/tokenizers: The current process just got forked, after parallelism has already been used. Disabling parallelism to avoid deadlocks...\n",
      "To disable this warning, you can either:\n",
      "\t- Avoid using `tokenizers` before the fork if possible\n",
      "\t- Explicitly set the environment variable TOKENIZERS_PARALLELISM=(true | false)\n"
     ]
    },
    {
     "name": "stdout",
     "output_type": "stream",
     "text": [
      "Defaulting to user installation because normal site-packages is not writeable\n",
      "Requirement already satisfied: flash-attn in /home/sosa.s/.local/lib/python3.10/site-packages (2.3.3)\n",
      "Requirement already satisfied: torch in /apps/pytorch/2.0.1/lib/python3.10/site-packages (from flash-attn) (2.0.1)\n",
      "Requirement already satisfied: einops in /home/sosa.s/.local/lib/python3.10/site-packages (from flash-attn) (0.7.0)\n",
      "Requirement already satisfied: packaging in /apps/pytorch/2.0.1/lib/python3.10/site-packages (from flash-attn) (23.1)\n",
      "Requirement already satisfied: ninja in /home/sosa.s/.local/lib/python3.10/site-packages (from flash-attn) (1.11.1.1)\n",
      "Requirement already satisfied: filelock in /apps/pytorch/2.0.1/lib/python3.10/site-packages (from torch->flash-attn) (3.12.0)\n",
      "Requirement already satisfied: typing-extensions in /apps/pytorch/2.0.1/lib/python3.10/site-packages (from torch->flash-attn) (4.5.0)\n",
      "Requirement already satisfied: sympy in /apps/pytorch/2.0.1/lib/python3.10/site-packages (from torch->flash-attn) (1.12)\n",
      "Requirement already satisfied: networkx in /apps/pytorch/2.0.1/lib/python3.10/site-packages (from torch->flash-attn) (3.1)\n",
      "Requirement already satisfied: jinja2 in /apps/pytorch/2.0.1/lib/python3.10/site-packages (from torch->flash-attn) (3.1.2)\n",
      "Requirement already satisfied: MarkupSafe>=2.0 in /apps/pytorch/2.0.1/lib/python3.10/site-packages (from jinja2->torch->flash-attn) (2.1.2)\n",
      "Requirement already satisfied: mpmath>=0.19 in /apps/pytorch/2.0.1/lib/python3.10/site-packages (from sympy->torch->flash-attn) (1.3.0)\n"
     ]
    }
   ],
   "source": [
    "!python -c \"import torch; assert torch.cuda.get_device_capability()[0] >= 8, 'Hardware not supported for Flash Attention'\"\n",
    "!pip install ninja packaging\n",
    "!MAX_JOBS=1 pip install flash-attn --no-build-isolation\n"
   ]
  },
  {
   "cell_type": "code",
   "execution_count": 4,
   "id": "d1434b81-e914-4673-92d3-64e9eda7d101",
   "metadata": {
    "tags": []
   },
   "outputs": [
    {
     "data": {
      "application/vnd.jupyter.widget-view+json": {
       "model_id": "287d2875b2374d8d91e0872294bb920d",
       "version_major": 2,
       "version_minor": 0
      },
      "text/plain": [
       "Loading checkpoint shards:   0%|          | 0/2 [00:00<?, ?it/s]"
      ]
     },
     "metadata": {},
     "output_type": "display_data"
    }
   ],
   "source": [
    "import torch\n",
    "from transformers import AutoTokenizer, AutoModelForCausalLM, BitsAndBytesConfig\n",
    "\n",
    "use_flash_attention = False\n",
    "\n",
    "# Hugging Face model id\n",
    "# model_id = \"NousResearch/Llama-2-7b-hf\"  # non-gated\n",
    "model_id = \"meta-llama/Llama-2-7b-hf\" # gated\n",
    "\n",
    "\n",
    "# BitsAndBytesConfig int-4 config\n",
    "bnb_config = BitsAndBytesConfig(\n",
    "    load_in_4bit=True, bnb_4bit_use_double_quant=True, bnb_4bit_quant_type=\"nf4\", bnb_4bit_compute_dtype=torch.bfloat16\n",
    ")\n",
    "\n",
    "# Load model and tokenizer\n",
    "model = AutoModelForCausalLM.from_pretrained(\n",
    "    model_id,\n",
    "    quantization_config=bnb_config,\n",
    "    use_cache=False,\n",
    "    use_flash_attention_2=use_flash_attention,\n",
    "    device_map=\"auto\",\n",
    ")\n",
    "model.config.pretraining_tp = 1\n",
    "\n",
    "\n",
    "tokenizer = AutoTokenizer.from_pretrained(model_id)\n",
    "tokenizer.pad_token = tokenizer.eos_token\n",
    "tokenizer.padding_side = \"right\"\n"
   ]
  },
  {
   "cell_type": "code",
   "execution_count": 5,
   "id": "47c436bd-faaa-4cc9-8590-770acdddc5f4",
   "metadata": {
    "tags": []
   },
   "outputs": [],
   "source": [
    "from peft import LoraConfig, prepare_model_for_kbit_training, get_peft_model\n",
    "\n",
    "# LoRA config based on QLoRA paper\n",
    "peft_config = LoraConfig(\n",
    "        lora_alpha=16,\n",
    "        lora_dropout=0.1,\n",
    "        r=64,\n",
    "        bias=\"none\",\n",
    "        task_type=\"CAUSAL_LM\",\n",
    ")\n",
    "\n",
    "\n",
    "# prepare model for training\n",
    "model = prepare_model_for_kbit_training(model)\n",
    "model = get_peft_model(model, peft_config)\n"
   ]
  },
  {
   "cell_type": "code",
   "execution_count": 6,
   "id": "8e4413b8-dcae-45d4-853e-45f29af63a40",
   "metadata": {
    "tags": []
   },
   "outputs": [],
   "source": [
    "from transformers import TrainingArguments\n",
    "\n",
    "args = TrainingArguments(\n",
    "    output_dir=\"llama-7-int4-fc\",\n",
    "    num_train_epochs=3,\n",
    "    per_device_train_batch_size=6 if use_flash_attention else 4,\n",
    "    gradient_accumulation_steps=2,\n",
    "    gradient_checkpointing=True,\n",
    "    optim=\"paged_adamw_32bit\",\n",
    "    logging_steps=10,\n",
    "    save_strategy=\"epoch\",\n",
    "    learning_rate=2e-4,\n",
    "    bf16=True,\n",
    "    tf32=True,\n",
    "    max_grad_norm=0.3,\n",
    "    warmup_ratio=0.03,\n",
    "    lr_scheduler_type=\"constant\",\n",
    "    disable_tqdm=True # disable tqdm since with packing values are in correct\n",
    ")\n"
   ]
  },
  {
   "cell_type": "code",
   "execution_count": 7,
   "id": "3efbba5e-a016-4734-ae1e-117c08ee06f3",
   "metadata": {
    "tags": []
   },
   "outputs": [],
   "source": [
    "from trl import SFTTrainer\n",
    "\n",
    "max_seq_length = 2048 # max sequence length for model and packing of the dataset\n",
    "\n",
    "trainer = SFTTrainer(\n",
    "    model=model,\n",
    "    train_dataset=dataset,\n",
    "    peft_config=peft_config,\n",
    "    max_seq_length=max_seq_length,\n",
    "    tokenizer=tokenizer,\n",
    "    packing=True,\n",
    "    dataset_text_field=\"text\",\n",
    "    # formatting_func=format_instruction,\n",
    "    args=args,\n",
    ")\n"
   ]
  },
  {
   "cell_type": "code",
   "execution_count": 8,
   "id": "53a78685-085b-41a6-b33d-2e1cb393d938",
   "metadata": {
    "tags": []
   },
   "outputs": [
    {
     "name": "stdout",
     "output_type": "stream",
     "text": [
      "\u001b[34m\u001b[1mwandb\u001b[0m: Currently logged in as: \u001b[33msebastiansosa\u001b[0m. Use \u001b[1m`wandb login --relogin`\u001b[0m to force relogin\n"
     ]
    }
   ],
   "source": [
    "!wandb login"
   ]
  },
  {
   "cell_type": "code",
   "execution_count": 21,
   "id": "1d49df4c-f26a-45fe-9c8e-a4283316f280",
   "metadata": {
    "tags": []
   },
   "outputs": [
    {
     "data": {
      "text/html": [
       "Finishing last run (ID:v1s70rmb) before initializing another..."
      ],
      "text/plain": [
       "<IPython.core.display.HTML object>"
      ]
     },
     "metadata": {},
     "output_type": "display_data"
    },
    {
     "data": {
      "text/html": [
       "Waiting for W&B process to finish... <strong style=\"color:green\">(success).</strong>"
      ],
      "text/plain": [
       "<IPython.core.display.HTML object>"
      ]
     },
     "metadata": {},
     "output_type": "display_data"
    },
    {
     "name": "stderr",
     "output_type": "stream",
     "text": [
      "wandb: WARNING Source type is set to 'repo' but some required information is missing from the environment. A job will not be created from this run. See https://docs.wandb.ai/guides/launch/create-job\n"
     ]
    },
    {
     "data": {
      "text/html": [
       "<style>\n",
       "    table.wandb td:nth-child(1) { padding: 0 10px; text-align: left ; width: auto;} td:nth-child(2) {text-align: left ; width: 100%}\n",
       "    .wandb-row { display: flex; flex-direction: row; flex-wrap: wrap; justify-content: flex-start; width: 100% }\n",
       "    .wandb-col { display: flex; flex-direction: column; flex-basis: 100%; flex: 1; padding: 10px; }\n",
       "    </style>\n",
       "<div class=\"wandb-row\"><div class=\"wandb-col\"><h3>Run history:</h3><br/><table class=\"wandb\"><tr><td>train/epoch</td><td>▁</td></tr><tr><td>train/global_step</td><td>▁</td></tr><tr><td>train/total_flos</td><td>▁</td></tr><tr><td>train/train_loss</td><td>▁</td></tr><tr><td>train/train_runtime</td><td>▁</td></tr><tr><td>train/train_samples_per_second</td><td>▁</td></tr><tr><td>train/train_steps_per_second</td><td>▁</td></tr></table><br/></div><div class=\"wandb-col\"><h3>Run summary:</h3><br/><table class=\"wandb\"><tr><td>train/epoch</td><td>2.13</td></tr><tr><td>train/global_step</td><td>7</td></tr><tr><td>train/total_flos</td><td>4406581181546496.0</td></tr><tr><td>train/train_loss</td><td>1.12852</td></tr><tr><td>train/train_runtime</td><td>65.3138</td></tr><tr><td>train/train_samples_per_second</td><td>5.374</td></tr><tr><td>train/train_steps_per_second</td><td>0.689</td></tr></table><br/></div></div>"
      ],
      "text/plain": [
       "<IPython.core.display.HTML object>"
      ]
     },
     "metadata": {},
     "output_type": "display_data"
    },
    {
     "data": {
      "text/html": [
       " View run <strong style=\"color:#cdcd00\">woven-river-2</strong> at: <a href='https://wandb.ai/sebastiansosa/ps_fc/runs/v1s70rmb' target=\"_blank\">https://wandb.ai/sebastiansosa/ps_fc/runs/v1s70rmb</a><br/>Synced 5 W&B file(s), 0 media file(s), 0 artifact file(s) and 0 other file(s)"
      ],
      "text/plain": [
       "<IPython.core.display.HTML object>"
      ]
     },
     "metadata": {},
     "output_type": "display_data"
    },
    {
     "data": {
      "text/html": [
       "Find logs at: <code>./wandb/run-20231105_140047-v1s70rmb/logs</code>"
      ],
      "text/plain": [
       "<IPython.core.display.HTML object>"
      ]
     },
     "metadata": {},
     "output_type": "display_data"
    },
    {
     "data": {
      "text/html": [
       "Successfully finished last run (ID:v1s70rmb). Initializing new run:<br/>"
      ],
      "text/plain": [
       "<IPython.core.display.HTML object>"
      ]
     },
     "metadata": {},
     "output_type": "display_data"
    },
    {
     "data": {
      "application/vnd.jupyter.widget-view+json": {
       "model_id": "7895c424b48a409eb032a988b4a8a58a",
       "version_major": 2,
       "version_minor": 0
      },
      "text/plain": [
       "VBox(children=(Label(value='Waiting for wandb.init()...\\r'), FloatProgress(value=0.011112081999373104, max=1.0…"
      ]
     },
     "metadata": {},
     "output_type": "display_data"
    },
    {
     "data": {
      "text/html": [
       "Tracking run with wandb version 0.15.12"
      ],
      "text/plain": [
       "<IPython.core.display.HTML object>"
      ]
     },
     "metadata": {},
     "output_type": "display_data"
    },
    {
     "data": {
      "text/html": [
       "Run data is saved locally in <code>/home/sosa.s/gaitor-function-calling/instruction_tune/wandb/run-20231105_143823-cio7mvpk</code>"
      ],
      "text/plain": [
       "<IPython.core.display.HTML object>"
      ]
     },
     "metadata": {},
     "output_type": "display_data"
    },
    {
     "data": {
      "text/html": [
       "Syncing run <strong><a href='https://wandb.ai/sebastiansosa/ps_fc/runs/cio7mvpk' target=\"_blank\">chocolate-field-3</a></strong> to <a href='https://wandb.ai/sebastiansosa/ps_fc' target=\"_blank\">Weights & Biases</a> (<a href='https://wandb.me/run' target=\"_blank\">docs</a>)<br/>"
      ],
      "text/plain": [
       "<IPython.core.display.HTML object>"
      ]
     },
     "metadata": {},
     "output_type": "display_data"
    },
    {
     "data": {
      "text/html": [
       " View project at <a href='https://wandb.ai/sebastiansosa/ps_fc' target=\"_blank\">https://wandb.ai/sebastiansosa/ps_fc</a>"
      ],
      "text/plain": [
       "<IPython.core.display.HTML object>"
      ]
     },
     "metadata": {},
     "output_type": "display_data"
    },
    {
     "data": {
      "text/html": [
       " View run at <a href='https://wandb.ai/sebastiansosa/ps_fc/runs/cio7mvpk' target=\"_blank\">https://wandb.ai/sebastiansosa/ps_fc/runs/cio7mvpk</a>"
      ],
      "text/plain": [
       "<IPython.core.display.HTML object>"
      ]
     },
     "metadata": {},
     "output_type": "display_data"
    },
    {
     "data": {
      "text/html": [
       "<button onClick=\"this.nextSibling.style.display='block';this.style.display='none';\">Display W&B run</button><iframe src='https://wandb.ai/sebastiansosa/ps_fc/runs/cio7mvpk?jupyter=true' style='border:none;width:100%;height:420px;display:none;'></iframe>"
      ],
      "text/plain": [
       "<wandb.sdk.wandb_run.Run at 0x14a1318fb6d0>"
      ]
     },
     "execution_count": 21,
     "metadata": {},
     "output_type": "execute_result"
    }
   ],
   "source": [
    "import wandb\n",
    "\n",
    "wandb.init(project='ps_fc', entity='sebastiansosa')\n"
   ]
  },
  {
   "cell_type": "code",
   "execution_count": null,
   "id": "6e33f185-3c09-4da0-b170-aedf6390155c",
   "metadata": {
    "tags": []
   },
   "outputs": [
    {
     "name": "stderr",
     "output_type": "stream",
     "text": [
      "You're using a LlamaTokenizerFast tokenizer. Please note that with a fast tokenizer, using the `__call__` method is faster than using a method to encode the text followed by a call to the `pad` method to get a padded encoding.\n"
     ]
    }
   ],
   "source": [
    "# train\n",
    "trainer.train() # there will not be a progress bar since tqdm is disabled\n",
    "\n",
    "# save model\n",
    "trainer.save_model()\n"
   ]
  },
  {
   "cell_type": "code",
   "execution_count": 9,
   "id": "0556e6ec-4485-4d5b-97cc-a493a7eb52f5",
   "metadata": {},
   "outputs": [
    {
     "data": {
      "application/vnd.jupyter.widget-view+json": {
       "model_id": "a7a832c2407a4923a4ee9e2fd88e09e8",
       "version_major": 2,
       "version_minor": 0
      },
      "text/plain": [
       "Loading checkpoint shards:   0%|          | 0/2 [00:00<?, ?it/s]"
      ]
     },
     "metadata": {},
     "output_type": "display_data"
    },
    {
     "name": "stderr",
     "output_type": "stream",
     "text": [
      "Special tokens have been added in the vocabulary, make sure the associated word embeddings are fine-tuned or trained.\n"
     ]
    }
   ],
   "source": [
    "if use_flash_attention:\n",
    "    # unpatch flash attention\n",
    "    from utils.llama_patch import unplace_flash_attn_with_attn\n",
    "    unplace_flash_attn_with_attn()\n",
    "\n",
    "import torch\n",
    "from peft import AutoPeftModelForCausalLM\n",
    "from transformers import AutoTokenizer\n",
    "\n",
    "args.output_dir = \"llama-7-int4-fc\"\n",
    "\n",
    "# load base LLM model and tokenizer\n",
    "model = AutoPeftModelForCausalLM.from_pretrained(\n",
    "    args.output_dir,\n",
    "    low_cpu_mem_usage=True,\n",
    "    torch_dtype=torch.float16,\n",
    "    load_in_4bit=True,\n",
    ")\n",
    "tokenizer = AutoTokenizer.from_pretrained(args.output_dir)\n"
   ]
  },
  {
   "cell_type": "code",
   "execution_count": 21,
   "id": "e7d8e90d-68d5-4bbc-8c59-78f32f68632d",
   "metadata": {
    "tags": []
   },
   "outputs": [
    {
     "name": "stdout",
     "output_type": "stream",
     "text": [
      "Prompt:\n",
      "\n",
      "  Below is an instruction that describes a \"function calling\" task...\n",
      "\n",
      "  ### Instruction:\n",
      "  Analyze the prompt and json speicifaction pair (denoted in <FC></FC>) to produce a relevant \"function calling\" response (denoted in <FCR></FCR>), otherwise return a plain text response.\n",
      "\n",
      "  ### Input:\n",
      "  sumarize this in 1 sentence https://openai.com/blog/function-calling-and-other-api-updates\n",
      "  <FC>[{\"name\": \"transcodeWebPage\", \"description\": \"Acquire precise webpage details or real-time search engine responses based on user-input content.\", \"parameters\": {\"type\": \"object\", \"properties\": {\"json\": {\"properties\": {\"link\": {\"type\": \"string\", \"description\": \"This parameter takes either a URL or a non-URL string. If a URL is given, the model will engage with the designated webpage to collect or interact with its data. If a non-URL string is given, the model will handle it as a search inquiry and try to find related real-time news or information. To guarantee the best results, make sure the input is a valid URL or a succinct search query.\"}}, \"type\": \"object\"}}}}]</FC>\n",
      "  ### Response:\n",
      "\n",
      "\n",
      "Generated instruction:\n",
      "  <FCR>The following is a sample response to the prompt and json speicifaction pair:\n",
      "  <FCR>\n",
      "  <FCR>\n",
      "  <FCR>TranscodeWebPage(\"Acquire precise webpage details or real-time search engine responses based on user-input content.\"):\n",
      "  <FCR>\n",
      "  <FCR>TranscodeWebPage(\"Acquire precise webpage details or real-time search engine responses based on user-input content\n",
      "Ground truth:\n",
      "  <FCR>{\"arguments\": \"{\\\"json\\\": {\\\"link\\\": \\\"https://openai.com/blog/function-calling-and-other-api-updates\\\"}}\", \"name\": \"transcodeWebPage\"}</FCR>\n"
     ]
    }
   ],
   "source": [
    "from datasets import load_dataset\n",
    "from random import randrange\n",
    "\n",
    "\n",
    "# Load dataset from the hub and get a sample\n",
    "sample = dataset[0][\"text\"]\n",
    "\n",
    "inp, target = sample.split(\"### Response:\\n\")\n",
    "prompt = inp + \"### Response:\\n\"\n",
    "\n",
    "input_ids = tokenizer(prompt, return_tensors=\"pt\", truncation=True).input_ids.cuda()\n",
    "# with torch.inference_mode():\n",
    "outputs = model.generate(input_ids=input_ids, max_new_tokens=100, do_sample=True, top_p=0.9,temperature=0.9)\n",
    "\n",
    "print(f\"Prompt:\\n{prompt}\\n\")\n",
    "print(f\"Generated instruction:\\n{tokenizer.batch_decode(outputs.detach().cpu().numpy(), skip_special_tokens=True)[0][len(prompt):]}\")\n",
    "print(f\"Ground truth:\\n{target}\")\n"
   ]
  },
  {
   "cell_type": "code",
   "execution_count": 23,
   "id": "f57a724d-065d-4bba-a7cc-0336206793cd",
   "metadata": {
    "tags": []
   },
   "outputs": [
    {
     "data": {
      "application/vnd.jupyter.widget-view+json": {
       "model_id": "3ec669b0aa7c4785b2efe99f5427e870",
       "version_major": 2,
       "version_minor": 0
      },
      "text/plain": [
       "Loading checkpoint shards:   0%|          | 0/2 [00:00<?, ?it/s]"
      ]
     },
     "metadata": {},
     "output_type": "display_data"
    }
   ],
   "source": [
    "if use_flash_attention:\n",
    "    # unpatch flash attention\n",
    "    from utils.llama_patch import unplace_flash_attn_with_attn\n",
    "    unplace_flash_attn_with_attn()\n",
    "\n",
    "import torch\n",
    "from peft import AutoPeftModelForCausalLM\n",
    "from transformers import AutoTokenizer\n",
    "\n",
    "args.output_dir = \"llama-7-int4-fc\"\n",
    "\n",
    "# load base LLM model and tokenizer\n",
    "model = AutoModelForCausalLM.from_pretrained(\n",
    "    model_id,\n",
    "    quantization_config=bnb_config,\n",
    "    use_cache=False,\n",
    "    use_flash_attention_2=use_flash_attention,\n",
    "    device_map=\"auto\",\n",
    ")\n",
    "model.config.pretraining_tp = 1\n",
    "\n",
    "\n",
    "tokenizer = AutoTokenizer.from_pretrained(model_id)\n",
    "\n"
   ]
  },
  {
   "cell_type": "code",
   "execution_count": 24,
   "id": "b1cd522f-c54b-46a9-8d89-f9d16997dc7a",
   "metadata": {
    "tags": []
   },
   "outputs": [
    {
     "name": "stderr",
     "output_type": "stream",
     "text": [
      "Asking to truncate to max_length but no maximum length is provided and the model has no predefined maximum length. Default to no truncation.\n"
     ]
    },
    {
     "name": "stdout",
     "output_type": "stream",
     "text": [
      "Prompt:\n",
      "\n",
      "  Below is an instruction that describes a \"function calling\" task...\n",
      "\n",
      "  ### Instruction:\n",
      "  Analyze the prompt and json speicifaction pair (denoted in <FC></FC>) to produce a relevant \"function calling\" response (denoted in <FCR></FCR>), otherwise return a plain text response.\n",
      "\n",
      "  ### Input:\n",
      "  sumarize this in 1 sentence https://openai.com/blog/function-calling-and-other-api-updates\n",
      "  <FC>[{\"name\": \"transcodeWebPage\", \"description\": \"Acquire precise webpage details or real-time search engine responses based on user-input content.\", \"parameters\": {\"type\": \"object\", \"properties\": {\"json\": {\"properties\": {\"link\": {\"type\": \"string\", \"description\": \"This parameter takes either a URL or a non-URL string. If a URL is given, the model will engage with the designated webpage to collect or interact with its data. If a non-URL string is given, the model will handle it as a search inquiry and try to find related real-time news or information. To guarantee the best results, make sure the input is a valid URL or a succinct search query.\"}}, \"type\": \"object\"}}}}]</FC>\n",
      "  ### Response:\n",
      "\n",
      "\n",
      "Generated instruction:\n",
      "  <FCR>function call (sumarize this in 1 sentence https://openai.com/blog/function-calling-and-other-api-updates)</FCR>\n",
      "\n",
      "\n",
      "  ### Input:\n",
      "  <FC>[{\"name\": \"transcodeWebPage\", \"description\": \"Acquire precise webpage details or real-time search engine responses based on user-input content.\", \"parameters\": {\"type\": \"object\", \"properties\": {\"\n",
      "Ground truth:\n",
      "  <FCR>{\"arguments\": \"{\\\"json\\\": {\\\"link\\\": \\\"https://openai.com/blog/function-calling-and-other-api-updates\\\"}}\", \"name\": \"transcodeWebPage\"}</FCR>\n"
     ]
    }
   ],
   "source": [
    "from datasets import load_dataset\n",
    "from random import randrange\n",
    "\n",
    "\n",
    "# Load dataset from the hub and get a sample\n",
    "sample = dataset[0][\"text\"]\n",
    "\n",
    "inp, target = sample.split(\"### Response:\\n\")\n",
    "prompt = inp + \"### Response:\\n\"\n",
    "\n",
    "input_ids = tokenizer(prompt, return_tensors=\"pt\", truncation=True).input_ids.cuda()\n",
    "# with torch.inference_mode():\n",
    "outputs = model.generate(input_ids=input_ids, max_new_tokens=100, do_sample=True, top_p=0.9,temperature=0.9)\n",
    "\n",
    "print(f\"Prompt:\\n{prompt}\\n\")\n",
    "print(f\"Generated instruction:\\n{tokenizer.batch_decode(outputs.detach().cpu().numpy(), skip_special_tokens=True)[0][len(prompt):]}\")\n",
    "print(f\"Ground truth:\\n{target}\")\n"
   ]
  }
 ],
 "metadata": {
  "kernelspec": {
   "display_name": "PyTorch-2.0.1",
   "language": "python",
   "name": "pytorch-2.0.1"
  },
  "language_info": {
   "codemirror_mode": {
    "name": "ipython",
    "version": 3
   },
   "file_extension": ".py",
   "mimetype": "text/x-python",
   "name": "python",
   "nbconvert_exporter": "python",
   "pygments_lexer": "ipython3",
   "version": "3.10.11"
  }
 },
 "nbformat": 4,
 "nbformat_minor": 5
}
