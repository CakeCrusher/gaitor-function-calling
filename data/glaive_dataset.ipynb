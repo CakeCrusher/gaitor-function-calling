{
 "cells": [
  {
   "cell_type": "code",
   "execution_count": 2,
   "metadata": {},
   "outputs": [],
   "source": [
    "# add parent directory to path\n",
    "import sys\n",
    "import os\n",
    "\n",
    "project_dir = os.getcwd()\n",
    "parent_dir = os.path.dirname(project_dir)\n",
    "grandparent_dir = os.path.dirname(parent_dir)\n",
    "sys.path.insert(0, grandparent_dir)"
   ]
  },
  {
   "cell_type": "code",
   "execution_count": 2,
   "metadata": {},
   "outputs": [
    {
     "name": "stderr",
     "output_type": "stream",
     "text": [
      "Found cached dataset parquet (C:/Users/1seba/.cache/huggingface/datasets/rizerphe___parquet/rizerphe--glaive-function-calling-v2-llama-04a01feb10d7a4f7/0.0.0/14a00e99c0d15a23649d0db8944380ac81082d4b021f398733dd84f3a6c569a7)\n"
     ]
    },
    {
     "data": {
      "application/vnd.jupyter.widget-view+json": {
       "model_id": "4c0bc626e3ea4b2095fde358ac9f7ed5",
       "version_major": 2,
       "version_minor": 0
      },
      "text/plain": [
       "  0%|          | 0/1 [00:00<?, ?it/s]"
      ]
     },
     "metadata": {},
     "output_type": "display_data"
    },
    {
     "name": "stdout",
     "output_type": "stream",
     "text": [
      "total entries: 103091\n",
      "total non-null entries: 51885\n"
     ]
    }
   ],
   "source": [
    "import json\n",
    "from datasets import load_dataset\n",
    "from gaitor_function_calling.data.prompting_utils import INSTRUCTION, function_calling_tokens\n",
    "\n",
    "\n",
    "# Load the dataset\n",
    "dataset = load_dataset('rizerphe/glaive-function-calling-v2-llama')\n",
    "\n",
    "# Define a function to transform the data\n",
    "def transform_data(entry):\n",
    "    # Split the entry at [/INST] to separate the input and output messages\n",
    "    if \"<<SYS>>\" not in entry:\n",
    "        return None\n",
    "\n",
    "    parts = entry.split(\"[/INST]\")\n",
    "    input_message = parts[0].split(\"<</SYS>>\")[1].strip()\n",
    "    input_function = parts[0].split(\"<</SYS>>\")[0].split(\"<function>\")[2].strip()\n",
    "    \n",
    "    # find first message with <function> response\n",
    "    for part in parts[1:]:\n",
    "        if \"<function>\" in part:\n",
    "            output_message = part.split(\"<function>\")[1].split(\"</s>\")[0]\n",
    "            break\n",
    "    else:\n",
    "        return None\n",
    "    \n",
    "    output_message_name = output_message.split(\"{\")[0].strip()\n",
    "    if not output_message_name:\n",
    "        json_input_message = json.loads(input_function)\n",
    "        output_message_name = json_input_message[\"name\"].strip()\n",
    "    \n",
    "    if output_message_name in output_message:\n",
    "        output_message_arguments = output_message.split(output_message_name)[1].strip()\n",
    "    else:\n",
    "        output_message_arguments = output_message.strip()\n",
    "    if not output_message_arguments:\n",
    "        return None\n",
    "\n",
    "    # Extract the system message including function details\n",
    "    sys_message = parts[0].split(\"<function>\")[1].split(\"<</SYS>>\")[0].strip()\n",
    "\n",
    "    # compose functions\n",
    "    input_functions = \"[\" + input_function + \"]\"\n",
    "\n",
    "    # Formatting the new entry\n",
    "    transformed_entry = f\"<s>[INST] <<SYS>>\\n{INSTRUCTION}\" + function_calling_tokens[\"FUNCTIONS\"][\"start\"] + input_functions + function_calling_tokens[\"FUNCTIONS\"][\"end\"] + f\"\\n<</SYS>>\\n\\n{input_message} [/INST] \" + function_calling_tokens[\"FUNCTION_CALL_NAME\"][\"start\"] + output_message_name + function_calling_tokens[\"FUNCTION_CALL_NAME\"][\"end\"] + function_calling_tokens[\"FUNCTION_CALL_ARGUMENTS\"][\"start\"] + output_message_arguments + function_calling_tokens[\"FUNCTION_CALL_ARGUMENTS\"][\"end\"] + f\" </s>\"\n",
    "    return transformed_entry\n",
    "\n",
    "# Apply the transformation\n",
    "transformed_dataset = [transform_data(entry['text']) for entry in dataset['train']]\n",
    "print(f\"total entries: {len(transformed_dataset)}\")\n",
    "# only return non-null entries\n",
    "transformed_dataset = [entry for entry in transformed_dataset if entry is not None]\n",
    "print(f\"total non-null entries: {len(transformed_dataset)}\")\n"
   ]
  },
  {
   "cell_type": "code",
   "execution_count": 3,
   "metadata": {},
   "outputs": [
    {
     "name": "stdout",
     "output_type": "stream",
     "text": [
      "<s>[INST] <<SYS>>\n",
      "Your job is to identify weather or not the user input is related to the function specification delimited by <FUNCTIONS> and </FUNCTIONS>. If it is related then your response should be in the function_calling format: <FUNCTION_CALL_NAME>NAME_ASSOCIATED_WITH_THE_FUNCTION</FUNCTION_CALL_NAME><FUNCTION_CALL_ARGUMENTS>ARGUMENTS_IN_STRINGIFIED_JSON_FORMAT</FUNCTION_CALL_ARGUMENTS>. Otherwise simply return a normal response. <FUNCTIONS>[{\n",
      "    \"name\": \"translate_text\",\n",
      "    \"description\": \"Translate text from one language to another\",\n",
      "    \"parameters\": {\n",
      "        \"type\": \"object\",\n",
      "        \"properties\": {\n",
      "            \"text\": {\n",
      "                \"type\": \"string\",\n",
      "                \"description\": \"The text to be translated\"\n",
      "            },\n",
      "            \"source_language\": {\n",
      "                \"type\": \"string\",\n",
      "                \"description\": \"The source language of the text\"\n",
      "            },\n",
      "            \"target_language\": {\n",
      "                \"type\": \"string\",\n",
      "                \"description\": \"The target language for translation\"\n",
      "            }\n",
      "        },\n",
      "        \"required\": [\n",
      "            \"text\",\n",
      "            \"source_language\",\n",
      "            \"target_language\"\n",
      "        ]\n",
      "    }\n",
      "}]</FUNCTIONS>\n",
      "<</SYS>>\n",
      "\n",
      "Hi, I have a sentence in French that I need translated to English. The sentence is \"Je suis très heureux de vous rencontrer\". [/INST] <FUNCTION_CALL_NAME>translate_text</FUNCTION_CALL_NAME><FUNCTION_CALL_ARGUMENTS>{\n",
      "    \"text\": \"Je suis tr\\u00e8s heureux de vous rencontrer\",\n",
      "    \"source_language\": \"fr\",\n",
      "    \"target_language\": \"en\"\n",
      "}</FUNCTION_CALL_ARGUMENTS> </s>\n"
     ]
    }
   ],
   "source": [
    "print(transformed_dataset[45000])"
   ]
  },
  {
   "cell_type": "code",
   "execution_count": 4,
   "metadata": {},
   "outputs": [],
   "source": [
    "from gaitor_function_calling.data.prompting_utils import parse_prompt_back_to_data, INSTRUCTION\n",
    "jsonified_dataset = [parse_prompt_back_to_data(entry, INSTRUCTION) for entry in transformed_dataset]"
   ]
  },
  {
   "cell_type": "code",
   "execution_count": 14,
   "metadata": {},
   "outputs": [],
   "source": [
    "# save to  cwd + /base/glaive_dataset-only_fc.json\n",
    "current_dir = os.getcwd()\n",
    "with open(current_dir + \"/base/glaive_dataset-only_fc.json\", \"w\") as f:\n",
    "    json.dump(jsonified_dataset, f, indent=4)"
   ]
  },
  {
   "cell_type": "code",
   "execution_count": 3,
   "metadata": {},
   "outputs": [
    {
     "name": "stdout",
     "output_type": "stream",
     "text": [
      "No train data found\n",
      "No test data found\n",
      "Train data size: 51885\n",
      "Test data size: 0\n",
      "Raw data saved to c:\\Projects\\function_calling\\gaitor_function_calling\\data/base\\glaive_dataset-only_fc-train-glaive-full_train\\raw.json\n",
      "Train data saved to c:\\Projects\\function_calling\\gaitor_function_calling\\data/base\\glaive_dataset-only_fc-train-glaive-full_train\\train.json\n"
     ]
    },
    {
     "data": {
      "text/plain": [
       "1"
      ]
     },
     "execution_count": 3,
     "metadata": {},
     "output_type": "execute_result"
    }
   ],
   "source": [
    "from gaitor_function_calling.data.data_utils import DataAbstractor\n",
    "from gaitor_function_calling.data.prompting_utils import INSTRUCTION\n",
    "current_dir = os.getcwd()\n",
    "data_abstractor = DataAbstractor(current_dir + \"/base/glaive_dataset-only_fc.json\", \"glaive-full_train\")\n",
    "train, test = data_abstractor.build_data(INSTRUCTION, False, 1)\n",
    "data_abstractor.save(data_abstractor.raw_data, train, test)"
   ]
  },
  {
   "cell_type": "code",
   "execution_count": 16,
   "metadata": {},
   "outputs": [
    {
     "name": "stdout",
     "output_type": "stream",
     "text": [
      "No test data found\n"
     ]
    },
    {
     "data": {
      "text/plain": [
       "51885"
      ]
     },
     "execution_count": 16,
     "metadata": {},
     "output_type": "execute_result"
    }
   ],
   "source": [
    "from gaitor_function_calling.data.data_utils import DataAbstractor\n",
    "current_dir = os.getcwd()\n",
    "data_abstractor = DataAbstractor(os.getcwd() + \"/train_test/glaive_dataset-only_fc-train-glaive-full_train/raw.json\", \"glaive-full_train\")\n"
   ]
  },
  {
   "cell_type": "code",
   "execution_count": 17,
   "metadata": {},
   "outputs": [
    {
     "data": {
      "text/plain": [
       "{'text': '<s>[INST] <<SYS>>\\nYour job is to identify weather or not the user input is related to the function specification delimited by <FUNCTIONS> and </FUNCTIONS>. If it is related then your response should be in the function_calling format: <FUNCTION_CALL_NAME>NAME_ASSOCIATED_WITH_THE_FUNCTION</FUNCTION_CALL_NAME><FUNCTION_CALL_ARGUMENTS>ARGUMENTS_IN_STRINGIFIED_JSON_FORMAT</FUNCTION_CALL_ARGUMENTS>. Otherwise simply return a normal response. \\n<FUNCTIONS>[{\"name\": \"get_news_headlines\", \"description\": \"Get the latest news headlines\", \"parameters\": {\"type\": \"object\", \"properties\": {\"country\": {\"type\": \"string\", \"description\": \"The country for which to fetch news\"}}, \"required\": [\"country\"]}}]</FUNCTIONS>\\n<</SYS>>\\n\\nCan you tell me the latest news headlines for the United States?  [/INST] <FUNCTION_CALL_NAME>get_news_headlines</FUNCTION_CALL_NAME><FUNCTION_CALL_ARGUMENTS>{\\n    \"country\": \"United States\"\\n}</FUNCTION_CALL_ARGUMENTS> </s>'}"
      ]
     },
     "execution_count": 17,
     "metadata": {},
     "output_type": "execute_result"
    }
   ],
   "source": [
    "data_abstractor.train_data[0]"
   ]
  },
  {
   "cell_type": "code",
   "execution_count": 10,
   "metadata": {},
   "outputs": [
    {
     "data": {
      "text/plain": [
       "'c:\\\\Projects\\\\function_calling\\\\gaitor_function_calling\\\\data'"
      ]
     },
     "execution_count": 10,
     "metadata": {},
     "output_type": "execute_result"
    }
   ],
   "source": [
    "os.getcwd()"
   ]
  }
 ],
 "metadata": {
  "kernelspec": {
   "display_name": "env",
   "language": "python",
   "name": "python3"
  },
  "language_info": {
   "codemirror_mode": {
    "name": "ipython",
    "version": 3
   },
   "file_extension": ".py",
   "mimetype": "text/x-python",
   "name": "python",
   "nbconvert_exporter": "python",
   "pygments_lexer": "ipython3",
   "version": "3.10.2"
  }
 },
 "nbformat": 4,
 "nbformat_minor": 2
}
