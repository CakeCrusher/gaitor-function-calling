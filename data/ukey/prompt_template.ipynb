{
 "cells": [
  {
   "cell_type": "code",
   "execution_count": 3,
   "metadata": {
    "tags": []
   },
   "outputs": [],
   "source": [
    "import json\n",
    "\n",
    "filepath = r'../production_data_without_summary.json'\n",
    "\n",
    "with open(filepath, 'r') as f:\n",
    "    data = json.load(f)\n"
   ]
  },
  {
   "cell_type": "code",
   "execution_count": 2,
   "metadata": {
    "tags": []
   },
   "outputs": [
    {
     "data": {
      "text/plain": [
       "'/home/sosa.s/gaitor-function-calling/data/ukey'"
      ]
     },
     "execution_count": 2,
     "metadata": {},
     "output_type": "execute_result"
    }
   ],
   "source": [
    "import os\n",
    "os.getcwd()"
   ]
  },
  {
   "cell_type": "code",
   "execution_count": 20,
   "metadata": {
    "tags": []
   },
   "outputs": [
    {
     "data": {
      "text/plain": [
       "{'input': [{'chatgptMessage': {'role': 'user',\n",
       "    'content': 'linkedin hashtags for tech'},\n",
       "   'functions': [{'name': 'getHashtagFollowerCount',\n",
       "     'description': 'Get the follower count, follower count over time and related trending hashtags of a specified LinkedIn hashtag',\n",
       "     'parameters': {'type': 'object',\n",
       "      'properties': {'path_params': {'type': 'object',\n",
       "        'properties': {'hashtag': {'type': 'string',\n",
       "          'description': 'The specified hashtag.'}},\n",
       "        'required': ['hashtag']}}}}],\n",
       "   'timeSent': '2023-09-20T20:08:35.342Z'}],\n",
       " 'target': {'chatgptMessage': {'content': None,\n",
       "   'function_call': {'arguments': '{}', 'name': 'getHashtagFollowerCount'},\n",
       "   'role': 'assistant'},\n",
       "  'functions': [{'name': 'getHashtagFollowerCount',\n",
       "    'description': 'Get the follower count, follower count over time and related trending hashtags of a specified LinkedIn hashtag',\n",
       "    'parameters': {'type': 'object',\n",
       "     'properties': {'path_params': {'type': 'object',\n",
       "       'properties': {'hashtag': {'type': 'string',\n",
       "         'description': 'The specified hashtag.'}},\n",
       "       'required': ['hashtag']}}}}],\n",
       "  'timeSent': '2023-09-20T20:08:38.257Z'}}"
      ]
     },
     "execution_count": 20,
     "metadata": {},
     "output_type": "execute_result"
    }
   ],
   "source": [
    "data[27]"
   ]
  },
  {
   "cell_type": "code",
   "execution_count": 5,
   "metadata": {
    "tags": []
   },
   "outputs": [
    {
     "name": "stdout",
     "output_type": "stream",
     "text": [
      "\n",
      "  Below is an instruction that describes a \"function calling\" task...\n",
      "\n",
      "  ### Instruction:\n",
      "  Analyze the prompt and json speicifaction pair (denoted in <FC></FC>) to produce a relevant \"function calling\" response (denoted in <FCR></FCR>), otherwise return a plain text response.\n",
      "\n",
      "  ### Input:\n",
      "  sumarize this in 1 sentence https://openai.com/blog/function-calling-and-other-api-updates\n",
      "  <FC>[{\"name\": \"transcodeWebPage\", \"description\": \"Acquire precise webpage details or real-time search engine responses based on user-input content.\", \"parameters\": {\"type\": \"object\", \"properties\": {\"json\": {\"properties\": {\"link\": {\"type\": \"string\", \"description\": \"This parameter takes either a URL or a non-URL string. If a URL is given, the model will engage with the designated webpage to collect or interact with its data. If a non-URL string is given, the model will handle it as a search inquiry and try to find related real-time news or information. To guarantee the best results, make sure the input is a valid URL or a succinct search query.\"}}, \"type\": \"object\"}}}}]</FC>\n",
      "  ### Response:\n",
      "  <FCR>{\"arguments\": \"{\\\"json\\\": {\\\"link\\\": \\\"https://openai.com/blog/function-calling-and-other-api-updates\\\"}}\", \"name\": \"transcodeWebPage\"}</FCR>\n"
     ]
    }
   ],
   "source": [
    "ex_data_basic_res = data[12]\n",
    "ex_data_fc_res = {'input': [{'chatgptMessage': {'role': 'user',\n",
    "    'content': 'sumarize this in 1 sentence https://openai.com/blog/function-calling-and-other-api-updates'},\n",
    "   'functions': [{'name': 'transcodeWebPage',\n",
    "     'description': 'Acquire precise webpage details or real-time search engine responses based on user-input content.',\n",
    "     'parameters': {'type': 'object',\n",
    "      'properties': {'json': {'properties': {'link': {'type': 'string',\n",
    "          'description': 'This parameter takes either a URL or a non-URL string. If a URL is given, the model will engage with the designated webpage to collect or interact with its data. If a non-URL string is given, the model will handle it as a search inquiry and try to find related real-time news or information. To guarantee the best results, make sure the input is a valid URL or a succinct search query.'}},\n",
    "        'type': 'object'}}}}],\n",
    "   'timeSent': '2023-09-20T17:23:29.989Z'}],\n",
    " 'target': {'chatgptMessage': {'content': None,\n",
    "   'function_call': {'arguments': '{\"json\": {\"link\": \"https://openai.com/blog/function-calling-and-other-api-updates\"}}',\n",
    "    'name': 'transcodeWebPage'},\n",
    "   'role': 'assistant'},\n",
    "  'functions': [{'name': 'transcodeWebPage',\n",
    "    'description': 'Acquire precise webpage details or real-time search engine responses based on user-input content.',\n",
    "    'parameters': {'type': 'object',\n",
    "     'properties': {'json': {'properties': {'link': {'type': 'string',\n",
    "         'description': 'This parameter takes either a URL or a non-URL string. If a URL is given, the model will engage with the designated webpage to collect or interact with its data. If a non-URL string is given, the model will handle it as a search inquiry and try to find related real-time news or information. To guarantee the best results, make sure the input is a valid URL or a succinct search query.'}},\n",
    "       'type': 'object'}}}}],\n",
    "  'timeSent': '2023-09-20T17:23:35.166Z'}}\n",
    "\n",
    "def to_instruction(data_ins):\n",
    "  ex_instruction = \"\"\"\n",
    "  Below is an instruction that describes a \"function calling\" task...\n",
    "\n",
    "  ### Instruction:\n",
    "  Analyze the prompt and json speicifaction pair (denoted in <FC></FC>) to produce a relevant \"function calling\" response (denoted in <FCR></FCR>), otherwise return a plain text response.\n",
    "\n",
    "  ### Input:\n",
    "  sumarize this in 1 sentence https://openai.com/blog/function-calling-and-other-api-updates\n",
    "  <FC>\"\"\" + json.dumps(data_ins[\"input\"][-1][\"functions\"]) + \"\"\"</FC>\n",
    "  ### Response:\n",
    "  \"\"\"\n",
    "  if (\"function_call\" in data_ins[\"target\"][\"chatgptMessage\"]):\n",
    "    ex_instruction += \"<FCR>\" + json.dumps(data_ins[\"target\"][\"chatgptMessage\"][\"function_call\"]) + \"</FCR>\"\n",
    "  else:\n",
    "    ex_instruction += data_ins[\"target\"][\"chatgptMessage\"][\"content\"]\n",
    "  return ex_instruction\n",
    "\n",
    "print(to_instruction(ex_data_fc_res))"
   ]
  },
  {
   "cell_type": "code",
   "execution_count": 8,
   "metadata": {
    "tags": []
   },
   "outputs": [],
   "source": [
    "train = []\n",
    "with open('./production_train.json', 'a') as outfile:\n",
    "    for example in data:\n",
    "        try:\n",
    "            text = to_instruction(example)\n",
    "            train.append({\"text\": text})\n",
    "        except:\n",
    "            pass\n",
    "    json.dump(train, outfile)"
   ]
  },
  {
   "cell_type": "code",
   "execution_count": 23,
   "metadata": {
    "tags": []
   },
   "outputs": [
    {
     "name": "stdout",
     "output_type": "stream",
     "text": [
      "\n",
      "  Below is an instruction that describes a \"function calling\" task...\n",
      "\n",
      "  ### Instruction:\n",
      "  Analyze the prompt and json speicifaction pair (denoted in <FC></FC>) to produce a relevant \"function calling\" response (denoted in <FCR></FCR>), otherwise return a plain text response.\n",
      "\n",
      "  ### Input:\n",
      "  sumarize this in 1 sentence https://openai.com/blog/function-calling-and-other-api-updates\n",
      "  <FC>[{\"name\": \"getHashtagFollowerCount\", \"description\": \"Get the follower count, follower count over time and related trending hashtags of a specified LinkedIn hashtag\", \"parameters\": {\"type\": \"object\", \"properties\": {\"path_params\": {\"type\": \"object\", \"properties\": {\"hashtag\": {\"type\": \"string\", \"description\": \"The specified hashtag.\"}}, \"required\": [\"hashtag\"]}}}}]</FC>\n",
      "  ### Response:\n",
      "  <FCR>{\"arguments\": \"{}\", \"name\": \"getHashtagFollowerCount\"}</FCR>\n"
     ]
    }
   ],
   "source": [
    "print(train[27][\"text\"])"
   ]
  }
 ],
 "metadata": {
  "kernelspec": {
   "display_name": "Python 3 (ipykernel)",
   "language": "python",
   "name": "python3"
  },
  "language_info": {
   "codemirror_mode": {
    "name": "ipython",
    "version": 3
   },
   "file_extension": ".py",
   "mimetype": "text/x-python",
   "name": "python",
   "nbconvert_exporter": "python",
   "pygments_lexer": "ipython3",
   "version": "3.10.12"
  }
 },
 "nbformat": 4,
 "nbformat_minor": 4
}
