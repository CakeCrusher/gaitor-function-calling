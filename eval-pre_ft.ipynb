{
 "cells": [
  {
   "cell_type": "code",
   "execution_count": 1,
   "id": "091e1455-6621-4198-a135-886bf1950aa0",
   "metadata": {
    "scrolled": true
   },
   "outputs": [
    {
     "name": "stdout",
     "output_type": "stream",
     "text": [
      "Defaulting to user installation because normal site-packages is not writeable\n",
      "Requirement already satisfied: transformers==4.34.0 in /home/sosa.s/.local/lib/python3.10/site-packages (4.34.0)\n",
      "Requirement already satisfied: datasets==2.13.0 in /home/sosa.s/.local/lib/python3.10/site-packages (2.13.0)\n",
      "Requirement already satisfied: peft==0.4.0 in /home/sosa.s/.local/lib/python3.10/site-packages (0.4.0)\n",
      "Requirement already satisfied: accelerate==0.23.0 in /home/sosa.s/.local/lib/python3.10/site-packages (0.23.0)\n",
      "Requirement already satisfied: bitsandbytes==0.41.1 in /home/sosa.s/.local/lib/python3.10/site-packages (0.41.1)\n",
      "Requirement already satisfied: trl==0.4.7 in /home/sosa.s/.local/lib/python3.10/site-packages (0.4.7)\n",
      "Requirement already satisfied: safetensors>=0.3.1 in /home/sosa.s/.local/lib/python3.10/site-packages (0.4.1)\n",
      "Requirement already satisfied: ipywidgets in /home/sosa.s/.local/lib/python3.10/site-packages (8.1.1)\n",
      "Requirement already satisfied: wandb in /home/sosa.s/.local/lib/python3.10/site-packages (0.16.0)\n",
      "Requirement already satisfied: filelock in /apps/pytorch/2.0.1/lib/python3.10/site-packages (from transformers==4.34.0) (3.12.0)\n",
      "Requirement already satisfied: huggingface-hub<1.0,>=0.16.4 in /home/sosa.s/.local/lib/python3.10/site-packages (from transformers==4.34.0) (0.17.3)\n",
      "Requirement already satisfied: numpy>=1.17 in /apps/pytorch/2.0.1/lib/python3.10/site-packages (from transformers==4.34.0) (1.24.3)\n",
      "Requirement already satisfied: packaging>=20.0 in /apps/pytorch/2.0.1/lib/python3.10/site-packages (from transformers==4.34.0) (23.1)\n",
      "Requirement already satisfied: pyyaml>=5.1 in /apps/pytorch/2.0.1/lib/python3.10/site-packages (from transformers==4.34.0) (6.0.1)\n",
      "Requirement already satisfied: regex!=2019.12.17 in /home/sosa.s/.local/lib/python3.10/site-packages (from transformers==4.34.0) (2023.10.3)\n",
      "Requirement already satisfied: requests in /apps/pytorch/2.0.1/lib/python3.10/site-packages (from transformers==4.34.0) (2.29.0)\n",
      "Requirement already satisfied: tokenizers<0.15,>=0.14 in /home/sosa.s/.local/lib/python3.10/site-packages (from transformers==4.34.0) (0.14.1)\n",
      "Requirement already satisfied: tqdm>=4.27 in /apps/pytorch/2.0.1/lib/python3.10/site-packages (from transformers==4.34.0) (4.65.0)\n",
      "Requirement already satisfied: pyarrow>=8.0.0 in /home/sosa.s/.local/lib/python3.10/site-packages (from datasets==2.13.0) (14.0.0)\n",
      "Requirement already satisfied: dill<0.3.7,>=0.3.0 in /home/sosa.s/.local/lib/python3.10/site-packages (from datasets==2.13.0) (0.3.6)\n",
      "Requirement already satisfied: pandas in /home/sosa.s/.local/lib/python3.10/site-packages (from datasets==2.13.0) (2.1.3)\n",
      "Requirement already satisfied: xxhash in /home/sosa.s/.local/lib/python3.10/site-packages (from datasets==2.13.0) (3.4.1)\n",
      "Requirement already satisfied: multiprocess in /home/sosa.s/.local/lib/python3.10/site-packages (from datasets==2.13.0) (0.70.14)\n",
      "Requirement already satisfied: fsspec[http]>=2021.11.1 in /apps/pytorch/2.0.1/lib/python3.10/site-packages (from datasets==2.13.0) (2023.9.2)\n",
      "Requirement already satisfied: aiohttp in /apps/pytorch/2.0.1/lib/python3.10/site-packages (from datasets==2.13.0) (3.8.6)\n",
      "Requirement already satisfied: psutil in /apps/pytorch/2.0.1/lib/python3.10/site-packages (from peft==0.4.0) (5.9.5)\n",
      "Requirement already satisfied: torch>=1.13.0 in /apps/pytorch/2.0.1/lib/python3.10/site-packages (from peft==0.4.0) (2.0.1)\n",
      "Requirement already satisfied: comm>=0.1.3 in /apps/pytorch/2.0.1/lib/python3.10/site-packages (from ipywidgets) (0.1.3)\n",
      "Requirement already satisfied: ipython>=6.1.0 in /apps/pytorch/2.0.1/lib/python3.10/site-packages (from ipywidgets) (8.13.2)\n",
      "Requirement already satisfied: traitlets>=4.3.1 in /apps/pytorch/2.0.1/lib/python3.10/site-packages (from ipywidgets) (5.9.0)\n",
      "Requirement already satisfied: widgetsnbextension~=4.0.9 in /home/sosa.s/.local/lib/python3.10/site-packages (from ipywidgets) (4.0.9)\n",
      "Requirement already satisfied: jupyterlab-widgets~=3.0.9 in /home/sosa.s/.local/lib/python3.10/site-packages (from ipywidgets) (3.0.9)\n",
      "Requirement already satisfied: Click!=8.0.0,>=7.1 in /apps/pytorch/2.0.1/lib/python3.10/site-packages (from wandb) (8.1.7)\n",
      "Requirement already satisfied: GitPython!=3.1.29,>=1.0.0 in /home/sosa.s/.local/lib/python3.10/site-packages (from wandb) (3.1.40)\n",
      "Requirement already satisfied: sentry-sdk>=1.0.0 in /home/sosa.s/.local/lib/python3.10/site-packages (from wandb) (1.34.0)\n",
      "Requirement already satisfied: docker-pycreds>=0.4.0 in /home/sosa.s/.local/lib/python3.10/site-packages (from wandb) (0.4.0)\n",
      "Requirement already satisfied: setproctitle in /home/sosa.s/.local/lib/python3.10/site-packages (from wandb) (1.3.3)\n",
      "Requirement already satisfied: setuptools in /apps/pytorch/2.0.1/lib/python3.10/site-packages (from wandb) (67.7.2)\n",
      "Requirement already satisfied: appdirs>=1.4.3 in /home/sosa.s/.local/lib/python3.10/site-packages (from wandb) (1.4.4)\n",
      "Requirement already satisfied: protobuf!=4.21.0,<5,>=3.19.0 in /home/sosa.s/.local/lib/python3.10/site-packages (from wandb) (4.25.1)\n",
      "Requirement already satisfied: six>=1.4.0 in /apps/pytorch/2.0.1/lib/python3.10/site-packages (from docker-pycreds>=0.4.0->wandb) (1.16.0)\n",
      "Requirement already satisfied: attrs>=17.3.0 in /apps/pytorch/2.0.1/lib/python3.10/site-packages (from aiohttp->datasets==2.13.0) (23.1.0)\n",
      "Requirement already satisfied: charset-normalizer<4.0,>=2.0 in /apps/pytorch/2.0.1/lib/python3.10/site-packages (from aiohttp->datasets==2.13.0) (3.1.0)\n",
      "Requirement already satisfied: multidict<7.0,>=4.5 in /apps/pytorch/2.0.1/lib/python3.10/site-packages (from aiohttp->datasets==2.13.0) (6.0.4)\n",
      "Requirement already satisfied: async-timeout<5.0,>=4.0.0a3 in /apps/pytorch/2.0.1/lib/python3.10/site-packages (from aiohttp->datasets==2.13.0) (4.0.3)\n",
      "Requirement already satisfied: yarl<2.0,>=1.0 in /apps/pytorch/2.0.1/lib/python3.10/site-packages (from aiohttp->datasets==2.13.0) (1.9.2)\n",
      "Requirement already satisfied: frozenlist>=1.1.1 in /apps/pytorch/2.0.1/lib/python3.10/site-packages (from aiohttp->datasets==2.13.0) (1.4.0)\n",
      "Requirement already satisfied: aiosignal>=1.1.2 in /apps/pytorch/2.0.1/lib/python3.10/site-packages (from aiohttp->datasets==2.13.0) (1.3.1)\n",
      "Requirement already satisfied: gitdb<5,>=4.0.1 in /home/sosa.s/.local/lib/python3.10/site-packages (from GitPython!=3.1.29,>=1.0.0->wandb) (4.0.11)\n",
      "Requirement already satisfied: typing-extensions>=3.7.4.3 in /apps/pytorch/2.0.1/lib/python3.10/site-packages (from huggingface-hub<1.0,>=0.16.4->transformers==4.34.0) (4.5.0)\n",
      "Requirement already satisfied: backcall in /apps/pytorch/2.0.1/lib/python3.10/site-packages (from ipython>=6.1.0->ipywidgets) (0.2.0)\n",
      "Requirement already satisfied: decorator in /apps/pytorch/2.0.1/lib/python3.10/site-packages (from ipython>=6.1.0->ipywidgets) (5.1.1)\n",
      "Requirement already satisfied: jedi>=0.16 in /apps/pytorch/2.0.1/lib/python3.10/site-packages (from ipython>=6.1.0->ipywidgets) (0.18.2)\n",
      "Requirement already satisfied: matplotlib-inline in /apps/pytorch/2.0.1/lib/python3.10/site-packages (from ipython>=6.1.0->ipywidgets) (0.1.6)\n",
      "Requirement already satisfied: pickleshare in /apps/pytorch/2.0.1/lib/python3.10/site-packages (from ipython>=6.1.0->ipywidgets) (0.7.5)\n",
      "Requirement already satisfied: prompt-toolkit!=3.0.37,<3.1.0,>=3.0.30 in /apps/pytorch/2.0.1/lib/python3.10/site-packages (from ipython>=6.1.0->ipywidgets) (3.0.38)\n",
      "Requirement already satisfied: pygments>=2.4.0 in /apps/pytorch/2.0.1/lib/python3.10/site-packages (from ipython>=6.1.0->ipywidgets) (2.15.1)\n",
      "Requirement already satisfied: stack-data in /apps/pytorch/2.0.1/lib/python3.10/site-packages (from ipython>=6.1.0->ipywidgets) (0.6.2)\n",
      "Requirement already satisfied: pexpect>4.3 in /apps/pytorch/2.0.1/lib/python3.10/site-packages (from ipython>=6.1.0->ipywidgets) (4.8.0)\n",
      "Requirement already satisfied: idna<4,>=2.5 in /apps/pytorch/2.0.1/lib/python3.10/site-packages (from requests->transformers==4.34.0) (3.4)\n",
      "Requirement already satisfied: urllib3<1.27,>=1.21.1 in /apps/pytorch/2.0.1/lib/python3.10/site-packages (from requests->transformers==4.34.0) (1.26.15)\n",
      "Requirement already satisfied: certifi>=2017.4.17 in /apps/pytorch/2.0.1/lib/python3.10/site-packages (from requests->transformers==4.34.0) (2023.7.22)\n",
      "Requirement already satisfied: sympy in /apps/pytorch/2.0.1/lib/python3.10/site-packages (from torch>=1.13.0->peft==0.4.0) (1.12)\n",
      "Requirement already satisfied: networkx in /apps/pytorch/2.0.1/lib/python3.10/site-packages (from torch>=1.13.0->peft==0.4.0) (3.1)\n",
      "Requirement already satisfied: jinja2 in /apps/pytorch/2.0.1/lib/python3.10/site-packages (from torch>=1.13.0->peft==0.4.0) (3.1.2)\n",
      "Requirement already satisfied: python-dateutil>=2.8.2 in /apps/pytorch/2.0.1/lib/python3.10/site-packages (from pandas->datasets==2.13.0) (2.8.2)\n",
      "Requirement already satisfied: pytz>=2020.1 in /apps/pytorch/2.0.1/lib/python3.10/site-packages (from pandas->datasets==2.13.0) (2023.3)\n",
      "Requirement already satisfied: tzdata>=2022.1 in /home/sosa.s/.local/lib/python3.10/site-packages (from pandas->datasets==2.13.0) (2023.3)\n",
      "Requirement already satisfied: smmap<6,>=3.0.1 in /home/sosa.s/.local/lib/python3.10/site-packages (from gitdb<5,>=4.0.1->GitPython!=3.1.29,>=1.0.0->wandb) (5.0.1)\n",
      "Requirement already satisfied: parso<0.9.0,>=0.8.0 in /apps/pytorch/2.0.1/lib/python3.10/site-packages (from jedi>=0.16->ipython>=6.1.0->ipywidgets) (0.8.3)\n",
      "Requirement already satisfied: ptyprocess>=0.5 in /apps/pytorch/2.0.1/lib/python3.10/site-packages (from pexpect>4.3->ipython>=6.1.0->ipywidgets) (0.7.0)\n",
      "Requirement already satisfied: wcwidth in /apps/pytorch/2.0.1/lib/python3.10/site-packages (from prompt-toolkit!=3.0.37,<3.1.0,>=3.0.30->ipython>=6.1.0->ipywidgets) (0.2.6)\n",
      "Requirement already satisfied: MarkupSafe>=2.0 in /apps/pytorch/2.0.1/lib/python3.10/site-packages (from jinja2->torch>=1.13.0->peft==0.4.0) (2.1.2)\n",
      "Requirement already satisfied: executing>=1.2.0 in /apps/pytorch/2.0.1/lib/python3.10/site-packages (from stack-data->ipython>=6.1.0->ipywidgets) (1.2.0)\n",
      "Requirement already satisfied: asttokens>=2.1.0 in /apps/pytorch/2.0.1/lib/python3.10/site-packages (from stack-data->ipython>=6.1.0->ipywidgets) (2.2.1)\n",
      "Requirement already satisfied: pure-eval in /apps/pytorch/2.0.1/lib/python3.10/site-packages (from stack-data->ipython>=6.1.0->ipywidgets) (0.2.2)\n",
      "Requirement already satisfied: mpmath>=0.19 in /apps/pytorch/2.0.1/lib/python3.10/site-packages (from sympy->torch>=1.13.0->peft==0.4.0) (1.3.0)\n",
      "Defaulting to user installation because normal site-packages is not writeable\n",
      "Requirement already satisfied: ninja in /home/sosa.s/.local/lib/python3.10/site-packages (1.11.1.1)\n",
      "Requirement already satisfied: packaging in /apps/pytorch/2.0.1/lib/python3.10/site-packages (23.1)\n",
      "Defaulting to user installation because normal site-packages is not writeable\n",
      "Requirement already satisfied: flash-attn in /home/sosa.s/.local/lib/python3.10/site-packages (2.3.3)\n",
      "Requirement already satisfied: torch in /apps/pytorch/2.0.1/lib/python3.10/site-packages (from flash-attn) (2.0.1)\n",
      "Requirement already satisfied: einops in /home/sosa.s/.local/lib/python3.10/site-packages (from flash-attn) (0.7.0)\n",
      "Requirement already satisfied: packaging in /apps/pytorch/2.0.1/lib/python3.10/site-packages (from flash-attn) (23.1)\n",
      "Requirement already satisfied: ninja in /home/sosa.s/.local/lib/python3.10/site-packages (from flash-attn) (1.11.1.1)\n",
      "Requirement already satisfied: filelock in /apps/pytorch/2.0.1/lib/python3.10/site-packages (from torch->flash-attn) (3.12.0)\n",
      "Requirement already satisfied: typing-extensions in /apps/pytorch/2.0.1/lib/python3.10/site-packages (from torch->flash-attn) (4.5.0)\n",
      "Requirement already satisfied: sympy in /apps/pytorch/2.0.1/lib/python3.10/site-packages (from torch->flash-attn) (1.12)\n",
      "Requirement already satisfied: networkx in /apps/pytorch/2.0.1/lib/python3.10/site-packages (from torch->flash-attn) (3.1)\n",
      "Requirement already satisfied: jinja2 in /apps/pytorch/2.0.1/lib/python3.10/site-packages (from torch->flash-attn) (3.1.2)\n",
      "Requirement already satisfied: MarkupSafe>=2.0 in /apps/pytorch/2.0.1/lib/python3.10/site-packages (from jinja2->torch->flash-attn) (2.1.2)\n",
      "Requirement already satisfied: mpmath>=0.19 in /apps/pytorch/2.0.1/lib/python3.10/site-packages (from sympy->torch->flash-attn) (1.3.0)\n"
     ]
    }
   ],
   "source": [
    "!pip install \"transformers==4.34.0\" \"datasets==2.13.0\" \"peft==0.4.0\" \"accelerate==0.23.0\" \"bitsandbytes==0.41.1\" \"trl==0.4.7\" \"safetensors>=0.3.1\" ipywidgets wandb --upgrade\n",
    "!python -c \"import torch; assert torch.cuda.get_device_capability()[0] >= 8, 'Hardware not supported for Flash Attention'\"\n",
    "!pip install ninja packaging\n",
    "!MAX_JOBS=1 pip install flash-attn --no-build-isolation"
   ]
  },
  {
   "cell_type": "code",
   "execution_count": 2,
   "id": "2afb05ca-9182-4431-b115-0dcae7ddee89",
   "metadata": {},
   "outputs": [],
   "source": [
    "# add parent directory to path\n",
    "import sys\n",
    "import os\n",
    "\n",
    "project_dir = os.getcwd()\n",
    "parent_dir = os.path.dirname(project_dir)\n",
    "sys.path.insert(0, parent_dir)"
   ]
  },
  {
   "cell_type": "code",
   "execution_count": 3,
   "id": "06c7a53d",
   "metadata": {},
   "outputs": [
    {
     "name": "stderr",
     "output_type": "stream",
     "text": [
      "Failed to detect the name of this notebook, you can set it manually with the WANDB_NOTEBOOK_NAME environment variable to enable code saving.\n",
      "\u001b[34m\u001b[1mwandb\u001b[0m: Currently logged in as: \u001b[33msebastiansosa\u001b[0m. Use \u001b[1m`wandb login --relogin`\u001b[0m to force relogin\n"
     ]
    },
    {
     "data": {
      "text/html": [
       "Tracking run with wandb version 0.16.0"
      ],
      "text/plain": [
       "<IPython.core.display.HTML object>"
      ]
     },
     "metadata": {},
     "output_type": "display_data"
    },
    {
     "data": {
      "text/html": [
       "Run data is saved locally in <code>/home/sosa.s/gaitor_function_calling/wandb/run-20231204_234823-llama-7-chat-instruction-pre_ft-op_glaive-few_shot</code>"
      ],
      "text/plain": [
       "<IPython.core.display.HTML object>"
      ]
     },
     "metadata": {},
     "output_type": "display_data"
    },
    {
     "data": {
      "text/html": [
       "Syncing run <strong><a href='https://wandb.ai/sebastiansosa/function_calling/runs/llama-7-chat-instruction-pre_ft-op_glaive-few_shot' target=\"_blank\">llama-7-chat-instruction-pre_ft-op_glaive-few_shot</a></strong> to <a href='https://wandb.ai/sebastiansosa/function_calling' target=\"_blank\">Weights & Biases</a> (<a href='https://wandb.me/run' target=\"_blank\">docs</a>)<br/>"
      ],
      "text/plain": [
       "<IPython.core.display.HTML object>"
      ]
     },
     "metadata": {},
     "output_type": "display_data"
    },
    {
     "data": {
      "text/html": [
       " View project at <a href='https://wandb.ai/sebastiansosa/function_calling' target=\"_blank\">https://wandb.ai/sebastiansosa/function_calling</a>"
      ],
      "text/plain": [
       "<IPython.core.display.HTML object>"
      ]
     },
     "metadata": {},
     "output_type": "display_data"
    },
    {
     "data": {
      "text/html": [
       " View run at <a href='https://wandb.ai/sebastiansosa/function_calling/runs/llama-7-chat-instruction-pre_ft-op_glaive-few_shot' target=\"_blank\">https://wandb.ai/sebastiansosa/function_calling/runs/llama-7-chat-instruction-pre_ft-op_glaive-few_shot</a>"
      ],
      "text/plain": [
       "<IPython.core.display.HTML object>"
      ]
     },
     "metadata": {},
     "output_type": "display_data"
    },
    {
     "data": {
      "application/vnd.jupyter.widget-view+json": {
       "model_id": "26a3eb520fc6449a9181ea1b03c7c199",
       "version_major": 2,
       "version_minor": 0
      },
      "text/plain": [
       "VBox(children=(HTML(value='<center> <img\\nsrc=https://huggingface.co/front/assets/huggingface_logo-noborder.sv…"
      ]
     },
     "metadata": {},
     "output_type": "display_data"
    }
   ],
   "source": [
    "# configs\n",
    "from huggingface_hub import notebook_login\n",
    "import wandb\n",
    "\n",
    "model_id = \"meta-llama/Llama-2-7b-chat-hf\"\n",
    "output_dir = \"llama-7-chat-instruction-pre_ft-op_glaive-few_shot\"\n",
    "hub_model_id = f\"SebastianS/{output_dir}\"\n",
    "wandb.init(project=\"function_calling\", id=output_dir, entity=\"sebastiansosa\", notes=\"Evaluated over a range of 3 shots on the shuffled op_glaive dataset.\")\n",
    "wandb.define_metric(\"fc_combine\", goal=\"maximize\")\n",
    "wandb.define_metric(\"exact_match\", goal=\"maximize\")\n",
    "wandb.define_metric(\"perplexity\", goal=\"minimize\")\n",
    "wandb.define_metric(\"epoch\")\n",
    "notebook_login()"
   ]
  },
  {
   "cell_type": "code",
   "execution_count": 4,
   "id": "f28e9a4e-be1b-437c-8111-99b02cd496c8",
   "metadata": {
    "tags": []
   },
   "outputs": [],
   "source": [
    "# # Build files\n",
    "# import json\n",
    "# from gaitor_function_calling.data.data_utils import DataAbstractor\n",
    "# from gaitor_function_calling.data.prompting_utils import INSTRUCTION, parse_prompt_back_to_data\n",
    "\n",
    "# shot = 4\n",
    "# data_abstractor = DataAbstractor(\"op_glaive_10k-test.json\", f\"pre_ft_eval-{shot}_shot\")\n",
    "# train, test = data_abstractor.build_data(INSTRUCTION, False, 1, shot)\n",
    "# data_abstractor.save(data_abstractor.raw_data, train, test)"
   ]
  },
  {
   "cell_type": "code",
   "execution_count": 5,
   "id": "f1e4cd8e",
   "metadata": {},
   "outputs": [
    {
     "name": "stdout",
     "output_type": "stream",
     "text": [
      "No test data found\n",
      "No test data found\n",
      "No test data found\n",
      "No test data found\n"
     ]
    },
    {
     "data": {
      "text/plain": [
       "[DatasetDict({\n",
       "     train: Dataset({\n",
       "         features: ['text'],\n",
       "         num_rows: 30\n",
       "     })\n",
       "     test: Dataset({\n",
       "         features: [],\n",
       "         num_rows: 0\n",
       "     })\n",
       " }),\n",
       " DatasetDict({\n",
       "     train: Dataset({\n",
       "         features: ['text'],\n",
       "         num_rows: 30\n",
       "     })\n",
       "     test: Dataset({\n",
       "         features: [],\n",
       "         num_rows: 0\n",
       "     })\n",
       " }),\n",
       " DatasetDict({\n",
       "     train: Dataset({\n",
       "         features: ['text'],\n",
       "         num_rows: 30\n",
       "     })\n",
       "     test: Dataset({\n",
       "         features: [],\n",
       "         num_rows: 0\n",
       "     })\n",
       " }),\n",
       " DatasetDict({\n",
       "     train: Dataset({\n",
       "         features: ['text'],\n",
       "         num_rows: 30\n",
       "     })\n",
       "     test: Dataset({\n",
       "         features: [],\n",
       "         num_rows: 0\n",
       "     })\n",
       " })]"
      ]
     },
     "execution_count": 5,
     "metadata": {},
     "output_type": "execute_result"
    }
   ],
   "source": [
    "# get data and convert to Datasets format\n",
    "import pandas as pd\n",
    "from datasets import Dataset, DatasetDict\n",
    "from gaitor_function_calling.data.data_utils import DataAbstractor\n",
    "from gaitor_function_calling.data.prompting_utils import INSTRUCTION\n",
    "dataset_dicts = []\n",
    "for i in range(0, 4):\n",
    "    data_abstractor = DataAbstractor(\"op_glaive_10k-test.json\", f\"pre_ft_eval-{i}_shot\")\n",
    "\n",
    "    train_df = pd.DataFrame(data_abstractor.train_data)\n",
    "    test_df = pd.DataFrame(data_abstractor.test_data)\n",
    "\n",
    "    train_dataset = Dataset.from_pandas(train_df)\n",
    "    test_dataset = Dataset.from_pandas(test_df)\n",
    "\n",
    "    dataset_dict = DatasetDict({\n",
    "        'train': train_dataset,\n",
    "        'test': test_dataset\n",
    "    })\n",
    "    dataset_dicts.append(dataset_dict)\n",
    "\n",
    "dataset_dicts"
   ]
  },
  {
   "cell_type": "code",
   "execution_count": 6,
   "id": "baf42525",
   "metadata": {},
   "outputs": [],
   "source": [
    "# setup metrics and evaluation\n",
    "import json\n",
    "from transformers import EvalPrediction\n",
    "from gaitor_function_calling.evaluation.evaluation_utils import FunctionCallingMetric, compute_perplexity, get_logits_and_labels\n",
    "from gaitor_function_calling.data.prompting_utils import INSTRUCTION, json_arguments_from_prompt, generate_prediction\n",
    "import numpy as np\n",
    "\n",
    "fc_metric = FunctionCallingMetric()\n",
    "def config_compute_metrics(tokenizer):\n",
    "    def compute_metrics(pred: EvalPrediction):\n",
    "        # pred.predictions are a batch of logits\n",
    "        # pred.label_ids are a batch of tokens\n",
    "        token_ids = np.argmax(pred.predictions, axis=-1)\n",
    "        predictions = tokenizer.batch_decode(token_ids, skip_special_tokens=False)\n",
    "        labels = tokenizer.batch_decode(pred.label_ids, skip_special_tokens=False)\n",
    "        \n",
    "        \n",
    "    \n",
    "        # Now use your metric class\n",
    "        fc_result = fc_metric.run(predictions, labels)  # Implement this method in your class\n",
    "    \n",
    "        return {\n",
    "            \"fc_combine\": fc_result\n",
    "        }\n",
    "    return compute_metrics\n",
    "\n",
    "def custom_evaluation(eval_dataset, model, tokenizer, epoch, save_prompts_path=False):\n",
    "    print(\"Starting custom evaluation.\")\n",
    "    model.eval()  # Set the model to evaluation mode\n",
    "    results = {}\n",
    "\n",
    "    fc_results = []\n",
    "    exact_match_results = []\n",
    "    perplexity_results = []\n",
    "\n",
    "\n",
    "    if save_prompts_path:\n",
    "        try:\n",
    "            with open(save_prompts_path, \"r\") as f:\n",
    "                dpo_data = json.load(f)\n",
    "        except:\n",
    "            dpo_data = []\n",
    "\n",
    "\n",
    "    for idx, example in enumerate(eval_dataset):\n",
    "        print(f\"Example {idx}: \", end=\"\")\n",
    "        post_message = \"\"\n",
    "        \n",
    "        # Custom Function Calling metric\n",
    "        prompts = None\n",
    "        try:\n",
    "            generated_str = generate_prediction(example[\"text\"], model, tokenizer, INSTRUCTION)\n",
    "            generated_arguments, expected_arguments, prompts = json_arguments_from_prompt(\n",
    "                example[\"text\"],\n",
    "                generated_str,\n",
    "                INSTRUCTION,\n",
    "                {\"idx\": idx, \"epoch\": epoch}\n",
    "            )\n",
    "            fc_result = fc_metric.run(generated_arguments, expected_arguments)\n",
    "\n",
    "            fc_results.append(fc_result)\n",
    "\n",
    "            if save_prompts_path:\n",
    "                # add prompts to dpo_data.json\n",
    "                dpo_data.append({\n",
    "                    \"fc_result\": fc_result,\n",
    "                    **prompts\n",
    "                })\n",
    "                with open(save_prompts_path, \"w\") as f:\n",
    "                    json.dump(dpo_data, f)\n",
    "        except Exception as e:\n",
    "            post_message += f\"Error function calling: {e}\\n\"\n",
    "            fc_results.append(0)\n",
    "\n",
    "        # exact match metric\n",
    "        if prompts:\n",
    "            exact_match_res = fc_metric._sentence_similarity(prompts[\"expected_str\"].split(\"[/INST]\")[-1], prompts[\"generated_str\"].split(\"[/INST]\")[-1])\n",
    "            exact_match_results.append(exact_match_res)\n",
    "        else:\n",
    "            exact_match_results.append(0)\n",
    "\n",
    "        # perplexity metric\n",
    "        try:\n",
    "            logits, labels = get_logits_and_labels(example[\"text\"], model, tokenizer)\n",
    "            perplexity = compute_perplexity(logits[..., :-1, :], labels).item()\n",
    "            perplexity_results.append(perplexity)\n",
    "        except Exception as e:\n",
    "            post_message += f\"Error perplexity: {e}\\n\"\n",
    "            # perplexity_results.append(float('inf'))\n",
    "\n",
    "        example_metric = {\n",
    "            \"fc_combine\": fc_results[-1],\n",
    "            \"exact_match\": exact_match_results[-1],\n",
    "            \"perplexity\": perplexity_results[-1] if len(perplexity_results) else None\n",
    "        }\n",
    "        print(example_metric)\n",
    "        if post_message:\n",
    "            print(post_message)\n",
    "        \n",
    "    results[\"fc_combine\"] =  sum(fc_results) / len(fc_results)\n",
    "    results[\"exact_match\"] =  sum(exact_match_results) / len(exact_match_results)\n",
    "    results[\"perplexity\"] =  sum(perplexity_results) / len(perplexity_results) if len(perplexity_results) else 1\n",
    "\n",
    "    return results"
   ]
  },
  {
   "cell_type": "code",
   "execution_count": 7,
   "id": "5bffffa3",
   "metadata": {},
   "outputs": [
    {
     "data": {
      "application/vnd.jupyter.widget-view+json": {
       "model_id": "185a7b6038fd4bc6955676d37e85dea7",
       "version_major": 2,
       "version_minor": 0
      },
      "text/plain": [
       "Loading checkpoint shards:   0%|          | 0/2 [00:00<?, ?it/s]"
      ]
     },
     "metadata": {},
     "output_type": "display_data"
    }
   ],
   "source": [
    "# base LLM model and tokenizer\n",
    "import torch\n",
    "from transformers import AutoTokenizer, AutoModelForCausalLM, BitsAndBytesConfig\n",
    "\n",
    "# Load model and tokenizer\n",
    "model = AutoModelForCausalLM.from_pretrained(\n",
    "    model_id,\n",
    "    use_cache=False,\n",
    "    device_map=\"auto\",\n",
    ")\n",
    "tokenizer = AutoTokenizer.from_pretrained(model_id)\n",
    "tokenizer.pad_token = tokenizer.eos_token\n",
    "tokenizer.padding_side = \"right\""
   ]
  },
  {
   "cell_type": "code",
   "execution_count": 8,
   "id": "acd0f696",
   "metadata": {
    "scrolled": true
   },
   "outputs": [
    {
     "name": "stderr",
     "output_type": "stream",
     "text": [
      "Asking to truncate to max_length but no maximum length is provided and the model has no predefined maximum length. Default to no truncation.\n"
     ]
    },
    {
     "name": "stdout",
     "output_type": "stream",
     "text": [
      "Starting evaluation 0 shot.\n",
      "Starting custom evaluation.\n",
      "Example 0: {'fc_combine': 1.0, 'exact_match': 0.8076157569885254, 'perplexity': 7.743117809295654}\n",
      "Example 1: {'fc_combine': 0, 'exact_match': 0, 'perplexity': 6.452919006347656}\n",
      "Error function calling: No function call found in generated data\n",
      "\n",
      "Example 2: {'fc_combine': 0, 'exact_match': 0, 'perplexity': 9.793402671813965}\n",
      "Error function calling: No function call found in generated data\n",
      "\n",
      "Example 3: {'fc_combine': 1.0, 'exact_match': 0.8533190488815308, 'perplexity': 7.398660182952881}\n",
      "Example 4: {'fc_combine': 1.0, 'exact_match': 0.7947900891304016, 'perplexity': 8.484703063964844}\n",
      "Example 5: {'fc_combine': 0, 'exact_match': 0, 'perplexity': 8.992287635803223}\n",
      "Error function calling: Expecting value: line 1 column 1 (char 0)\n",
      "\n",
      "Example 6: {'fc_combine': 1.0, 'exact_match': 0.855522632598877, 'perplexity': 7.132600784301758}\n",
      "Example 7: {'fc_combine': 1.0, 'exact_match': 0.7608612775802612, 'perplexity': 5.263855457305908}\n",
      "Example 8: {'fc_combine': 1.0, 'exact_match': 0.8521881699562073, 'perplexity': 7.586121559143066}\n",
      "Example 9: {'fc_combine': 0.04677168279886246, 'exact_match': 0.6908673644065857, 'perplexity': 5.751138687133789}\n",
      "Example 10: {'fc_combine': 0, 'exact_match': 0, 'perplexity': 8.110025405883789}\n",
      "Error function calling: Unterminated string starting at: line 1 column 15 (char 14)\n",
      "\n",
      "Example 11: {'fc_combine': 0, 'exact_match': 0, 'perplexity': 10.423816680908203}\n",
      "Error function calling: No function call found in generated data\n",
      "\n",
      "Example 12: {'fc_combine': 0, 'exact_match': 0, 'perplexity': 8.626799583435059}\n",
      "Error function calling: Unterminated string starting at: line 1 column 38 (char 37)\n",
      "\n",
      "Example 13: {'fc_combine': 0, 'exact_match': 0, 'perplexity': 7.970914840698242}\n",
      "Error function calling: No function call found in generated data\n",
      "\n",
      "Example 14: {'fc_combine': 1.0, 'exact_match': 0.8496017456054688, 'perplexity': 7.546274662017822}\n",
      "Example 15: {'fc_combine': 1.0, 'exact_match': 0.9044886231422424, 'perplexity': 7.391140937805176}\n",
      "Example 16: {'fc_combine': 0.9238770802815756, 'exact_match': 0.7198395729064941, 'perplexity': 10.988744735717773}\n",
      "Example 17: {'fc_combine': 0.7839538305997849, 'exact_match': 0.8419902920722961, 'perplexity': 7.963399887084961}\n",
      "Example 18: {'fc_combine': 0, 'exact_match': 0, 'perplexity': 7.33864164352417}\n",
      "Error function calling: No function call found in generated data\n",
      "\n",
      "Example 19: {'fc_combine': 0, 'exact_match': 0, 'perplexity': 8.848766326904297}\n",
      "Error function calling: No function call found in generated data\n",
      "\n",
      "Example 20: {'fc_combine': 0, 'exact_match': 0, 'perplexity': 6.626285076141357}\n",
      "Error function calling: Extra data: line 1 column 12 (char 11)\n",
      "\n",
      "Example 21: {'fc_combine': 0, 'exact_match': 0, 'perplexity': 7.0838165283203125}\n",
      "Error function calling: No function call found in generated data\n",
      "\n",
      "Example 22: {'fc_combine': 0.9637727439403534, 'exact_match': 0.8897549510002136, 'perplexity': 6.240185260772705}\n",
      "Example 23: {'fc_combine': 0, 'exact_match': 0, 'perplexity': 9.830068588256836}\n",
      "Error function calling: No function call found in generated data\n",
      "\n",
      "Example 24: {'fc_combine': 0, 'exact_match': 0, 'perplexity': 8.565959930419922}\n",
      "Error function calling: Unterminated string starting at: line 1 column 35 (char 34)\n",
      "\n",
      "Example 25: {'fc_combine': 0, 'exact_match': 0, 'perplexity': 6.409880638122559}\n",
      "Error function calling: Unterminated string starting at: line 1 column 57 (char 56)\n",
      "\n",
      "Example 26: {'fc_combine': 1.0, 'exact_match': 1, 'perplexity': 8.008461952209473}\n",
      "Example 27: {'fc_combine': 0, 'exact_match': 0, 'perplexity': 7.744955062866211}\n",
      "Error function calling: No function call found in generated data\n",
      "\n",
      "Example 28: {'fc_combine': 0, 'exact_match': 0, 'perplexity': 8.830925941467285}\n",
      "Error function calling: No function call found in generated data\n",
      "\n",
      "Example 29: {'fc_combine': 0, 'exact_match': 0, 'perplexity': 8.138313293457031}\n",
      "Error function calling: No function call found in generated data\n",
      "\n",
      "Evaluation results: {'fc_combine': 0.39061251125401925, 'exact_match': 0.3606946508089701, 'perplexity': 7.909539461135864}\n",
      "Starting evaluation 1 shot.\n",
      "Starting custom evaluation.\n",
      "Example 0: {'fc_combine': 1.0, 'exact_match': 0.9790138602256775, 'perplexity': 6.568636417388916}\n",
      "Example 1: {'fc_combine': 1.0, 'exact_match': 1, 'perplexity': 5.6670732498168945}\n",
      "Example 2: {'fc_combine': 1.0, 'exact_match': 1, 'perplexity': 7.3979387283325195}\n",
      "Example 3: {'fc_combine': 1.0, 'exact_match': 0.98606276512146, 'perplexity': 6.266497611999512}\n",
      "Example 4: {'fc_combine': 1.0, 'exact_match': 0.9530099034309387, 'perplexity': 6.761682987213135}\n",
      "Example 5: {'fc_combine': 0.7463811039924622, 'exact_match': 0.9868724942207336, 'perplexity': 7.4163336753845215}\n",
      "Example 6: {'fc_combine': 1.0, 'exact_match': 1, 'perplexity': 6.017596244812012}\n",
      "Example 7: {'fc_combine': 1.0, 'exact_match': 1, 'perplexity': 5.060938835144043}\n",
      "Example 8: {'fc_combine': 1.0, 'exact_match': 1, 'perplexity': 6.619758605957031}\n",
      "Example 9: {'fc_combine': 0.8613796949386596, 'exact_match': 0.8272776007652283, 'perplexity': 5.612168788909912}\n",
      "Example 10: {'fc_combine': 1.0, 'exact_match': 0.9416223764419556, 'perplexity': 6.607697486877441}\n",
      "Example 11: {'fc_combine': 0.9457772970199585, 'exact_match': 0.9965621829032898, 'perplexity': 7.631353378295898}\n",
      "Example 12: {'fc_combine': 0.7712782137095928, 'exact_match': 0.979951798915863, 'perplexity': 6.944064140319824}\n",
      "Example 13: {'fc_combine': 0.6049936935305595, 'exact_match': 0.9425152540206909, 'perplexity': 6.549403667449951}\n",
      "Example 14: {'fc_combine': 1.0, 'exact_match': 1, 'perplexity': 6.373039722442627}\n",
      "Example 15: {'fc_combine': 1.0, 'exact_match': 0.9115166664123535, 'perplexity': 6.260659217834473}\n",
      "Example 16: {'fc_combine': 0.8735008041063944, 'exact_match': 0.9585146307945251, 'perplexity': 8.825284957885742}\n",
      "Example 17: {'fc_combine': 0.8393456414341927, 'exact_match': 0.9609563946723938, 'perplexity': 6.738513946533203}\n",
      "Example 18: {'fc_combine': 0.75, 'exact_match': 0.9920473694801331, 'perplexity': 6.296906471252441}\n",
      "Example 19: {'fc_combine': 0.7430389523506165, 'exact_match': 0.9927647113800049, 'perplexity': 7.049091339111328}\n",
      "Example 20: {'fc_combine': 0.6398976693550745, 'exact_match': 0.8966225385665894, 'perplexity': 5.838489532470703}\n",
      "Example 21: {'fc_combine': 1.0, 'exact_match': 1, 'perplexity': 6.108517646789551}\n",
      "Example 22: {'fc_combine': 0.9637727439403534, 'exact_match': 0.9982473850250244, 'perplexity': 5.525293350219727}\n",
      "Example 23: {'fc_combine': 0.6431295722723007, 'exact_match': 0.9261962175369263, 'perplexity': 7.376536846160889}\n",
      "Example 24: {'fc_combine': 1.0, 'exact_match': 1, 'perplexity': 6.811517715454102}\n",
      "Example 25: {'fc_combine': 1.0, 'exact_match': 1, 'perplexity': 5.563912391662598}\n",
      "Example 26: {'fc_combine': 1.0, 'exact_match': 1, 'perplexity': 6.590552806854248}\n",
      "Example 27: {'fc_combine': 1.0, 'exact_match': 1, 'perplexity': 6.485774040222168}\n",
      "Example 28: {'fc_combine': 0.7618856877088547, 'exact_match': 0.903213620185852, 'perplexity': 7.061246395111084}\n",
      "Example 29: {'fc_combine': 0.5, 'exact_match': 0.9872071743011475, 'perplexity': 6.824376106262207}\n",
      "Evaluation results: {'fc_combine': 0.8881460358119674, 'exact_match': 0.9706724981466929, 'perplexity': 6.561695210138956}\n",
      "Starting evaluation 2 shot.\n",
      "Starting custom evaluation.\n",
      "Example 0: {'fc_combine': 1.0, 'exact_match': 1, 'perplexity': 4.408565521240234}\n",
      "Example 1: {'fc_combine': 1.0, 'exact_match': 1, 'perplexity': 4.085172176361084}\n",
      "Example 2: {'fc_combine': 1.0, 'exact_match': 1, 'perplexity': 4.694638729095459}\n",
      "Example 3: {'fc_combine': 1.0, 'exact_match': 0.98606276512146, 'perplexity': 4.300328731536865}\n",
      "Example 4: {'fc_combine': 1.0, 'exact_match': 0.9920730590820312, 'perplexity': 4.480615139007568}\n",
      "Example 5: {'fc_combine': 0.767734944820404, 'exact_match': 0.9904053211212158, 'perplexity': 4.7605509757995605}\n",
      "Example 6: {'fc_combine': 1.0, 'exact_match': 1, 'perplexity': 4.157138347625732}\n",
      "Example 7: {'fc_combine': 1.0, 'exact_match': 1, 'perplexity': 3.9035747051239014}\n",
      "Example 8: {'fc_combine': 0.75, 'exact_match': 0.9883381724357605, 'perplexity': 4.420799255371094}\n",
      "Example 9: {'fc_combine': 0.8536777973175049, 'exact_match': 0.9707345366477966, 'perplexity': 4.569732666015625}\n",
      "Example 10: {'fc_combine': 1.0, 'exact_match': 0.9920730590820312, 'perplexity': 4.429669380187988}\n",
      "Example 11: {'fc_combine': 0.9457772970199585, 'exact_match': 0.9965621829032898, 'perplexity': 4.764244079589844}\n",
      "Example 12: {'fc_combine': 0.7712782137095928, 'exact_match': 0.979951798915863, 'perplexity': 4.497302532196045}\n",
      "Example 13: {'fc_combine': 0.6048418208956718, 'exact_match': 0.9366954565048218, 'perplexity': 4.448683261871338}\n",
      "Example 14: {'fc_combine': 1.0, 'exact_match': 1, 'perplexity': 4.278147220611572}\n",
      "Example 15: {'fc_combine': 1.0, 'exact_match': 1, 'perplexity': 4.2218523025512695}\n",
      "Example 16: {'fc_combine': 0.9008355140686035, 'exact_match': 0.9248445630073547, 'perplexity': 5.703675270080566}\n",
      "Example 17: {'fc_combine': 0.8609717562794685, 'exact_match': 0.9691950082778931, 'perplexity': 4.5153656005859375}\n",
      "Example 18: {'fc_combine': 0.75, 'exact_match': 0.9920473694801331, 'perplexity': 4.353315353393555}\n",
      "Example 19: {'fc_combine': 0.7430389523506165, 'exact_match': 0.9927647113800049, 'perplexity': 4.598328590393066}\n",
      "Example 20: {'fc_combine': 0.6946399013201395, 'exact_match': 0.8904319405555725, 'perplexity': 4.175485134124756}\n",
      "Example 21: {'fc_combine': 1.0, 'exact_match': 1, 'perplexity': 4.194060325622559}\n",
      "Example 22: {'fc_combine': 0.9637727439403534, 'exact_match': 0.9982473850250244, 'perplexity': 4.030029773712158}\n",
      "Example 23: {'fc_combine': 0.6431295722723007, 'exact_match': 0.9261962175369263, 'perplexity': 4.697117328643799}\n",
      "Example 24: {'fc_combine': 1.0, 'exact_match': 1, 'perplexity': 4.432301998138428}\n",
      "Example 25: {'fc_combine': 1.0, 'exact_match': 1, 'perplexity': 4.012995719909668}\n",
      "Example 26: {'fc_combine': 1.0, 'exact_match': 1, 'perplexity': 4.481260299682617}\n",
      "Example 27: {'fc_combine': 1.0, 'exact_match': 1, 'perplexity': 4.342164993286133}\n",
      "Example 28: {'fc_combine': 0.758289746940136, 'exact_match': 0.9088730812072754, 'perplexity': 4.642266273498535}\n",
      "Example 29: {'fc_combine': 0.5, 'exact_match': 0.9872071743011475, 'perplexity': 4.496044158935547}\n",
      "Evaluation results: {'fc_combine': 0.8835996086978251, 'exact_match': 0.98075679341952, 'perplexity': 4.436514194806417}\n",
      "Starting evaluation 3 shot.\n",
      "Starting custom evaluation.\n",
      "Example 0: {'fc_combine': 1.0, 'exact_match': 1, 'perplexity': 4.25546932220459}\n",
      "Example 1: {'fc_combine': 1.0, 'exact_match': 1, 'perplexity': 4.056113243103027}\n",
      "Example 2: {'fc_combine': 1.0, 'exact_match': 1, 'perplexity': 4.384119033813477}\n",
      "Example 3: {'fc_combine': 1.0, 'exact_match': 0.98606276512146, 'perplexity': 4.205271244049072}\n",
      "Example 4: {'fc_combine': 1.0, 'exact_match': 0.9848805665969849, 'perplexity': 4.273706912994385}\n",
      "Example 5: {'fc_combine': 0.6323260813951492, 'exact_match': 0.9692820906639099, 'perplexity': 4.414569854736328}\n",
      "Example 6: {'fc_combine': 1.0, 'exact_match': 1, 'perplexity': 4.129882335662842}\n",
      "Example 7: {'fc_combine': 1.0, 'exact_match': 1, 'perplexity': 3.9026260375976562}\n",
      "Example 8: {'fc_combine': 0.75, 'exact_match': 0.9883381724357605, 'perplexity': 4.289926528930664}\n",
      "Example 9: {'fc_combine': 1.0, 'exact_match': 0.8705899119377136, 'perplexity': 3.0049593448638916}\n",
      "Example 10: {'fc_combine': 1.0, 'exact_match': 0.9922929406166077, 'perplexity': 4.237127780914307}\n",
      "Example 11: {'fc_combine': 0.9457772970199585, 'exact_match': 0.9965621829032898, 'perplexity': 4.455605983734131}\n",
      "Example 12: {'fc_combine': 0.7712782137095928, 'exact_match': 0.979951798915863, 'perplexity': 4.321896553039551}\n",
      "Example 13: {'fc_combine': 0.6048418208956718, 'exact_match': 0.9366954565048218, 'perplexity': 4.2384352684021}\n",
      "Example 14: {'fc_combine': 1.0, 'exact_match': 1, 'perplexity': 4.161059379577637}\n",
      "Example 15: {'fc_combine': 1.0, 'exact_match': 1, 'perplexity': 4.133238315582275}\n",
      "Example 16: {'fc_combine': 0.9008355140686035, 'exact_match': 0.9248445630073547, 'perplexity': 4.812421798706055}\n",
      "Example 17: {'fc_combine': 0.8609717562794685, 'exact_match': 0.9691950082778931, 'perplexity': 4.269768238067627}\n",
      "Example 18: {'fc_combine': 0.75, 'exact_match': 0.9920473694801331, 'perplexity': 4.219233989715576}\n",
      "Example 19: {'fc_combine': 0.9210615158081055, 'exact_match': 0.9068795442581177, 'perplexity': 4.333327770233154}\n",
      "Example 20: {'fc_combine': 0.7654711355765661, 'exact_match': 0.9071955680847168, 'perplexity': 4.11613130569458}\n",
      "Example 21: {'fc_combine': 1.0, 'exact_match': 1, 'perplexity': 4.099763870239258}\n",
      "Example 22: {'fc_combine': 0.9637727439403534, 'exact_match': 0.9982473850250244, 'perplexity': 4.078022480010986}\n",
      "Example 23: {'fc_combine': 0.6431295722723007, 'exact_match': 0.9261962175369263, 'perplexity': 4.369754314422607}\n",
      "Example 24: {'fc_combine': 0.9247584491968155, 'exact_match': 0.9980868697166443, 'perplexity': 4.374091625213623}\n",
      "Example 25: {'fc_combine': 1.0, 'exact_match': 1, 'perplexity': 4.009688377380371}\n",
      "Example 26: {'fc_combine': 1.0, 'exact_match': 1, 'perplexity': 4.300445556640625}\n",
      "Example 27: {'fc_combine': 1.0, 'exact_match': 1, 'perplexity': 4.188972473144531}\n",
      "Example 28: {'fc_combine': 0.8255300372838974, 'exact_match': 0.9315232634544373, 'perplexity': 4.358022689819336}\n",
      "Example 29: {'fc_combine': 0.5, 'exact_match': 0.9872071743011475, 'perplexity': 4.2714338302612305}\n",
      "Evaluation results: {'fc_combine': 0.8919918045815494, 'exact_match': 0.9748692949612935, 'perplexity': 4.2088361819585165}\n"
     ]
    }
   ],
   "source": [
    "for idx, dataset_dict in enumerate(dataset_dicts):\n",
    "    print(f\"Starting evaluation {idx} shot.\")\n",
    "    eval_result = custom_evaluation(dataset_dict[\"train\"], model, tokenizer, idx)\n",
    "    wandb.log({\"epoch\": idx, **eval_result})\n",
    "    print(f\"Evaluation results: {eval_result}\")"
   ]
  },
  {
   "cell_type": "code",
   "execution_count": 9,
   "id": "4bbb4d00-3bf0-4110-b1de-52a6c41c095e",
   "metadata": {
    "tags": []
   },
   "outputs": [
    {
     "data": {
      "application/vnd.jupyter.widget-view+json": {
       "model_id": "",
       "version_major": 2,
       "version_minor": 0
      },
      "text/plain": [
       "VBox(children=(Label(value='0.015 MB of 0.015 MB uploaded\\r'), FloatProgress(value=1.0, max=1.0)))"
      ]
     },
     "metadata": {},
     "output_type": "display_data"
    },
    {
     "name": "stderr",
     "output_type": "stream",
     "text": [
      "wandb: WARNING Source type is set to 'repo' but some required information is missing from the environment. A job will not be created from this run. See https://docs.wandb.ai/guides/launch/create-job\n"
     ]
    },
    {
     "data": {
      "text/html": [
       "<style>\n",
       "    table.wandb td:nth-child(1) { padding: 0 10px; text-align: left ; width: auto;} td:nth-child(2) {text-align: left ; width: 100%}\n",
       "    .wandb-row { display: flex; flex-direction: row; flex-wrap: wrap; justify-content: flex-start; width: 100% }\n",
       "    .wandb-col { display: flex; flex-direction: column; flex-basis: 100%; flex: 1; padding: 10px; }\n",
       "    </style>\n",
       "<div class=\"wandb-row\"><div class=\"wandb-col\"><h3>Run history:</h3><br/><table class=\"wandb\"><tr><td>epoch</td><td>▁▃▆█</td></tr><tr><td>exact_match</td><td>▁███</td></tr><tr><td>fc_combine</td><td>▁███</td></tr><tr><td>perplexity</td><td>█▅▁▁</td></tr></table><br/></div><div class=\"wandb-col\"><h3>Run summary:</h3><br/><table class=\"wandb\"><tr><td>epoch</td><td>3</td></tr><tr><td>exact_match</td><td>0.97487</td></tr><tr><td>fc_combine</td><td>0.89199</td></tr><tr><td>perplexity</td><td>4.20884</td></tr></table><br/></div></div>"
      ],
      "text/plain": [
       "<IPython.core.display.HTML object>"
      ]
     },
     "metadata": {},
     "output_type": "display_data"
    },
    {
     "data": {
      "text/html": [
       " View run <strong style=\"color:#cdcd00\">llama-7-chat-instruction-pre_ft-op_glaive-few_shot</strong> at: <a href='https://wandb.ai/sebastiansosa/function_calling/runs/llama-7-chat-instruction-pre_ft-op_glaive-few_shot' target=\"_blank\">https://wandb.ai/sebastiansosa/function_calling/runs/llama-7-chat-instruction-pre_ft-op_glaive-few_shot</a><br/>Synced 5 W&B file(s), 0 media file(s), 0 artifact file(s) and 0 other file(s)"
      ],
      "text/plain": [
       "<IPython.core.display.HTML object>"
      ]
     },
     "metadata": {},
     "output_type": "display_data"
    },
    {
     "data": {
      "text/html": [
       "Find logs at: <code>./wandb/run-20231204_234823-llama-7-chat-instruction-pre_ft-op_glaive-few_shot/logs</code>"
      ],
      "text/plain": [
       "<IPython.core.display.HTML object>"
      ]
     },
     "metadata": {},
     "output_type": "display_data"
    }
   ],
   "source": [
    "wandb.finish()"
   ]
  }
 ],
 "metadata": {
  "kernelspec": {
   "display_name": "PyTorch-2.0.1",
   "language": "python",
   "name": "pytorch-2.0.1"
  },
  "language_info": {
   "codemirror_mode": {
    "name": "ipython",
    "version": 3
   },
   "file_extension": ".py",
   "mimetype": "text/x-python",
   "name": "python",
   "nbconvert_exporter": "python",
   "pygments_lexer": "ipython3",
   "version": "3.10.11"
  }
 },
 "nbformat": 4,
 "nbformat_minor": 5
}
