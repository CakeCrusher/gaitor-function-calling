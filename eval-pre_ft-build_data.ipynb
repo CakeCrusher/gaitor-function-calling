{
 "cells": [
  {
   "cell_type": "code",
   "execution_count": 1,
   "id": "091e1455-6621-4198-a135-886bf1950aa0",
   "metadata": {
    "scrolled": true
   },
   "outputs": [
    {
     "name": "stdout",
     "output_type": "stream",
     "text": [
      "Defaulting to user installation because normal site-packages is not writeable\n",
      "Requirement already satisfied: transformers==4.34.0 in /home/sosa.s/.local/lib/python3.10/site-packages (4.34.0)\n",
      "Requirement already satisfied: datasets==2.13.0 in /home/sosa.s/.local/lib/python3.10/site-packages (2.13.0)\n",
      "Requirement already satisfied: peft==0.4.0 in /home/sosa.s/.local/lib/python3.10/site-packages (0.4.0)\n",
      "Requirement already satisfied: accelerate==0.23.0 in /home/sosa.s/.local/lib/python3.10/site-packages (0.23.0)\n",
      "Requirement already satisfied: bitsandbytes==0.41.1 in /home/sosa.s/.local/lib/python3.10/site-packages (0.41.1)\n",
      "Requirement already satisfied: trl==0.4.7 in /home/sosa.s/.local/lib/python3.10/site-packages (0.4.7)\n",
      "Requirement already satisfied: safetensors>=0.3.1 in /home/sosa.s/.local/lib/python3.10/site-packages (0.4.0)\n",
      "Requirement already satisfied: ipywidgets in /home/sosa.s/.local/lib/python3.10/site-packages (8.1.1)\n",
      "Requirement already satisfied: wandb in /home/sosa.s/.local/lib/python3.10/site-packages (0.16.0)\n",
      "Requirement already satisfied: filelock in /apps/pytorch/2.0.1/lib/python3.10/site-packages (from transformers==4.34.0) (3.12.0)\n",
      "Requirement already satisfied: huggingface-hub<1.0,>=0.16.4 in /home/sosa.s/.local/lib/python3.10/site-packages (from transformers==4.34.0) (0.17.3)\n",
      "Requirement already satisfied: numpy>=1.17 in /apps/pytorch/2.0.1/lib/python3.10/site-packages (from transformers==4.34.0) (1.24.3)\n",
      "Requirement already satisfied: packaging>=20.0 in /apps/pytorch/2.0.1/lib/python3.10/site-packages (from transformers==4.34.0) (23.1)\n",
      "Requirement already satisfied: pyyaml>=5.1 in /apps/pytorch/2.0.1/lib/python3.10/site-packages (from transformers==4.34.0) (6.0.1)\n",
      "Requirement already satisfied: regex!=2019.12.17 in /home/sosa.s/.local/lib/python3.10/site-packages (from transformers==4.34.0) (2023.10.3)\n",
      "Requirement already satisfied: requests in /apps/pytorch/2.0.1/lib/python3.10/site-packages (from transformers==4.34.0) (2.29.0)\n",
      "Requirement already satisfied: tokenizers<0.15,>=0.14 in /home/sosa.s/.local/lib/python3.10/site-packages (from transformers==4.34.0) (0.14.1)\n",
      "Requirement already satisfied: tqdm>=4.27 in /apps/pytorch/2.0.1/lib/python3.10/site-packages (from transformers==4.34.0) (4.65.0)\n",
      "Requirement already satisfied: pyarrow>=8.0.0 in /home/sosa.s/.local/lib/python3.10/site-packages (from datasets==2.13.0) (14.0.0)\n",
      "Requirement already satisfied: dill<0.3.7,>=0.3.0 in /home/sosa.s/.local/lib/python3.10/site-packages (from datasets==2.13.0) (0.3.6)\n",
      "Requirement already satisfied: pandas in /home/sosa.s/.local/lib/python3.10/site-packages (from datasets==2.13.0) (2.1.3)\n",
      "Requirement already satisfied: xxhash in /home/sosa.s/.local/lib/python3.10/site-packages (from datasets==2.13.0) (3.4.1)\n",
      "Requirement already satisfied: multiprocess in /home/sosa.s/.local/lib/python3.10/site-packages (from datasets==2.13.0) (0.70.14)\n",
      "Requirement already satisfied: fsspec[http]>=2021.11.1 in /apps/pytorch/2.0.1/lib/python3.10/site-packages (from datasets==2.13.0) (2023.9.2)\n",
      "Requirement already satisfied: aiohttp in /apps/pytorch/2.0.1/lib/python3.10/site-packages (from datasets==2.13.0) (3.8.6)\n",
      "Requirement already satisfied: psutil in /apps/pytorch/2.0.1/lib/python3.10/site-packages (from peft==0.4.0) (5.9.5)\n",
      "Requirement already satisfied: torch>=1.13.0 in /apps/pytorch/2.0.1/lib/python3.10/site-packages (from peft==0.4.0) (2.0.1)\n",
      "Requirement already satisfied: comm>=0.1.3 in /apps/pytorch/2.0.1/lib/python3.10/site-packages (from ipywidgets) (0.1.3)\n",
      "Requirement already satisfied: ipython>=6.1.0 in /apps/pytorch/2.0.1/lib/python3.10/site-packages (from ipywidgets) (8.13.2)\n",
      "Requirement already satisfied: traitlets>=4.3.1 in /apps/pytorch/2.0.1/lib/python3.10/site-packages (from ipywidgets) (5.9.0)\n",
      "Requirement already satisfied: widgetsnbextension~=4.0.9 in /home/sosa.s/.local/lib/python3.10/site-packages (from ipywidgets) (4.0.9)\n",
      "Requirement already satisfied: jupyterlab-widgets~=3.0.9 in /home/sosa.s/.local/lib/python3.10/site-packages (from ipywidgets) (3.0.9)\n",
      "Requirement already satisfied: Click!=8.0.0,>=7.1 in /apps/pytorch/2.0.1/lib/python3.10/site-packages (from wandb) (8.1.7)\n",
      "Requirement already satisfied: GitPython!=3.1.29,>=1.0.0 in /home/sosa.s/.local/lib/python3.10/site-packages (from wandb) (3.1.40)\n",
      "Requirement already satisfied: sentry-sdk>=1.0.0 in /home/sosa.s/.local/lib/python3.10/site-packages (from wandb) (1.34.0)\n",
      "Requirement already satisfied: docker-pycreds>=0.4.0 in /home/sosa.s/.local/lib/python3.10/site-packages (from wandb) (0.4.0)\n",
      "Requirement already satisfied: setproctitle in /home/sosa.s/.local/lib/python3.10/site-packages (from wandb) (1.3.3)\n",
      "Requirement already satisfied: setuptools in /apps/pytorch/2.0.1/lib/python3.10/site-packages (from wandb) (67.7.2)\n",
      "Requirement already satisfied: appdirs>=1.4.3 in /home/sosa.s/.local/lib/python3.10/site-packages (from wandb) (1.4.4)\n",
      "Requirement already satisfied: protobuf!=4.21.0,<5,>=3.19.0 in /home/sosa.s/.local/lib/python3.10/site-packages (from wandb) (4.25.1)\n",
      "Requirement already satisfied: six>=1.4.0 in /apps/pytorch/2.0.1/lib/python3.10/site-packages (from docker-pycreds>=0.4.0->wandb) (1.16.0)\n",
      "Requirement already satisfied: attrs>=17.3.0 in /apps/pytorch/2.0.1/lib/python3.10/site-packages (from aiohttp->datasets==2.13.0) (23.1.0)\n",
      "Requirement already satisfied: charset-normalizer<4.0,>=2.0 in /apps/pytorch/2.0.1/lib/python3.10/site-packages (from aiohttp->datasets==2.13.0) (3.1.0)\n",
      "Requirement already satisfied: multidict<7.0,>=4.5 in /apps/pytorch/2.0.1/lib/python3.10/site-packages (from aiohttp->datasets==2.13.0) (6.0.4)\n",
      "Requirement already satisfied: async-timeout<5.0,>=4.0.0a3 in /apps/pytorch/2.0.1/lib/python3.10/site-packages (from aiohttp->datasets==2.13.0) (4.0.3)\n",
      "Requirement already satisfied: yarl<2.0,>=1.0 in /apps/pytorch/2.0.1/lib/python3.10/site-packages (from aiohttp->datasets==2.13.0) (1.9.2)\n",
      "Requirement already satisfied: frozenlist>=1.1.1 in /apps/pytorch/2.0.1/lib/python3.10/site-packages (from aiohttp->datasets==2.13.0) (1.4.0)\n",
      "Requirement already satisfied: aiosignal>=1.1.2 in /apps/pytorch/2.0.1/lib/python3.10/site-packages (from aiohttp->datasets==2.13.0) (1.3.1)\n",
      "Requirement already satisfied: gitdb<5,>=4.0.1 in /home/sosa.s/.local/lib/python3.10/site-packages (from GitPython!=3.1.29,>=1.0.0->wandb) (4.0.11)\n",
      "Requirement already satisfied: typing-extensions>=3.7.4.3 in /apps/pytorch/2.0.1/lib/python3.10/site-packages (from huggingface-hub<1.0,>=0.16.4->transformers==4.34.0) (4.5.0)\n",
      "Requirement already satisfied: backcall in /apps/pytorch/2.0.1/lib/python3.10/site-packages (from ipython>=6.1.0->ipywidgets) (0.2.0)\n",
      "Requirement already satisfied: decorator in /apps/pytorch/2.0.1/lib/python3.10/site-packages (from ipython>=6.1.0->ipywidgets) (5.1.1)\n",
      "Requirement already satisfied: jedi>=0.16 in /apps/pytorch/2.0.1/lib/python3.10/site-packages (from ipython>=6.1.0->ipywidgets) (0.18.2)\n",
      "Requirement already satisfied: matplotlib-inline in /apps/pytorch/2.0.1/lib/python3.10/site-packages (from ipython>=6.1.0->ipywidgets) (0.1.6)\n",
      "Requirement already satisfied: pickleshare in /apps/pytorch/2.0.1/lib/python3.10/site-packages (from ipython>=6.1.0->ipywidgets) (0.7.5)\n",
      "Requirement already satisfied: prompt-toolkit!=3.0.37,<3.1.0,>=3.0.30 in /apps/pytorch/2.0.1/lib/python3.10/site-packages (from ipython>=6.1.0->ipywidgets) (3.0.38)\n",
      "Requirement already satisfied: pygments>=2.4.0 in /apps/pytorch/2.0.1/lib/python3.10/site-packages (from ipython>=6.1.0->ipywidgets) (2.15.1)\n",
      "Requirement already satisfied: stack-data in /apps/pytorch/2.0.1/lib/python3.10/site-packages (from ipython>=6.1.0->ipywidgets) (0.6.2)\n",
      "Requirement already satisfied: pexpect>4.3 in /apps/pytorch/2.0.1/lib/python3.10/site-packages (from ipython>=6.1.0->ipywidgets) (4.8.0)\n",
      "Requirement already satisfied: idna<4,>=2.5 in /apps/pytorch/2.0.1/lib/python3.10/site-packages (from requests->transformers==4.34.0) (3.4)\n",
      "Requirement already satisfied: urllib3<1.27,>=1.21.1 in /apps/pytorch/2.0.1/lib/python3.10/site-packages (from requests->transformers==4.34.0) (1.26.15)\n",
      "Requirement already satisfied: certifi>=2017.4.17 in /apps/pytorch/2.0.1/lib/python3.10/site-packages (from requests->transformers==4.34.0) (2023.7.22)\n",
      "Requirement already satisfied: sympy in /apps/pytorch/2.0.1/lib/python3.10/site-packages (from torch>=1.13.0->peft==0.4.0) (1.12)\n",
      "Requirement already satisfied: networkx in /apps/pytorch/2.0.1/lib/python3.10/site-packages (from torch>=1.13.0->peft==0.4.0) (3.1)\n",
      "Requirement already satisfied: jinja2 in /apps/pytorch/2.0.1/lib/python3.10/site-packages (from torch>=1.13.0->peft==0.4.0) (3.1.2)\n",
      "Requirement already satisfied: python-dateutil>=2.8.2 in /apps/pytorch/2.0.1/lib/python3.10/site-packages (from pandas->datasets==2.13.0) (2.8.2)\n",
      "Requirement already satisfied: pytz>=2020.1 in /apps/pytorch/2.0.1/lib/python3.10/site-packages (from pandas->datasets==2.13.0) (2023.3)\n",
      "Requirement already satisfied: tzdata>=2022.1 in /home/sosa.s/.local/lib/python3.10/site-packages (from pandas->datasets==2.13.0) (2023.3)\n",
      "Requirement already satisfied: smmap<6,>=3.0.1 in /home/sosa.s/.local/lib/python3.10/site-packages (from gitdb<5,>=4.0.1->GitPython!=3.1.29,>=1.0.0->wandb) (5.0.1)\n",
      "Requirement already satisfied: parso<0.9.0,>=0.8.0 in /apps/pytorch/2.0.1/lib/python3.10/site-packages (from jedi>=0.16->ipython>=6.1.0->ipywidgets) (0.8.3)\n",
      "Requirement already satisfied: ptyprocess>=0.5 in /apps/pytorch/2.0.1/lib/python3.10/site-packages (from pexpect>4.3->ipython>=6.1.0->ipywidgets) (0.7.0)\n",
      "Requirement already satisfied: wcwidth in /apps/pytorch/2.0.1/lib/python3.10/site-packages (from prompt-toolkit!=3.0.37,<3.1.0,>=3.0.30->ipython>=6.1.0->ipywidgets) (0.2.6)\n",
      "Requirement already satisfied: MarkupSafe>=2.0 in /apps/pytorch/2.0.1/lib/python3.10/site-packages (from jinja2->torch>=1.13.0->peft==0.4.0) (2.1.2)\n",
      "Requirement already satisfied: executing>=1.2.0 in /apps/pytorch/2.0.1/lib/python3.10/site-packages (from stack-data->ipython>=6.1.0->ipywidgets) (1.2.0)\n",
      "Requirement already satisfied: asttokens>=2.1.0 in /apps/pytorch/2.0.1/lib/python3.10/site-packages (from stack-data->ipython>=6.1.0->ipywidgets) (2.2.1)\n",
      "Requirement already satisfied: pure-eval in /apps/pytorch/2.0.1/lib/python3.10/site-packages (from stack-data->ipython>=6.1.0->ipywidgets) (0.2.2)\n",
      "Requirement already satisfied: mpmath>=0.19 in /apps/pytorch/2.0.1/lib/python3.10/site-packages (from sympy->torch>=1.13.0->peft==0.4.0) (1.3.0)\n",
      "Defaulting to user installation because normal site-packages is not writeable\n",
      "Requirement already satisfied: ninja in /home/sosa.s/.local/lib/python3.10/site-packages (1.11.1.1)\n",
      "Requirement already satisfied: packaging in /apps/pytorch/2.0.1/lib/python3.10/site-packages (23.1)\n",
      "Defaulting to user installation because normal site-packages is not writeable\n",
      "Requirement already satisfied: flash-attn in /home/sosa.s/.local/lib/python3.10/site-packages (2.3.3)\n",
      "Requirement already satisfied: torch in /apps/pytorch/2.0.1/lib/python3.10/site-packages (from flash-attn) (2.0.1)\n",
      "Requirement already satisfied: einops in /home/sosa.s/.local/lib/python3.10/site-packages (from flash-attn) (0.7.0)\n",
      "Requirement already satisfied: packaging in /apps/pytorch/2.0.1/lib/python3.10/site-packages (from flash-attn) (23.1)\n",
      "Requirement already satisfied: ninja in /home/sosa.s/.local/lib/python3.10/site-packages (from flash-attn) (1.11.1.1)\n",
      "Requirement already satisfied: filelock in /apps/pytorch/2.0.1/lib/python3.10/site-packages (from torch->flash-attn) (3.12.0)\n",
      "Requirement already satisfied: typing-extensions in /apps/pytorch/2.0.1/lib/python3.10/site-packages (from torch->flash-attn) (4.5.0)\n",
      "Requirement already satisfied: sympy in /apps/pytorch/2.0.1/lib/python3.10/site-packages (from torch->flash-attn) (1.12)\n",
      "Requirement already satisfied: networkx in /apps/pytorch/2.0.1/lib/python3.10/site-packages (from torch->flash-attn) (3.1)\n",
      "Requirement already satisfied: jinja2 in /apps/pytorch/2.0.1/lib/python3.10/site-packages (from torch->flash-attn) (3.1.2)\n",
      "Requirement already satisfied: MarkupSafe>=2.0 in /apps/pytorch/2.0.1/lib/python3.10/site-packages (from jinja2->torch->flash-attn) (2.1.2)\n",
      "Requirement already satisfied: mpmath>=0.19 in /apps/pytorch/2.0.1/lib/python3.10/site-packages (from sympy->torch->flash-attn) (1.3.0)\n"
     ]
    }
   ],
   "source": [
    "!pip install \"transformers==4.34.0\" \"datasets==2.13.0\" \"peft==0.4.0\" \"accelerate==0.23.0\" \"bitsandbytes==0.41.1\" \"trl==0.4.7\" \"safetensors>=0.3.1\" ipywidgets wandb --upgrade\n",
    "!python -c \"import torch; assert torch.cuda.get_device_capability()[0] >= 8, 'Hardware not supported for Flash Attention'\"\n",
    "!pip install ninja packaging\n",
    "!MAX_JOBS=1 pip install flash-attn --no-build-isolation"
   ]
  },
  {
   "cell_type": "code",
   "execution_count": 1,
   "id": "2afb05ca-9182-4431-b115-0dcae7ddee89",
   "metadata": {},
   "outputs": [],
   "source": [
    "# add parent directory to path\n",
    "import sys\n",
    "import os\n",
    "\n",
    "project_dir = os.getcwd()\n",
    "parent_dir = os.path.dirname(project_dir)\n",
    "sys.path.insert(0, parent_dir)"
   ]
  },
  {
   "cell_type": "code",
   "execution_count": 3,
   "id": "06c7a53d",
   "metadata": {},
   "outputs": [
    {
     "name": "stderr",
     "output_type": "stream",
     "text": [
      "Failed to detect the name of this notebook, you can set it manually with the WANDB_NOTEBOOK_NAME environment variable to enable code saving.\n",
      "\u001b[34m\u001b[1mwandb\u001b[0m: Currently logged in as: \u001b[33msebastiansosa\u001b[0m. Use \u001b[1m`wandb login --relogin`\u001b[0m to force relogin\n"
     ]
    },
    {
     "data": {
      "text/html": [
       "Tracking run with wandb version 0.16.0"
      ],
      "text/plain": [
       "<IPython.core.display.HTML object>"
      ]
     },
     "metadata": {},
     "output_type": "display_data"
    },
    {
     "data": {
      "text/html": [
       "Run data is saved locally in <code>/home/sosa.s/gaitor_function_calling/wandb/run-20231126_165714-llama-7-chat-instruction-pre_ft-n_shot_fix</code>"
      ],
      "text/plain": [
       "<IPython.core.display.HTML object>"
      ]
     },
     "metadata": {},
     "output_type": "display_data"
    },
    {
     "data": {
      "text/html": [
       "Syncing run <strong><a href='https://wandb.ai/sebastiansosa/function_calling/runs/llama-7-chat-instruction-pre_ft-n_shot_fix' target=\"_blank\">llama-7-chat-instruction-pre_ft-n_shot_fix</a></strong> to <a href='https://wandb.ai/sebastiansosa/function_calling' target=\"_blank\">Weights & Biases</a> (<a href='https://wandb.me/run' target=\"_blank\">docs</a>)<br/>"
      ],
      "text/plain": [
       "<IPython.core.display.HTML object>"
      ]
     },
     "metadata": {},
     "output_type": "display_data"
    },
    {
     "data": {
      "text/html": [
       " View project at <a href='https://wandb.ai/sebastiansosa/function_calling' target=\"_blank\">https://wandb.ai/sebastiansosa/function_calling</a>"
      ],
      "text/plain": [
       "<IPython.core.display.HTML object>"
      ]
     },
     "metadata": {},
     "output_type": "display_data"
    },
    {
     "data": {
      "text/html": [
       " View run at <a href='https://wandb.ai/sebastiansosa/function_calling/runs/llama-7-chat-instruction-pre_ft-n_shot_fix' target=\"_blank\">https://wandb.ai/sebastiansosa/function_calling/runs/llama-7-chat-instruction-pre_ft-n_shot_fix</a>"
      ],
      "text/plain": [
       "<IPython.core.display.HTML object>"
      ]
     },
     "metadata": {},
     "output_type": "display_data"
    },
    {
     "data": {
      "application/vnd.jupyter.widget-view+json": {
       "model_id": "4157f8d68637484c82eedfc95e9e3a71",
       "version_major": 2,
       "version_minor": 0
      },
      "text/plain": [
       "VBox(children=(HTML(value='<center> <img\\nsrc=https://huggingface.co/front/assets/huggingface_logo-noborder.sv…"
      ]
     },
     "metadata": {},
     "output_type": "display_data"
    }
   ],
   "source": [
    "# configs\n",
    "from huggingface_hub import notebook_login\n",
    "import wandb\n",
    "\n",
    "model_id = \"meta-llama/Llama-2-7b-chat-hf\"\n",
    "notebook_login()"
   ]
  },
  {
   "cell_type": "code",
   "execution_count": 3,
   "id": "f1e4cd8e",
   "metadata": {},
   "outputs": [
    {
     "data": {
      "text/plain": [
       "DatasetDict({\n",
       "    train: Dataset({\n",
       "        features: ['text'],\n",
       "        num_rows: 833\n",
       "    })\n",
       "    test: Dataset({\n",
       "        features: ['text'],\n",
       "        num_rows: 17\n",
       "    })\n",
       "})"
      ]
     },
     "execution_count": 3,
     "metadata": {},
     "output_type": "execute_result"
    }
   ],
   "source": [
    "# get data and convert to Datasets format\n",
    "import pandas as pd\n",
    "from datasets import Dataset, DatasetDict\n",
    "from gaitor_function_calling.data.data_utils import DataAbstractor\n",
    "from gaitor_function_calling.data.prompting_utils import INSTRUCTION\n",
    "data_abstractor = DataAbstractor(\"production_data-without_summary-only_fc.json\", f\"pre_ft_eval-2_shot\")\n",
    "\n",
    "train_df = pd.DataFrame(data_abstractor.train_data)\n",
    "test_df = pd.DataFrame(data_abstractor.test_data)\n",
    "\n",
    "train_dataset = Dataset.from_pandas(train_df)\n",
    "test_dataset = Dataset.from_pandas(test_df)\n",
    "\n",
    "dataset_dict = DatasetDict({\n",
    "    'train': train_dataset,\n",
    "    'test': test_dataset\n",
    "})\n",
    "\n",
    "dataset_dict"
   ]
  },
  {
   "cell_type": "code",
   "execution_count": 5,
   "id": "baf42525",
   "metadata": {},
   "outputs": [],
   "source": [
    "# setup metrics and evaluation\n",
    "import json\n",
    "from transformers import EvalPrediction\n",
    "from gaitor_function_calling.evaluation.evaluation_utils import FunctionCallingMetric, compute_perplexity, get_logits_and_labels\n",
    "from gaitor_function_calling.data.prompting_utils import INSTRUCTION, json_arguments_from_prompt\n",
    "import numpy as np\n",
    "\n",
    "fc_metric = FunctionCallingMetric()\n",
    "def config_compute_metrics(tokenizer):\n",
    "    def compute_metrics(pred: EvalPrediction):\n",
    "        # pred.predictions are a batch of logits\n",
    "        # pred.label_ids are a batch of tokens\n",
    "        token_ids = np.argmax(pred.predictions, axis=-1)\n",
    "        predictions = tokenizer.batch_decode(token_ids, skip_special_tokens=False)\n",
    "        labels = tokenizer.batch_decode(pred.label_ids, skip_special_tokens=False)\n",
    "        \n",
    "        \n",
    "    \n",
    "        # Now use your metric class\n",
    "        fc_result = fc_metric.run(predictions, labels)  # Implement this method in your class\n",
    "    \n",
    "        return {\n",
    "            \"fc_combine\": fc_result\n",
    "        }\n",
    "    return compute_metrics\n",
    "\n",
    "def custom_evaluation(eval_dataset, model, tokenizer, epoch, save_prompts_path=False):\n",
    "    print(\"Starting custom evaluation.\")\n",
    "    model.eval()  # Set the model to evaluation mode\n",
    "    results = {}\n",
    "\n",
    "    fc_results = []\n",
    "    exact_match_results = []\n",
    "    perplexity_results = []\n",
    "\n",
    "\n",
    "    if save_prompts_path:\n",
    "        try:\n",
    "            with open(save_prompts_path, \"r\") as f:\n",
    "                dpo_data = json.load(f)\n",
    "        except:\n",
    "            dpo_data = []\n",
    "\n",
    "\n",
    "    for idx, example in enumerate(eval_dataset):\n",
    "        print(f\"Example {idx}: \", end=\"\")\n",
    "        post_message = \"\"\n",
    "        \n",
    "        # Custom Function Calling metric\n",
    "        prompts = None\n",
    "        try:\n",
    "            generated_arguments, expected_arguments, prompts = json_arguments_from_prompt(\n",
    "                example[\"text\"],\n",
    "                model,\n",
    "                tokenizer,\n",
    "                INSTRUCTION,\n",
    "                {\"idx\": idx, \"epoch\": epoch}\n",
    "            )\n",
    "            fc_result = fc_metric.run(generated_arguments, expected_arguments)\n",
    "\n",
    "            fc_results.append(fc_result)\n",
    "\n",
    "            if save_prompts_path:\n",
    "                # add prompts to dpo_data.json\n",
    "                dpo_data.append({\n",
    "                    \"fc_result\": fc_result,\n",
    "                    **prompts\n",
    "                })\n",
    "                with open(save_prompts_path, \"w\") as f:\n",
    "                    json.dump(dpo_data, f)\n",
    "        except Exception as e:\n",
    "            post_message += f\"Error function calling: {e}\\n\"\n",
    "            fc_results.append(0)\n",
    "\n",
    "        # exact match metric\n",
    "        if prompts:\n",
    "            exact_match_res = fc_metric._sentence_similarity(prompts[\"expected_str\"].split(\"[/INST]\")[-1], prompts[\"generated_str\"].split(\"[/INST]\")[-1])\n",
    "            exact_match_results.append(exact_match_res)\n",
    "        else:\n",
    "            exact_match_results.append(0)\n",
    "\n",
    "        # perplexity metric\n",
    "        try:\n",
    "            logits, labels = get_logits_and_labels(example[\"text\"], model, tokenizer)\n",
    "            perplexity = compute_perplexity(logits[..., :-1, :], labels).item()\n",
    "            perplexity_results.append(perplexity)\n",
    "        except Exception as e:\n",
    "            post_message += f\"Error perplexity: {e}\\n\"\n",
    "            # perplexity_results.append(float('inf'))\n",
    "\n",
    "        example_metric = {\n",
    "            \"fc_combine\": fc_results[-1],\n",
    "            \"exact_match\": exact_match_results[-1],\n",
    "            \"perplexity\": perplexity_results[-1] if len(perplexity_results) else None\n",
    "        }\n",
    "        print(example_metric)\n",
    "        if post_message:\n",
    "            print(post_message)\n",
    "        \n",
    "    results[\"fc_combine\"] =  sum(fc_results) / len(fc_results)\n",
    "    results[\"exact_match\"] =  sum(exact_match_results) / len(exact_match_results)\n",
    "    results[\"perplexity\"] =  sum(perplexity_results) / len(perplexity_results) if len(perplexity_results) else 1\n",
    "\n",
    "    return results"
   ]
  },
  {
   "cell_type": "code",
   "execution_count": 6,
   "id": "5bffffa3",
   "metadata": {},
   "outputs": [
    {
     "data": {
      "application/vnd.jupyter.widget-view+json": {
       "model_id": "616eefe0b6dd4f24bde6ee8800ea6b91",
       "version_major": 2,
       "version_minor": 0
      },
      "text/plain": [
       "Loading checkpoint shards:   0%|          | 0/2 [00:00<?, ?it/s]"
      ]
     },
     "metadata": {},
     "output_type": "display_data"
    }
   ],
   "source": [
    "# base LLM model and tokenizer\n",
    "import torch\n",
    "from transformers import AutoTokenizer, AutoModelForCausalLM, BitsAndBytesConfig\n",
    "\n",
    "# Load model and tokenizer\n",
    "model = AutoModelForCausalLM.from_pretrained(\n",
    "    model_id,\n",
    "    use_cache=False,\n",
    "    device_map=\"auto\",\n",
    ")\n",
    "tokenizer = AutoTokenizer.from_pretrained(model_id)\n",
    "tokenizer.pad_token = tokenizer.eos_token\n",
    "tokenizer.padding_side = \"right\""
   ]
  },
  {
   "cell_type": "code",
   "execution_count": 7,
   "id": "acd0f696",
   "metadata": {
    "scrolled": true
   },
   "outputs": [
    {
     "name": "stderr",
     "output_type": "stream",
     "text": [
      "Asking to truncate to max_length but no maximum length is provided and the model has no predefined maximum length. Default to no truncation.\n"
     ]
    },
    {
     "name": "stdout",
     "output_type": "stream",
     "text": [
      "Starting evaluation 0 shot.\n",
      "Starting custom evaluation.\n",
      "Example 0: {'fc_combine': 0.3577747344970703, 'exact_match': 0.8500394225120544, 'perplexity': 6.773812294006348}\n",
      "Example 1: {'fc_combine': 0, 'exact_match': 0, 'perplexity': 6.861993789672852}\n",
      "Error function calling: 'NoneType' object has no attribute 'group'\n",
      "\n",
      "Example 2: {'fc_combine': 0.36043891310691833, 'exact_match': 0.645621657371521, 'perplexity': 7.1938652992248535}\n",
      "Example 3: {'fc_combine': 0, 'exact_match': 0, 'perplexity': 9.170538902282715}\n",
      "Error function calling: No function call found in generated data\n",
      "\n",
      "Example 4: {'fc_combine': 0, 'exact_match': 0, 'perplexity': 9.170538902282715}\n",
      "Error function calling: 'NoneType' object has no attribute 'group'\n",
      "\n",
      "Example 5: {'fc_combine': 0, 'exact_match': 0, 'perplexity': 14.873311996459961}\n",
      "Error function calling: No function call found in generated data\n",
      "\n",
      "Example 6: {'fc_combine': 0, 'exact_match': 0.8006242513656616, 'perplexity': 14.873311996459961}\n",
      "Error function calling: division by zero\n",
      "\n",
      "Example 7: {'fc_combine': 0, 'exact_match': 0.7933685779571533, 'perplexity': 14.805334091186523}\n",
      "Error function calling: division by zero\n",
      "\n",
      "Example 8: {'fc_combine': 0, 'exact_match': 0, 'perplexity': 14.37301254272461}\n",
      "Error function calling: No function call found in generated data\n",
      "\n",
      "Example 9: {'fc_combine': 0.2601068615913391, 'exact_match': 0.7335159182548523, 'perplexity': 8.923227310180664}\n",
      "Example 10: {'fc_combine': 0, 'exact_match': 0, 'perplexity': 15.37404727935791}\n",
      "Error function calling: Expecting value: line 1 column 1 (char 0)\n",
      "\n",
      "Example 11: {'fc_combine': 0, 'exact_match': 0, 'perplexity': 13.229039192199707}\n",
      "Error function calling: No function call found in generated data\n",
      "\n",
      "Example 12: {'fc_combine': 0, 'exact_match': 0.6243915557861328, 'perplexity': 13.229039192199707}\n",
      "Error function calling: division by zero\n",
      "\n",
      "Example 13: {'fc_combine': 0, 'exact_match': 0, 'perplexity': 14.411722183227539}\n",
      "Error function calling: No function call found in generated data\n",
      "\n",
      "Example 14: {'fc_combine': 0.38788774609565735, 'exact_match': 0.7198087573051453, 'perplexity': 6.561174392700195}\n",
      "Example 15: {'fc_combine': 0.27678006887435913, 'exact_match': 0.7989001274108887, 'perplexity': 9.854104042053223}\n",
      "Example 16: {'fc_combine': 0, 'exact_match': 0, 'perplexity': 6.582207202911377}\n",
      "Error function calling: No function call found in generated data\n",
      "\n",
      "Evaluation results: {'fc_combine': 0.09664637200972613, 'exact_match': 0.3509570745860829, 'perplexity': 10.956487094654756}\n",
      "Starting evaluation 1 shot.\n",
      "Starting custom evaluation.\n",
      "Example 0: {'fc_combine': 0, 'exact_match': 0, 'perplexity': 5.552440166473389}\n",
      "Error function calling: Expecting ',' delimiter: line 1 column 134 (char 133)\n",
      "\n",
      "Example 1: {'fc_combine': 0.8628677183931525, 'exact_match': 0.8218317031860352, 'perplexity': 6.445812225341797}\n",
      "Example 2: {'fc_combine': 0.9189371900124983, 'exact_match': 0.8798913955688477, 'perplexity': 6.649297714233398}\n",
      "Example 3: {'fc_combine': 1.0, 'exact_match': 1, 'perplexity': 7.219996929168701}\n",
      "Example 4: {'fc_combine': 1.0, 'exact_match': 1, 'perplexity': 7.219996929168701}\n",
      "Example 5: {'fc_combine': 0, 'exact_match': 0.909335196018219, 'perplexity': 8.996222496032715}\n",
      "Error function calling: division by zero\n",
      "\n",
      "Example 6: {'fc_combine': 0, 'exact_match': 0.909335196018219, 'perplexity': 8.996222496032715}\n",
      "Error function calling: division by zero\n",
      "\n",
      "Example 7: {'fc_combine': 0, 'exact_match': 0.9825447201728821, 'perplexity': 9.421801567077637}\n",
      "Error function calling: division by zero\n",
      "\n",
      "Example 8: {'fc_combine': 0, 'exact_match': 0.9832118153572083, 'perplexity': 9.20485782623291}\n",
      "Error function calling: division by zero\n",
      "\n",
      "Example 9: {'fc_combine': 0, 'exact_match': 0, 'perplexity': 6.9503326416015625}\n",
      "Error function calling: Expecting ',' delimiter: line 1 column 1123 (char 1122)\n",
      "\n",
      "Example 10: {'fc_combine': 0, 'exact_match': 0.5936188101768494, 'perplexity': 10.391919136047363}\n",
      "Error function calling: division by zero\n",
      "\n",
      "Example 11: {'fc_combine': 0, 'exact_match': 0.8983660936355591, 'perplexity': 9.02340030670166}\n",
      "Error function calling: division by zero\n",
      "\n",
      "Example 12: {'fc_combine': 0, 'exact_match': 0.8983660936355591, 'perplexity': 9.02340030670166}\n",
      "Error function calling: division by zero\n",
      "\n",
      "Example 13: {'fc_combine': 0, 'exact_match': 0, 'perplexity': 9.876502990722656}\n",
      "Error function calling: No function call found in generated data\n",
      "\n",
      "Example 14: {'fc_combine': 0, 'exact_match': 0, 'perplexity': 6.026378631591797}\n",
      "Error function calling: Unterminated string starting at: line 1 column 13 (char 12)\n",
      "\n",
      "Example 15: {'fc_combine': 0.9386357267697653, 'exact_match': 0.968758761882782, 'perplexity': 7.8009514808654785}\n",
      "Example 16: {'fc_combine': 0, 'exact_match': 0, 'perplexity': 5.956303596496582}\n",
      "Error function calling: No function call found in generated data\n",
      "\n",
      "Evaluation results: {'fc_combine': 0.2776729785397304, 'exact_match': 0.6379564579795388, 'perplexity': 7.926813967087689}\n",
      "Starting evaluation 2 shot.\n",
      "Starting custom evaluation.\n",
      "Example 0: {'fc_combine': 0.9105172289742364, 'exact_match': 0.8941848874092102, 'perplexity': 6.128313064575195}\n",
      "Example 1: {'fc_combine': 0.8505668315020475, 'exact_match': 0.9247797131538391, 'perplexity': 6.426330089569092}\n",
      "Example 2: {'fc_combine': 0.8289374763315375, 'exact_match': 0.9222579598426819, 'perplexity': 6.5881123542785645}\n",
      "Example 3: {'fc_combine': 1.0, 'exact_match': 1, 'perplexity': 7.330269813537598}\n",
      "Example 4: {'fc_combine': 1.0, 'exact_match': 1, 'perplexity': 7.330269813537598}\n",
      "Example 5: {'fc_combine': 0, 'exact_match': 0.615142822265625, 'perplexity': 8.408069610595703}\n",
      "Error function calling: division by zero\n",
      "\n",
      "Example 6: {'fc_combine': 0, 'exact_match': 0.909335196018219, 'perplexity': 8.408069610595703}\n",
      "Error function calling: division by zero\n",
      "\n",
      "Example 7: {'fc_combine': 0, 'exact_match': 0.9825447201728821, 'perplexity': 8.774497032165527}\n",
      "Error function calling: division by zero\n",
      "\n",
      "Example 8: {'fc_combine': 0, 'exact_match': 0.9825447201728821, 'perplexity': 8.710946083068848}\n",
      "Error function calling: division by zero\n",
      "\n",
      "Example 9: {'fc_combine': 0.9582693775494894, 'exact_match': 0.9077167510986328, 'perplexity': 6.996618747711182}\n",
      "Example 10: {'fc_combine': 0, 'exact_match': 0.5630944967269897, 'perplexity': 9.115334510803223}\n",
      "Error function calling: division by zero\n",
      "\n",
      "Example 11: {'fc_combine': 0, 'exact_match': 0.8983660936355591, 'perplexity': 8.264957427978516}\n",
      "Error function calling: division by zero\n",
      "\n",
      "Example 12: {'fc_combine': 0, 'exact_match': 0.8983660936355591, 'perplexity': 8.264957427978516}\n",
      "Error function calling: division by zero\n",
      "\n",
      "Example 13: {'fc_combine': 0, 'exact_match': 0.7580816745758057, 'perplexity': 8.786222457885742}\n",
      "Error function calling: division by zero\n",
      "\n",
      "Example 14: {'fc_combine': 0.9138486862182618, 'exact_match': 0.8380600810050964, 'perplexity': 6.297361373901367}\n",
      "Example 15: {'fc_combine': 0.9386357267697653, 'exact_match': 0.968758761882782, 'perplexity': 7.708347320556641}\n",
      "Example 16: {'fc_combine': 0, 'exact_match': 0, 'perplexity': 6.472992420196533}\n",
      "Error function calling: No function call found in generated data\n",
      "\n",
      "Evaluation results: {'fc_combine': 0.435339725137961, 'exact_match': 0.827249057152692, 'perplexity': 7.647745244643268}\n",
      "Starting evaluation 3 shot.\n",
      "Starting custom evaluation.\n",
      "Example 0: {'fc_combine': 0.9063548379474216, 'exact_match': 0.8935033082962036, 'perplexity': 4.941930770874023}\n",
      "Example 1: {'fc_combine': 0.8628677183931525, 'exact_match': 0.47267574071884155, 'perplexity': 4.831850528717041}\n",
      "Example 2: {'fc_combine': 0, 'exact_match': 0, 'perplexity': 4.90643310546875}\n",
      "Error function calling: No function call found in generated data\n",
      "\n",
      "Example 3: {'fc_combine': 1.0, 'exact_match': 1, 'perplexity': 5.495491981506348}\n",
      "Example 4: {'fc_combine': 1.0, 'exact_match': 1, 'perplexity': 5.495491981506348}\n",
      "Example 5: {'fc_combine': 0, 'exact_match': 0.5398781895637512, 'perplexity': 5.848870754241943}\n",
      "Error function calling: division by zero\n",
      "\n",
      "Example 6: {'fc_combine': 0, 'exact_match': 0.633875846862793, 'perplexity': 5.848870754241943}\n",
      "Error function calling: division by zero\n",
      "\n",
      "Example 7: {'fc_combine': 0, 'exact_match': 0.9036209583282471, 'perplexity': 5.940736293792725}\n",
      "Error function calling: division by zero\n",
      "\n",
      "Example 8: {'fc_combine': 0, 'exact_match': 0.9832118153572083, 'perplexity': 5.908343315124512}\n",
      "Error function calling: division by zero\n",
      "\n",
      "Example 9: {'fc_combine': 0, 'exact_match': 0, 'perplexity': 5.2878007888793945}\n",
      "Error function calling: Expecting ',' delimiter: line 1 column 257 (char 256)\n",
      "\n",
      "Example 10: {'fc_combine': 0, 'exact_match': 0, 'perplexity': 6.091677665710449}\n",
      "Error function calling: No function call found in generated data\n",
      "\n",
      "Example 11: {'fc_combine': 0, 'exact_match': 0.8983660936355591, 'perplexity': 5.665839672088623}\n",
      "Error function calling: division by zero\n",
      "\n",
      "Example 12: {'fc_combine': 0, 'exact_match': 0.8983660936355591, 'perplexity': 5.665839672088623}\n",
      "Error function calling: division by zero\n",
      "\n",
      "Example 13: {'fc_combine': 0, 'exact_match': 0, 'perplexity': 5.922869682312012}\n",
      "Error function calling: No function call found in generated data\n",
      "\n",
      "Example 14: {'fc_combine': 0, 'exact_match': 0, 'perplexity': 5.0419602394104}\n",
      "Error function calling: No function call found in generated data\n",
      "\n",
      "Example 15: {'fc_combine': 0.9386357267697653, 'exact_match': 0.968758761882782, 'perplexity': 5.568689346313477}\n",
      "Example 16: {'fc_combine': 0, 'exact_match': 0, 'perplexity': 5.111979961395264}\n",
      "Error function calling: No function call found in generated data\n",
      "\n",
      "Evaluation results: {'fc_combine': 0.27693284018296116, 'exact_match': 0.5407209887224085, 'perplexity': 5.504392736098346}\n"
     ]
    },
    {
     "data": {
      "application/vnd.jupyter.widget-view+json": {
       "model_id": "",
       "version_major": 2,
       "version_minor": 0
      },
      "text/plain": [
       "VBox(children=(Label(value='0.015 MB of 0.015 MB uploaded\\r'), FloatProgress(value=1.0, max=1.0)))"
      ]
     },
     "metadata": {},
     "output_type": "display_data"
    },
    {
     "name": "stderr",
     "output_type": "stream",
     "text": [
      "wandb: WARNING Source type is set to 'repo' but some required information is missing from the environment. A job will not be created from this run. See https://docs.wandb.ai/guides/launch/create-job\n"
     ]
    },
    {
     "data": {
      "text/html": [
       "<style>\n",
       "    table.wandb td:nth-child(1) { padding: 0 10px; text-align: left ; width: auto;} td:nth-child(2) {text-align: left ; width: 100%}\n",
       "    .wandb-row { display: flex; flex-direction: row; flex-wrap: wrap; justify-content: flex-start; width: 100% }\n",
       "    .wandb-col { display: flex; flex-direction: column; flex-basis: 100%; flex: 1; padding: 10px; }\n",
       "    </style>\n",
       "<div class=\"wandb-row\"><div class=\"wandb-col\"><h3>Run history:</h3><br/><table class=\"wandb\"><tr><td>epoch</td><td>▁▃▆█</td></tr><tr><td>exact_match</td><td>▁▅█▄</td></tr><tr><td>fc_combine</td><td>▁▅█▅</td></tr><tr><td>perplexity</td><td>█▄▄▁</td></tr></table><br/></div><div class=\"wandb-col\"><h3>Run summary:</h3><br/><table class=\"wandb\"><tr><td>epoch</td><td>3</td></tr><tr><td>exact_match</td><td>0.54072</td></tr><tr><td>fc_combine</td><td>0.27693</td></tr><tr><td>perplexity</td><td>5.50439</td></tr></table><br/></div></div>"
      ],
      "text/plain": [
       "<IPython.core.display.HTML object>"
      ]
     },
     "metadata": {},
     "output_type": "display_data"
    },
    {
     "data": {
      "text/html": [
       " View run <strong style=\"color:#cdcd00\">llama-7-chat-instruction-pre_ft-n_shot_fix</strong> at: <a href='https://wandb.ai/sebastiansosa/function_calling/runs/llama-7-chat-instruction-pre_ft-n_shot_fix' target=\"_blank\">https://wandb.ai/sebastiansosa/function_calling/runs/llama-7-chat-instruction-pre_ft-n_shot_fix</a><br/>Synced 5 W&B file(s), 0 media file(s), 0 artifact file(s) and 0 other file(s)"
      ],
      "text/plain": [
       "<IPython.core.display.HTML object>"
      ]
     },
     "metadata": {},
     "output_type": "display_data"
    },
    {
     "data": {
      "text/html": [
       "Find logs at: <code>./wandb/run-20231126_165714-llama-7-chat-instruction-pre_ft-n_shot_fix/logs</code>"
      ],
      "text/plain": [
       "<IPython.core.display.HTML object>"
      ]
     },
     "metadata": {},
     "output_type": "display_data"
    }
   ],
   "source": [
    "prompts_path = \"./gaitor_function_calling/data/prompts_data-2_shot.json\"\n",
    "\n",
    "eval_result = custom_evaluation(dataset_dict[\"train\"], model, tokenizer, 0, prompts_path)\n",
    "print(f\"Evaluation results train: {eval_result}\")\n",
    "eval_result = custom_evaluation(dataset_dict[\"test\"], model, tokenizer, 0, prompts_path)\n",
    "print(f\"Evaluation results test: {eval_result}\")"
   ]
  }
 ],
 "metadata": {
  "kernelspec": {
   "display_name": "env",
   "language": "python",
   "name": "python3"
  },
  "language_info": {
   "codemirror_mode": {
    "name": "ipython",
    "version": 3
   },
   "file_extension": ".py",
   "mimetype": "text/x-python",
   "name": "python",
   "nbconvert_exporter": "python",
   "pygments_lexer": "ipython3",
   "version": "3.10.2"
  }
 },
 "nbformat": 4,
 "nbformat_minor": 5
}
