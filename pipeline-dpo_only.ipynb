{
 "cells": [
  {
   "cell_type": "code",
   "execution_count": 1,
   "id": "091e1455-6621-4198-a135-886bf1950aa0",
   "metadata": {
    "scrolled": true
   },
   "outputs": [
    {
     "name": "stdout",
     "output_type": "stream",
     "text": [
      "Defaulting to user installation because normal site-packages is not writeable\n",
      "Requirement already satisfied: transformers==4.34.0 in /home/sosa.s/.local/lib/python3.10/site-packages (4.34.0)\n",
      "Requirement already satisfied: datasets==2.13.0 in /home/sosa.s/.local/lib/python3.10/site-packages (2.13.0)\n",
      "Requirement already satisfied: peft==0.4.0 in /home/sosa.s/.local/lib/python3.10/site-packages (0.4.0)\n",
      "Requirement already satisfied: accelerate==0.23.0 in /home/sosa.s/.local/lib/python3.10/site-packages (0.23.0)\n",
      "Requirement already satisfied: bitsandbytes==0.41.1 in /home/sosa.s/.local/lib/python3.10/site-packages (0.41.1)\n",
      "Requirement already satisfied: trl==0.7.4 in /home/sosa.s/.local/lib/python3.10/site-packages (0.7.4)\n",
      "Requirement already satisfied: safetensors>=0.3.1 in /home/sosa.s/.local/lib/python3.10/site-packages (0.4.1)\n",
      "Requirement already satisfied: ipywidgets in /home/sosa.s/.local/lib/python3.10/site-packages (8.1.1)\n",
      "Requirement already satisfied: wandb in /home/sosa.s/.local/lib/python3.10/site-packages (0.16.0)\n",
      "Requirement already satisfied: filelock in /apps/pytorch/2.0.1/lib/python3.10/site-packages (from transformers==4.34.0) (3.12.0)\n",
      "Requirement already satisfied: huggingface-hub<1.0,>=0.16.4 in /home/sosa.s/.local/lib/python3.10/site-packages (from transformers==4.34.0) (0.17.3)\n",
      "Requirement already satisfied: numpy>=1.17 in /apps/pytorch/2.0.1/lib/python3.10/site-packages (from transformers==4.34.0) (1.24.3)\n",
      "Requirement already satisfied: packaging>=20.0 in /apps/pytorch/2.0.1/lib/python3.10/site-packages (from transformers==4.34.0) (23.1)\n",
      "Requirement already satisfied: pyyaml>=5.1 in /apps/pytorch/2.0.1/lib/python3.10/site-packages (from transformers==4.34.0) (6.0.1)\n",
      "Requirement already satisfied: regex!=2019.12.17 in /home/sosa.s/.local/lib/python3.10/site-packages (from transformers==4.34.0) (2023.10.3)\n",
      "Requirement already satisfied: requests in /apps/pytorch/2.0.1/lib/python3.10/site-packages (from transformers==4.34.0) (2.29.0)\n",
      "Requirement already satisfied: tokenizers<0.15,>=0.14 in /home/sosa.s/.local/lib/python3.10/site-packages (from transformers==4.34.0) (0.14.1)\n",
      "Requirement already satisfied: tqdm>=4.27 in /apps/pytorch/2.0.1/lib/python3.10/site-packages (from transformers==4.34.0) (4.65.0)\n",
      "Requirement already satisfied: pyarrow>=8.0.0 in /home/sosa.s/.local/lib/python3.10/site-packages (from datasets==2.13.0) (14.0.0)\n",
      "Requirement already satisfied: dill<0.3.7,>=0.3.0 in /home/sosa.s/.local/lib/python3.10/site-packages (from datasets==2.13.0) (0.3.6)\n",
      "Requirement already satisfied: pandas in /home/sosa.s/.local/lib/python3.10/site-packages (from datasets==2.13.0) (2.1.3)\n",
      "Requirement already satisfied: xxhash in /home/sosa.s/.local/lib/python3.10/site-packages (from datasets==2.13.0) (3.4.1)\n",
      "Requirement already satisfied: multiprocess in /home/sosa.s/.local/lib/python3.10/site-packages (from datasets==2.13.0) (0.70.14)\n",
      "Requirement already satisfied: fsspec[http]>=2021.11.1 in /apps/pytorch/2.0.1/lib/python3.10/site-packages (from datasets==2.13.0) (2023.9.2)\n",
      "Requirement already satisfied: aiohttp in /apps/pytorch/2.0.1/lib/python3.10/site-packages (from datasets==2.13.0) (3.8.6)\n",
      "Requirement already satisfied: psutil in /apps/pytorch/2.0.1/lib/python3.10/site-packages (from peft==0.4.0) (5.9.5)\n",
      "Requirement already satisfied: torch>=1.13.0 in /apps/pytorch/2.0.1/lib/python3.10/site-packages (from peft==0.4.0) (2.0.1)\n",
      "Requirement already satisfied: tyro>=0.5.11 in /home/sosa.s/.local/lib/python3.10/site-packages (from trl==0.7.4) (0.5.18)\n",
      "Requirement already satisfied: comm>=0.1.3 in /apps/pytorch/2.0.1/lib/python3.10/site-packages (from ipywidgets) (0.1.3)\n",
      "Requirement already satisfied: ipython>=6.1.0 in /apps/pytorch/2.0.1/lib/python3.10/site-packages (from ipywidgets) (8.13.2)\n",
      "Requirement already satisfied: traitlets>=4.3.1 in /apps/pytorch/2.0.1/lib/python3.10/site-packages (from ipywidgets) (5.9.0)\n",
      "Requirement already satisfied: widgetsnbextension~=4.0.9 in /home/sosa.s/.local/lib/python3.10/site-packages (from ipywidgets) (4.0.9)\n",
      "Requirement already satisfied: jupyterlab-widgets~=3.0.9 in /home/sosa.s/.local/lib/python3.10/site-packages (from ipywidgets) (3.0.9)\n",
      "Requirement already satisfied: Click!=8.0.0,>=7.1 in /apps/pytorch/2.0.1/lib/python3.10/site-packages (from wandb) (8.1.7)\n",
      "Requirement already satisfied: GitPython!=3.1.29,>=1.0.0 in /home/sosa.s/.local/lib/python3.10/site-packages (from wandb) (3.1.40)\n",
      "Requirement already satisfied: sentry-sdk>=1.0.0 in /home/sosa.s/.local/lib/python3.10/site-packages (from wandb) (1.34.0)\n",
      "Requirement already satisfied: docker-pycreds>=0.4.0 in /home/sosa.s/.local/lib/python3.10/site-packages (from wandb) (0.4.0)\n",
      "Requirement already satisfied: setproctitle in /home/sosa.s/.local/lib/python3.10/site-packages (from wandb) (1.3.3)\n",
      "Requirement already satisfied: setuptools in /apps/pytorch/2.0.1/lib/python3.10/site-packages (from wandb) (67.7.2)\n",
      "Requirement already satisfied: appdirs>=1.4.3 in /home/sosa.s/.local/lib/python3.10/site-packages (from wandb) (1.4.4)\n",
      "Requirement already satisfied: protobuf!=4.21.0,<5,>=3.19.0 in /home/sosa.s/.local/lib/python3.10/site-packages (from wandb) (4.25.1)\n",
      "Requirement already satisfied: six>=1.4.0 in /apps/pytorch/2.0.1/lib/python3.10/site-packages (from docker-pycreds>=0.4.0->wandb) (1.16.0)\n",
      "Requirement already satisfied: attrs>=17.3.0 in /apps/pytorch/2.0.1/lib/python3.10/site-packages (from aiohttp->datasets==2.13.0) (23.1.0)\n",
      "Requirement already satisfied: charset-normalizer<4.0,>=2.0 in /apps/pytorch/2.0.1/lib/python3.10/site-packages (from aiohttp->datasets==2.13.0) (3.1.0)\n",
      "Requirement already satisfied: multidict<7.0,>=4.5 in /apps/pytorch/2.0.1/lib/python3.10/site-packages (from aiohttp->datasets==2.13.0) (6.0.4)\n",
      "Requirement already satisfied: async-timeout<5.0,>=4.0.0a3 in /apps/pytorch/2.0.1/lib/python3.10/site-packages (from aiohttp->datasets==2.13.0) (4.0.3)\n",
      "Requirement already satisfied: yarl<2.0,>=1.0 in /apps/pytorch/2.0.1/lib/python3.10/site-packages (from aiohttp->datasets==2.13.0) (1.9.2)\n",
      "Requirement already satisfied: frozenlist>=1.1.1 in /apps/pytorch/2.0.1/lib/python3.10/site-packages (from aiohttp->datasets==2.13.0) (1.4.0)\n",
      "Requirement already satisfied: aiosignal>=1.1.2 in /apps/pytorch/2.0.1/lib/python3.10/site-packages (from aiohttp->datasets==2.13.0) (1.3.1)\n",
      "Requirement already satisfied: gitdb<5,>=4.0.1 in /home/sosa.s/.local/lib/python3.10/site-packages (from GitPython!=3.1.29,>=1.0.0->wandb) (4.0.11)\n",
      "Requirement already satisfied: typing-extensions>=3.7.4.3 in /apps/pytorch/2.0.1/lib/python3.10/site-packages (from huggingface-hub<1.0,>=0.16.4->transformers==4.34.0) (4.5.0)\n",
      "Requirement already satisfied: backcall in /apps/pytorch/2.0.1/lib/python3.10/site-packages (from ipython>=6.1.0->ipywidgets) (0.2.0)\n",
      "Requirement already satisfied: decorator in /apps/pytorch/2.0.1/lib/python3.10/site-packages (from ipython>=6.1.0->ipywidgets) (5.1.1)\n",
      "Requirement already satisfied: jedi>=0.16 in /apps/pytorch/2.0.1/lib/python3.10/site-packages (from ipython>=6.1.0->ipywidgets) (0.18.2)\n",
      "Requirement already satisfied: matplotlib-inline in /apps/pytorch/2.0.1/lib/python3.10/site-packages (from ipython>=6.1.0->ipywidgets) (0.1.6)\n",
      "Requirement already satisfied: pickleshare in /apps/pytorch/2.0.1/lib/python3.10/site-packages (from ipython>=6.1.0->ipywidgets) (0.7.5)\n",
      "Requirement already satisfied: prompt-toolkit!=3.0.37,<3.1.0,>=3.0.30 in /apps/pytorch/2.0.1/lib/python3.10/site-packages (from ipython>=6.1.0->ipywidgets) (3.0.38)\n",
      "Requirement already satisfied: pygments>=2.4.0 in /apps/pytorch/2.0.1/lib/python3.10/site-packages (from ipython>=6.1.0->ipywidgets) (2.15.1)\n",
      "Requirement already satisfied: stack-data in /apps/pytorch/2.0.1/lib/python3.10/site-packages (from ipython>=6.1.0->ipywidgets) (0.6.2)\n",
      "Requirement already satisfied: pexpect>4.3 in /apps/pytorch/2.0.1/lib/python3.10/site-packages (from ipython>=6.1.0->ipywidgets) (4.8.0)\n",
      "Requirement already satisfied: idna<4,>=2.5 in /apps/pytorch/2.0.1/lib/python3.10/site-packages (from requests->transformers==4.34.0) (3.4)\n",
      "Requirement already satisfied: urllib3<1.27,>=1.21.1 in /apps/pytorch/2.0.1/lib/python3.10/site-packages (from requests->transformers==4.34.0) (1.26.15)\n",
      "Requirement already satisfied: certifi>=2017.4.17 in /apps/pytorch/2.0.1/lib/python3.10/site-packages (from requests->transformers==4.34.0) (2023.7.22)\n",
      "Requirement already satisfied: sympy in /apps/pytorch/2.0.1/lib/python3.10/site-packages (from torch>=1.13.0->peft==0.4.0) (1.12)\n",
      "Requirement already satisfied: networkx in /apps/pytorch/2.0.1/lib/python3.10/site-packages (from torch>=1.13.0->peft==0.4.0) (3.1)\n",
      "Requirement already satisfied: jinja2 in /apps/pytorch/2.0.1/lib/python3.10/site-packages (from torch>=1.13.0->peft==0.4.0) (3.1.2)\n",
      "Requirement already satisfied: docstring-parser>=0.14.1 in /home/sosa.s/.local/lib/python3.10/site-packages (from tyro>=0.5.11->trl==0.7.4) (0.15)\n",
      "Requirement already satisfied: rich>=11.1.0 in /home/sosa.s/.local/lib/python3.10/site-packages (from tyro>=0.5.11->trl==0.7.4) (13.7.0)\n",
      "Requirement already satisfied: shtab>=1.5.6 in /home/sosa.s/.local/lib/python3.10/site-packages (from tyro>=0.5.11->trl==0.7.4) (1.6.4)\n",
      "Requirement already satisfied: python-dateutil>=2.8.2 in /apps/pytorch/2.0.1/lib/python3.10/site-packages (from pandas->datasets==2.13.0) (2.8.2)\n",
      "Requirement already satisfied: pytz>=2020.1 in /apps/pytorch/2.0.1/lib/python3.10/site-packages (from pandas->datasets==2.13.0) (2023.3)\n",
      "Requirement already satisfied: tzdata>=2022.1 in /home/sosa.s/.local/lib/python3.10/site-packages (from pandas->datasets==2.13.0) (2023.3)\n",
      "Requirement already satisfied: smmap<6,>=3.0.1 in /home/sosa.s/.local/lib/python3.10/site-packages (from gitdb<5,>=4.0.1->GitPython!=3.1.29,>=1.0.0->wandb) (5.0.1)\n",
      "Requirement already satisfied: parso<0.9.0,>=0.8.0 in /apps/pytorch/2.0.1/lib/python3.10/site-packages (from jedi>=0.16->ipython>=6.1.0->ipywidgets) (0.8.3)\n",
      "Requirement already satisfied: ptyprocess>=0.5 in /apps/pytorch/2.0.1/lib/python3.10/site-packages (from pexpect>4.3->ipython>=6.1.0->ipywidgets) (0.7.0)\n",
      "Requirement already satisfied: wcwidth in /apps/pytorch/2.0.1/lib/python3.10/site-packages (from prompt-toolkit!=3.0.37,<3.1.0,>=3.0.30->ipython>=6.1.0->ipywidgets) (0.2.6)\n",
      "Requirement already satisfied: markdown-it-py>=2.2.0 in /home/sosa.s/.local/lib/python3.10/site-packages (from rich>=11.1.0->tyro>=0.5.11->trl==0.7.4) (3.0.0)\n",
      "Requirement already satisfied: MarkupSafe>=2.0 in /apps/pytorch/2.0.1/lib/python3.10/site-packages (from jinja2->torch>=1.13.0->peft==0.4.0) (2.1.2)\n",
      "Requirement already satisfied: executing>=1.2.0 in /apps/pytorch/2.0.1/lib/python3.10/site-packages (from stack-data->ipython>=6.1.0->ipywidgets) (1.2.0)\n",
      "Requirement already satisfied: asttokens>=2.1.0 in /apps/pytorch/2.0.1/lib/python3.10/site-packages (from stack-data->ipython>=6.1.0->ipywidgets) (2.2.1)\n",
      "Requirement already satisfied: pure-eval in /apps/pytorch/2.0.1/lib/python3.10/site-packages (from stack-data->ipython>=6.1.0->ipywidgets) (0.2.2)\n",
      "Requirement already satisfied: mpmath>=0.19 in /apps/pytorch/2.0.1/lib/python3.10/site-packages (from sympy->torch>=1.13.0->peft==0.4.0) (1.3.0)\n",
      "Requirement already satisfied: mdurl~=0.1 in /home/sosa.s/.local/lib/python3.10/site-packages (from markdown-it-py>=2.2.0->rich>=11.1.0->tyro>=0.5.11->trl==0.7.4) (0.1.2)\n",
      "Defaulting to user installation because normal site-packages is not writeable\n",
      "Requirement already satisfied: ninja in /home/sosa.s/.local/lib/python3.10/site-packages (1.11.1.1)\n",
      "Requirement already satisfied: packaging in /apps/pytorch/2.0.1/lib/python3.10/site-packages (23.1)\n",
      "Defaulting to user installation because normal site-packages is not writeable\n",
      "Requirement already satisfied: flash-attn in /home/sosa.s/.local/lib/python3.10/site-packages (2.3.3)\n",
      "Requirement already satisfied: torch in /apps/pytorch/2.0.1/lib/python3.10/site-packages (from flash-attn) (2.0.1)\n",
      "Requirement already satisfied: einops in /home/sosa.s/.local/lib/python3.10/site-packages (from flash-attn) (0.7.0)\n",
      "Requirement already satisfied: packaging in /apps/pytorch/2.0.1/lib/python3.10/site-packages (from flash-attn) (23.1)\n",
      "Requirement already satisfied: ninja in /home/sosa.s/.local/lib/python3.10/site-packages (from flash-attn) (1.11.1.1)\n",
      "Requirement already satisfied: filelock in /apps/pytorch/2.0.1/lib/python3.10/site-packages (from torch->flash-attn) (3.12.0)\n",
      "Requirement already satisfied: typing-extensions in /apps/pytorch/2.0.1/lib/python3.10/site-packages (from torch->flash-attn) (4.5.0)\n",
      "Requirement already satisfied: sympy in /apps/pytorch/2.0.1/lib/python3.10/site-packages (from torch->flash-attn) (1.12)\n",
      "Requirement already satisfied: networkx in /apps/pytorch/2.0.1/lib/python3.10/site-packages (from torch->flash-attn) (3.1)\n",
      "Requirement already satisfied: jinja2 in /apps/pytorch/2.0.1/lib/python3.10/site-packages (from torch->flash-attn) (3.1.2)\n",
      "Requirement already satisfied: MarkupSafe>=2.0 in /apps/pytorch/2.0.1/lib/python3.10/site-packages (from jinja2->torch->flash-attn) (2.1.2)\n",
      "Requirement already satisfied: mpmath>=0.19 in /apps/pytorch/2.0.1/lib/python3.10/site-packages (from sympy->torch->flash-attn) (1.3.0)\n"
     ]
    }
   ],
   "source": [
    "!pip install \"transformers==4.34.0\" \"datasets==2.13.0\" \"peft==0.4.0\" \"accelerate==0.23.0\" \"bitsandbytes==0.41.1\" \"trl==0.7.4\" \"safetensors>=0.3.1\" ipywidgets wandb --upgrade\n",
    "!python -c \"import torch; assert torch.cuda.get_device_capability()[0] >= 8, 'Hardware not supported for Flash Attention'\"\n",
    "!pip install ninja packaging\n",
    "!MAX_JOBS=1 pip install flash-attn --no-build-isolation"
   ]
  },
  {
   "cell_type": "code",
   "execution_count": 2,
   "id": "2afb05ca-9182-4431-b115-0dcae7ddee89",
   "metadata": {},
   "outputs": [],
   "source": [
    "# add parent directory to path\n",
    "import sys\n",
    "import os\n",
    "\n",
    "project_dir = os.getcwd()\n",
    "parent_dir = os.path.dirname(project_dir)\n",
    "sys.path.insert(0, parent_dir)"
   ]
  },
  {
   "cell_type": "code",
   "execution_count": 3,
   "id": "011882ed",
   "metadata": {},
   "outputs": [],
   "source": [
    "# import json\n",
    "# from gaitor_function_calling.data.prompting_utils import n_shot_to_no_shot\n",
    "# with open(\"C:/Projects/function_calling/gaitor_function_calling/data/prompts_data-13b-2_shot.json\", \"r\") as f:\n",
    "#     prompts = json.load(f)\n",
    "\n",
    "# new_prompts = []\n",
    "# for prompt_obj in prompts:\n",
    "#     new_prompt_obj = {**prompt_obj}\n",
    "#     new_prompt_obj[\"expected_str\"] = n_shot_to_no_shot(prompt_obj[\"expected_str\"])\n",
    "#     new_prompt_obj[\"generated_str\"] = n_shot_to_no_shot(prompt_obj[\"generated_str\"])\n",
    "#     new_prompts.append(new_prompt_obj)\n",
    "\n",
    "# with open(\"C:/Projects/function_calling/gaitor_function_calling/data/prompts_data-13b-2_shot-no_shot.json\", \"w\") as f:\n",
    "#     json.dump(new_prompts, f, indent=4)\n"
   ]
  },
  {
   "cell_type": "code",
   "execution_count": 4,
   "id": "25034482",
   "metadata": {},
   "outputs": [
    {
     "name": "stderr",
     "output_type": "stream",
     "text": [
      "Failed to detect the name of this notebook, you can set it manually with the WANDB_NOTEBOOK_NAME environment variable to enable code saving.\n",
      "\u001b[34m\u001b[1mwandb\u001b[0m: Currently logged in as: \u001b[33msebastiansosa\u001b[0m. Use \u001b[1m`wandb login --relogin`\u001b[0m to force relogin\n"
     ]
    },
    {
     "data": {
      "text/html": [
       "Tracking run with wandb version 0.16.0"
      ],
      "text/plain": [
       "<IPython.core.display.HTML object>"
      ]
     },
     "metadata": {},
     "output_type": "display_data"
    },
    {
     "data": {
      "text/html": [
       "Run data is saved locally in <code>/home/sosa.s/gaitor_function_calling/wandb/run-20231128_142011-llama-7-chat-instruction-int4-fc-dpo-_5_beta</code>"
      ],
      "text/plain": [
       "<IPython.core.display.HTML object>"
      ]
     },
     "metadata": {},
     "output_type": "display_data"
    },
    {
     "data": {
      "text/html": [
       "Syncing run <strong><a href='https://wandb.ai/sebastiansosa/function_calling/runs/llama-7-chat-instruction-int4-fc-dpo-_5_beta' target=\"_blank\">llama-7-chat-instruction-int4-fc-dpo-_5_beta</a></strong> to <a href='https://wandb.ai/sebastiansosa/function_calling' target=\"_blank\">Weights & Biases</a> (<a href='https://wandb.me/run' target=\"_blank\">docs</a>)<br/>"
      ],
      "text/plain": [
       "<IPython.core.display.HTML object>"
      ]
     },
     "metadata": {},
     "output_type": "display_data"
    },
    {
     "data": {
      "text/html": [
       " View project at <a href='https://wandb.ai/sebastiansosa/function_calling' target=\"_blank\">https://wandb.ai/sebastiansosa/function_calling</a>"
      ],
      "text/plain": [
       "<IPython.core.display.HTML object>"
      ]
     },
     "metadata": {},
     "output_type": "display_data"
    },
    {
     "data": {
      "text/html": [
       " View run at <a href='https://wandb.ai/sebastiansosa/function_calling/runs/llama-7-chat-instruction-int4-fc-dpo-_5_beta' target=\"_blank\">https://wandb.ai/sebastiansosa/function_calling/runs/llama-7-chat-instruction-int4-fc-dpo-_5_beta</a>"
      ],
      "text/plain": [
       "<IPython.core.display.HTML object>"
      ]
     },
     "metadata": {},
     "output_type": "display_data"
    },
    {
     "data": {
      "application/vnd.jupyter.widget-view+json": {
       "model_id": "748fefffcd694c87bc1f0096d476d68b",
       "version_major": 2,
       "version_minor": 0
      },
      "text/plain": [
       "VBox(children=(HTML(value='<center> <img\\nsrc=https://huggingface.co/front/assets/huggingface_logo-noborder.sv…"
      ]
     },
     "metadata": {},
     "output_type": "display_data"
    }
   ],
   "source": [
    "# configs\n",
    "from huggingface_hub import notebook_login\n",
    "import wandb\n",
    "\n",
    "model_id = \"meta-llama/Llama-2-7b-chat-hf\"\n",
    "output_dir = \"llama-7-chat-instruction-int4-fc-dpo-_5_beta\"\n",
    "hub_model_id = f\"SebastianS/{output_dir}\"\n",
    "wandb.init(project=\"function_calling\", id=output_dir, entity=\"sebastiansosa\", notes=\"Trained for 3 epochs on 700+ samples of DPO formatted data generated by the 13B llama model with 2-shot prompting and using a beta of .5 .\")\n",
    "wandb.define_metric(\"fc_combine\", goal=\"maximize\")\n",
    "wandb.define_metric(\"exact_match\", goal=\"maximize\")\n",
    "wandb.define_metric(\"perplexity\", goal=\"minimize\")\n",
    "wandb.define_metric(\"epoch\")\n",
    "notebook_login()"
   ]
  },
  {
   "cell_type": "code",
   "execution_count": 5,
   "id": "4a8d0c0a-ac8c-4c48-b284-d96cd337a5ee",
   "metadata": {},
   "outputs": [
    {
     "name": "stdout",
     "output_type": "stream",
     "text": [
      "No train data found\n",
      "No test data found\n",
      "Skipped 0 items\n"
     ]
    },
    {
     "data": {
      "text/plain": [
       "DatasetDict({\n",
       "    train: Dataset({\n",
       "        features: ['prompt', 'chosen', 'rejected'],\n",
       "        num_rows: 715\n",
       "    })\n",
       "    test: Dataset({\n",
       "        features: ['prompt', 'chosen', 'rejected'],\n",
       "        num_rows: 15\n",
       "    })\n",
       "})"
      ]
     },
     "execution_count": 5,
     "metadata": {},
     "output_type": "execute_result"
    }
   ],
   "source": [
    "from gaitor_function_calling.data.data_utils import DataAbstractor, build_data_dpo\n",
    "import pandas as pd\n",
    "from datasets import Dataset, DatasetDict\n",
    "\n",
    "data_abstractor = DataAbstractor(\"prompts_data-13b-2_shot-no_shot.json\", \"dpo_eval\")\n",
    "\n",
    "train_dpo_data, test_dpo_data = build_data_dpo(data_abstractor.raw_data) # keep it split to ensure no overlap with sft eval\n",
    "\n",
    "train_dpo_df = pd.DataFrame(train_dpo_data)\n",
    "test_dpo_df = pd.DataFrame(test_dpo_data)\n",
    "\n",
    "train_dpo_dataset = Dataset.from_pandas(train_dpo_df)\n",
    "test_dpo_dataset = Dataset.from_pandas(test_dpo_df)\n",
    "\n",
    "dataset_dict = DatasetDict({\n",
    "    'train': train_dpo_dataset,\n",
    "    'test': test_dpo_dataset\n",
    "})\n",
    "\n",
    "dataset_dict"
   ]
  },
  {
   "cell_type": "code",
   "execution_count": 6,
   "id": "8769f7b5-5256-42d0-a660-34525e16b23e",
   "metadata": {},
   "outputs": [
    {
     "data": {
      "text/plain": [
       "DatasetDict({\n",
       "    train: Dataset({\n",
       "        features: ['text'],\n",
       "        num_rows: 833\n",
       "    })\n",
       "    test: Dataset({\n",
       "        features: ['text'],\n",
       "        num_rows: 17\n",
       "    })\n",
       "})"
      ]
     },
     "execution_count": 6,
     "metadata": {},
     "output_type": "execute_result"
    }
   ],
   "source": [
    "# get data and convert to Datasets format\n",
    "import pandas as pd\n",
    "from datasets import Dataset, DatasetDict\n",
    "from gaitor_function_calling.data.data_utils import DataAbstractor\n",
    "from gaitor_function_calling.data.prompting_utils import INSTRUCTION\n",
    "\n",
    "sft_data_abstractor = DataAbstractor(\"production_data-without_summary-only_fc.json\", \"sft\")\n",
    "\n",
    "sft_train_df = pd.DataFrame(sft_data_abstractor.train_data)\n",
    "sft_test_df = pd.DataFrame(sft_data_abstractor.test_data)\n",
    "\n",
    "sft_train_dataset = Dataset.from_pandas(sft_train_df)\n",
    "sft_test_dataset = Dataset.from_pandas(sft_test_df)\n",
    "\n",
    "sft_dataset_dict = DatasetDict({\n",
    "    'train': sft_train_dataset,\n",
    "    'test': sft_test_dataset\n",
    "})\n",
    "\n",
    "sft_dataset_dict"
   ]
  },
  {
   "cell_type": "code",
   "execution_count": 7,
   "id": "baf42525",
   "metadata": {},
   "outputs": [],
   "source": [
    "# setup metrics and evaluation\n",
    "import json\n",
    "from transformers import EvalPrediction\n",
    "from gaitor_function_calling.evaluation.evaluation_utils import FunctionCallingMetric, compute_perplexity, get_logits_and_labels\n",
    "from gaitor_function_calling.data.prompting_utils import INSTRUCTION, json_arguments_from_prompt\n",
    "import numpy as np\n",
    "\n",
    "fc_metric = FunctionCallingMetric()\n",
    "def config_compute_metrics(tokenizer):\n",
    "    def compute_metrics(pred: EvalPrediction):\n",
    "        # pred.predictions are a batch of logits\n",
    "        # pred.label_ids are a batch of tokens\n",
    "        token_ids = np.argmax(pred.predictions, axis=-1)\n",
    "        predictions = tokenizer.batch_decode(token_ids, skip_special_tokens=False)\n",
    "        labels = tokenizer.batch_decode(pred.label_ids, skip_special_tokens=False)\n",
    "        \n",
    "        \n",
    "    \n",
    "        # Now use your metric class\n",
    "        fc_result = fc_metric.run(predictions, labels)  # Implement this method in your class\n",
    "    \n",
    "        return {\n",
    "            \"fc_combine\": fc_result\n",
    "        }\n",
    "    return compute_metrics\n",
    "\n",
    "def custom_evaluation(eval_dataset, model, tokenizer, epoch, save_prompts_path=False):\n",
    "    print(\"Starting custom evaluation.\")\n",
    "    model.eval()  # Set the model to evaluation mode\n",
    "    results = {}\n",
    "\n",
    "    fc_results = []\n",
    "    exact_match_results = []\n",
    "    perplexity_results = []\n",
    "\n",
    "\n",
    "    if save_prompts_path:\n",
    "        try:\n",
    "            with open(save_prompts_path, \"r\") as f:\n",
    "                dpo_data = json.load(f)\n",
    "        except:\n",
    "            dpo_data = []\n",
    "\n",
    "\n",
    "    for idx, example in enumerate(eval_dataset):\n",
    "        print(f\"Example {idx}: \", end=\"\")\n",
    "        post_message = \"\"\n",
    "        \n",
    "        # Custom Function Calling metric\n",
    "        prompts = None\n",
    "        try:\n",
    "            generated_arguments, expected_arguments, prompts = json_arguments_from_prompt(\n",
    "                example[\"text\"],\n",
    "                model,\n",
    "                tokenizer,\n",
    "                INSTRUCTION,\n",
    "                {\"idx\": idx, \"epoch\": epoch}\n",
    "            )\n",
    "            fc_result = fc_metric.run(generated_arguments, expected_arguments)\n",
    "\n",
    "            fc_results.append(fc_result)\n",
    "\n",
    "            if save_prompts_path:\n",
    "                # add prompts to dpo_data.json\n",
    "                dpo_data.append({\n",
    "                    \"fc_result\": fc_result,\n",
    "                    **prompts\n",
    "                })\n",
    "                with open(save_prompts_path, \"w\") as f:\n",
    "                    json.dump(dpo_data, f)\n",
    "        except Exception as e:\n",
    "            post_message += f\"Error function calling: {e}\\n\"\n",
    "            fc_results.append(0)\n",
    "\n",
    "        # exact match metric\n",
    "        if prompts:\n",
    "            exact_match_res = fc_metric._sentence_similarity(prompts[\"expected_str\"].split(\"[/INST]\")[1], prompts[\"generated_str\"].split(\"[/INST]\")[1])\n",
    "            exact_match_results.append(exact_match_res)\n",
    "        else:\n",
    "            exact_match_results.append(0)\n",
    "\n",
    "        # perplexity metric\n",
    "        try:\n",
    "            logits, labels = get_logits_and_labels(example[\"text\"], model, tokenizer)\n",
    "            perplexity = compute_perplexity(logits[..., :-1, :], labels).item()\n",
    "            perplexity_results.append(perplexity)\n",
    "        except Exception as e:\n",
    "            post_message += f\"Error perplexity: {e}\\n\"\n",
    "            # perplexity_results.append(float('inf'))\n",
    "\n",
    "        example_metric = {\n",
    "            \"fc_combine\": fc_results[-1],\n",
    "            \"exact_match\": exact_match_results[-1],\n",
    "            \"perplexity\": perplexity_results[-1] if len(perplexity_results) else None\n",
    "        }\n",
    "        print(example_metric)\n",
    "        if post_message:\n",
    "            print(post_message)\n",
    "        \n",
    "    results[\"fc_combine\"] =  sum(fc_results) / len(fc_results)\n",
    "    results[\"exact_match\"] =  sum(exact_match_results) / len(exact_match_results)\n",
    "    results[\"perplexity\"] =  sum(perplexity_results) / len(perplexity_results) if len(perplexity_results) else 1\n",
    "\n",
    "    return results"
   ]
  },
  {
   "cell_type": "code",
   "execution_count": 9,
   "id": "16124072-6aed-4ac1-ba73-e20fcefae510",
   "metadata": {},
   "outputs": [
    {
     "data": {
      "application/vnd.jupyter.widget-view+json": {
       "model_id": "a14926b3043b4b39a3a70f17ae1b2417",
       "version_major": 2,
       "version_minor": 0
      },
      "text/plain": [
       "Loading checkpoint shards:   0%|          | 0/2 [00:00<?, ?it/s]"
      ]
     },
     "metadata": {},
     "output_type": "display_data"
    }
   ],
   "source": [
    "# base LLM model and tokenizer\n",
    "import torch\n",
    "from transformers import AutoTokenizer, AutoModelForCausalLM, BitsAndBytesConfig\n",
    "\n",
    "use_flash_attention = False\n",
    "\n",
    "# BitsAndBytesConfig int-4 config\n",
    "bnb_config = BitsAndBytesConfig(\n",
    "    load_in_4bit=True,\n",
    "    bnb_4bit_use_double_quant=True,\n",
    "    bnb_4bit_quant_type=\"nf4\",\n",
    "    bnb_4bit_compute_dtype=torch.bfloat16\n",
    ")\n",
    "\n",
    "# Load model and tokenizer\n",
    "model = AutoModelForCausalLM.from_pretrained(\n",
    "    model_id,\n",
    "    # quantization_config=bnb_config,\n",
    "    use_cache=False,\n",
    "    use_flash_attention_2=use_flash_attention,\n",
    "    device_map=\"auto\",\n",
    ")\n",
    "model.config.pretraining_tp = 1\n",
    "\n",
    "\n",
    "tokenizer = AutoTokenizer.from_pretrained(model_id)\n",
    "tokenizer.pad_token = tokenizer.eos_token\n",
    "tokenizer.padding_side = \"right\""
   ]
  },
  {
   "cell_type": "code",
   "execution_count": 10,
   "id": "55892037-b235-4015-aaa1-4df707c8f19e",
   "metadata": {},
   "outputs": [],
   "source": [
    "# peft config on the model\n",
    "from peft import LoraConfig, prepare_model_for_kbit_training, get_peft_model\n",
    "\n",
    "# LoRA config based on QLoRA paper\n",
    "peft_config = LoraConfig(\n",
    "        lora_alpha=16,\n",
    "        lora_dropout=0.1,\n",
    "        r=64,\n",
    "        bias=\"none\",\n",
    "        task_type=\"CAUSAL_LM\",\n",
    ")\n",
    "\n",
    "\n",
    "# prepare model for training\n",
    "model = prepare_model_for_kbit_training(model)\n",
    "model = get_peft_model(model, peft_config)\n"
   ]
  },
  {
   "cell_type": "code",
   "execution_count": 11,
   "id": "94f62443",
   "metadata": {},
   "outputs": [
    {
     "name": "stderr",
     "output_type": "stream",
     "text": [
      "/home/sosa.s/.local/lib/python3.10/site-packages/trl/trainer/ppo_config.py:141: UserWarning: The `optimize_cuda_cache` arguement will be deprecated soon, please use `optimize_device_cache` instead.\n",
      "  warnings.warn(\n",
      "/home/sosa.s/.local/lib/python3.10/site-packages/trl/trainer/dpo_trainer.py:262: UserWarning: When using DPODataCollatorWithPadding, you should set `max_prompt_length` in the DPOTrainer's init it will be set to `128` by default, but you should do it yourself in the future.\n",
      "  warnings.warn(\n",
      "/home/sosa.s/.local/lib/python3.10/site-packages/trl/trainer/dpo_trainer.py:291: UserWarning: When using DPODataCollatorWithPadding, you should set `remove_unused_columns=False` in your TrainingArguments we have set it for you, but you should do it yourself in the future.\n",
      "  warnings.warn(\n"
     ]
    }
   ],
   "source": [
    "# training config\n",
    "from transformers import TrainingArguments\n",
    "from trl import DPOTrainer\n",
    "from peft import LoraConfig\n",
    "\n",
    "use_flash_attention = False\n",
    "\n",
    "args = TrainingArguments(\n",
    "    output_dir=output_dir,\n",
    "    num_train_epochs=1,\n",
    "    per_device_train_batch_size=6 if use_flash_attention else 4,\n",
    "    per_device_eval_batch_size=1,\n",
    "    gradient_accumulation_steps=2,\n",
    "    gradient_checkpointing=True,\n",
    "    optim=\"paged_adamw_32bit\",\n",
    "    logging_steps=10,\n",
    "    save_strategy=\"epoch\",\n",
    "    learning_rate=2e-4,\n",
    "    bf16=True,\n",
    "    tf32=True,\n",
    "    max_grad_norm=0.3,\n",
    "    warmup_ratio=0.03,\n",
    "    lr_scheduler_type=\"constant\",\n",
    "    report_to=\"wandb\",\n",
    "    push_to_hub=True,  # Enable pushing to Hub\n",
    "    hub_model_id=hub_model_id,  # Hugging Face Hub model ID\n",
    "    hub_strategy=\"every_save\",  # Push to Hub every epoch\n",
    "    disable_tqdm=True # disable tqdm since with packing values are in correct\n",
    ")\n",
    "\n",
    "max_seq_length = 2048 # max sequence length for model and packing of the dataset\n",
    "\n",
    "trainer = DPOTrainer(\n",
    "    model,\n",
    "    beta=0.5,\n",
    "    train_dataset=dataset_dict[\"train\"],\n",
    "    tokenizer=tokenizer,\n",
    "    args=args,\n",
    "    peft_config=peft_config,\n",
    "    max_length=max_seq_length,\n",
    ")"
   ]
  },
  {
   "cell_type": "code",
   "execution_count": 12,
   "id": "77897708",
   "metadata": {},
   "outputs": [
    {
     "name": "stderr",
     "output_type": "stream",
     "text": [
      "Asking to truncate to max_length but no maximum length is provided and the model has no predefined maximum length. Default to no truncation.\n"
     ]
    },
    {
     "name": "stdout",
     "output_type": "stream",
     "text": [
      "Starting custom evaluation.\n",
      "Example 0: {'fc_combine': 0.3577747344970703, 'exact_match': 0.8308500051498413, 'perplexity': 6.818745136260986}\n",
      "Example 1: {'fc_combine': 0.36043891310691833, 'exact_match': 0.7130554914474487, 'perplexity': 6.76043701171875}\n",
      "Example 2: {'fc_combine': 0, 'exact_match': 0, 'perplexity': 7.09403657913208}\n",
      "Error function calling: 'NoneType' object has no attribute 'group'\n",
      "\n",
      "Example 3: {'fc_combine': 0, 'exact_match': 0, 'perplexity': 9.144186019897461}\n",
      "Error function calling: 'NoneType' object has no attribute 'group'\n",
      "\n",
      "Example 4: {'fc_combine': 0, 'exact_match': 0, 'perplexity': 9.144186019897461}\n",
      "Error function calling: No function call found in generated data\n",
      "\n",
      "Example 5: {'fc_combine': 0, 'exact_match': 0, 'perplexity': 15.047759056091309}\n",
      "Error function calling: 'NoneType' object has no attribute 'group'\n",
      "\n",
      "Example 6: {'fc_combine': 0, 'exact_match': 0, 'perplexity': 15.047759056091309}\n",
      "Error function calling: No function call found in generated data\n",
      "\n",
      "Example 7: {'fc_combine': 0, 'exact_match': 0.8533605337142944, 'perplexity': 14.794413566589355}\n",
      "Error function calling: division by zero\n",
      "\n",
      "Example 8: {'fc_combine': 0, 'exact_match': 0, 'perplexity': 14.357425689697266}\n",
      "Error function calling: Expecting value: line 1 column 1 (char 0)\n",
      "\n",
      "Example 9: {'fc_combine': 0, 'exact_match': 0, 'perplexity': 8.806879043579102}\n",
      "Error function calling: 'NoneType' object has no attribute 'group'\n",
      "\n",
      "Example 10: {'fc_combine': 0, 'exact_match': 0, 'perplexity': 15.149415969848633}\n",
      "Error function calling: No function call found in generated data\n",
      "\n",
      "Example 11: {'fc_combine': 0, 'exact_match': 0, 'perplexity': 13.254606246948242}\n",
      "Error function calling: No function call found in generated data\n",
      "\n",
      "Example 12: {'fc_combine': 0, 'exact_match': 0.6695130467414856, 'perplexity': 13.254606246948242}\n",
      "Error function calling: division by zero\n",
      "\n",
      "Example 13: {'fc_combine': 0, 'exact_match': 0, 'perplexity': 14.199463844299316}\n",
      "Error function calling: No function call found in generated data\n",
      "\n",
      "Example 14: {'fc_combine': 0, 'exact_match': 0, 'perplexity': 6.458526611328125}\n",
      "Error function calling: No function call found in generated data\n",
      "\n",
      "Example 15: {'fc_combine': 0, 'exact_match': 0, 'perplexity': 9.974215507507324}\n",
      "Error function calling: No function call found in generated data\n",
      "\n",
      "Example 16: {'fc_combine': 0, 'exact_match': 0, 'perplexity': 6.5170745849609375}\n",
      "Error function calling: No function call found in generated data\n",
      "\n",
      "Evaluation results for epoch -1: {'fc_combine': 0.04224786162376404, 'exact_match': 0.18039876923841588, 'perplexity': 10.930808011223288}\n",
      "Begin epoch 0\n"
     ]
    },
    {
     "name": "stderr",
     "output_type": "stream",
     "text": [
      "/apps/pytorch/2.0.1/lib/python3.10/site-packages/torch/utils/checkpoint.py:31: UserWarning: None of the inputs have requires_grad=True. Gradients will be None\n",
      "  warnings.warn(\"None of the inputs have requires_grad=True. Gradients will be None\")\n",
      "Could not estimate the number of tokens of the input, floating-point operations will not be computed\n"
     ]
    },
    {
     "name": "stdout",
     "output_type": "stream",
     "text": [
      "{'loss': 0.623, 'learning_rate': 0.0002, 'rewards/chosen': -0.5104681253433228, 'rewards/rejected': -1.0584181547164917, 'rewards/accuracies': 0.48750001192092896, 'rewards/margins': 0.5479501485824585, 'logps/rejected': -33.82159423828125, 'logps/chosen': -43.675880432128906, 'logits/rejected': -0.1216442808508873, 'logits/chosen': -0.10507483780384064, 'epoch': 0.11}\n",
      "{'loss': 0.7007, 'learning_rate': 0.0002, 'rewards/chosen': -0.3357903063297272, 'rewards/rejected': -1.8613595962524414, 'rewards/accuracies': 0.4749999940395355, 'rewards/margins': 1.5255694389343262, 'logps/rejected': -36.221824645996094, 'logps/chosen': -37.18891906738281, 'logits/rejected': -0.26771512627601624, 'logits/chosen': -0.2613884508609772, 'epoch': 0.22}\n",
      "{'loss': 0.3905, 'learning_rate': 0.0002, 'rewards/chosen': 1.103568434715271, 'rewards/rejected': -1.7007964849472046, 'rewards/accuracies': 0.6000000238418579, 'rewards/margins': 2.8043651580810547, 'logps/rejected': -35.97684097290039, 'logps/chosen': -37.38704299926758, 'logits/rejected': -0.20525212585926056, 'logits/chosen': -0.20994798839092255, 'epoch': 0.34}\n",
      "{'loss': 0.4592, 'learning_rate': 0.0002, 'rewards/chosen': 1.1553658246994019, 'rewards/rejected': -1.160186767578125, 'rewards/accuracies': 0.48750001192092896, 'rewards/margins': 2.3155524730682373, 'logps/rejected': -34.790687561035156, 'logps/chosen': -38.2064323425293, 'logits/rejected': -0.29316267371177673, 'logits/chosen': -0.28201824426651, 'epoch': 0.45}\n",
      "{'loss': 0.4939, 'learning_rate': 0.0002, 'rewards/chosen': 2.1073570251464844, 'rewards/rejected': -0.6422621011734009, 'rewards/accuracies': 0.550000011920929, 'rewards/margins': 2.7496190071105957, 'logps/rejected': -34.2863655090332, 'logps/chosen': -36.516483306884766, 'logits/rejected': -0.3203437328338623, 'logits/chosen': -0.315015584230423, 'epoch': 0.56}\n",
      "{'loss': 0.3644, 'learning_rate': 0.0002, 'rewards/chosen': 3.392754316329956, 'rewards/rejected': -0.3135000765323639, 'rewards/accuracies': 0.6000000238418579, 'rewards/margins': 3.706254482269287, 'logps/rejected': -33.16553497314453, 'logps/chosen': -36.4803352355957, 'logits/rejected': -0.3116142749786377, 'logits/chosen': -0.30920618772506714, 'epoch': 0.67}\n",
      "{'loss': 0.3805, 'learning_rate': 0.0002, 'rewards/chosen': 2.1132216453552246, 'rewards/rejected': -2.9785141944885254, 'rewards/accuracies': 0.6000000238418579, 'rewards/margins': 5.09173583984375, 'logps/rejected': -37.68764877319336, 'logps/chosen': -36.66320037841797, 'logits/rejected': -0.3482995927333832, 'logits/chosen': -0.3444824814796448, 'epoch': 0.78}\n",
      "{'loss': 0.5015, 'learning_rate': 0.0002, 'rewards/chosen': -2.0455822944641113, 'rewards/rejected': -6.630725860595703, 'rewards/accuracies': 0.5, 'rewards/margins': 4.585143089294434, 'logps/rejected': -43.677040100097656, 'logps/chosen': -39.03407287597656, 'logits/rejected': -0.3422398567199707, 'logits/chosen': -0.3442211151123047, 'epoch': 0.89}\n",
      "{'train_runtime': 483.247, 'train_samples_per_second': 1.48, 'train_steps_per_second': 0.184, 'train_loss': 0.486009345965439, 'epoch': 0.99}\n",
      "Starting custom evaluation.\n",
      "Example 0: {'fc_combine': 0, 'exact_match': 0, 'perplexity': 6.329588890075684}\n",
      "Error function calling: No function call found in generated data\n",
      "\n",
      "Example 1: {'fc_combine': 0, 'exact_match': 0, 'perplexity': 6.377665996551514}\n",
      "Error function calling: No function call found in generated data\n",
      "\n",
      "Example 2: {'fc_combine': 0, 'exact_match': 0.607509195804596, 'perplexity': 6.551294326782227}\n",
      "Error function calling: max() arg is an empty sequence\n",
      "\n",
      "Example 3: {'fc_combine': 0, 'exact_match': 0, 'perplexity': 9.963951110839844}\n",
      "Error function calling: No function call found in generated data\n",
      "\n",
      "Example 4: {'fc_combine': 0, 'exact_match': 0.6922696828842163, 'perplexity': 9.963951110839844}\n",
      "Error function calling: max() arg is an empty sequence\n",
      "\n",
      "Example 5: {'fc_combine': 0, 'exact_match': 0, 'perplexity': 13.0610990524292}\n",
      "Error function calling: No function call found in generated data\n",
      "\n",
      "Example 6: {'fc_combine': 0, 'exact_match': 0, 'perplexity': 13.0610990524292}\n",
      "Error function calling: No function call found in generated data\n",
      "\n",
      "Example 7: {'fc_combine': 0, 'exact_match': 0, 'perplexity': 13.098773002624512}\n",
      "Error function calling: No function call found in generated data\n",
      "\n",
      "Example 8: {'fc_combine': 0, 'exact_match': 0, 'perplexity': 12.897500038146973}\n",
      "Error function calling: No function call found in generated data\n",
      "\n",
      "Example 9: {'fc_combine': 0, 'exact_match': 0, 'perplexity': 9.253120422363281}\n",
      "Error function calling: No function call found in generated data\n",
      "\n",
      "Example 10: {'fc_combine': 0, 'exact_match': 0, 'perplexity': 13.505338668823242}\n",
      "Error function calling: No function call found in generated data\n",
      "\n",
      "Example 11: {'fc_combine': 0, 'exact_match': 0, 'perplexity': 11.79938793182373}\n",
      "Error function calling: Expecting value: line 1 column 1 (char 0)\n",
      "\n",
      "Example 12: {'fc_combine': 0, 'exact_match': 0.6812224984169006, 'perplexity': 11.79938793182373}\n",
      "Error function calling: division by zero\n",
      "\n",
      "Example 13: {'fc_combine': 0, 'exact_match': 0, 'perplexity': 13.214245796203613}\n",
      "Error function calling: No function call found in generated data\n",
      "\n",
      "Example 14: {'fc_combine': 0, 'exact_match': 0, 'perplexity': 7.0287065505981445}\n",
      "Error function calling: No function call found in generated data\n",
      "\n",
      "Example 15: {'fc_combine': 0, 'exact_match': 0, 'perplexity': 9.702871322631836}\n",
      "Error function calling: No function call found in generated data\n",
      "\n",
      "Example 16: {'fc_combine': 0, 'exact_match': 0, 'perplexity': 6.210555076599121}\n",
      "Error function calling: No function call found in generated data\n",
      "\n",
      "Evaluation results for epoch 0: {'fc_combine': 0.0, 'exact_match': 0.11652949277092428, 'perplexity': 10.224619781269746}\n",
      "\n",
      "\n",
      "\n",
      "Begin epoch 1\n"
     ]
    },
    {
     "name": "stderr",
     "output_type": "stream",
     "text": [
      "/apps/pytorch/2.0.1/lib/python3.10/site-packages/torch/utils/checkpoint.py:31: UserWarning: None of the inputs have requires_grad=True. Gradients will be None\n",
      "  warnings.warn(\"None of the inputs have requires_grad=True. Gradients will be None\")\n"
     ]
    },
    {
     "name": "stdout",
     "output_type": "stream",
     "text": [
      "{'loss': 0.4111, 'learning_rate': 0.0002, 'rewards/chosen': -7.942717552185059, 'rewards/rejected': -13.166648864746094, 'rewards/accuracies': 0.5789473652839661, 'rewards/margins': 5.223931789398193, 'logps/rejected': -57.800838470458984, 'logps/chosen': -56.78969192504883, 'logits/rejected': -0.3490375578403473, 'logits/chosen': -0.3505941331386566, 'epoch': 0.11}\n",
      "{'loss': 0.4059, 'learning_rate': 0.0002, 'rewards/chosen': -9.244933128356934, 'rewards/rejected': -14.763525009155273, 'rewards/accuracies': 0.6000000238418579, 'rewards/margins': 5.518592357635498, 'logps/rejected': -59.670387268066406, 'logps/chosen': -57.719764709472656, 'logits/rejected': -0.3083796799182892, 'logits/chosen': -0.31523144245147705, 'epoch': 0.22}\n",
      "{'loss': 0.2848, 'learning_rate': 0.0002, 'rewards/chosen': -7.134912014007568, 'rewards/rejected': -13.916926383972168, 'rewards/accuracies': 0.612500011920929, 'rewards/margins': 6.782012939453125, 'logps/rejected': -57.55754470825195, 'logps/chosen': -52.12229537963867, 'logits/rejected': -0.25205716490745544, 'logits/chosen': -0.2456519901752472, 'epoch': 0.34}\n",
      "{'loss': 0.3327, 'learning_rate': 0.0002, 'rewards/chosen': -7.608589172363281, 'rewards/rejected': -13.573568344116211, 'rewards/accuracies': 0.5249999761581421, 'rewards/margins': 5.9649810791015625, 'logps/rejected': -56.7774658203125, 'logps/chosen': -51.23722457885742, 'logits/rejected': -0.13298936188220978, 'logits/chosen': -0.14188018441200256, 'epoch': 0.45}\n",
      "{'loss': 0.2598, 'learning_rate': 0.0002, 'rewards/chosen': -7.729549407958984, 'rewards/rejected': -14.751153945922852, 'rewards/accuracies': 0.637499988079071, 'rewards/margins': 7.021604061126709, 'logps/rejected': -60.438255310058594, 'logps/chosen': -57.774375915527344, 'logits/rejected': -0.2073480784893036, 'logits/chosen': -0.20760977268218994, 'epoch': 0.56}\n",
      "{'loss': 0.2371, 'learning_rate': 0.0002, 'rewards/chosen': -8.951234817504883, 'rewards/rejected': -15.297017097473145, 'rewards/accuracies': 0.6875, 'rewards/margins': 6.345782279968262, 'logps/rejected': -63.117088317871094, 'logps/chosen': -57.68743133544922, 'logits/rejected': -0.04911869764328003, 'logits/chosen': -0.039954304695129395, 'epoch': 0.67}\n",
      "{'loss': 0.3075, 'learning_rate': 0.0002, 'rewards/chosen': -5.873562335968018, 'rewards/rejected': -12.966745376586914, 'rewards/accuracies': 0.6625000238418579, 'rewards/margins': 7.0931830406188965, 'logps/rejected': -59.889808654785156, 'logps/chosen': -51.8019905090332, 'logits/rejected': -0.07731680572032928, 'logits/chosen': -0.07343363016843796, 'epoch': 0.78}\n",
      "{'loss': 0.3081, 'learning_rate': 0.0002, 'rewards/chosen': -4.568016052246094, 'rewards/rejected': -11.91690444946289, 'rewards/accuracies': 0.637499988079071, 'rewards/margins': 7.348888397216797, 'logps/rejected': -61.2484130859375, 'logps/chosen': -51.75782012939453, 'logits/rejected': -0.12355341017246246, 'logits/chosen': -0.11334170401096344, 'epoch': 0.89}\n",
      "{'train_runtime': 472.8444, 'train_samples_per_second': 1.512, 'train_steps_per_second': 0.188, 'train_loss': 0.31368362501765906, 'epoch': 0.99}\n",
      "Starting custom evaluation.\n",
      "Example 0: {'fc_combine': 0, 'exact_match': 0, 'perplexity': 6.205088138580322}\n",
      "Error function calling: 'NoneType' object has no attribute 'group'\n",
      "\n",
      "Example 1: {'fc_combine': 0, 'exact_match': 0, 'perplexity': 6.651346683502197}\n",
      "Error function calling: Expecting value: line 1 column 1 (char 0)\n",
      "\n",
      "Example 2: {'fc_combine': 0, 'exact_match': 0, 'perplexity': 6.95668888092041}\n",
      "Error function calling: Expecting value: line 1 column 1 (char 0)\n",
      "\n",
      "Example 3: {'fc_combine': 0, 'exact_match': 0.8334592580795288, 'perplexity': 9.451249122619629}\n",
      "Error function calling: max() arg is an empty sequence\n",
      "\n",
      "Example 4: {'fc_combine': 0, 'exact_match': 0, 'perplexity': 9.451249122619629}\n",
      "Error function calling: 'NoneType' object has no attribute 'group'\n",
      "\n",
      "Example 5: {'fc_combine': 0, 'exact_match': 0, 'perplexity': 13.492841720581055}\n",
      "Error function calling: Expecting value: line 1 column 1 (char 0)\n",
      "\n",
      "Example 6: {'fc_combine': 0, 'exact_match': 0, 'perplexity': 13.492841720581055}\n",
      "Error function calling: No function call found in generated data\n",
      "\n",
      "Example 7: {'fc_combine': 0, 'exact_match': 0, 'perplexity': 13.725737571716309}\n",
      "Error function calling: 'NoneType' object has no attribute 'group'\n",
      "\n",
      "Example 8: {'fc_combine': 0, 'exact_match': 0, 'perplexity': 13.305782318115234}\n",
      "Error function calling: Expecting value: line 1 column 1 (char 0)\n",
      "\n",
      "Example 9: {'fc_combine': 0, 'exact_match': 0, 'perplexity': 8.827147483825684}\n",
      "Error function calling: No function call found in generated data\n",
      "\n",
      "Example 10: {'fc_combine': 0, 'exact_match': 0, 'perplexity': 14.018284797668457}\n",
      "Error function calling: 'NoneType' object has no attribute 'group'\n",
      "\n",
      "Example 11: {'fc_combine': 0, 'exact_match': 0, 'perplexity': 12.06550407409668}\n",
      "Error function calling: No function call found in generated data\n",
      "\n",
      "Example 12: {'fc_combine': 0, 'exact_match': 0, 'perplexity': 12.06550407409668}\n",
      "Error function calling: 'NoneType' object has no attribute 'group'\n",
      "\n",
      "Example 13: {'fc_combine': 0, 'exact_match': 0, 'perplexity': 13.606431007385254}\n",
      "Error function calling: No function call found in generated data\n",
      "\n",
      "Example 14: {'fc_combine': 0, 'exact_match': 0, 'perplexity': 6.702523708343506}\n",
      "Error function calling: No function call found in generated data\n",
      "\n",
      "Example 15: {'fc_combine': 0, 'exact_match': 0, 'perplexity': 9.416142463684082}\n",
      "Error function calling: No function call found in generated data\n",
      "\n",
      "Example 16: {'fc_combine': 0, 'exact_match': 0, 'perplexity': 6.2117462158203125}\n",
      "Error function calling: 'NoneType' object has no attribute 'group'\n",
      "\n",
      "Evaluation results for epoch 1: {'fc_combine': 0.0, 'exact_match': 0.049027015181148756, 'perplexity': 10.332124064950381}\n",
      "\n",
      "\n",
      "\n",
      "Begin epoch 2\n"
     ]
    },
    {
     "name": "stderr",
     "output_type": "stream",
     "text": [
      "/apps/pytorch/2.0.1/lib/python3.10/site-packages/torch/utils/checkpoint.py:31: UserWarning: None of the inputs have requires_grad=True. Gradients will be None\n",
      "  warnings.warn(\"None of the inputs have requires_grad=True. Gradients will be None\")\n"
     ]
    },
    {
     "name": "stdout",
     "output_type": "stream",
     "text": [
      "{'loss': 0.2534, 'learning_rate': 0.0002, 'rewards/chosen': -6.116293430328369, 'rewards/rejected': -13.921222686767578, 'rewards/accuracies': 0.7236841917037964, 'rewards/margins': 7.804930210113525, 'logps/rejected': -62.0134162902832, 'logps/chosen': -57.79282760620117, 'logits/rejected': -0.0896540954709053, 'logits/chosen': -0.08106567710638046, 'epoch': 0.11}\n",
      "{'loss': 0.3213, 'learning_rate': 0.0002, 'rewards/chosen': -8.327025413513184, 'rewards/rejected': -14.768373489379883, 'rewards/accuracies': 0.5375000238418579, 'rewards/margins': 6.441347599029541, 'logps/rejected': -60.68284225463867, 'logps/chosen': -59.54541778564453, 'logits/rejected': -0.16882255673408508, 'logits/chosen': -0.1560194194316864, 'epoch': 0.22}\n",
      "{'loss': 0.2522, 'learning_rate': 0.0002, 'rewards/chosen': -8.517793655395508, 'rewards/rejected': -17.18931007385254, 'rewards/accuracies': 0.637499988079071, 'rewards/margins': 8.671516418457031, 'logps/rejected': -65.05168151855469, 'logps/chosen': -51.24958419799805, 'logits/rejected': -0.09495823830366135, 'logits/chosen': -0.09567131847143173, 'epoch': 0.34}\n",
      "{'loss': 0.2664, 'learning_rate': 0.0002, 'rewards/chosen': -9.592018127441406, 'rewards/rejected': -17.869226455688477, 'rewards/accuracies': 0.637499988079071, 'rewards/margins': 8.277207374572754, 'logps/rejected': -67.57840728759766, 'logps/chosen': -63.49034881591797, 'logits/rejected': -0.10491065680980682, 'logits/chosen': -0.08560444414615631, 'epoch': 0.45}\n",
      "{'loss': 0.2478, 'learning_rate': 0.0002, 'rewards/chosen': -7.958019256591797, 'rewards/rejected': -16.577877044677734, 'rewards/accuracies': 0.6499999761581421, 'rewards/margins': 8.619856834411621, 'logps/rejected': -68.65998077392578, 'logps/chosen': -57.1702766418457, 'logits/rejected': -0.13130077719688416, 'logits/chosen': -0.1369883269071579, 'epoch': 0.56}\n",
      "{'loss': 0.2442, 'learning_rate': 0.0002, 'rewards/chosen': -8.428018569946289, 'rewards/rejected': -17.308979034423828, 'rewards/accuracies': 0.6499999761581421, 'rewards/margins': 8.880960464477539, 'logps/rejected': -66.58387756347656, 'logps/chosen': -56.27241897583008, 'logits/rejected': -0.25221389532089233, 'logits/chosen': -0.2631029188632965, 'epoch': 0.67}\n",
      "{'loss': 0.2802, 'learning_rate': 0.0002, 'rewards/chosen': -7.939635276794434, 'rewards/rejected': -17.17435073852539, 'rewards/accuracies': 0.6000000238418579, 'rewards/margins': 9.234715461730957, 'logps/rejected': -62.77252197265625, 'logps/chosen': -55.282447814941406, 'logits/rejected': -0.35204291343688965, 'logits/chosen': -0.3392375409603119, 'epoch': 0.78}\n",
      "{'loss': 0.2091, 'learning_rate': 0.0002, 'rewards/chosen': -6.493387699127197, 'rewards/rejected': -15.430608749389648, 'rewards/accuracies': 0.699999988079071, 'rewards/margins': 8.937222480773926, 'logps/rejected': -64.31391906738281, 'logps/chosen': -55.671730041503906, 'logits/rejected': -0.17729614675045013, 'logits/chosen': -0.1669187694787979, 'epoch': 0.89}\n",
      "{'train_runtime': 488.3966, 'train_samples_per_second': 1.464, 'train_steps_per_second': 0.182, 'train_loss': 0.2592146182328128, 'epoch': 0.99}\n",
      "Starting custom evaluation.\n",
      "Example 0: {'fc_combine': 0, 'exact_match': 0, 'perplexity': 5.923249244689941}\n",
      "Error function calling: No function call found in generated data\n",
      "\n",
      "Example 1: {'fc_combine': 0, 'exact_match': 0, 'perplexity': 6.57085657119751}\n",
      "Error function calling: 'NoneType' object has no attribute 'group'\n",
      "\n",
      "Example 2: {'fc_combine': 0, 'exact_match': 0, 'perplexity': 6.784447193145752}\n",
      "Error function calling: 'NoneType' object has no attribute 'group'\n",
      "\n",
      "Example 3: {'fc_combine': 0, 'exact_match': 0, 'perplexity': 9.606731414794922}\n",
      "Error function calling: No function call found in generated data\n",
      "\n",
      "Example 4: {'fc_combine': 0, 'exact_match': 0, 'perplexity': 9.606731414794922}\n",
      "Error function calling: 'NoneType' object has no attribute 'group'\n",
      "\n",
      "Example 5: {'fc_combine': 0, 'exact_match': 0, 'perplexity': 12.921496391296387}\n",
      "Error function calling: 'NoneType' object has no attribute 'group'\n",
      "\n",
      "Example 6: {'fc_combine': 0, 'exact_match': 0, 'perplexity': 12.921496391296387}\n",
      "Error function calling: 'NoneType' object has no attribute 'group'\n",
      "\n",
      "Example 7: {'fc_combine': 0, 'exact_match': 0, 'perplexity': 13.310538291931152}\n",
      "Error function calling: Expecting value: line 1 column 1 (char 0)\n",
      "\n",
      "Example 8: {'fc_combine': 0, 'exact_match': 0, 'perplexity': 12.771787643432617}\n",
      "Error function calling: No function call found in generated data\n",
      "\n",
      "Example 9: {'fc_combine': 0, 'exact_match': 0, 'perplexity': 8.345741271972656}\n",
      "Error function calling: No function call found in generated data\n",
      "\n",
      "Example 10: {'fc_combine': 0, 'exact_match': 0, 'perplexity': 13.243263244628906}\n",
      "Error function calling: No function call found in generated data\n",
      "\n",
      "Example 11: {'fc_combine': 0, 'exact_match': 0, 'perplexity': 11.381831169128418}\n",
      "Error function calling: No function call found in generated data\n",
      "\n",
      "Example 12: {'fc_combine': 0, 'exact_match': 0, 'perplexity': 11.381831169128418}\n",
      "Error function calling: No function call found in generated data\n",
      "\n",
      "Example 13: {'fc_combine': 0, 'exact_match': 0, 'perplexity': 12.95468807220459}\n",
      "Error function calling: No function call found in generated data\n",
      "\n",
      "Example 14: {'fc_combine': 0, 'exact_match': 0, 'perplexity': 6.543027877807617}\n",
      "Error function calling: No function call found in generated data\n",
      "\n",
      "Example 15: {'fc_combine': 0, 'exact_match': 0, 'perplexity': 9.113898277282715}\n",
      "Error function calling: No function call found in generated data\n",
      "\n",
      "Example 16: {'fc_combine': 0, 'exact_match': 0, 'perplexity': 5.89330530166626}\n",
      "Error function calling: No function call found in generated data\n",
      "\n",
      "Evaluation results for epoch 2: {'fc_combine': 0.0, 'exact_match': 0.0, 'perplexity': 9.957348290611716}\n",
      "\n",
      "\n",
      "\n"
     ]
    },
    {
     "data": {
      "application/vnd.jupyter.widget-view+json": {
       "model_id": "",
       "version_major": 2,
       "version_minor": 0
      },
      "text/plain": [
       "VBox(children=(Label(value='0.015 MB of 0.015 MB uploaded\\r'), FloatProgress(value=1.0, max=1.0)))"
      ]
     },
     "metadata": {},
     "output_type": "display_data"
    },
    {
     "name": "stderr",
     "output_type": "stream",
     "text": [
      "wandb: WARNING Source type is set to 'repo' but some required information is missing from the environment. A job will not be created from this run. See https://docs.wandb.ai/guides/launch/create-job\n"
     ]
    },
    {
     "data": {
      "text/html": [
       "<style>\n",
       "    table.wandb td:nth-child(1) { padding: 0 10px; text-align: left ; width: auto;} td:nth-child(2) {text-align: left ; width: 100%}\n",
       "    .wandb-row { display: flex; flex-direction: row; flex-wrap: wrap; justify-content: flex-start; width: 100% }\n",
       "    .wandb-col { display: flex; flex-direction: column; flex-basis: 100%; flex: 1; padding: 10px; }\n",
       "    </style>\n",
       "<div class=\"wandb-row\"><div class=\"wandb-col\"><h3>Run history:</h3><br/><table class=\"wandb\"><tr><td>epoch</td><td>▁▃▆█</td></tr><tr><td>exact_match</td><td>█▆▃▁</td></tr><tr><td>fc_combine</td><td>█▁▁▁</td></tr><tr><td>perplexity</td><td>█▃▄▁</td></tr><tr><td>train/epoch</td><td>▁▂▃▄▅▅▆▇█▁▂▃▄▅▅▆▇█▁▂▃▄▅▅▆▇█</td></tr><tr><td>train/global_step</td><td>▁▂▄▅▇█████████▂▄▅▇█████████▂▄▅▇█████████</td></tr><tr><td>train/learning_rate</td><td>▁▁▁▁▁▁▁▁▁▁▁▁▁▁▁▁▁▁▁▁▁▁▁▁</td></tr><tr><td>train/logits/chosen</td><td>▇▃▄▃▂▂▁▁▁▂▃▆▄█▇▆▇▅▇▇▆▃▁▅</td></tr><tr><td>train/logits/rejected</td><td>▆▃▄▂▂▂▁▁▁▂▃▆▄█▇▆▇▅▇▇▆▃▁▅</td></tr><tr><td>train/logps/chosen</td><td>▆██████▇▃▂▄▄▂▃▄▄▂▂▄▁▃▃▃▃</td></tr><tr><td>train/logps/rejected</td><td>█▇▇███▇▆▃▃▃▃▃▂▃▂▂▃▂▁▁▁▂▂</td></tr><tr><td>train/loss</td><td>▇█▄▅▅▃▃▅▄▄▂▃▂▁▂▂▂▃▂▂▂▁▂▁</td></tr><tr><td>train/rewards/accuracies</td><td>▁▁▅▁▃▅▅▂▄▅▅▂▆▇▆▆█▃▆▆▆▆▅▇</td></tr><tr><td>train/rewards/chosen</td><td>▆▆▇▇▇█▇▅▂▁▂▂▂▁▃▄▃▂▂▁▂▂▂▃</td></tr><tr><td>train/rewards/margins</td><td>▁▂▃▂▃▄▅▄▅▅▆▅▆▆▆▆▇▆█▇████</td></tr><tr><td>train/rewards/rejected</td><td>█▇▇███▇▅▃▂▃▃▂▂▃▃▃▂▁▁▂▁▁▂</td></tr><tr><td>train/total_flos</td><td>▁▁▁</td></tr><tr><td>train/train_loss</td><td>█▃▁</td></tr><tr><td>train/train_runtime</td><td>▆▁█</td></tr><tr><td>train/train_samples_per_second</td><td>▃█▁</td></tr><tr><td>train/train_steps_per_second</td><td>▃█▁</td></tr></table><br/></div><div class=\"wandb-col\"><h3>Run summary:</h3><br/><table class=\"wandb\"><tr><td>epoch</td><td>2</td></tr><tr><td>exact_match</td><td>0.0</td></tr><tr><td>fc_combine</td><td>0.0</td></tr><tr><td>perplexity</td><td>9.95735</td></tr><tr><td>train/epoch</td><td>0.99</td></tr><tr><td>train/global_step</td><td>89</td></tr><tr><td>train/learning_rate</td><td>0.0002</td></tr><tr><td>train/logits/chosen</td><td>-0.16692</td></tr><tr><td>train/logits/rejected</td><td>-0.1773</td></tr><tr><td>train/logps/chosen</td><td>-55.67173</td></tr><tr><td>train/logps/rejected</td><td>-64.31392</td></tr><tr><td>train/loss</td><td>0.2091</td></tr><tr><td>train/rewards/accuracies</td><td>0.7</td></tr><tr><td>train/rewards/chosen</td><td>-6.49339</td></tr><tr><td>train/rewards/margins</td><td>8.93722</td></tr><tr><td>train/rewards/rejected</td><td>-15.43061</td></tr><tr><td>train/total_flos</td><td>0.0</td></tr><tr><td>train/train_loss</td><td>0.25921</td></tr><tr><td>train/train_runtime</td><td>488.3966</td></tr><tr><td>train/train_samples_per_second</td><td>1.464</td></tr><tr><td>train/train_steps_per_second</td><td>0.182</td></tr></table><br/></div></div>"
      ],
      "text/plain": [
       "<IPython.core.display.HTML object>"
      ]
     },
     "metadata": {},
     "output_type": "display_data"
    },
    {
     "data": {
      "text/html": [
       " View run <strong style=\"color:#cdcd00\">llama-7-chat-instruction-int4-fc-dpo-_5_beta</strong> at: <a href='https://wandb.ai/sebastiansosa/function_calling/runs/llama-7-chat-instruction-int4-fc-dpo-_5_beta' target=\"_blank\">https://wandb.ai/sebastiansosa/function_calling/runs/llama-7-chat-instruction-int4-fc-dpo-_5_beta</a><br/>Synced 5 W&B file(s), 0 media file(s), 0 artifact file(s) and 0 other file(s)"
      ],
      "text/plain": [
       "<IPython.core.display.HTML object>"
      ]
     },
     "metadata": {},
     "output_type": "display_data"
    },
    {
     "data": {
      "text/html": [
       "Find logs at: <code>./wandb/run-20231128_142011-llama-7-chat-instruction-int4-fc-dpo-_5_beta/logs</code>"
      ],
      "text/plain": [
       "<IPython.core.display.HTML object>"
      ]
     },
     "metadata": {},
     "output_type": "display_data"
    }
   ],
   "source": [
    "# Training and Evaluation Loop\n",
    "eval_result = custom_evaluation(sft_dataset_dict[\"test\"], model, tokenizer, -1)\n",
    "print(f\"Evaluation results for epoch {-1}: {eval_result}\")\n",
    "wandb.log({\"epoch\": -1, **eval_result})\n",
    "\n",
    "num_epochs = 3\n",
    "for epoch in range(num_epochs):\n",
    "    print(f\"Begin epoch {epoch}\")\n",
    "    # Train for one epoch\n",
    "    trainer.train()\n",
    "\n",
    "    # Evaluate the model with the custom evaluation logic\n",
    "    eval_result = custom_evaluation(sft_dataset_dict[\"test\"], model, tokenizer, epoch)\n",
    "\n",
    "    wandb.log({\"epoch\": epoch, **eval_result})\n",
    "\n",
    "    # Save the model after each epoch (optional)\n",
    "    trainer.save_model()\n",
    "\n",
    "    \n",
    "\n",
    "    # Log or print evaluation results\n",
    "    print(f\"Evaluation results for epoch {epoch}: {eval_result}\\n\\n\\n\")\n",
    "\n",
    "wandb.finish()"
   ]
  },
  {
   "cell_type": "code",
   "execution_count": null,
   "id": "6c7b45d5-60e5-4964-a2be-588b62c31be5",
   "metadata": {},
   "outputs": [],
   "source": []
  }
 ],
 "metadata": {
  "kernelspec": {
   "display_name": "PyTorch-2.0.1",
   "language": "python",
   "name": "pytorch-2.0.1"
  },
  "language_info": {
   "codemirror_mode": {
    "name": "ipython",
    "version": 3
   },
   "file_extension": ".py",
   "mimetype": "text/x-python",
   "name": "python",
   "nbconvert_exporter": "python",
   "pygments_lexer": "ipython3",
   "version": "3.10.11"
  }
 },
 "nbformat": 4,
 "nbformat_minor": 5
}
