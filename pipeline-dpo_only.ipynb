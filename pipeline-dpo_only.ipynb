{
 "cells": [
  {
   "cell_type": "code",
   "execution_count": 13,
   "id": "091e1455-6621-4198-a135-886bf1950aa0",
   "metadata": {
    "scrolled": true
   },
   "outputs": [
    {
     "name": "stdout",
     "output_type": "stream",
     "text": [
      "Defaulting to user installation because normal site-packages is not writeable\n",
      "Requirement already satisfied: transformers==4.34.0 in /home/sosa.s/.local/lib/python3.10/site-packages (4.34.0)\n",
      "Requirement already satisfied: datasets==2.13.0 in /home/sosa.s/.local/lib/python3.10/site-packages (2.13.0)\n",
      "Requirement already satisfied: peft==0.4.0 in /home/sosa.s/.local/lib/python3.10/site-packages (0.4.0)\n",
      "Requirement already satisfied: accelerate==0.23.0 in /home/sosa.s/.local/lib/python3.10/site-packages (0.23.0)\n",
      "Requirement already satisfied: bitsandbytes==0.41.1 in /home/sosa.s/.local/lib/python3.10/site-packages (0.41.1)\n",
      "Requirement already satisfied: trl==0.7.4 in /home/sosa.s/.local/lib/python3.10/site-packages (0.7.4)\n",
      "Requirement already satisfied: safetensors>=0.3.1 in /home/sosa.s/.local/lib/python3.10/site-packages (0.4.0)\n",
      "Requirement already satisfied: ipywidgets in /home/sosa.s/.local/lib/python3.10/site-packages (8.1.1)\n",
      "Requirement already satisfied: wandb in /home/sosa.s/.local/lib/python3.10/site-packages (0.16.0)\n",
      "Requirement already satisfied: filelock in /apps/pytorch/2.0.1/lib/python3.10/site-packages (from transformers==4.34.0) (3.12.0)\n",
      "Requirement already satisfied: huggingface-hub<1.0,>=0.16.4 in /home/sosa.s/.local/lib/python3.10/site-packages (from transformers==4.34.0) (0.17.3)\n",
      "Requirement already satisfied: numpy>=1.17 in /apps/pytorch/2.0.1/lib/python3.10/site-packages (from transformers==4.34.0) (1.24.3)\n",
      "Requirement already satisfied: packaging>=20.0 in /apps/pytorch/2.0.1/lib/python3.10/site-packages (from transformers==4.34.0) (23.1)\n",
      "Requirement already satisfied: pyyaml>=5.1 in /apps/pytorch/2.0.1/lib/python3.10/site-packages (from transformers==4.34.0) (6.0.1)\n",
      "Requirement already satisfied: regex!=2019.12.17 in /home/sosa.s/.local/lib/python3.10/site-packages (from transformers==4.34.0) (2023.10.3)\n",
      "Requirement already satisfied: requests in /apps/pytorch/2.0.1/lib/python3.10/site-packages (from transformers==4.34.0) (2.29.0)\n",
      "Requirement already satisfied: tokenizers<0.15,>=0.14 in /home/sosa.s/.local/lib/python3.10/site-packages (from transformers==4.34.0) (0.14.1)\n",
      "Requirement already satisfied: tqdm>=4.27 in /apps/pytorch/2.0.1/lib/python3.10/site-packages (from transformers==4.34.0) (4.65.0)\n",
      "Requirement already satisfied: pyarrow>=8.0.0 in /home/sosa.s/.local/lib/python3.10/site-packages (from datasets==2.13.0) (14.0.0)\n",
      "Requirement already satisfied: dill<0.3.7,>=0.3.0 in /home/sosa.s/.local/lib/python3.10/site-packages (from datasets==2.13.0) (0.3.6)\n",
      "Requirement already satisfied: pandas in /home/sosa.s/.local/lib/python3.10/site-packages (from datasets==2.13.0) (2.1.3)\n",
      "Requirement already satisfied: xxhash in /home/sosa.s/.local/lib/python3.10/site-packages (from datasets==2.13.0) (3.4.1)\n",
      "Requirement already satisfied: multiprocess in /home/sosa.s/.local/lib/python3.10/site-packages (from datasets==2.13.0) (0.70.14)\n",
      "Requirement already satisfied: fsspec[http]>=2021.11.1 in /apps/pytorch/2.0.1/lib/python3.10/site-packages (from datasets==2.13.0) (2023.9.2)\n",
      "Requirement already satisfied: aiohttp in /apps/pytorch/2.0.1/lib/python3.10/site-packages (from datasets==2.13.0) (3.8.6)\n",
      "Requirement already satisfied: psutil in /apps/pytorch/2.0.1/lib/python3.10/site-packages (from peft==0.4.0) (5.9.5)\n",
      "Requirement already satisfied: torch>=1.13.0 in /apps/pytorch/2.0.1/lib/python3.10/site-packages (from peft==0.4.0) (2.0.1)\n",
      "Requirement already satisfied: tyro>=0.5.11 in /home/sosa.s/.local/lib/python3.10/site-packages (from trl==0.7.4) (0.5.18)\n",
      "Requirement already satisfied: comm>=0.1.3 in /apps/pytorch/2.0.1/lib/python3.10/site-packages (from ipywidgets) (0.1.3)\n",
      "Requirement already satisfied: ipython>=6.1.0 in /apps/pytorch/2.0.1/lib/python3.10/site-packages (from ipywidgets) (8.13.2)\n",
      "Requirement already satisfied: traitlets>=4.3.1 in /apps/pytorch/2.0.1/lib/python3.10/site-packages (from ipywidgets) (5.9.0)\n",
      "Requirement already satisfied: widgetsnbextension~=4.0.9 in /home/sosa.s/.local/lib/python3.10/site-packages (from ipywidgets) (4.0.9)\n",
      "Requirement already satisfied: jupyterlab-widgets~=3.0.9 in /home/sosa.s/.local/lib/python3.10/site-packages (from ipywidgets) (3.0.9)\n",
      "Requirement already satisfied: Click!=8.0.0,>=7.1 in /apps/pytorch/2.0.1/lib/python3.10/site-packages (from wandb) (8.1.7)\n",
      "Requirement already satisfied: GitPython!=3.1.29,>=1.0.0 in /home/sosa.s/.local/lib/python3.10/site-packages (from wandb) (3.1.40)\n",
      "Requirement already satisfied: sentry-sdk>=1.0.0 in /home/sosa.s/.local/lib/python3.10/site-packages (from wandb) (1.34.0)\n",
      "Requirement already satisfied: docker-pycreds>=0.4.0 in /home/sosa.s/.local/lib/python3.10/site-packages (from wandb) (0.4.0)\n",
      "Requirement already satisfied: setproctitle in /home/sosa.s/.local/lib/python3.10/site-packages (from wandb) (1.3.3)\n",
      "Requirement already satisfied: setuptools in /apps/pytorch/2.0.1/lib/python3.10/site-packages (from wandb) (67.7.2)\n",
      "Requirement already satisfied: appdirs>=1.4.3 in /home/sosa.s/.local/lib/python3.10/site-packages (from wandb) (1.4.4)\n",
      "Requirement already satisfied: protobuf!=4.21.0,<5,>=3.19.0 in /home/sosa.s/.local/lib/python3.10/site-packages (from wandb) (4.25.1)\n",
      "Requirement already satisfied: six>=1.4.0 in /apps/pytorch/2.0.1/lib/python3.10/site-packages (from docker-pycreds>=0.4.0->wandb) (1.16.0)\n",
      "Requirement already satisfied: attrs>=17.3.0 in /apps/pytorch/2.0.1/lib/python3.10/site-packages (from aiohttp->datasets==2.13.0) (23.1.0)\n",
      "Requirement already satisfied: charset-normalizer<4.0,>=2.0 in /apps/pytorch/2.0.1/lib/python3.10/site-packages (from aiohttp->datasets==2.13.0) (3.1.0)\n",
      "Requirement already satisfied: multidict<7.0,>=4.5 in /apps/pytorch/2.0.1/lib/python3.10/site-packages (from aiohttp->datasets==2.13.0) (6.0.4)\n",
      "Requirement already satisfied: async-timeout<5.0,>=4.0.0a3 in /apps/pytorch/2.0.1/lib/python3.10/site-packages (from aiohttp->datasets==2.13.0) (4.0.3)\n",
      "Requirement already satisfied: yarl<2.0,>=1.0 in /apps/pytorch/2.0.1/lib/python3.10/site-packages (from aiohttp->datasets==2.13.0) (1.9.2)\n",
      "Requirement already satisfied: frozenlist>=1.1.1 in /apps/pytorch/2.0.1/lib/python3.10/site-packages (from aiohttp->datasets==2.13.0) (1.4.0)\n",
      "Requirement already satisfied: aiosignal>=1.1.2 in /apps/pytorch/2.0.1/lib/python3.10/site-packages (from aiohttp->datasets==2.13.0) (1.3.1)\n",
      "Requirement already satisfied: gitdb<5,>=4.0.1 in /home/sosa.s/.local/lib/python3.10/site-packages (from GitPython!=3.1.29,>=1.0.0->wandb) (4.0.11)\n",
      "Requirement already satisfied: typing-extensions>=3.7.4.3 in /apps/pytorch/2.0.1/lib/python3.10/site-packages (from huggingface-hub<1.0,>=0.16.4->transformers==4.34.0) (4.5.0)\n",
      "Requirement already satisfied: backcall in /apps/pytorch/2.0.1/lib/python3.10/site-packages (from ipython>=6.1.0->ipywidgets) (0.2.0)\n",
      "Requirement already satisfied: decorator in /apps/pytorch/2.0.1/lib/python3.10/site-packages (from ipython>=6.1.0->ipywidgets) (5.1.1)\n",
      "Requirement already satisfied: jedi>=0.16 in /apps/pytorch/2.0.1/lib/python3.10/site-packages (from ipython>=6.1.0->ipywidgets) (0.18.2)\n",
      "Requirement already satisfied: matplotlib-inline in /apps/pytorch/2.0.1/lib/python3.10/site-packages (from ipython>=6.1.0->ipywidgets) (0.1.6)\n",
      "Requirement already satisfied: pickleshare in /apps/pytorch/2.0.1/lib/python3.10/site-packages (from ipython>=6.1.0->ipywidgets) (0.7.5)\n",
      "Requirement already satisfied: prompt-toolkit!=3.0.37,<3.1.0,>=3.0.30 in /apps/pytorch/2.0.1/lib/python3.10/site-packages (from ipython>=6.1.0->ipywidgets) (3.0.38)\n",
      "Requirement already satisfied: pygments>=2.4.0 in /apps/pytorch/2.0.1/lib/python3.10/site-packages (from ipython>=6.1.0->ipywidgets) (2.15.1)\n",
      "Requirement already satisfied: stack-data in /apps/pytorch/2.0.1/lib/python3.10/site-packages (from ipython>=6.1.0->ipywidgets) (0.6.2)\n",
      "Requirement already satisfied: pexpect>4.3 in /apps/pytorch/2.0.1/lib/python3.10/site-packages (from ipython>=6.1.0->ipywidgets) (4.8.0)\n",
      "Requirement already satisfied: idna<4,>=2.5 in /apps/pytorch/2.0.1/lib/python3.10/site-packages (from requests->transformers==4.34.0) (3.4)\n",
      "Requirement already satisfied: urllib3<1.27,>=1.21.1 in /apps/pytorch/2.0.1/lib/python3.10/site-packages (from requests->transformers==4.34.0) (1.26.15)\n",
      "Requirement already satisfied: certifi>=2017.4.17 in /apps/pytorch/2.0.1/lib/python3.10/site-packages (from requests->transformers==4.34.0) (2023.7.22)\n",
      "Requirement already satisfied: sympy in /apps/pytorch/2.0.1/lib/python3.10/site-packages (from torch>=1.13.0->peft==0.4.0) (1.12)\n",
      "Requirement already satisfied: networkx in /apps/pytorch/2.0.1/lib/python3.10/site-packages (from torch>=1.13.0->peft==0.4.0) (3.1)\n",
      "Requirement already satisfied: jinja2 in /apps/pytorch/2.0.1/lib/python3.10/site-packages (from torch>=1.13.0->peft==0.4.0) (3.1.2)\n",
      "Requirement already satisfied: docstring-parser>=0.14.1 in /home/sosa.s/.local/lib/python3.10/site-packages (from tyro>=0.5.11->trl==0.7.4) (0.15)\n",
      "Requirement already satisfied: rich>=11.1.0 in /home/sosa.s/.local/lib/python3.10/site-packages (from tyro>=0.5.11->trl==0.7.4) (13.7.0)\n",
      "Requirement already satisfied: shtab>=1.5.6 in /home/sosa.s/.local/lib/python3.10/site-packages (from tyro>=0.5.11->trl==0.7.4) (1.6.4)\n",
      "Requirement already satisfied: python-dateutil>=2.8.2 in /apps/pytorch/2.0.1/lib/python3.10/site-packages (from pandas->datasets==2.13.0) (2.8.2)\n",
      "Requirement already satisfied: pytz>=2020.1 in /apps/pytorch/2.0.1/lib/python3.10/site-packages (from pandas->datasets==2.13.0) (2023.3)\n",
      "Requirement already satisfied: tzdata>=2022.1 in /home/sosa.s/.local/lib/python3.10/site-packages (from pandas->datasets==2.13.0) (2023.3)\n",
      "Requirement already satisfied: smmap<6,>=3.0.1 in /home/sosa.s/.local/lib/python3.10/site-packages (from gitdb<5,>=4.0.1->GitPython!=3.1.29,>=1.0.0->wandb) (5.0.1)\n",
      "Requirement already satisfied: parso<0.9.0,>=0.8.0 in /apps/pytorch/2.0.1/lib/python3.10/site-packages (from jedi>=0.16->ipython>=6.1.0->ipywidgets) (0.8.3)\n",
      "Requirement already satisfied: ptyprocess>=0.5 in /apps/pytorch/2.0.1/lib/python3.10/site-packages (from pexpect>4.3->ipython>=6.1.0->ipywidgets) (0.7.0)\n",
      "Requirement already satisfied: wcwidth in /apps/pytorch/2.0.1/lib/python3.10/site-packages (from prompt-toolkit!=3.0.37,<3.1.0,>=3.0.30->ipython>=6.1.0->ipywidgets) (0.2.6)\n",
      "Requirement already satisfied: markdown-it-py>=2.2.0 in /home/sosa.s/.local/lib/python3.10/site-packages (from rich>=11.1.0->tyro>=0.5.11->trl==0.7.4) (3.0.0)\n",
      "Requirement already satisfied: MarkupSafe>=2.0 in /apps/pytorch/2.0.1/lib/python3.10/site-packages (from jinja2->torch>=1.13.0->peft==0.4.0) (2.1.2)\n",
      "Requirement already satisfied: executing>=1.2.0 in /apps/pytorch/2.0.1/lib/python3.10/site-packages (from stack-data->ipython>=6.1.0->ipywidgets) (1.2.0)\n",
      "Requirement already satisfied: asttokens>=2.1.0 in /apps/pytorch/2.0.1/lib/python3.10/site-packages (from stack-data->ipython>=6.1.0->ipywidgets) (2.2.1)\n",
      "Requirement already satisfied: pure-eval in /apps/pytorch/2.0.1/lib/python3.10/site-packages (from stack-data->ipython>=6.1.0->ipywidgets) (0.2.2)\n",
      "Requirement already satisfied: mpmath>=0.19 in /apps/pytorch/2.0.1/lib/python3.10/site-packages (from sympy->torch>=1.13.0->peft==0.4.0) (1.3.0)\n",
      "Requirement already satisfied: mdurl~=0.1 in /home/sosa.s/.local/lib/python3.10/site-packages (from markdown-it-py>=2.2.0->rich>=11.1.0->tyro>=0.5.11->trl==0.7.4) (0.1.2)\n",
      "Defaulting to user installation because normal site-packages is not writeable\n",
      "Requirement already satisfied: ninja in /home/sosa.s/.local/lib/python3.10/site-packages (1.11.1.1)\n",
      "Requirement already satisfied: packaging in /apps/pytorch/2.0.1/lib/python3.10/site-packages (23.1)\n",
      "Defaulting to user installation because normal site-packages is not writeable\n",
      "Requirement already satisfied: flash-attn in /home/sosa.s/.local/lib/python3.10/site-packages (2.3.3)\n",
      "Requirement already satisfied: torch in /apps/pytorch/2.0.1/lib/python3.10/site-packages (from flash-attn) (2.0.1)\n",
      "Requirement already satisfied: einops in /home/sosa.s/.local/lib/python3.10/site-packages (from flash-attn) (0.7.0)\n",
      "Requirement already satisfied: packaging in /apps/pytorch/2.0.1/lib/python3.10/site-packages (from flash-attn) (23.1)\n",
      "Requirement already satisfied: ninja in /home/sosa.s/.local/lib/python3.10/site-packages (from flash-attn) (1.11.1.1)\n",
      "Requirement already satisfied: filelock in /apps/pytorch/2.0.1/lib/python3.10/site-packages (from torch->flash-attn) (3.12.0)\n",
      "Requirement already satisfied: typing-extensions in /apps/pytorch/2.0.1/lib/python3.10/site-packages (from torch->flash-attn) (4.5.0)\n",
      "Requirement already satisfied: sympy in /apps/pytorch/2.0.1/lib/python3.10/site-packages (from torch->flash-attn) (1.12)\n",
      "Requirement already satisfied: networkx in /apps/pytorch/2.0.1/lib/python3.10/site-packages (from torch->flash-attn) (3.1)\n",
      "Requirement already satisfied: jinja2 in /apps/pytorch/2.0.1/lib/python3.10/site-packages (from torch->flash-attn) (3.1.2)\n",
      "Requirement already satisfied: MarkupSafe>=2.0 in /apps/pytorch/2.0.1/lib/python3.10/site-packages (from jinja2->torch->flash-attn) (2.1.2)\n",
      "Requirement already satisfied: mpmath>=0.19 in /apps/pytorch/2.0.1/lib/python3.10/site-packages (from sympy->torch->flash-attn) (1.3.0)\n"
     ]
    }
   ],
   "source": [
    "!pip install \"transformers==4.34.0\" \"datasets==2.13.0\" \"peft==0.4.0\" \"accelerate==0.23.0\" \"bitsandbytes==0.41.1\" \"trl==0.7.4\" \"safetensors>=0.3.1\" ipywidgets wandb --upgrade\n",
    "!python -c \"import torch; assert torch.cuda.get_device_capability()[0] >= 8, 'Hardware not supported for Flash Attention'\"\n",
    "!pip install ninja packaging\n",
    "!MAX_JOBS=1 pip install flash-attn --no-build-isolation"
   ]
  },
  {
   "cell_type": "code",
   "execution_count": 14,
   "id": "2afb05ca-9182-4431-b115-0dcae7ddee89",
   "metadata": {},
   "outputs": [],
   "source": [
    "# add parent directory to path\n",
    "import sys\n",
    "import os\n",
    "\n",
    "project_dir = os.getcwd()\n",
    "parent_dir = os.path.dirname(project_dir)\n",
    "sys.path.insert(0, parent_dir)"
   ]
  },
  {
   "cell_type": "code",
   "execution_count": 15,
   "id": "25034482",
   "metadata": {},
   "outputs": [
    {
     "data": {
      "text/html": [
       "Finishing last run (ID:llama-7-chat-instruction-int4-fc-dpo) before initializing another..."
      ],
      "text/plain": [
       "<IPython.core.display.HTML object>"
      ]
     },
     "metadata": {},
     "output_type": "display_data"
    },
    {
     "data": {
      "application/vnd.jupyter.widget-view+json": {
       "model_id": "",
       "version_major": 2,
       "version_minor": 0
      },
      "text/plain": [
       "VBox(children=(Label(value='0.015 MB of 0.015 MB uploaded\\r'), FloatProgress(value=1.0, max=1.0)))"
      ]
     },
     "metadata": {},
     "output_type": "display_data"
    },
    {
     "name": "stderr",
     "output_type": "stream",
     "text": [
      "wandb: WARNING Source type is set to 'repo' but some required information is missing from the environment. A job will not be created from this run. See https://docs.wandb.ai/guides/launch/create-job\n"
     ]
    },
    {
     "data": {
      "text/html": [
       " View run <strong style=\"color:#cdcd00\">llama-7-chat-instruction-int4-fc-dpo</strong> at: <a href='https://wandb.ai/sebastiansosa/function_calling/runs/llama-7-chat-instruction-int4-fc-dpo' target=\"_blank\">https://wandb.ai/sebastiansosa/function_calling/runs/llama-7-chat-instruction-int4-fc-dpo</a><br/>Synced 5 W&B file(s), 0 media file(s), 0 artifact file(s) and 0 other file(s)"
      ],
      "text/plain": [
       "<IPython.core.display.HTML object>"
      ]
     },
     "metadata": {},
     "output_type": "display_data"
    },
    {
     "data": {
      "text/html": [
       "Find logs at: <code>./wandb/run-20231124_213306-llama-7-chat-instruction-int4-fc-dpo/logs</code>"
      ],
      "text/plain": [
       "<IPython.core.display.HTML object>"
      ]
     },
     "metadata": {},
     "output_type": "display_data"
    },
    {
     "data": {
      "text/html": [
       "Successfully finished last run (ID:llama-7-chat-instruction-int4-fc-dpo). Initializing new run:<br/>"
      ],
      "text/plain": [
       "<IPython.core.display.HTML object>"
      ]
     },
     "metadata": {},
     "output_type": "display_data"
    },
    {
     "data": {
      "application/vnd.jupyter.widget-view+json": {
       "model_id": "aad824d158a04110a555c65dff2e4f24",
       "version_major": 2,
       "version_minor": 0
      },
      "text/plain": [
       "VBox(children=(Label(value='Waiting for wandb.init()...\\r'), FloatProgress(value=0.0111120391326646, max=1.0))…"
      ]
     },
     "metadata": {},
     "output_type": "display_data"
    },
    {
     "data": {
      "text/html": [
       "Tracking run with wandb version 0.16.0"
      ],
      "text/plain": [
       "<IPython.core.display.HTML object>"
      ]
     },
     "metadata": {},
     "output_type": "display_data"
    },
    {
     "data": {
      "text/html": [
       "Run data is saved locally in <code>/home/sosa.s/gaitor_function_calling/wandb/run-20231124_214608-llama-7-chat-instruction-int4-fc-dpo</code>"
      ],
      "text/plain": [
       "<IPython.core.display.HTML object>"
      ]
     },
     "metadata": {},
     "output_type": "display_data"
    },
    {
     "data": {
      "text/html": [
       "Syncing run <strong><a href='https://wandb.ai/sebastiansosa/function_calling/runs/llama-7-chat-instruction-int4-fc-dpo' target=\"_blank\">llama-7-chat-instruction-int4-fc-dpo</a></strong> to <a href='https://wandb.ai/sebastiansosa/function_calling' target=\"_blank\">Weights & Biases</a> (<a href='https://wandb.me/run' target=\"_blank\">docs</a>)<br/>"
      ],
      "text/plain": [
       "<IPython.core.display.HTML object>"
      ]
     },
     "metadata": {},
     "output_type": "display_data"
    },
    {
     "data": {
      "text/html": [
       " View project at <a href='https://wandb.ai/sebastiansosa/function_calling' target=\"_blank\">https://wandb.ai/sebastiansosa/function_calling</a>"
      ],
      "text/plain": [
       "<IPython.core.display.HTML object>"
      ]
     },
     "metadata": {},
     "output_type": "display_data"
    },
    {
     "data": {
      "text/html": [
       " View run at <a href='https://wandb.ai/sebastiansosa/function_calling/runs/llama-7-chat-instruction-int4-fc-dpo' target=\"_blank\">https://wandb.ai/sebastiansosa/function_calling/runs/llama-7-chat-instruction-int4-fc-dpo</a>"
      ],
      "text/plain": [
       "<IPython.core.display.HTML object>"
      ]
     },
     "metadata": {},
     "output_type": "display_data"
    },
    {
     "data": {
      "application/vnd.jupyter.widget-view+json": {
       "model_id": "abddf843a53f4a77a1a996e79bd589a1",
       "version_major": 2,
       "version_minor": 0
      },
      "text/plain": [
       "VBox(children=(HTML(value='<center> <img\\nsrc=https://huggingface.co/front/assets/huggingface_logo-noborder.sv…"
      ]
     },
     "metadata": {},
     "output_type": "display_data"
    }
   ],
   "source": [
    "# configs\n",
    "from huggingface_hub import notebook_login\n",
    "import wandb\n",
    "\n",
    "model_id = \"meta-llama/Llama-2-7b-chat-hf\"\n",
    "output_dir = \"llama-7-chat-instruction-int4-fc-dpo\"\n",
    "hub_model_id = f\"SebastianS/{output_dir}\"\n",
    "wandb.init(project=\"function_calling\", id=output_dir, entity=\"sebastiansosa\", notes=\"Trained for 3 epochs on 364 samples of DPO formatted data.\")\n",
    "wandb.define_metric(\"fc_combine\", goal=\"maximize\")\n",
    "wandb.define_metric(\"exact_match\", goal=\"maximize\")\n",
    "wandb.define_metric(\"perplexity\", goal=\"minimize\")\n",
    "wandb.define_metric(\"epoch\")\n",
    "notebook_login()"
   ]
  },
  {
   "cell_type": "code",
   "execution_count": 16,
   "id": "4a8d0c0a-ac8c-4c48-b284-d96cd337a5ee",
   "metadata": {},
   "outputs": [
    {
     "name": "stdout",
     "output_type": "stream",
     "text": [
      "No train data found\n",
      "No test data found\n",
      "Skipped 320 items\n"
     ]
    },
    {
     "data": {
      "text/plain": [
       "DatasetDict({\n",
       "    train: Dataset({\n",
       "        features: ['prompt', 'chosen', 'rejected'],\n",
       "        num_rows: 364\n",
       "    })\n",
       "})"
      ]
     },
     "execution_count": 16,
     "metadata": {},
     "output_type": "execute_result"
    }
   ],
   "source": [
    "from gaitor_function_calling.data.data_utils import DataAbstractor, build_data_dpo\n",
    "import pandas as pd\n",
    "from datasets import Dataset, DatasetDict\n",
    "\n",
    "data_abstractor = DataAbstractor(\"prompts_data.json\", \"dpo_eval\")\n",
    "\n",
    "dpo_data = build_data_dpo(data_abstractor.raw_data)\n",
    "dpo_df = pd.DataFrame(dpo_data)\n",
    "dpo_dataset = Dataset.from_pandas(dpo_df)\n",
    "dataset_dict = DatasetDict({\"train\": dpo_dataset})\n",
    "\n",
    "dataset_dict"
   ]
  },
  {
   "cell_type": "code",
   "execution_count": 17,
   "id": "8769f7b5-5256-42d0-a660-34525e16b23e",
   "metadata": {},
   "outputs": [
    {
     "data": {
      "text/plain": [
       "DatasetDict({\n",
       "    train: Dataset({\n",
       "        features: ['text'],\n",
       "        num_rows: 833\n",
       "    })\n",
       "    test: Dataset({\n",
       "        features: ['text'],\n",
       "        num_rows: 17\n",
       "    })\n",
       "})"
      ]
     },
     "execution_count": 17,
     "metadata": {},
     "output_type": "execute_result"
    }
   ],
   "source": [
    "# get data and convert to Datasets format\n",
    "import pandas as pd\n",
    "from datasets import Dataset, DatasetDict\n",
    "from gaitor_function_calling.data.data_utils import DataAbstractor\n",
    "from gaitor_function_calling.data.prompting_utils import INSTRUCTION\n",
    "\n",
    "sft_data_abstractor = DataAbstractor(\"production_data-without_summary-only_fc.json\", \"sft\")\n",
    "\n",
    "sft_train_df = pd.DataFrame(sft_data_abstractor.train_data)\n",
    "sft_test_df = pd.DataFrame(sft_data_abstractor.test_data)\n",
    "\n",
    "sft_train_dataset = Dataset.from_pandas(sft_train_df)\n",
    "sft_test_dataset = Dataset.from_pandas(sft_test_df)\n",
    "\n",
    "sft_dataset_dict = DatasetDict({\n",
    "    'train': sft_train_dataset,\n",
    "    'test': sft_test_dataset\n",
    "})\n",
    "\n",
    "sft_dataset_dict"
   ]
  },
  {
   "cell_type": "code",
   "execution_count": 18,
   "id": "baf42525",
   "metadata": {},
   "outputs": [],
   "source": [
    "# setup metrics and evaluation\n",
    "import json\n",
    "from transformers import EvalPrediction\n",
    "from gaitor_function_calling.evaluation.evaluation_utils import FunctionCallingMetric, compute_perplexity, get_logits_and_labels\n",
    "from gaitor_function_calling.data.prompting_utils import INSTRUCTION, json_arguments_from_prompt\n",
    "import numpy as np\n",
    "\n",
    "fc_metric = FunctionCallingMetric()\n",
    "def config_compute_metrics(tokenizer):\n",
    "    def compute_metrics(pred: EvalPrediction):\n",
    "        # pred.predictions are a batch of logits\n",
    "        # pred.label_ids are a batch of tokens\n",
    "        token_ids = np.argmax(pred.predictions, axis=-1)\n",
    "        predictions = tokenizer.batch_decode(token_ids, skip_special_tokens=False)\n",
    "        labels = tokenizer.batch_decode(pred.label_ids, skip_special_tokens=False)\n",
    "        \n",
    "        \n",
    "    \n",
    "        # Now use your metric class\n",
    "        fc_result = fc_metric.run(predictions, labels)  # Implement this method in your class\n",
    "    \n",
    "        return {\n",
    "            \"fc_combine\": fc_result\n",
    "        }\n",
    "    return compute_metrics\n",
    "\n",
    "def custom_evaluation(eval_dataset, model, tokenizer, epoch, save_prompts_path=False):\n",
    "    print(\"Starting custom evaluation.\")\n",
    "    model.eval()  # Set the model to evaluation mode\n",
    "    results = {}\n",
    "\n",
    "    fc_results = []\n",
    "    exact_match_results = []\n",
    "    perplexity_results = []\n",
    "\n",
    "\n",
    "    if save_prompts_path:\n",
    "        try:\n",
    "            with open(save_prompts_path, \"r\") as f:\n",
    "                dpo_data = json.load(f)\n",
    "        except:\n",
    "            dpo_data = []\n",
    "\n",
    "\n",
    "    for idx, example in enumerate(eval_dataset):\n",
    "        print(f\"Example {idx}: \", end=\"\")\n",
    "        post_message = \"\"\n",
    "        \n",
    "        # Custom Function Calling metric\n",
    "        prompts = None\n",
    "        try:\n",
    "            generated_arguments, expected_arguments, prompts = json_arguments_from_prompt(\n",
    "                example[\"text\"],\n",
    "                model,\n",
    "                tokenizer,\n",
    "                INSTRUCTION,\n",
    "                {\"idx\": idx, \"epoch\": epoch}\n",
    "            )\n",
    "            fc_result = fc_metric.run(generated_arguments, expected_arguments)\n",
    "\n",
    "            fc_results.append(fc_result)\n",
    "\n",
    "            if save_prompts_path:\n",
    "                # add prompts to dpo_data.json\n",
    "                dpo_data.append({\n",
    "                    \"fc_result\": fc_result,\n",
    "                    **prompts\n",
    "                })\n",
    "                with open(save_prompts_path, \"w\") as f:\n",
    "                    json.dump(dpo_data, f)\n",
    "        except Exception as e:\n",
    "            post_message += f\"Error function calling: {e}\\n\"\n",
    "            fc_results.append(0)\n",
    "\n",
    "        # exact match metric\n",
    "        if prompts:\n",
    "            exact_match_res = fc_metric._sentence_similarity(prompts[\"expected_str\"].split(\"[/INST]\")[1], prompts[\"generated_str\"].split(\"[/INST]\")[1])\n",
    "            exact_match_results.append(exact_match_res)\n",
    "        else:\n",
    "            exact_match_results.append(0)\n",
    "\n",
    "        # perplexity metric\n",
    "        try:\n",
    "            logits, labels = get_logits_and_labels(example[\"text\"], model, tokenizer)\n",
    "            perplexity = compute_perplexity(logits[..., :-1, :], labels).item()\n",
    "            perplexity_results.append(perplexity)\n",
    "        except Exception as e:\n",
    "            post_message += f\"Error perplexity: {e}\\n\"\n",
    "            # perplexity_results.append(float('inf'))\n",
    "\n",
    "        example_metric = {\n",
    "            \"fc_combine\": fc_results[-1],\n",
    "            \"exact_match\": exact_match_results[-1],\n",
    "            \"perplexity\": perplexity_results[-1] if len(perplexity_results) else None\n",
    "        }\n",
    "        print(example_metric)\n",
    "        if post_message:\n",
    "            print(post_message)\n",
    "        \n",
    "    results[\"fc_combine\"] =  sum(fc_results) / len(fc_results)\n",
    "    results[\"exact_match\"] =  sum(exact_match_results) / len(exact_match_results)\n",
    "    results[\"perplexity\"] =  sum(perplexity_results) / len(perplexity_results) if len(perplexity_results) else 1\n",
    "\n",
    "    return results"
   ]
  },
  {
   "cell_type": "code",
   "execution_count": 24,
   "id": "16124072-6aed-4ac1-ba73-e20fcefae510",
   "metadata": {},
   "outputs": [
    {
     "data": {
      "application/vnd.jupyter.widget-view+json": {
       "model_id": "df78ffae4da848ddb375f905c6310302",
       "version_major": 2,
       "version_minor": 0
      },
      "text/plain": [
       "Loading checkpoint shards:   0%|          | 0/2 [00:00<?, ?it/s]"
      ]
     },
     "metadata": {},
     "output_type": "display_data"
    }
   ],
   "source": [
    "# base LLM model and tokenizer\n",
    "import torch\n",
    "from transformers import AutoTokenizer, AutoModelForCausalLM, BitsAndBytesConfig\n",
    "\n",
    "use_flash_attention = False\n",
    "\n",
    "# BitsAndBytesConfig int-4 config\n",
    "bnb_config = BitsAndBytesConfig(\n",
    "    load_in_4bit=True,\n",
    "    bnb_4bit_use_double_quant=True,\n",
    "    bnb_4bit_quant_type=\"nf4\",\n",
    "    bnb_4bit_compute_dtype=torch.bfloat16\n",
    ")\n",
    "\n",
    "# Load model and tokenizer\n",
    "model = AutoModelForCausalLM.from_pretrained(\n",
    "    model_id,\n",
    "    # quantization_config=bnb_config,\n",
    "    use_cache=False,\n",
    "    use_flash_attention_2=use_flash_attention,\n",
    "    device_map=\"auto\",\n",
    ")\n",
    "model.config.pretraining_tp = 1\n",
    "\n",
    "\n",
    "tokenizer = AutoTokenizer.from_pretrained(model_id)\n",
    "tokenizer.pad_token = tokenizer.eos_token\n",
    "tokenizer.padding_side = \"right\""
   ]
  },
  {
   "cell_type": "code",
   "execution_count": 25,
   "id": "55892037-b235-4015-aaa1-4df707c8f19e",
   "metadata": {},
   "outputs": [],
   "source": [
    "# peft config on the model\n",
    "from peft import LoraConfig, prepare_model_for_kbit_training, get_peft_model\n",
    "\n",
    "# LoRA config based on QLoRA paper\n",
    "peft_config = LoraConfig(\n",
    "        lora_alpha=16,\n",
    "        lora_dropout=0.1,\n",
    "        r=64,\n",
    "        bias=\"none\",\n",
    "        task_type=\"CAUSAL_LM\",\n",
    ")\n",
    "\n",
    "\n",
    "# prepare model for training\n",
    "model = prepare_model_for_kbit_training(model)\n",
    "model = get_peft_model(model, peft_config)\n"
   ]
  },
  {
   "cell_type": "code",
   "execution_count": 26,
   "id": "94f62443",
   "metadata": {},
   "outputs": [
    {
     "name": "stderr",
     "output_type": "stream",
     "text": [
      "/home/sosa.s/.local/lib/python3.10/site-packages/trl/trainer/dpo_trainer.py:262: UserWarning: When using DPODataCollatorWithPadding, you should set `max_prompt_length` in the DPOTrainer's init it will be set to `128` by default, but you should do it yourself in the future.\n",
      "  warnings.warn(\n",
      "/home/sosa.s/.local/lib/python3.10/site-packages/trl/trainer/dpo_trainer.py:291: UserWarning: When using DPODataCollatorWithPadding, you should set `remove_unused_columns=False` in your TrainingArguments we have set it for you, but you should do it yourself in the future.\n",
      "  warnings.warn(\n"
     ]
    }
   ],
   "source": [
    "# training config\n",
    "from transformers import TrainingArguments\n",
    "from trl import DPOTrainer\n",
    "from peft import LoraConfig\n",
    "\n",
    "use_flash_attention = False\n",
    "\n",
    "args = TrainingArguments(\n",
    "    output_dir=output_dir,\n",
    "    num_train_epochs=1,\n",
    "    per_device_train_batch_size=6 if use_flash_attention else 4,\n",
    "    per_device_eval_batch_size=1,\n",
    "    gradient_accumulation_steps=2,\n",
    "    gradient_checkpointing=True,\n",
    "    optim=\"paged_adamw_32bit\",\n",
    "    logging_steps=10,\n",
    "    save_strategy=\"epoch\",\n",
    "    learning_rate=2e-4,\n",
    "    bf16=True,\n",
    "    tf32=True,\n",
    "    max_grad_norm=0.3,\n",
    "    warmup_ratio=0.03,\n",
    "    lr_scheduler_type=\"constant\",\n",
    "    report_to=\"wandb\",\n",
    "    push_to_hub=True,  # Enable pushing to Hub\n",
    "    hub_model_id=hub_model_id,  # Hugging Face Hub model ID\n",
    "    hub_strategy=\"every_save\",  # Push to Hub every epoch\n",
    "    disable_tqdm=True # disable tqdm since with packing values are in correct\n",
    ")\n",
    "\n",
    "max_seq_length = 2048 # max sequence length for model and packing of the dataset\n",
    "\n",
    "trainer = DPOTrainer(\n",
    "    model,\n",
    "    beta=0.1,\n",
    "    train_dataset=dataset_dict[\"train\"],\n",
    "    tokenizer=tokenizer,\n",
    "    args=args,\n",
    "    peft_config=peft_config,\n",
    "    max_length=max_seq_length,\n",
    ")"
   ]
  },
  {
   "cell_type": "code",
   "execution_count": 27,
   "id": "77897708",
   "metadata": {},
   "outputs": [
    {
     "name": "stderr",
     "output_type": "stream",
     "text": [
      "Asking to truncate to max_length but no maximum length is provided and the model has no predefined maximum length. Default to no truncation.\n"
     ]
    },
    {
     "name": "stdout",
     "output_type": "stream",
     "text": [
      "Starting custom evaluation.\n",
      "Example 0: "
     ]
    },
    {
     "name": "stderr",
     "output_type": "stream",
     "text": [
      "Asking to truncate to max_length but no maximum length is provided and the model has no predefined maximum length. Default to no truncation.\n"
     ]
    },
    {
     "name": "stdout",
     "output_type": "stream",
     "text": [
      "{'fc_combine': 0.3577747344970703, 'exact_match': 0.8308500051498413, 'perplexity': 6.818745136260986}\n",
      "Example 1: {'fc_combine': 0.36043891310691833, 'exact_match': 0.7130554914474487, 'perplexity': 6.76043701171875}\n",
      "Example 2: {'fc_combine': 0, 'exact_match': 0, 'perplexity': 7.09403657913208}\n",
      "Error function calling: 'NoneType' object has no attribute 'group'\n",
      "\n",
      "Example 3: {'fc_combine': 0, 'exact_match': 0, 'perplexity': 9.144186019897461}\n",
      "Error function calling: 'NoneType' object has no attribute 'group'\n",
      "\n",
      "Example 4: {'fc_combine': 0, 'exact_match': 0, 'perplexity': 9.144186019897461}\n",
      "Error function calling: No function call found in generated data\n",
      "\n",
      "Example 5: {'fc_combine': 0, 'exact_match': 0, 'perplexity': 15.047759056091309}\n",
      "Error function calling: 'NoneType' object has no attribute 'group'\n",
      "\n",
      "Example 6: {'fc_combine': 0, 'exact_match': 0, 'perplexity': 15.047759056091309}\n",
      "Error function calling: No function call found in generated data\n",
      "\n",
      "Example 7: {'fc_combine': 0, 'exact_match': 0.8533605337142944, 'perplexity': 14.794413566589355}\n",
      "Error function calling: division by zero\n",
      "\n",
      "Example 8: {'fc_combine': 0, 'exact_match': 0, 'perplexity': 14.357425689697266}\n",
      "Error function calling: Expecting value: line 1 column 1 (char 0)\n",
      "\n",
      "Example 9: {'fc_combine': 0, 'exact_match': 0, 'perplexity': 8.806879043579102}\n",
      "Error function calling: 'NoneType' object has no attribute 'group'\n",
      "\n",
      "Example 10: {'fc_combine': 0, 'exact_match': 0, 'perplexity': 15.149415969848633}\n",
      "Error function calling: No function call found in generated data\n",
      "\n",
      "Example 11: {'fc_combine': 0, 'exact_match': 0, 'perplexity': 13.254606246948242}\n",
      "Error function calling: No function call found in generated data\n",
      "\n",
      "Example 12: {'fc_combine': 0, 'exact_match': 0.6695130467414856, 'perplexity': 13.254606246948242}\n",
      "Error function calling: division by zero\n",
      "\n",
      "Example 13: {'fc_combine': 0, 'exact_match': 0, 'perplexity': 14.199463844299316}\n",
      "Error function calling: No function call found in generated data\n",
      "\n",
      "Example 14: {'fc_combine': 0, 'exact_match': 0, 'perplexity': 6.458526611328125}\n",
      "Error function calling: No function call found in generated data\n",
      "\n",
      "Example 15: {'fc_combine': 0, 'exact_match': 0, 'perplexity': 9.974215507507324}\n",
      "Error function calling: No function call found in generated data\n",
      "\n",
      "Example 16: {'fc_combine': 0, 'exact_match': 0, 'perplexity': 6.5170745849609375}\n",
      "Error function calling: No function call found in generated data\n",
      "\n",
      "Evaluation results for epoch -1: {'fc_combine': 0.04224786162376404, 'exact_match': 0.18039876923841588, 'perplexity': 10.930808011223288}\n",
      "Begin epoch 0\n"
     ]
    },
    {
     "name": "stderr",
     "output_type": "stream",
     "text": [
      "/apps/pytorch/2.0.1/lib/python3.10/site-packages/torch/utils/checkpoint.py:31: UserWarning: None of the inputs have requires_grad=True. Gradients will be None\n",
      "  warnings.warn(\"None of the inputs have requires_grad=True. Gradients will be None\")\n",
      "Could not estimate the number of tokens of the input, floating-point operations will not be computed\n"
     ]
    },
    {
     "name": "stdout",
     "output_type": "stream",
     "text": [
      "{'loss': 0.6771, 'learning_rate': 0.0002, 'rewards/chosen': 0.028725987300276756, 'rewards/rejected': -0.026681816205382347, 'rewards/accuracies': 0.5249999761581421, 'rewards/margins': 0.05540779232978821, 'logps/rejected': -47.731712341308594, 'logps/chosen': -54.887245178222656, 'logits/rejected': -0.10247864574193954, 'logits/chosen': -0.08859632164239883, 'epoch': 0.22}\n",
      "{'loss': 0.6023, 'learning_rate': 0.0002, 'rewards/chosen': -0.19084672629833221, 'rewards/rejected': -0.5086567401885986, 'rewards/accuracies': 0.675000011920929, 'rewards/margins': 0.3178099989891052, 'logps/rejected': -52.66888427734375, 'logps/chosen': -56.08970260620117, 'logits/rejected': -0.006291738711297512, 'logits/chosen': -0.015292517840862274, 'epoch': 0.44}\n",
      "{'loss': 0.5402, 'learning_rate': 0.0002, 'rewards/chosen': -0.3587267994880676, 'rewards/rejected': -1.0203734636306763, 'rewards/accuracies': 0.737500011920929, 'rewards/margins': 0.6616467237472534, 'logps/rejected': -51.61322021484375, 'logps/chosen': -56.468345642089844, 'logits/rejected': 0.008142023347318172, 'logits/chosen': -0.009594337083399296, 'epoch': 0.66}\n",
      "{'loss': 0.4715, 'learning_rate': 0.0002, 'rewards/chosen': -0.24743017554283142, 'rewards/rejected': -1.1740621328353882, 'rewards/accuracies': 0.7875000238418579, 'rewards/margins': 0.9266318082809448, 'logps/rejected': -55.39768600463867, 'logps/chosen': -56.87156295776367, 'logits/rejected': 0.09555698931217194, 'logits/chosen': 0.09374817460775375, 'epoch': 0.88}\n",
      "{'train_runtime': 281.6966, 'train_samples_per_second': 1.292, 'train_steps_per_second': 0.16, 'train_loss': 0.5658651034037272, 'epoch': 0.99}\n",
      "Starting custom evaluation.\n",
      "Example 0: {'fc_combine': 0, 'exact_match': 0, 'perplexity': 6.551456928253174}\n",
      "Error function calling: 'NoneType' object has no attribute 'group'\n",
      "\n",
      "Example 1: {'fc_combine': 0.3629588186740875, 'exact_match': 0.8231053352355957, 'perplexity': 7.487809658050537}\n",
      "Example 2: {'fc_combine': 0, 'exact_match': 0, 'perplexity': 7.85353946685791}\n",
      "Error function calling: Unterminated string starting at: line 1 column 88 (char 87)\n",
      "\n",
      "Example 3: {'fc_combine': 0, 'exact_match': 0, 'perplexity': 10.225618362426758}\n",
      "Error function calling: No function call found in generated data\n",
      "\n",
      "Example 4: {'fc_combine': 0, 'exact_match': 0, 'perplexity': 10.225618362426758}\n",
      "Error function calling: No function call found in generated data\n",
      "\n",
      "Example 5: {'fc_combine': 0, 'exact_match': 0, 'perplexity': 15.007241249084473}\n",
      "Error function calling: Expecting property name enclosed in double quotes: line 1 column 2 (char 1)\n",
      "\n",
      "Example 6: {'fc_combine': 0, 'exact_match': 0, 'perplexity': 15.007241249084473}\n",
      "Error function calling: No function call found in generated data\n",
      "\n",
      "Example 7: {'fc_combine': 0, 'exact_match': 0, 'perplexity': 14.948152542114258}\n",
      "Error function calling: No function call found in generated data\n",
      "\n",
      "Example 8: {'fc_combine': 0, 'exact_match': 0, 'perplexity': 14.490650177001953}\n",
      "Error function calling: No function call found in generated data\n",
      "\n",
      "Example 9: {'fc_combine': 0, 'exact_match': 0, 'perplexity': 8.489114761352539}\n",
      "Error function calling: No function call found in generated data\n",
      "\n",
      "Example 10: {'fc_combine': 0, 'exact_match': 0, 'perplexity': 15.131562232971191}\n",
      "Error function calling: No function call found in generated data\n",
      "\n",
      "Example 11: {'fc_combine': 0, 'exact_match': 0, 'perplexity': 12.859387397766113}\n",
      "Error function calling: No function call found in generated data\n",
      "\n",
      "Example 12: {'fc_combine': 0, 'exact_match': 0, 'perplexity': 12.859387397766113}\n",
      "Error function calling: 'NoneType' object has no attribute 'group'\n",
      "\n",
      "Example 13: {'fc_combine': 0, 'exact_match': 0, 'perplexity': 13.928215026855469}\n",
      "Error function calling: Expecting value: line 1 column 1 (char 0)\n",
      "\n",
      "Example 14: {'fc_combine': 0, 'exact_match': 0, 'perplexity': 6.596254825592041}\n",
      "Error function calling: No function call found in generated data\n",
      "\n",
      "Example 15: {'fc_combine': 0, 'exact_match': 0, 'perplexity': 9.87862777709961}\n",
      "Error function calling: No function call found in generated data\n",
      "\n",
      "Example 16: {'fc_combine': 0, 'exact_match': 0, 'perplexity': 7.004650592803955}\n",
      "Error function calling: No function call found in generated data\n",
      "\n",
      "Evaluation results for epoch 0: {'fc_combine': 0.02135051874553456, 'exact_match': 0.04841796089621151, 'perplexity': 11.090854588676901}\n",
      "\n",
      "\n",
      "\n",
      "Begin epoch 1\n"
     ]
    },
    {
     "name": "stderr",
     "output_type": "stream",
     "text": [
      "/apps/pytorch/2.0.1/lib/python3.10/site-packages/torch/utils/checkpoint.py:31: UserWarning: None of the inputs have requires_grad=True. Gradients will be None\n",
      "  warnings.warn(\"None of the inputs have requires_grad=True. Gradients will be None\")\n"
     ]
    },
    {
     "name": "stdout",
     "output_type": "stream",
     "text": [
      "{'loss': 0.1581, 'learning_rate': 0.0002, 'rewards/chosen': -0.5993881225585938, 'rewards/rejected': -2.8494508266448975, 'rewards/accuracies': 0.8999999761581421, 'rewards/margins': 2.2500627040863037, 'logps/rejected': -76.30184936523438, 'logps/chosen': -63.40406036376953, 'logits/rejected': 0.20261335372924805, 'logits/chosen': 0.18054063618183136, 'epoch': 0.22}\n",
      "{'loss': 0.2087, 'learning_rate': 0.0002, 'rewards/chosen': -3.5650017261505127, 'rewards/rejected': -6.6329498291015625, 'rewards/accuracies': 0.9375, 'rewards/margins': 3.067948341369629, 'logps/rejected': -110.75443267822266, 'logps/chosen': -90.38066101074219, 'logits/rejected': 0.12735788524150848, 'logits/chosen': 0.10654421895742416, 'epoch': 0.44}\n",
      "{'loss': 0.225, 'learning_rate': 0.0002, 'rewards/chosen': -3.77581524848938, 'rewards/rejected': -7.385890007019043, 'rewards/accuracies': 0.9375, 'rewards/margins': 3.610074281692505, 'logps/rejected': -119.07518005371094, 'logps/chosen': -92.22935485839844, 'logits/rejected': 0.26115137338638306, 'logits/chosen': 0.25179269909858704, 'epoch': 0.66}\n",
      "{'loss': 0.2215, 'learning_rate': 0.0002, 'rewards/chosen': -2.8179891109466553, 'rewards/rejected': -5.68039608001709, 'rewards/accuracies': 0.9125000238418579, 'rewards/margins': 2.8624067306518555, 'logps/rejected': -101.81645202636719, 'logps/chosen': -79.6837158203125, 'logits/rejected': 0.1681196540594101, 'logits/chosen': 0.16630835831165314, 'epoch': 0.88}\n",
      "{'train_runtime': 284.1914, 'train_samples_per_second': 1.281, 'train_steps_per_second': 0.158, 'train_loss': 0.2096623871061537, 'epoch': 0.99}\n",
      "Starting custom evaluation.\n",
      "Example 0: {'fc_combine': 0, 'exact_match': 0, 'perplexity': 7.771987438201904}\n",
      "Error function calling: 'NoneType' object has no attribute 'group'\n",
      "\n",
      "Example 1: {'fc_combine': 0.36043891310691833, 'exact_match': 0.7448292374610901, 'perplexity': 9.18183708190918}\n",
      "Example 2: {'fc_combine': 0.36043891310691833, 'exact_match': 0.6926319599151611, 'perplexity': 9.667428016662598}\n",
      "Example 3: {'fc_combine': 0, 'exact_match': 0, 'perplexity': 13.050369262695312}\n",
      "Error function calling: 'NoneType' object has no attribute 'group'\n",
      "\n",
      "Example 4: {'fc_combine': 0, 'exact_match': 0, 'perplexity': 13.050369262695312}\n",
      "Error function calling: No function call found in generated data\n",
      "\n",
      "Example 5: {'fc_combine': 0, 'exact_match': 0, 'perplexity': 18.49376678466797}\n",
      "Error function calling: 'NoneType' object has no attribute 'group'\n",
      "\n",
      "Example 6: {'fc_combine': 0, 'exact_match': 0, 'perplexity': 18.49376678466797}\n",
      "Error function calling: No function call found in generated data\n",
      "\n",
      "Example 7: {'fc_combine': 0, 'exact_match': 0, 'perplexity': 18.13458251953125}\n",
      "Error function calling: 'NoneType' object has no attribute 'group'\n",
      "\n",
      "Example 8: {'fc_combine': 0, 'exact_match': 0, 'perplexity': 17.583084106445312}\n",
      "Error function calling: 'NoneType' object has no attribute 'group'\n",
      "\n",
      "Example 9: {'fc_combine': 0, 'exact_match': 0, 'perplexity': 9.80421257019043}\n",
      "Error function calling: No function call found in generated data\n",
      "\n",
      "Example 10: {'fc_combine': 0, 'exact_match': 0, 'perplexity': 18.32538604736328}\n",
      "Error function calling: No function call found in generated data\n",
      "\n",
      "Example 11: {'fc_combine': 0, 'exact_match': 0, 'perplexity': 15.467412948608398}\n",
      "Error function calling: No function call found in generated data\n",
      "\n",
      "Example 12: {'fc_combine': 0, 'exact_match': 0, 'perplexity': 15.467412948608398}\n",
      "Error function calling: No function call found in generated data\n",
      "\n",
      "Example 13: {'fc_combine': 0, 'exact_match': 0, 'perplexity': 16.769628524780273}\n",
      "Error function calling: No function call found in generated data\n",
      "\n",
      "Example 14: {'fc_combine': 0, 'exact_match': 0, 'perplexity': 7.71026086807251}\n",
      "Error function calling: Expecting ',' delimiter: line 1 column 58 (char 57)\n",
      "\n",
      "Example 15: {'fc_combine': 0, 'exact_match': 0, 'perplexity': 11.83892822265625}\n",
      "Error function calling: 'NoneType' object has no attribute 'group'\n",
      "\n",
      "Example 16: {'fc_combine': 0, 'exact_match': 0, 'perplexity': 8.132771492004395}\n",
      "Error function calling: No function call found in generated data\n",
      "\n",
      "Evaluation results for epoch 1: {'fc_combine': 0.04240457801257863, 'exact_match': 0.08455654102213242, 'perplexity': 13.467247345868278}\n",
      "\n",
      "\n",
      "\n",
      "Begin epoch 2\n"
     ]
    },
    {
     "name": "stderr",
     "output_type": "stream",
     "text": [
      "/apps/pytorch/2.0.1/lib/python3.10/site-packages/torch/utils/checkpoint.py:31: UserWarning: None of the inputs have requires_grad=True. Gradients will be None\n",
      "  warnings.warn(\"None of the inputs have requires_grad=True. Gradients will be None\")\n"
     ]
    },
    {
     "name": "stdout",
     "output_type": "stream",
     "text": [
      "{'loss': 0.0739, 'learning_rate': 0.0002, 'rewards/chosen': -2.4179434776306152, 'rewards/rejected': -6.360779762268066, 'rewards/accuracies': 0.9666666388511658, 'rewards/margins': 3.9428367614746094, 'logps/rejected': -107.91798400878906, 'logps/chosen': -78.85916137695312, 'logits/rejected': 0.17341794073581696, 'logits/chosen': 0.18636558949947357, 'epoch': 0.22}\n",
      "{'loss': 0.1209, 'learning_rate': 0.0002, 'rewards/chosen': -2.9129977226257324, 'rewards/rejected': -7.590792655944824, 'rewards/accuracies': 0.9624999761581421, 'rewards/margins': 4.677794456481934, 'logps/rejected': -123.08984375, 'logps/chosen': -76.90034484863281, 'logits/rejected': 0.44831037521362305, 'logits/chosen': 0.44147101044654846, 'epoch': 0.44}\n",
      "{'loss': 0.0582, 'learning_rate': 0.0002, 'rewards/chosen': -3.15729022026062, 'rewards/rejected': -9.427106857299805, 'rewards/accuracies': 1.0, 'rewards/margins': 6.269815444946289, 'logps/rejected': -143.4191131591797, 'logps/chosen': -88.94710540771484, 'logits/rejected': 0.5908241271972656, 'logits/chosen': 0.592426598072052, 'epoch': 0.66}\n",
      "{'loss': 0.1371, 'learning_rate': 0.0002, 'rewards/chosen': -3.5056591033935547, 'rewards/rejected': -8.436850547790527, 'rewards/accuracies': 0.949999988079071, 'rewards/margins': 4.931192398071289, 'logps/rejected': -127.11927795410156, 'logps/chosen': -94.42985534667969, 'logits/rejected': 0.009537182748317719, 'logits/chosen': 0.016208434477448463, 'epoch': 0.88}\n",
      "{'train_runtime': 282.8345, 'train_samples_per_second': 1.287, 'train_steps_per_second': 0.159, 'train_loss': 0.09810428222020467, 'epoch': 0.99}\n",
      "Starting custom evaluation.\n",
      "Example 0: {'fc_combine': 0, 'exact_match': 0, 'perplexity': 9.178360939025879}\n",
      "Error function calling: No function call found in generated data\n",
      "\n",
      "Example 1: {'fc_combine': 0, 'exact_match': 0, 'perplexity': 12.562167167663574}\n",
      "Error function calling: No function call found in generated data\n",
      "\n",
      "Example 2: {'fc_combine': 0, 'exact_match': 0, 'perplexity': 13.186110496520996}\n",
      "Error function calling: No function call found in generated data\n",
      "\n",
      "Example 3: {'fc_combine': 0, 'exact_match': 0, 'perplexity': 19.24420738220215}\n",
      "Error function calling: No function call found in generated data\n",
      "\n",
      "Example 4: {'fc_combine': 0, 'exact_match': 0, 'perplexity': 19.24420738220215}\n",
      "Error function calling: No function call found in generated data\n",
      "\n",
      "Example 5: {'fc_combine': 0, 'exact_match': 0, 'perplexity': 24.045988082885742}\n",
      "Error function calling: No function call found in generated data\n",
      "\n",
      "Example 6: {'fc_combine': 0, 'exact_match': 0, 'perplexity': 24.045988082885742}\n",
      "Error function calling: No function call found in generated data\n",
      "\n",
      "Example 7: {'fc_combine': 0, 'exact_match': 0, 'perplexity': 23.723060607910156}\n",
      "Error function calling: No function call found in generated data\n",
      "\n",
      "Example 8: {'fc_combine': 0, 'exact_match': 0, 'perplexity': 23.600507736206055}\n",
      "Error function calling: No function call found in generated data\n",
      "\n",
      "Example 9: {'fc_combine': 0, 'exact_match': 0, 'perplexity': 11.951244354248047}\n",
      "Error function calling: No function call found in generated data\n",
      "\n",
      "Example 10: {'fc_combine': 0, 'exact_match': 0, 'perplexity': 22.809280395507812}\n",
      "Error function calling: 'NoneType' object has no attribute 'group'\n",
      "\n",
      "Example 11: {'fc_combine': 0, 'exact_match': 0, 'perplexity': 20.175796508789062}\n",
      "Error function calling: No function call found in generated data\n",
      "\n",
      "Example 12: {'fc_combine': 0, 'exact_match': 0, 'perplexity': 20.175796508789062}\n",
      "Error function calling: 'NoneType' object has no attribute 'group'\n",
      "\n",
      "Example 13: {'fc_combine': 0, 'exact_match': 0, 'perplexity': 21.610395431518555}\n",
      "Error function calling: No function call found in generated data\n",
      "\n",
      "Example 14: {'fc_combine': 0, 'exact_match': 0, 'perplexity': 9.979978561401367}\n",
      "Error function calling: No function call found in generated data\n",
      "\n",
      "Example 15: {'fc_combine': 0, 'exact_match': 0, 'perplexity': 15.297844886779785}\n",
      "Error function calling: No function call found in generated data\n",
      "\n",
      "Example 16: {'fc_combine': 0.3589100241661072, 'exact_match': 0.7307106852531433, 'perplexity': 10.505555152893066}\n",
      "Evaluation results for epoch 2: {'fc_combine': 0.021112354362712187, 'exact_match': 0.04298298148547902, 'perplexity': 17.72567586337819}\n",
      "\n",
      "\n",
      "\n"
     ]
    },
    {
     "data": {
      "application/vnd.jupyter.widget-view+json": {
       "model_id": "",
       "version_major": 2,
       "version_minor": 0
      },
      "text/plain": [
       "VBox(children=(Label(value='0.015 MB of 0.015 MB uploaded\\r'), FloatProgress(value=1.0, max=1.0)))"
      ]
     },
     "metadata": {},
     "output_type": "display_data"
    },
    {
     "name": "stderr",
     "output_type": "stream",
     "text": [
      "wandb: WARNING Source type is set to 'repo' but some required information is missing from the environment. A job will not be created from this run. See https://docs.wandb.ai/guides/launch/create-job\n"
     ]
    },
    {
     "data": {
      "text/html": [
       "<style>\n",
       "    table.wandb td:nth-child(1) { padding: 0 10px; text-align: left ; width: auto;} td:nth-child(2) {text-align: left ; width: 100%}\n",
       "    .wandb-row { display: flex; flex-direction: row; flex-wrap: wrap; justify-content: flex-start; width: 100% }\n",
       "    .wandb-col { display: flex; flex-direction: column; flex-basis: 100%; flex: 1; padding: 10px; }\n",
       "    </style>\n",
       "<div class=\"wandb-row\"><div class=\"wandb-col\"><h3>Run history:</h3><br/><table class=\"wandb\"><tr><td>epoch</td><td>▁▃▆█</td></tr><tr><td>exact_match</td><td>█▁▃▁</td></tr><tr><td>fc_combine</td><td>█▁█▁</td></tr><tr><td>perplexity</td><td>▁▁▄█</td></tr><tr><td>train/epoch</td><td>▁▃▅▇█▁▃▅▇█▁▃▅▇█</td></tr><tr><td>train/global_step</td><td>▁▃▇███████████▃▇███████████▃▅███████████</td></tr><tr><td>train/learning_rate</td><td>▁▁▁▁▁▁▁▁▁▁▁▁</td></tr><tr><td>train/logits/chosen</td><td>▁▂▂▃▄▃▄▄▄▆█▂</td></tr><tr><td>train/logits/rejected</td><td>▁▂▂▃▄▃▅▄▄▇█▂</td></tr><tr><td>train/logps/chosen</td><td>████▆▂▁▄▄▄▂▁</td></tr><tr><td>train/logps/rejected</td><td>███▇▆▃▃▄▄▂▁▂</td></tr><tr><td>train/loss</td><td>█▇▆▆▂▃▃▃▁▂▁▂</td></tr><tr><td>train/rewards/accuracies</td><td>▁▃▄▅▇▇▇▇█▇█▇</td></tr><tr><td>train/rewards/chosen</td><td>██▇▇▇▁▁▃▃▃▂▁</td></tr><tr><td>train/rewards/margins</td><td>▁▁▂▂▃▄▅▄▅▆█▆</td></tr><tr><td>train/rewards/rejected</td><td>██▇▇▆▃▃▄▃▂▁▂</td></tr><tr><td>train/total_flos</td><td>▁▁▁</td></tr><tr><td>train/train_loss</td><td>█▃▁</td></tr><tr><td>train/train_runtime</td><td>▁█▄</td></tr><tr><td>train/train_samples_per_second</td><td>█▁▅</td></tr><tr><td>train/train_steps_per_second</td><td>█▁▄</td></tr></table><br/></div><div class=\"wandb-col\"><h3>Run summary:</h3><br/><table class=\"wandb\"><tr><td>epoch</td><td>2</td></tr><tr><td>exact_match</td><td>0.04298</td></tr><tr><td>fc_combine</td><td>0.02111</td></tr><tr><td>perplexity</td><td>17.72568</td></tr><tr><td>train/epoch</td><td>0.99</td></tr><tr><td>train/global_step</td><td>45</td></tr><tr><td>train/learning_rate</td><td>0.0002</td></tr><tr><td>train/logits/chosen</td><td>0.01621</td></tr><tr><td>train/logits/rejected</td><td>0.00954</td></tr><tr><td>train/logps/chosen</td><td>-94.42986</td></tr><tr><td>train/logps/rejected</td><td>-127.11928</td></tr><tr><td>train/loss</td><td>0.1371</td></tr><tr><td>train/rewards/accuracies</td><td>0.95</td></tr><tr><td>train/rewards/chosen</td><td>-3.50566</td></tr><tr><td>train/rewards/margins</td><td>4.93119</td></tr><tr><td>train/rewards/rejected</td><td>-8.43685</td></tr><tr><td>train/total_flos</td><td>0.0</td></tr><tr><td>train/train_loss</td><td>0.0981</td></tr><tr><td>train/train_runtime</td><td>282.8345</td></tr><tr><td>train/train_samples_per_second</td><td>1.287</td></tr><tr><td>train/train_steps_per_second</td><td>0.159</td></tr></table><br/></div></div>"
      ],
      "text/plain": [
       "<IPython.core.display.HTML object>"
      ]
     },
     "metadata": {},
     "output_type": "display_data"
    },
    {
     "data": {
      "text/html": [
       " View run <strong style=\"color:#cdcd00\">llama-7-chat-instruction-int4-fc-dpo</strong> at: <a href='https://wandb.ai/sebastiansosa/function_calling/runs/llama-7-chat-instruction-int4-fc-dpo' target=\"_blank\">https://wandb.ai/sebastiansosa/function_calling/runs/llama-7-chat-instruction-int4-fc-dpo</a><br/>Synced 5 W&B file(s), 0 media file(s), 0 artifact file(s) and 0 other file(s)"
      ],
      "text/plain": [
       "<IPython.core.display.HTML object>"
      ]
     },
     "metadata": {},
     "output_type": "display_data"
    },
    {
     "data": {
      "text/html": [
       "Find logs at: <code>./wandb/run-20231124_214608-llama-7-chat-instruction-int4-fc-dpo/logs</code>"
      ],
      "text/plain": [
       "<IPython.core.display.HTML object>"
      ]
     },
     "metadata": {},
     "output_type": "display_data"
    }
   ],
   "source": [
    "# Training and Evaluation Loop\n",
    "eval_result = custom_evaluation(sft_dataset_dict[\"test\"], model, tokenizer, -1)\n",
    "print(f\"Evaluation results for epoch {-1}: {eval_result}\")\n",
    "wandb.log({\"epoch\": -1, **eval_result})\n",
    "\n",
    "num_epochs = 3\n",
    "for epoch in range(num_epochs):\n",
    "    print(f\"Begin epoch {epoch}\")\n",
    "    # Train for one epoch\n",
    "    trainer.train()\n",
    "\n",
    "    # Evaluate the model with the custom evaluation logic\n",
    "    eval_result = custom_evaluation(sft_dataset_dict[\"test\"], model, tokenizer, epoch)\n",
    "\n",
    "    wandb.log({\"epoch\": epoch, **eval_result})\n",
    "\n",
    "    # Save the model after each epoch (optional)\n",
    "    trainer.save_model()\n",
    "\n",
    "    \n",
    "\n",
    "    # Log or print evaluation results\n",
    "    print(f\"Evaluation results for epoch {epoch}: {eval_result}\\n\\n\\n\")\n",
    "\n",
    "wandb.finish()"
   ]
  }
 ],
 "metadata": {
  "kernelspec": {
   "display_name": "PyTorch-2.0.1",
   "language": "python",
   "name": "pytorch-2.0.1"
  },
  "language_info": {
   "codemirror_mode": {
    "name": "ipython",
    "version": 3
   },
   "file_extension": ".py",
   "mimetype": "text/x-python",
   "name": "python",
   "nbconvert_exporter": "python",
   "pygments_lexer": "ipython3",
   "version": "3.10.11"
  }
 },
 "nbformat": 4,
 "nbformat_minor": 5
}
