{
 "cells": [
  {
   "cell_type": "code",
   "execution_count": 1,
   "id": "091e1455-6621-4198-a135-886bf1950aa0",
   "metadata": {
    "scrolled": true
   },
   "outputs": [
    {
     "name": "stdout",
     "output_type": "stream",
     "text": [
      "Defaulting to user installation because normal site-packages is not writeable\n",
      "Requirement already satisfied: transformers==4.34.0 in /home/sosa.s/.local/lib/python3.10/site-packages (4.34.0)\n",
      "Requirement already satisfied: datasets==2.13.0 in /home/sosa.s/.local/lib/python3.10/site-packages (2.13.0)\n",
      "Requirement already satisfied: peft==0.4.0 in /home/sosa.s/.local/lib/python3.10/site-packages (0.4.0)\n",
      "Requirement already satisfied: accelerate==0.23.0 in /home/sosa.s/.local/lib/python3.10/site-packages (0.23.0)\n",
      "Requirement already satisfied: bitsandbytes==0.41.1 in /home/sosa.s/.local/lib/python3.10/site-packages (0.41.1)\n",
      "Requirement already satisfied: trl==0.7.4 in /home/sosa.s/.local/lib/python3.10/site-packages (0.7.4)\n",
      "Requirement already satisfied: safetensors>=0.3.1 in /home/sosa.s/.local/lib/python3.10/site-packages (0.4.0)\n",
      "Requirement already satisfied: ipywidgets in /home/sosa.s/.local/lib/python3.10/site-packages (8.1.1)\n",
      "Requirement already satisfied: wandb in /home/sosa.s/.local/lib/python3.10/site-packages (0.16.0)\n",
      "Requirement already satisfied: filelock in /apps/pytorch/2.0.1/lib/python3.10/site-packages (from transformers==4.34.0) (3.12.0)\n",
      "Requirement already satisfied: huggingface-hub<1.0,>=0.16.4 in /home/sosa.s/.local/lib/python3.10/site-packages (from transformers==4.34.0) (0.17.3)\n",
      "Requirement already satisfied: numpy>=1.17 in /apps/pytorch/2.0.1/lib/python3.10/site-packages (from transformers==4.34.0) (1.24.3)\n",
      "Requirement already satisfied: packaging>=20.0 in /apps/pytorch/2.0.1/lib/python3.10/site-packages (from transformers==4.34.0) (23.1)\n",
      "Requirement already satisfied: pyyaml>=5.1 in /apps/pytorch/2.0.1/lib/python3.10/site-packages (from transformers==4.34.0) (6.0.1)\n",
      "Requirement already satisfied: regex!=2019.12.17 in /home/sosa.s/.local/lib/python3.10/site-packages (from transformers==4.34.0) (2023.10.3)\n",
      "Requirement already satisfied: requests in /apps/pytorch/2.0.1/lib/python3.10/site-packages (from transformers==4.34.0) (2.29.0)\n",
      "Requirement already satisfied: tokenizers<0.15,>=0.14 in /home/sosa.s/.local/lib/python3.10/site-packages (from transformers==4.34.0) (0.14.1)\n",
      "Requirement already satisfied: tqdm>=4.27 in /apps/pytorch/2.0.1/lib/python3.10/site-packages (from transformers==4.34.0) (4.65.0)\n",
      "Requirement already satisfied: pyarrow>=8.0.0 in /home/sosa.s/.local/lib/python3.10/site-packages (from datasets==2.13.0) (14.0.0)\n",
      "Requirement already satisfied: dill<0.3.7,>=0.3.0 in /home/sosa.s/.local/lib/python3.10/site-packages (from datasets==2.13.0) (0.3.6)\n",
      "Requirement already satisfied: pandas in /home/sosa.s/.local/lib/python3.10/site-packages (from datasets==2.13.0) (2.1.3)\n",
      "Requirement already satisfied: xxhash in /home/sosa.s/.local/lib/python3.10/site-packages (from datasets==2.13.0) (3.4.1)\n",
      "Requirement already satisfied: multiprocess in /home/sosa.s/.local/lib/python3.10/site-packages (from datasets==2.13.0) (0.70.14)\n",
      "Requirement already satisfied: fsspec[http]>=2021.11.1 in /apps/pytorch/2.0.1/lib/python3.10/site-packages (from datasets==2.13.0) (2023.9.2)\n",
      "Requirement already satisfied: aiohttp in /apps/pytorch/2.0.1/lib/python3.10/site-packages (from datasets==2.13.0) (3.8.6)\n",
      "Requirement already satisfied: psutil in /apps/pytorch/2.0.1/lib/python3.10/site-packages (from peft==0.4.0) (5.9.5)\n",
      "Requirement already satisfied: torch>=1.13.0 in /apps/pytorch/2.0.1/lib/python3.10/site-packages (from peft==0.4.0) (2.0.1)\n",
      "Requirement already satisfied: tyro>=0.5.11 in /home/sosa.s/.local/lib/python3.10/site-packages (from trl==0.7.4) (0.5.18)\n",
      "Requirement already satisfied: comm>=0.1.3 in /apps/pytorch/2.0.1/lib/python3.10/site-packages (from ipywidgets) (0.1.3)\n",
      "Requirement already satisfied: ipython>=6.1.0 in /apps/pytorch/2.0.1/lib/python3.10/site-packages (from ipywidgets) (8.13.2)\n",
      "Requirement already satisfied: traitlets>=4.3.1 in /apps/pytorch/2.0.1/lib/python3.10/site-packages (from ipywidgets) (5.9.0)\n",
      "Requirement already satisfied: widgetsnbextension~=4.0.9 in /home/sosa.s/.local/lib/python3.10/site-packages (from ipywidgets) (4.0.9)\n",
      "Requirement already satisfied: jupyterlab-widgets~=3.0.9 in /home/sosa.s/.local/lib/python3.10/site-packages (from ipywidgets) (3.0.9)\n",
      "Requirement already satisfied: Click!=8.0.0,>=7.1 in /apps/pytorch/2.0.1/lib/python3.10/site-packages (from wandb) (8.1.7)\n",
      "Requirement already satisfied: GitPython!=3.1.29,>=1.0.0 in /home/sosa.s/.local/lib/python3.10/site-packages (from wandb) (3.1.40)\n",
      "Requirement already satisfied: sentry-sdk>=1.0.0 in /home/sosa.s/.local/lib/python3.10/site-packages (from wandb) (1.34.0)\n",
      "Requirement already satisfied: docker-pycreds>=0.4.0 in /home/sosa.s/.local/lib/python3.10/site-packages (from wandb) (0.4.0)\n",
      "Requirement already satisfied: setproctitle in /home/sosa.s/.local/lib/python3.10/site-packages (from wandb) (1.3.3)\n",
      "Requirement already satisfied: setuptools in /apps/pytorch/2.0.1/lib/python3.10/site-packages (from wandb) (67.7.2)\n",
      "Requirement already satisfied: appdirs>=1.4.3 in /home/sosa.s/.local/lib/python3.10/site-packages (from wandb) (1.4.4)\n",
      "Requirement already satisfied: protobuf!=4.21.0,<5,>=3.19.0 in /home/sosa.s/.local/lib/python3.10/site-packages (from wandb) (4.25.1)\n",
      "Requirement already satisfied: six>=1.4.0 in /apps/pytorch/2.0.1/lib/python3.10/site-packages (from docker-pycreds>=0.4.0->wandb) (1.16.0)\n",
      "Requirement already satisfied: attrs>=17.3.0 in /apps/pytorch/2.0.1/lib/python3.10/site-packages (from aiohttp->datasets==2.13.0) (23.1.0)\n",
      "Requirement already satisfied: charset-normalizer<4.0,>=2.0 in /apps/pytorch/2.0.1/lib/python3.10/site-packages (from aiohttp->datasets==2.13.0) (3.1.0)\n",
      "Requirement already satisfied: multidict<7.0,>=4.5 in /apps/pytorch/2.0.1/lib/python3.10/site-packages (from aiohttp->datasets==2.13.0) (6.0.4)\n",
      "Requirement already satisfied: async-timeout<5.0,>=4.0.0a3 in /apps/pytorch/2.0.1/lib/python3.10/site-packages (from aiohttp->datasets==2.13.0) (4.0.3)\n",
      "Requirement already satisfied: yarl<2.0,>=1.0 in /apps/pytorch/2.0.1/lib/python3.10/site-packages (from aiohttp->datasets==2.13.0) (1.9.2)\n",
      "Requirement already satisfied: frozenlist>=1.1.1 in /apps/pytorch/2.0.1/lib/python3.10/site-packages (from aiohttp->datasets==2.13.0) (1.4.0)\n",
      "Requirement already satisfied: aiosignal>=1.1.2 in /apps/pytorch/2.0.1/lib/python3.10/site-packages (from aiohttp->datasets==2.13.0) (1.3.1)\n",
      "Requirement already satisfied: gitdb<5,>=4.0.1 in /home/sosa.s/.local/lib/python3.10/site-packages (from GitPython!=3.1.29,>=1.0.0->wandb) (4.0.11)\n",
      "Requirement already satisfied: typing-extensions>=3.7.4.3 in /apps/pytorch/2.0.1/lib/python3.10/site-packages (from huggingface-hub<1.0,>=0.16.4->transformers==4.34.0) (4.5.0)\n",
      "Requirement already satisfied: backcall in /apps/pytorch/2.0.1/lib/python3.10/site-packages (from ipython>=6.1.0->ipywidgets) (0.2.0)\n",
      "Requirement already satisfied: decorator in /apps/pytorch/2.0.1/lib/python3.10/site-packages (from ipython>=6.1.0->ipywidgets) (5.1.1)\n",
      "Requirement already satisfied: jedi>=0.16 in /apps/pytorch/2.0.1/lib/python3.10/site-packages (from ipython>=6.1.0->ipywidgets) (0.18.2)\n",
      "Requirement already satisfied: matplotlib-inline in /apps/pytorch/2.0.1/lib/python3.10/site-packages (from ipython>=6.1.0->ipywidgets) (0.1.6)\n",
      "Requirement already satisfied: pickleshare in /apps/pytorch/2.0.1/lib/python3.10/site-packages (from ipython>=6.1.0->ipywidgets) (0.7.5)\n",
      "Requirement already satisfied: prompt-toolkit!=3.0.37,<3.1.0,>=3.0.30 in /apps/pytorch/2.0.1/lib/python3.10/site-packages (from ipython>=6.1.0->ipywidgets) (3.0.38)\n",
      "Requirement already satisfied: pygments>=2.4.0 in /apps/pytorch/2.0.1/lib/python3.10/site-packages (from ipython>=6.1.0->ipywidgets) (2.15.1)\n",
      "Requirement already satisfied: stack-data in /apps/pytorch/2.0.1/lib/python3.10/site-packages (from ipython>=6.1.0->ipywidgets) (0.6.2)\n",
      "Requirement already satisfied: pexpect>4.3 in /apps/pytorch/2.0.1/lib/python3.10/site-packages (from ipython>=6.1.0->ipywidgets) (4.8.0)\n",
      "Requirement already satisfied: idna<4,>=2.5 in /apps/pytorch/2.0.1/lib/python3.10/site-packages (from requests->transformers==4.34.0) (3.4)\n",
      "Requirement already satisfied: urllib3<1.27,>=1.21.1 in /apps/pytorch/2.0.1/lib/python3.10/site-packages (from requests->transformers==4.34.0) (1.26.15)\n",
      "Requirement already satisfied: certifi>=2017.4.17 in /apps/pytorch/2.0.1/lib/python3.10/site-packages (from requests->transformers==4.34.0) (2023.7.22)\n",
      "Requirement already satisfied: sympy in /apps/pytorch/2.0.1/lib/python3.10/site-packages (from torch>=1.13.0->peft==0.4.0) (1.12)\n",
      "Requirement already satisfied: networkx in /apps/pytorch/2.0.1/lib/python3.10/site-packages (from torch>=1.13.0->peft==0.4.0) (3.1)\n",
      "Requirement already satisfied: jinja2 in /apps/pytorch/2.0.1/lib/python3.10/site-packages (from torch>=1.13.0->peft==0.4.0) (3.1.2)\n",
      "Requirement already satisfied: docstring-parser>=0.14.1 in /home/sosa.s/.local/lib/python3.10/site-packages (from tyro>=0.5.11->trl==0.7.4) (0.15)\n",
      "Requirement already satisfied: rich>=11.1.0 in /home/sosa.s/.local/lib/python3.10/site-packages (from tyro>=0.5.11->trl==0.7.4) (13.7.0)\n",
      "Requirement already satisfied: shtab>=1.5.6 in /home/sosa.s/.local/lib/python3.10/site-packages (from tyro>=0.5.11->trl==0.7.4) (1.6.4)\n",
      "Requirement already satisfied: python-dateutil>=2.8.2 in /apps/pytorch/2.0.1/lib/python3.10/site-packages (from pandas->datasets==2.13.0) (2.8.2)\n",
      "Requirement already satisfied: pytz>=2020.1 in /apps/pytorch/2.0.1/lib/python3.10/site-packages (from pandas->datasets==2.13.0) (2023.3)\n",
      "Requirement already satisfied: tzdata>=2022.1 in /home/sosa.s/.local/lib/python3.10/site-packages (from pandas->datasets==2.13.0) (2023.3)\n",
      "Requirement already satisfied: smmap<6,>=3.0.1 in /home/sosa.s/.local/lib/python3.10/site-packages (from gitdb<5,>=4.0.1->GitPython!=3.1.29,>=1.0.0->wandb) (5.0.1)\n",
      "Requirement already satisfied: parso<0.9.0,>=0.8.0 in /apps/pytorch/2.0.1/lib/python3.10/site-packages (from jedi>=0.16->ipython>=6.1.0->ipywidgets) (0.8.3)\n",
      "Requirement already satisfied: ptyprocess>=0.5 in /apps/pytorch/2.0.1/lib/python3.10/site-packages (from pexpect>4.3->ipython>=6.1.0->ipywidgets) (0.7.0)\n",
      "Requirement already satisfied: wcwidth in /apps/pytorch/2.0.1/lib/python3.10/site-packages (from prompt-toolkit!=3.0.37,<3.1.0,>=3.0.30->ipython>=6.1.0->ipywidgets) (0.2.6)\n",
      "Requirement already satisfied: markdown-it-py>=2.2.0 in /home/sosa.s/.local/lib/python3.10/site-packages (from rich>=11.1.0->tyro>=0.5.11->trl==0.7.4) (3.0.0)\n",
      "Requirement already satisfied: MarkupSafe>=2.0 in /apps/pytorch/2.0.1/lib/python3.10/site-packages (from jinja2->torch>=1.13.0->peft==0.4.0) (2.1.2)\n",
      "Requirement already satisfied: executing>=1.2.0 in /apps/pytorch/2.0.1/lib/python3.10/site-packages (from stack-data->ipython>=6.1.0->ipywidgets) (1.2.0)\n",
      "Requirement already satisfied: asttokens>=2.1.0 in /apps/pytorch/2.0.1/lib/python3.10/site-packages (from stack-data->ipython>=6.1.0->ipywidgets) (2.2.1)\n",
      "Requirement already satisfied: pure-eval in /apps/pytorch/2.0.1/lib/python3.10/site-packages (from stack-data->ipython>=6.1.0->ipywidgets) (0.2.2)\n",
      "Requirement already satisfied: mpmath>=0.19 in /apps/pytorch/2.0.1/lib/python3.10/site-packages (from sympy->torch>=1.13.0->peft==0.4.0) (1.3.0)\n",
      "Requirement already satisfied: mdurl~=0.1 in /home/sosa.s/.local/lib/python3.10/site-packages (from markdown-it-py>=2.2.0->rich>=11.1.0->tyro>=0.5.11->trl==0.7.4) (0.1.2)\n",
      "Defaulting to user installation because normal site-packages is not writeable\n",
      "Requirement already satisfied: ninja in /home/sosa.s/.local/lib/python3.10/site-packages (1.11.1.1)\n",
      "Requirement already satisfied: packaging in /apps/pytorch/2.0.1/lib/python3.10/site-packages (23.1)\n",
      "Defaulting to user installation because normal site-packages is not writeable\n",
      "Requirement already satisfied: flash-attn in /home/sosa.s/.local/lib/python3.10/site-packages (2.3.3)\n",
      "Requirement already satisfied: torch in /apps/pytorch/2.0.1/lib/python3.10/site-packages (from flash-attn) (2.0.1)\n",
      "Requirement already satisfied: einops in /home/sosa.s/.local/lib/python3.10/site-packages (from flash-attn) (0.7.0)\n",
      "Requirement already satisfied: packaging in /apps/pytorch/2.0.1/lib/python3.10/site-packages (from flash-attn) (23.1)\n",
      "Requirement already satisfied: ninja in /home/sosa.s/.local/lib/python3.10/site-packages (from flash-attn) (1.11.1.1)\n",
      "Requirement already satisfied: filelock in /apps/pytorch/2.0.1/lib/python3.10/site-packages (from torch->flash-attn) (3.12.0)\n",
      "Requirement already satisfied: typing-extensions in /apps/pytorch/2.0.1/lib/python3.10/site-packages (from torch->flash-attn) (4.5.0)\n",
      "Requirement already satisfied: sympy in /apps/pytorch/2.0.1/lib/python3.10/site-packages (from torch->flash-attn) (1.12)\n",
      "Requirement already satisfied: networkx in /apps/pytorch/2.0.1/lib/python3.10/site-packages (from torch->flash-attn) (3.1)\n",
      "Requirement already satisfied: jinja2 in /apps/pytorch/2.0.1/lib/python3.10/site-packages (from torch->flash-attn) (3.1.2)\n",
      "Requirement already satisfied: MarkupSafe>=2.0 in /apps/pytorch/2.0.1/lib/python3.10/site-packages (from jinja2->torch->flash-attn) (2.1.2)\n",
      "Requirement already satisfied: mpmath>=0.19 in /apps/pytorch/2.0.1/lib/python3.10/site-packages (from sympy->torch->flash-attn) (1.3.0)\n"
     ]
    }
   ],
   "source": [
    "!pip install \"transformers==4.34.0\" \"datasets==2.13.0\" \"peft==0.4.0\" \"accelerate==0.23.0\" \"bitsandbytes==0.41.1\" \"trl==0.7.4\" \"safetensors>=0.3.1\" ipywidgets wandb --upgrade\n",
    "!python -c \"import torch; assert torch.cuda.get_device_capability()[0] >= 8, 'Hardware not supported for Flash Attention'\"\n",
    "!pip install ninja packaging\n",
    "!MAX_JOBS=1 pip install flash-attn --no-build-isolation"
   ]
  },
  {
   "cell_type": "code",
   "execution_count": 2,
   "id": "2afb05ca-9182-4431-b115-0dcae7ddee89",
   "metadata": {},
   "outputs": [],
   "source": [
    "# add parent directory to path\n",
    "import sys\n",
    "import os\n",
    "\n",
    "project_dir = os.getcwd()\n",
    "parent_dir = os.path.dirname(project_dir)\n",
    "sys.path.insert(0, parent_dir)"
   ]
  },
  {
   "cell_type": "code",
   "execution_count": 3,
   "id": "25034482",
   "metadata": {},
   "outputs": [
    {
     "name": "stderr",
     "output_type": "stream",
     "text": [
      "Failed to detect the name of this notebook, you can set it manually with the WANDB_NOTEBOOK_NAME environment variable to enable code saving.\n",
      "\u001b[34m\u001b[1mwandb\u001b[0m: Currently logged in as: \u001b[33msebastiansosa\u001b[0m. Use \u001b[1m`wandb login --relogin`\u001b[0m to force relogin\n"
     ]
    },
    {
     "data": {
      "text/html": [
       "Tracking run with wandb version 0.16.0"
      ],
      "text/plain": [
       "<IPython.core.display.HTML object>"
      ]
     },
     "metadata": {},
     "output_type": "display_data"
    },
    {
     "data": {
      "text/html": [
       "Run data is saved locally in <code>/home/sosa.s/gaitor_function_calling/wandb/run-20231123_230425-llama-7-chat-instruction-int4-fc-sft_fix-dpo</code>"
      ],
      "text/plain": [
       "<IPython.core.display.HTML object>"
      ]
     },
     "metadata": {},
     "output_type": "display_data"
    },
    {
     "data": {
      "text/html": [
       "Syncing run <strong><a href='https://wandb.ai/sebastiansosa/function_calling/runs/llama-7-chat-instruction-int4-fc-sft_fix-dpo' target=\"_blank\">llama-7-chat-instruction-int4-fc-sft_fix-dpo</a></strong> to <a href='https://wandb.ai/sebastiansosa/function_calling' target=\"_blank\">Weights & Biases</a> (<a href='https://wandb.me/run' target=\"_blank\">docs</a>)<br/>"
      ],
      "text/plain": [
       "<IPython.core.display.HTML object>"
      ]
     },
     "metadata": {},
     "output_type": "display_data"
    },
    {
     "data": {
      "text/html": [
       " View project at <a href='https://wandb.ai/sebastiansosa/function_calling' target=\"_blank\">https://wandb.ai/sebastiansosa/function_calling</a>"
      ],
      "text/plain": [
       "<IPython.core.display.HTML object>"
      ]
     },
     "metadata": {},
     "output_type": "display_data"
    },
    {
     "data": {
      "text/html": [
       " View run at <a href='https://wandb.ai/sebastiansosa/function_calling/runs/llama-7-chat-instruction-int4-fc-sft_fix-dpo' target=\"_blank\">https://wandb.ai/sebastiansosa/function_calling/runs/llama-7-chat-instruction-int4-fc-sft_fix-dpo</a>"
      ],
      "text/plain": [
       "<IPython.core.display.HTML object>"
      ]
     },
     "metadata": {},
     "output_type": "display_data"
    },
    {
     "data": {
      "application/vnd.jupyter.widget-view+json": {
       "model_id": "25322626869b4f858c476fa496c6acb1",
       "version_major": 2,
       "version_minor": 0
      },
      "text/plain": [
       "VBox(children=(HTML(value='<center> <img\\nsrc=https://huggingface.co/front/assets/huggingface_logo-noborder.sv…"
      ]
     },
     "metadata": {},
     "output_type": "display_data"
    }
   ],
   "source": [
    "# configs\n",
    "from huggingface_hub import notebook_login\n",
    "import wandb\n",
    "\n",
    "model_id = \"SebastianS/llama-7-chat-instruction-int4-fc-sft_fix\"\n",
    "output_dir = \"llama-7-chat-instruction-int4-fc-sft_fix-dpo\"\n",
    "hub_model_id = f\"SebastianS/{output_dir}\"\n",
    "wandb.init(project=\"function_calling\", id=output_dir, entity=\"sebastiansosa\", notes=\"Trained for 2 epochs on the entirety of the production fc_only dataset.\")\n",
    "wandb.define_metric(\"fc_combine\", goal=\"maximize\")\n",
    "wandb.define_metric(\"exact_match\", goal=\"maximize\")\n",
    "wandb.define_metric(\"perplexity\", goal=\"minimize\")\n",
    "wandb.define_metric(\"epoch\")\n",
    "notebook_login()"
   ]
  },
  {
   "cell_type": "code",
   "execution_count": 4,
   "id": "4a8d0c0a-ac8c-4c48-b284-d96cd337a5ee",
   "metadata": {},
   "outputs": [
    {
     "name": "stdout",
     "output_type": "stream",
     "text": [
      "No train data found\n",
      "No test data found\n",
      "Skipped 320 items\n"
     ]
    },
    {
     "data": {
      "text/plain": [
       "DatasetDict({\n",
       "    train: Dataset({\n",
       "        features: ['prompt', 'chosen', 'rejected'],\n",
       "        num_rows: 364\n",
       "    })\n",
       "})"
      ]
     },
     "execution_count": 4,
     "metadata": {},
     "output_type": "execute_result"
    }
   ],
   "source": [
    "from gaitor_function_calling.data.data_utils import DataAbstractor, build_data_dpo\n",
    "import pandas as pd\n",
    "from datasets import Dataset, DatasetDict\n",
    "\n",
    "data_abstractor = DataAbstractor(\"prompts_data.json\", \"dpo_eval\")\n",
    "\n",
    "dpo_data = build_data_dpo(data_abstractor.raw_data)\n",
    "dpo_df = pd.DataFrame(dpo_data)\n",
    "dpo_dataset = Dataset.from_pandas(dpo_df)\n",
    "dataset_dict = DatasetDict({\"train\": dpo_dataset})\n",
    "\n",
    "dataset_dict"
   ]
  },
  {
   "cell_type": "code",
   "execution_count": 5,
   "id": "8769f7b5-5256-42d0-a660-34525e16b23e",
   "metadata": {},
   "outputs": [
    {
     "data": {
      "text/plain": [
       "DatasetDict({\n",
       "    train: Dataset({\n",
       "        features: ['text'],\n",
       "        num_rows: 833\n",
       "    })\n",
       "    test: Dataset({\n",
       "        features: ['text'],\n",
       "        num_rows: 17\n",
       "    })\n",
       "})"
      ]
     },
     "execution_count": 5,
     "metadata": {},
     "output_type": "execute_result"
    }
   ],
   "source": [
    "# get data and convert to Datasets format\n",
    "import pandas as pd\n",
    "from datasets import Dataset, DatasetDict\n",
    "from gaitor_function_calling.data.data_utils import DataAbstractor\n",
    "from gaitor_function_calling.data.prompting_utils import INSTRUCTION\n",
    "\n",
    "sft_data_abstractor = DataAbstractor(\"production_data-without_summary-only_fc.json\", \"sft\")\n",
    "\n",
    "sft_train_df = pd.DataFrame(sft_data_abstractor.train_data)\n",
    "sft_test_df = pd.DataFrame(sft_data_abstractor.test_data)\n",
    "\n",
    "sft_train_dataset = Dataset.from_pandas(sft_train_df)\n",
    "sft_test_dataset = Dataset.from_pandas(sft_test_df)\n",
    "\n",
    "sft_dataset_dict = DatasetDict({\n",
    "    'train': sft_train_dataset,\n",
    "    'test': sft_test_dataset\n",
    "})\n",
    "\n",
    "sft_dataset_dict"
   ]
  },
  {
   "cell_type": "code",
   "execution_count": 6,
   "id": "baf42525",
   "metadata": {},
   "outputs": [],
   "source": [
    "# setup metrics and evaluation\n",
    "import json\n",
    "from transformers import EvalPrediction\n",
    "from gaitor_function_calling.evaluation.evaluation_utils import FunctionCallingMetric, compute_perplexity, get_logits_and_labels\n",
    "from gaitor_function_calling.data.prompting_utils import INSTRUCTION, json_arguments_from_prompt\n",
    "import numpy as np\n",
    "\n",
    "fc_metric = FunctionCallingMetric()\n",
    "def config_compute_metrics(tokenizer):\n",
    "    def compute_metrics(pred: EvalPrediction):\n",
    "        # pred.predictions are a batch of logits\n",
    "        # pred.label_ids are a batch of tokens\n",
    "        token_ids = np.argmax(pred.predictions, axis=-1)\n",
    "        predictions = tokenizer.batch_decode(token_ids, skip_special_tokens=False)\n",
    "        labels = tokenizer.batch_decode(pred.label_ids, skip_special_tokens=False)\n",
    "        \n",
    "        \n",
    "    \n",
    "        # Now use your metric class\n",
    "        fc_result = fc_metric.run(predictions, labels)  # Implement this method in your class\n",
    "    \n",
    "        return {\n",
    "            \"fc_combine\": fc_result\n",
    "        }\n",
    "    return compute_metrics\n",
    "\n",
    "def custom_evaluation(eval_dataset, model, tokenizer, epoch, save_prompts_path=False):\n",
    "    print(\"Starting custom evaluation.\")\n",
    "    model.eval()  # Set the model to evaluation mode\n",
    "    results = {}\n",
    "\n",
    "    fc_results = []\n",
    "    exact_match_results = []\n",
    "    perplexity_results = []\n",
    "\n",
    "\n",
    "    if save_prompts_path:\n",
    "        try:\n",
    "            with open(save_prompts_path, \"r\") as f:\n",
    "                dpo_data = json.load(f)\n",
    "        except:\n",
    "            dpo_data = []\n",
    "\n",
    "\n",
    "    for idx, example in enumerate(eval_dataset):\n",
    "        print(f\"Example {idx}: \", end=\"\")\n",
    "        post_message = \"\"\n",
    "        \n",
    "        # Custom Function Calling metric\n",
    "        prompts = None\n",
    "        try:\n",
    "            generated_arguments, expected_arguments, prompts = json_arguments_from_prompt(\n",
    "                example[\"text\"],\n",
    "                model,\n",
    "                tokenizer,\n",
    "                INSTRUCTION,\n",
    "                {\"idx\": idx, \"epoch\": epoch}\n",
    "            )\n",
    "            fc_result = fc_metric.run(generated_arguments, expected_arguments)\n",
    "\n",
    "            fc_results.append(fc_result)\n",
    "\n",
    "            if save_prompts_path:\n",
    "                # add prompts to dpo_data.json\n",
    "                dpo_data.append({\n",
    "                    \"fc_result\": fc_result,\n",
    "                    **prompts\n",
    "                })\n",
    "                with open(save_prompts_path, \"w\") as f:\n",
    "                    json.dump(dpo_data, f)\n",
    "        except Exception as e:\n",
    "            post_message += f\"Error function calling: {e}\\n\"\n",
    "            fc_results.append(0)\n",
    "\n",
    "        # exact match metric\n",
    "        if prompts:\n",
    "            exact_match_res = fc_metric._sentence_similarity(prompts[\"expected_str\"].split(\"[/INST]\")[1], prompts[\"generated_str\"].split(\"[/INST]\")[1])\n",
    "            exact_match_results.append(exact_match_res)\n",
    "        else:\n",
    "            exact_match_results.append(0)\n",
    "\n",
    "        # perplexity metric\n",
    "        try:\n",
    "            logits, labels = get_logits_and_labels(example[\"text\"], model, tokenizer)\n",
    "            perplexity = compute_perplexity(logits[..., :-1, :], labels).item()\n",
    "            perplexity_results.append(perplexity)\n",
    "        except Exception as e:\n",
    "            post_message += f\"Error perplexity: {e}\\n\"\n",
    "            # perplexity_results.append(float('inf'))\n",
    "\n",
    "        example_metric = {\n",
    "            \"fc_combine\": fc_results[-1],\n",
    "            \"exact_match\": exact_match_results[-1],\n",
    "            \"perplexity\": perplexity_results[-1] if len(perplexity_results) else None\n",
    "        }\n",
    "        print(example_metric)\n",
    "        if post_message:\n",
    "            print(post_message)\n",
    "        \n",
    "    results[\"fc_combine\"] =  sum(fc_results) / len(fc_results)\n",
    "    results[\"exact_match\"] =  sum(exact_match_results) / len(exact_match_results)\n",
    "    results[\"perplexity\"] =  sum(perplexity_results) / len(perplexity_results) if len(perplexity_results) else 1\n",
    "\n",
    "    return results"
   ]
  },
  {
   "cell_type": "code",
   "execution_count": 10,
   "id": "08ccd178-3886-4c3f-9006-a8f23f99e943",
   "metadata": {},
   "outputs": [
    {
     "data": {
      "application/vnd.jupyter.widget-view+json": {
       "model_id": "67736a8191c24e8c8558adb634041793",
       "version_major": 2,
       "version_minor": 0
      },
      "text/plain": [
       "Loading checkpoint shards:   0%|          | 0/2 [00:00<?, ?it/s]"
      ]
     },
     "metadata": {},
     "output_type": "display_data"
    },
    {
     "name": "stderr",
     "output_type": "stream",
     "text": [
      "Special tokens have been added in the vocabulary, make sure the associated word embeddings are fine-tuned or trained.\n"
     ]
    }
   ],
   "source": [
    "from transformers import AutoTokenizer\n",
    "from peft import AutoPeftModelForCausalLM\n",
    "import torch\n",
    "\n",
    "# load base LLM model and tokenizer\n",
    "model = AutoPeftModelForCausalLM.from_pretrained(\n",
    "    model_id,\n",
    "    low_cpu_mem_usage=True,\n",
    "    torch_dtype=torch.float16,\n",
    "    # load_in_4bit=True,\n",
    "    device_map=\"auto\",\n",
    ")\n",
    "model.config.pretraining_tp = 1\n",
    "\n",
    "tokenizer = AutoTokenizer.from_pretrained(model_id)\n",
    "tokenizer.pad_token = tokenizer.eos_token\n",
    "tokenizer.padding_side = \"right\""
   ]
  },
  {
   "cell_type": "code",
   "execution_count": 11,
   "id": "55892037-b235-4015-aaa1-4df707c8f19e",
   "metadata": {},
   "outputs": [],
   "source": [
    "# peft config on the model\n",
    "from peft import LoraConfig, prepare_model_for_kbit_training, get_peft_model\n",
    "\n",
    "# LoRA config based on QLoRA paper\n",
    "peft_config = LoraConfig(\n",
    "        lora_alpha=16,\n",
    "        lora_dropout=0.1,\n",
    "        r=64,\n",
    "        bias=\"none\",\n",
    "        task_type=\"CAUSAL_LM\",\n",
    ")\n",
    "\n",
    "\n",
    "# prepare model for training\n",
    "model = prepare_model_for_kbit_training(model)\n",
    "model = get_peft_model(model, peft_config)\n"
   ]
  },
  {
   "cell_type": "code",
   "execution_count": 12,
   "id": "94f62443",
   "metadata": {},
   "outputs": [
    {
     "name": "stderr",
     "output_type": "stream",
     "text": [
      "/home/sosa.s/.local/lib/python3.10/site-packages/trl/trainer/dpo_trainer.py:262: UserWarning: When using DPODataCollatorWithPadding, you should set `max_prompt_length` in the DPOTrainer's init it will be set to `128` by default, but you should do it yourself in the future.\n",
      "  warnings.warn(\n",
      "/home/sosa.s/.local/lib/python3.10/site-packages/trl/trainer/dpo_trainer.py:291: UserWarning: When using DPODataCollatorWithPadding, you should set `remove_unused_columns=False` in your TrainingArguments we have set it for you, but you should do it yourself in the future.\n",
      "  warnings.warn(\n"
     ]
    }
   ],
   "source": [
    "# training config\n",
    "from transformers import TrainingArguments\n",
    "from trl import DPOTrainer\n",
    "from peft import LoraConfig\n",
    "\n",
    "use_flash_attention = False\n",
    "\n",
    "args = TrainingArguments(\n",
    "    output_dir=output_dir,\n",
    "    num_train_epochs=1,\n",
    "    per_device_train_batch_size=6 if use_flash_attention else 4,\n",
    "    per_device_eval_batch_size=1,\n",
    "    gradient_accumulation_steps=2,\n",
    "    gradient_checkpointing=True,\n",
    "    optim=\"paged_adamw_32bit\",\n",
    "    logging_steps=10,\n",
    "    save_strategy=\"epoch\",\n",
    "    learning_rate=2e-4,\n",
    "    bf16=True,\n",
    "    tf32=True,\n",
    "    max_grad_norm=0.3,\n",
    "    warmup_ratio=0.03,\n",
    "    lr_scheduler_type=\"constant\",\n",
    "    report_to=\"wandb\",\n",
    "    push_to_hub=True,  # Enable pushing to Hub\n",
    "    hub_model_id=hub_model_id,  # Hugging Face Hub model ID\n",
    "    hub_strategy=\"every_save\",  # Push to Hub every epoch\n",
    "    disable_tqdm=True # disable tqdm since with packing values are in correct\n",
    ")\n",
    "\n",
    "max_seq_length = 2048 # max sequence length for model and packing of the dataset\n",
    "\n",
    "trainer = DPOTrainer(\n",
    "    model,\n",
    "    beta=0.1,\n",
    "    train_dataset=dataset_dict[\"train\"],\n",
    "    tokenizer=tokenizer,\n",
    "    args=args,\n",
    "    peft_config=peft_config,\n",
    "    max_length=max_seq_length,\n",
    ")"
   ]
  },
  {
   "cell_type": "code",
   "execution_count": 13,
   "id": "77897708",
   "metadata": {},
   "outputs": [
    {
     "name": "stderr",
     "output_type": "stream",
     "text": [
      "Asking to truncate to max_length but no maximum length is provided and the model has no predefined maximum length. Default to no truncation.\n"
     ]
    },
    {
     "name": "stdout",
     "output_type": "stream",
     "text": [
      "Starting custom evaluation.\n",
      "Example 0: "
     ]
    },
    {
     "name": "stderr",
     "output_type": "stream",
     "text": [
      "Asking to truncate to max_length but no maximum length is provided and the model has no predefined maximum length. Default to no truncation.\n"
     ]
    },
    {
     "name": "stdout",
     "output_type": "stream",
     "text": [
      "{'fc_combine': 0.3577747344970703, 'exact_match': 0.8308500051498413, 'perplexity': 6.818103313446045}\n",
      "Example 1: {'fc_combine': 0.36043891310691833, 'exact_match': 0.7130554914474487, 'perplexity': 6.760284900665283}\n",
      "Example 2: {'fc_combine': 0, 'exact_match': 0, 'perplexity': 7.093723773956299}\n",
      "Error function calling: 'NoneType' object has no attribute 'group'\n",
      "\n",
      "Example 3: {'fc_combine': 0, 'exact_match': 0, 'perplexity': 9.142727851867676}\n",
      "Error function calling: 'NoneType' object has no attribute 'group'\n",
      "\n",
      "Example 4: {'fc_combine': 0, 'exact_match': 0, 'perplexity': 9.142727851867676}\n",
      "Error function calling: No function call found in generated data\n",
      "\n",
      "Example 5: {'fc_combine': 0, 'exact_match': 0, 'perplexity': 15.050056457519531}\n",
      "Error function calling: 'NoneType' object has no attribute 'group'\n",
      "\n",
      "Example 6: {'fc_combine': 0, 'exact_match': 0, 'perplexity': 15.050056457519531}\n",
      "Error function calling: No function call found in generated data\n",
      "\n",
      "Example 7: {'fc_combine': 0, 'exact_match': 0.8533605337142944, 'perplexity': 14.796660423278809}\n",
      "Error function calling: division by zero\n",
      "\n",
      "Example 8: {'fc_combine': 0, 'exact_match': 0, 'perplexity': 14.360962867736816}\n",
      "Error function calling: Expecting value: line 1 column 1 (char 0)\n",
      "\n",
      "Example 9: {'fc_combine': 0, 'exact_match': 0, 'perplexity': 8.807449340820312}\n",
      "Error function calling: 'NoneType' object has no attribute 'group'\n",
      "\n",
      "Example 10: {'fc_combine': 0, 'exact_match': 0, 'perplexity': 15.149142265319824}\n",
      "Error function calling: No function call found in generated data\n",
      "\n",
      "Example 11: {'fc_combine': 0, 'exact_match': 0, 'perplexity': 13.258075714111328}\n",
      "Error function calling: No function call found in generated data\n",
      "\n",
      "Example 12: {'fc_combine': 0, 'exact_match': 0.6695130467414856, 'perplexity': 13.258075714111328}\n",
      "Error function calling: division by zero\n",
      "\n",
      "Example 13: {'fc_combine': 0, 'exact_match': 0, 'perplexity': 14.200621604919434}\n",
      "Error function calling: No function call found in generated data\n",
      "\n",
      "Example 14: {'fc_combine': 0, 'exact_match': 0, 'perplexity': 6.459742546081543}\n",
      "Error function calling: No function call found in generated data\n",
      "\n",
      "Example 15: {'fc_combine': 0, 'exact_match': 0, 'perplexity': 9.975791931152344}\n",
      "Error function calling: No function call found in generated data\n",
      "\n",
      "Example 16: {'fc_combine': 0, 'exact_match': 0, 'perplexity': 6.515350341796875}\n",
      "Error function calling: No function call found in generated data\n",
      "\n",
      "Evaluation results for epoch -1: {'fc_combine': 0.04224786162376404, 'exact_match': 0.18039876923841588, 'perplexity': 10.931738432715921}\n",
      "Begin epoch 0\n"
     ]
    },
    {
     "name": "stderr",
     "output_type": "stream",
     "text": [
      "`use_cache=True` is incompatible with gradient checkpointing. Setting `use_cache=False`...\n",
      "/apps/pytorch/2.0.1/lib/python3.10/site-packages/torch/utils/checkpoint.py:31: UserWarning: None of the inputs have requires_grad=True. Gradients will be None\n",
      "  warnings.warn(\"None of the inputs have requires_grad=True. Gradients will be None\")\n",
      "Could not estimate the number of tokens of the input, floating-point operations will not be computed\n"
     ]
    },
    {
     "name": "stdout",
     "output_type": "stream",
     "text": [
      "{'loss': 0.6719, 'learning_rate': 0.0002, 'rewards/chosen': 0.03696552291512489, 'rewards/rejected': -0.030260782688856125, 'rewards/accuracies': 0.5625, 'rewards/margins': 0.06722630560398102, 'logps/rejected': -47.69655990600586, 'logps/chosen': -54.748252868652344, 'logits/rejected': -0.1014418751001358, 'logits/chosen': -0.08728707581758499, 'epoch': 0.22}\n",
      "{'loss': 0.5977, 'learning_rate': 0.0002, 'rewards/chosen': -0.2055342197418213, 'rewards/rejected': -0.538266122341156, 'rewards/accuracies': 0.6875, 'rewards/margins': 0.3327319025993347, 'logps/rejected': -52.9431037902832, 'logps/chosen': -56.2280158996582, 'logits/rejected': 0.000754915177822113, 'logits/chosen': -0.008613688871264458, 'epoch': 0.44}\n",
      "{'loss': 0.542, 'learning_rate': 0.0002, 'rewards/chosen': -0.3582659363746643, 'rewards/rejected': -1.0186059474945068, 'rewards/accuracies': 0.737500011920929, 'rewards/margins': 0.660339891910553, 'logps/rejected': -51.5941276550293, 'logps/chosen': -56.442962646484375, 'logits/rejected': -0.0036660172045230865, 'logits/chosen': -0.0199426356703043, 'epoch': 0.66}\n",
      "{'loss': 0.4736, 'learning_rate': 0.0002, 'rewards/chosen': -0.36041703820228577, 'rewards/rejected': -1.2830162048339844, 'rewards/accuracies': 0.7875000238418579, 'rewards/margins': 0.9225991368293762, 'logps/rejected': -56.527015686035156, 'logps/chosen': -58.02043914794922, 'logits/rejected': 0.054309677332639694, 'logits/chosen': 0.057567138224840164, 'epoch': 0.88}\n",
      "{'train_runtime': 280.5467, 'train_samples_per_second': 1.297, 'train_steps_per_second': 0.16, 'train_loss': 0.56682235399882, 'epoch': 0.99}\n",
      "Starting custom evaluation.\n",
      "Example 0: {'fc_combine': 0, 'exact_match': 0, 'perplexity': 6.700334548950195}\n",
      "Error function calling: 'NoneType' object has no attribute 'group'\n",
      "\n",
      "Example 1: {'fc_combine': 0, 'exact_match': 0, 'perplexity': 7.540287971496582}\n",
      "Error function calling: No function call found in generated data\n",
      "\n",
      "Example 2: {'fc_combine': 0, 'exact_match': 0, 'perplexity': 7.929075241088867}\n",
      "Error function calling: 'NoneType' object has no attribute 'group'\n",
      "\n",
      "Example 3: {'fc_combine': 0, 'exact_match': 0, 'perplexity': 10.3189697265625}\n",
      "Error function calling: No function call found in generated data\n",
      "\n",
      "Example 4: {'fc_combine': 0, 'exact_match': 0, 'perplexity': 10.3189697265625}\n",
      "Error function calling: 'NoneType' object has no attribute 'group'\n",
      "\n",
      "Example 5: {'fc_combine': 0, 'exact_match': 0, 'perplexity': 15.370697021484375}\n",
      "Error function calling: No function call found in generated data\n",
      "\n",
      "Example 6: {'fc_combine': 0, 'exact_match': 0, 'perplexity': 15.370697021484375}\n",
      "Error function calling: No function call found in generated data\n",
      "\n",
      "Example 7: {'fc_combine': 0, 'exact_match': 0, 'perplexity': 15.157899856567383}\n",
      "Error function calling: Unterminated string starting at: line 1 column 27 (char 26)\n",
      "\n",
      "Example 8: {'fc_combine': 0, 'exact_match': 0, 'perplexity': 14.664712905883789}\n",
      "Error function calling: 'NoneType' object has no attribute 'group'\n",
      "\n",
      "Example 9: {'fc_combine': 0, 'exact_match': 0, 'perplexity': 8.52612590789795}\n",
      "Error function calling: No function call found in generated data\n",
      "\n",
      "Example 10: {'fc_combine': 0, 'exact_match': 0, 'perplexity': 15.503705978393555}\n",
      "Error function calling: No function call found in generated data\n",
      "\n",
      "Example 11: {'fc_combine': 0, 'exact_match': 0, 'perplexity': 13.209268569946289}\n",
      "Error function calling: No function call found in generated data\n",
      "\n",
      "Example 12: {'fc_combine': 0, 'exact_match': 0, 'perplexity': 13.209268569946289}\n",
      "Error function calling: No function call found in generated data\n",
      "\n",
      "Example 13: {'fc_combine': 0, 'exact_match': 0, 'perplexity': 14.254087448120117}\n",
      "Error function calling: No function call found in generated data\n",
      "\n",
      "Example 14: {'fc_combine': 0, 'exact_match': 0, 'perplexity': 6.631259918212891}\n",
      "Error function calling: 'NoneType' object has no attribute 'group'\n",
      "\n",
      "Example 15: {'fc_combine': 0, 'exact_match': 0, 'perplexity': 9.956896781921387}\n",
      "Error function calling: Unterminated string starting at: line 1 column 1 (char 0)\n",
      "\n",
      "Example 16: {'fc_combine': 0, 'exact_match': 0, 'perplexity': 7.080714702606201}\n",
      "Error function calling: No function call found in generated data\n",
      "\n",
      "Evaluation results for epoch 0: {'fc_combine': 0.0, 'exact_match': 0.0, 'perplexity': 11.27899834688972}\n",
      "\n",
      "\n",
      "\n",
      "Begin epoch 1\n"
     ]
    },
    {
     "name": "stderr",
     "output_type": "stream",
     "text": [
      "/apps/pytorch/2.0.1/lib/python3.10/site-packages/torch/utils/checkpoint.py:31: UserWarning: None of the inputs have requires_grad=True. Gradients will be None\n",
      "  warnings.warn(\"None of the inputs have requires_grad=True. Gradients will be None\")\n"
     ]
    },
    {
     "name": "stdout",
     "output_type": "stream",
     "text": [
      "{'loss': 0.1551, 'learning_rate': 0.0002, 'rewards/chosen': -0.8967435956001282, 'rewards/rejected': -3.123905897140503, 'rewards/accuracies': 0.8999999761581421, 'rewards/margins': 2.2271623611450195, 'logps/rejected': -79.04273223876953, 'logps/chosen': -66.38411712646484, 'logits/rejected': 0.16004684567451477, 'logits/chosen': 0.13978736102581024, 'epoch': 0.22}\n",
      "{'loss': 0.1926, 'learning_rate': 0.0002, 'rewards/chosen': -3.6850216388702393, 'rewards/rejected': -6.606602668762207, 'rewards/accuracies': 0.949999988079071, 'rewards/margins': 2.9215807914733887, 'logps/rejected': -110.4635009765625, 'logps/chosen': -91.58045959472656, 'logits/rejected': 0.09338120371103287, 'logits/chosen': 0.07661978900432587, 'epoch': 0.44}\n",
      "{'loss': 0.231, 'learning_rate': 0.0002, 'rewards/chosen': -5.683476448059082, 'rewards/rejected': -9.263716697692871, 'rewards/accuracies': 0.9125000238418579, 'rewards/margins': 3.5802409648895264, 'logps/rejected': -137.874755859375, 'logps/chosen': -111.30482482910156, 'logits/rejected': 0.2906718850135803, 'logits/chosen': 0.28083473443984985, 'epoch': 0.66}\n",
      "{'loss': 0.2246, 'learning_rate': 0.0002, 'rewards/chosen': -6.742422580718994, 'rewards/rejected': -9.869738578796387, 'rewards/accuracies': 0.925000011920929, 'rewards/margins': 3.1273157596588135, 'logps/rejected': -143.7060089111328, 'logps/chosen': -118.92191314697266, 'logits/rejected': 0.29708442091941833, 'logits/chosen': 0.29724591970443726, 'epoch': 0.88}\n",
      "{'train_runtime': 282.9518, 'train_samples_per_second': 1.286, 'train_steps_per_second': 0.159, 'train_loss': 0.21383251084221733, 'epoch': 0.99}\n",
      "Starting custom evaluation.\n",
      "Example 0: {'fc_combine': 0, 'exact_match': 0, 'perplexity': 8.352640151977539}\n",
      "Error function calling: Expecting value: line 1 column 464 (char 463)\n",
      "\n",
      "Example 1: {'fc_combine': 0, 'exact_match': 0, 'perplexity': 10.295918464660645}\n",
      "Error function calling: Expecting value: line 1 column 127 (char 126)\n",
      "\n",
      "Example 2: {'fc_combine': 0.36043891310691833, 'exact_match': 0.6575075387954712, 'perplexity': 10.53830337524414}\n",
      "Example 3: {'fc_combine': 0.4100513756275177, 'exact_match': 0.9069142937660217, 'perplexity': 14.67835521697998}\n",
      "Example 4: {'fc_combine': 0, 'exact_match': 0, 'perplexity': 14.67835521697998}\n",
      "Error function calling: Expecting ':' delimiter: line 1 column 224 (char 223)\n",
      "\n",
      "Example 5: {'fc_combine': 0, 'exact_match': 0, 'perplexity': 18.765520095825195}\n",
      "Error function calling: No function call found in generated data\n",
      "\n",
      "Example 6: {'fc_combine': 0, 'exact_match': 0, 'perplexity': 18.765520095825195}\n",
      "Error function calling: Extra data: line 1 column 62 (char 61)\n",
      "\n",
      "Example 7: {'fc_combine': 0, 'exact_match': 0, 'perplexity': 18.551122665405273}\n",
      "Error function calling: Extra data: line 1 column 84 (char 83)\n",
      "\n",
      "Example 8: {'fc_combine': 0, 'exact_match': 0, 'perplexity': 18.007238388061523}\n",
      "Error function calling: 'NoneType' object has no attribute 'group'\n",
      "\n",
      "Example 9: {'fc_combine': 0, 'exact_match': 0, 'perplexity': 10.428465843200684}\n",
      "Error function calling: No function call found in generated data\n",
      "\n",
      "Example 10: {'fc_combine': 0, 'exact_match': 0, 'perplexity': 19.813417434692383}\n",
      "Error function calling: No function call found in generated data\n",
      "\n",
      "Example 11: {'fc_combine': 0, 'exact_match': 0, 'perplexity': 16.857982635498047}\n",
      "Error function calling: Expecting value: line 1 column 41 (char 40)\n",
      "\n",
      "Example 12: {'fc_combine': 0, 'exact_match': 0, 'perplexity': 16.857982635498047}\n",
      "Error function calling: No function call found in generated data\n",
      "\n",
      "Example 13: {'fc_combine': 0, 'exact_match': 0.6510124802589417, 'perplexity': 18.22265625}\n",
      "Error function calling: division by zero\n",
      "\n",
      "Example 14: {'fc_combine': 0, 'exact_match': 0, 'perplexity': 8.119991302490234}\n",
      "Error function calling: No function call found in generated data\n",
      "\n",
      "Example 15: {'fc_combine': 0, 'exact_match': 0, 'perplexity': 14.272134780883789}\n",
      "Error function calling: Extra data: line 1 column 176 (char 175)\n",
      "\n",
      "Example 16: {'fc_combine': 0, 'exact_match': 0, 'perplexity': 8.572068214416504}\n",
      "Error function calling: No function call found in generated data\n",
      "\n",
      "Evaluation results for epoch 1: {'fc_combine': 0.04532295816084918, 'exact_match': 0.13031966546002557, 'perplexity': 14.457510162802304}\n",
      "\n",
      "\n",
      "\n"
     ]
    },
    {
     "data": {
      "application/vnd.jupyter.widget-view+json": {
       "model_id": "",
       "version_major": 2,
       "version_minor": 0
      },
      "text/plain": [
       "VBox(children=(Label(value='0.015 MB of 0.015 MB uploaded\\r'), FloatProgress(value=1.0, max=1.0)))"
      ]
     },
     "metadata": {},
     "output_type": "display_data"
    },
    {
     "name": "stderr",
     "output_type": "stream",
     "text": [
      "wandb: WARNING Source type is set to 'repo' but some required information is missing from the environment. A job will not be created from this run. See https://docs.wandb.ai/guides/launch/create-job\n"
     ]
    },
    {
     "data": {
      "text/html": [
       "<style>\n",
       "    table.wandb td:nth-child(1) { padding: 0 10px; text-align: left ; width: auto;} td:nth-child(2) {text-align: left ; width: 100%}\n",
       "    .wandb-row { display: flex; flex-direction: row; flex-wrap: wrap; justify-content: flex-start; width: 100% }\n",
       "    .wandb-col { display: flex; flex-direction: column; flex-basis: 100%; flex: 1; padding: 10px; }\n",
       "    </style>\n",
       "<div class=\"wandb-row\"><div class=\"wandb-col\"><h3>Run history:</h3><br/><table class=\"wandb\"><tr><td>epoch</td><td>▁▅█</td></tr><tr><td>exact_match</td><td>█▁▆</td></tr><tr><td>fc_combine</td><td>█▁█</td></tr><tr><td>perplexity</td><td>▁▂█</td></tr><tr><td>train/epoch</td><td>▁▃▅▇█▁▃▅▇█</td></tr><tr><td>train/global_step</td><td>▁▃▅▇████████████████▁▃▅▇████████████████</td></tr><tr><td>train/learning_rate</td><td>▁▁▁▁▁▁▁▁</td></tr><tr><td>train/logits/chosen</td><td>▁▂▂▄▅▄██</td></tr><tr><td>train/logits/rejected</td><td>▁▃▃▄▆▄██</td></tr><tr><td>train/logps/chosen</td><td>████▇▄▂▁</td></tr><tr><td>train/logps/rejected</td><td>███▇▆▃▁▁</td></tr><tr><td>train/loss</td><td>█▇▆▅▁▂▂▂</td></tr><tr><td>train/rewards/accuracies</td><td>▁▃▄▅▇█▇█</td></tr><tr><td>train/rewards/chosen</td><td>████▇▄▂▁</td></tr><tr><td>train/rewards/margins</td><td>▁▂▂▃▅▇█▇</td></tr><tr><td>train/rewards/rejected</td><td>██▇▇▆▃▁▁</td></tr><tr><td>train/total_flos</td><td>▁▁</td></tr><tr><td>train/train_loss</td><td>█▁</td></tr><tr><td>train/train_runtime</td><td>▁█</td></tr><tr><td>train/train_samples_per_second</td><td>█▁</td></tr><tr><td>train/train_steps_per_second</td><td>█▁</td></tr></table><br/></div><div class=\"wandb-col\"><h3>Run summary:</h3><br/><table class=\"wandb\"><tr><td>epoch</td><td>1</td></tr><tr><td>exact_match</td><td>0.13032</td></tr><tr><td>fc_combine</td><td>0.04532</td></tr><tr><td>perplexity</td><td>14.45751</td></tr><tr><td>train/epoch</td><td>0.99</td></tr><tr><td>train/global_step</td><td>45</td></tr><tr><td>train/learning_rate</td><td>0.0002</td></tr><tr><td>train/logits/chosen</td><td>0.29725</td></tr><tr><td>train/logits/rejected</td><td>0.29708</td></tr><tr><td>train/logps/chosen</td><td>-118.92191</td></tr><tr><td>train/logps/rejected</td><td>-143.70601</td></tr><tr><td>train/loss</td><td>0.2246</td></tr><tr><td>train/rewards/accuracies</td><td>0.925</td></tr><tr><td>train/rewards/chosen</td><td>-6.74242</td></tr><tr><td>train/rewards/margins</td><td>3.12732</td></tr><tr><td>train/rewards/rejected</td><td>-9.86974</td></tr><tr><td>train/total_flos</td><td>0.0</td></tr><tr><td>train/train_loss</td><td>0.21383</td></tr><tr><td>train/train_runtime</td><td>282.9518</td></tr><tr><td>train/train_samples_per_second</td><td>1.286</td></tr><tr><td>train/train_steps_per_second</td><td>0.159</td></tr></table><br/></div></div>"
      ],
      "text/plain": [
       "<IPython.core.display.HTML object>"
      ]
     },
     "metadata": {},
     "output_type": "display_data"
    },
    {
     "data": {
      "text/html": [
       " View run <strong style=\"color:#cdcd00\">llama-7-chat-instruction-int4-fc-sft_fix-dpo</strong> at: <a href='https://wandb.ai/sebastiansosa/function_calling/runs/llama-7-chat-instruction-int4-fc-sft_fix-dpo' target=\"_blank\">https://wandb.ai/sebastiansosa/function_calling/runs/llama-7-chat-instruction-int4-fc-sft_fix-dpo</a><br/>Synced 5 W&B file(s), 0 media file(s), 0 artifact file(s) and 0 other file(s)"
      ],
      "text/plain": [
       "<IPython.core.display.HTML object>"
      ]
     },
     "metadata": {},
     "output_type": "display_data"
    },
    {
     "data": {
      "text/html": [
       "Find logs at: <code>./wandb/run-20231123_230425-llama-7-chat-instruction-int4-fc-sft_fix-dpo/logs</code>"
      ],
      "text/plain": [
       "<IPython.core.display.HTML object>"
      ]
     },
     "metadata": {},
     "output_type": "display_data"
    }
   ],
   "source": [
    "# Training and Evaluation Loop\n",
    "eval_result = custom_evaluation(sft_dataset_dict[\"test\"], model, tokenizer, -1)\n",
    "print(f\"Evaluation results for epoch {-1}: {eval_result}\")\n",
    "wandb.log({\"epoch\": -1, **eval_result})\n",
    "\n",
    "num_epochs = 2\n",
    "for epoch in range(num_epochs):\n",
    "    print(f\"Begin epoch {epoch}\")\n",
    "    # Train for one epoch\n",
    "    trainer.train()\n",
    "\n",
    "    # Evaluate the model with the custom evaluation logic\n",
    "    eval_result = custom_evaluation(sft_dataset_dict[\"test\"], model, tokenizer, epoch)\n",
    "\n",
    "    wandb.log({\"epoch\": epoch, **eval_result})\n",
    "\n",
    "    # Save the model after each epoch (optional)\n",
    "    trainer.save_model()\n",
    "\n",
    "    \n",
    "\n",
    "    # Log or print evaluation results\n",
    "    print(f\"Evaluation results for epoch {epoch}: {eval_result}\\n\\n\\n\")\n",
    "\n",
    "wandb.finish()"
   ]
  }
 ],
 "metadata": {
  "kernelspec": {
   "display_name": "PyTorch-2.0.1",
   "language": "python",
   "name": "pytorch-2.0.1"
  },
  "language_info": {
   "codemirror_mode": {
    "name": "ipython",
    "version": 3
   },
   "file_extension": ".py",
   "mimetype": "text/x-python",
   "name": "python",
   "nbconvert_exporter": "python",
   "pygments_lexer": "ipython3",
   "version": "3.10.11"
  }
 },
 "nbformat": 4,
 "nbformat_minor": 5
}
