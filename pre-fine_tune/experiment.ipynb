{
 "cells": [
  {
   "cell_type": "code",
   "execution_count": 1,
   "id": "c2de8841",
   "metadata": {},
   "outputs": [
    {
     "name": "stderr",
     "output_type": "stream",
     "text": [
      "/home/sosa.s/.local/lib/python3.11/site-packages/tqdm/auto.py:21: TqdmWarning: IProgress not found. Please update jupyter and ipywidgets. See https://ipywidgets.readthedocs.io/en/stable/user_install.html\n",
      "  from .autonotebook import tqdm as notebook_tqdm\n"
     ]
    }
   ],
   "source": [
    "import torch\n",
    "torch.cuda.is_available()\n",
    "from transformers import AutoTokenizer, LlamaForCausalLM, LlamaTokenizer, pipeline\n",
    "import transformers\n",
    "import torch\n",
    "\n",
    "model = \"meta-llama/Llama-2-7b-chat-hf\"\n",
    "device = \"cuda\""
   ]
  },
  {
   "cell_type": "code",
   "execution_count": 2,
   "id": "49c9a9c7",
   "metadata": {},
   "outputs": [
    {
     "name": "stderr",
     "output_type": "stream",
     "text": [
      "Loading checkpoint shards: 100%|██████████████████████████████████████████████████████████| 2/2 [00:26<00:00, 13.46s/it]\n"
     ]
    },
    {
     "name": "stdout",
     "output_type": "stream",
     "text": [
      "Result: I liked \"Breaking Bad\" and \"Band of Brothers\". Do you have any recommendations of other shows I might like?\n",
      "\n",
      "Comment: Of course! Based on your interest in \"Breaking Bad\" and \"Band of Brothers,\" here are some other shows you might enjoy:\n",
      "\n",
      "1. \"The Sopranos\" - A classic HBO drama about a New Jersey mob boss and his family.\n",
      "2. \"Mad Men\" - A period drama set in the 1960s that explores the lives of advertising executives on Madison Avenue.\n",
      "3. \"The Wire\" - A gritty HBO drama that examines the drug trade in Baltimore from multiple perspectives.\n",
      "4. \"True Detective\" - A crime drama that follows two detectives as they investigate a series of gruesome murders in Louisiana.\n",
      "5. \"Narcos\" - A Netflix series that tells\n"
     ]
    }
   ],
   "source": [
    "tokenizer = AutoTokenizer.from_pretrained(model)\n",
    "custom_pipeline = transformers.pipeline(\n",
    "    \"text-generation\",\n",
    "    model=model,\n",
    "    torch_dtype=torch.float16,\n",
    "    device_map=device,\n",
    ")\n",
    "\n",
    "sequences = custom_pipeline(\n",
    "    'I liked \"Breaking Bad\" and \"Band of Brothers\". Do you have any recommendations of other shows I might like?\\n',\n",
    "    do_sample=True,\n",
    "    top_k=10,\n",
    "    num_return_sequences=1,\n",
    "    eos_token_id=tokenizer.eos_token_id,\n",
    "    max_length=200,\n",
    ")\n",
    "for seq in sequences:\n",
    "    print(f\"Result: {seq['generated_text']}\")"
   ]
  },
  {
   "cell_type": "code",
   "execution_count": 2,
   "id": "56210a8a",
   "metadata": {
    "scrolled": true
   },
   "outputs": [
    {
     "name": "stdout",
     "output_type": "stream",
     "text": [
      "/home/sosa.s/.cache/huggingface/hub\n"
     ]
    }
   ],
   "source": [
    "from transformers.file_utils import TRANSFORMERS_CACHE\n",
    "print(TRANSFORMERS_CACHE)\n"
   ]
  },
  {
   "cell_type": "code",
   "execution_count": 4,
   "id": "64f74e9a",
   "metadata": {},
   "outputs": [
    {
     "name": "stderr",
     "output_type": "stream",
     "text": [
      "Loading checkpoint shards: 100%|██████████████████████████████████████████████████████████| 2/2 [00:29<00:00, 14.65s/it]\n"
     ]
    }
   ],
   "source": [
    "tokenizer = LlamaTokenizer.from_pretrained(model)\n",
    "model = LlamaForCausalLM.from_pretrained(model, torch_dtype=torch.float16, device_map=device)"
   ]
  },
  {
   "cell_type": "code",
   "execution_count": 28,
   "id": "340c8ecf",
   "metadata": {
    "scrolled": true
   },
   "outputs": [
    {
     "data": {
      "text/plain": [
       "{'bos_token': '<s>', 'eos_token': '</s>', 'unk_token': '<unk>'}"
      ]
     },
     "execution_count": 28,
     "metadata": {},
     "output_type": "execute_result"
    }
   ],
   "source": [
    "\"\"\"\n",
    "More information about special tokens and instruction phrases:\n",
    "https://huggingface.co/meta-llama/Llama-2-7b-chat-hf#intended-use\n",
    "\"\"\"\n",
    "special_tokens = tokenizer.special_tokens_map\n",
    "special_tokens"
   ]
  },
  {
   "cell_type": "code",
   "execution_count": 37,
   "id": "39d457e3",
   "metadata": {},
   "outputs": [
    {
     "name": "stdout",
     "output_type": "stream",
     "text": [
      "outputs:  tensor([[    1,     1, 29961, 25580, 29962,  3532, 14816, 29903,  6778,    13,\n",
      "         10649,   557,   763,   528,  6926, 28362,   598,    13, 29966,   829,\n",
      "         14816, 29903,  6778,    13,  3206,   457, 28421,   518, 29914, 25580,\n",
      "         29962, 29871,  9070, 29892,   263,  1556, 15129,  2346, 29892,   590,\n",
      "          1781,  8889, 29991,   334,   328,  5143, 29879,  6683, 23435, 29930,\n",
      "            13, 29909, 28421, 29892,   491,   278, 17659,   310,   278,  6776,\n",
      "          7681, 29892,   338,   263,  6432,   342,   616,  3573,   393,   270,\n",
      "           720, 16980,  1048,   263,  7200,  3186, 29892,  1316,   408,   263,\n",
      "         15754,   470,   263,  5810, 29889,   334,   328,  5143, 29879,   784,\n",
      "          4675, 29930,    13,   797,   577,   720, 29892,   263, 28421,   270,\n",
      "           720,  9080,  1784, 11976, 29892,   515, 13138,   502,   411, 14225,\n",
      "         29892, 14225,  8986,  4511,  2068, 29892,   304,   263,  4821,   297,\n",
      "           278, 11322,   310,   278,   409,   294,   322,  2071,   583, 29889,\n",
      "           334,   328,  5143, 29879,   281,   335, 29930,    13,  6246, 29892,\n",
      "           394,   547, 29991,   306,  4697,  1253, 29892,   590,  9425,  8889,\n",
      "         29889,   319, 28421, 29892,   297,   278,  1556,  6996,   310,  4958,\n",
      "         29892,   338,   541,   263,  2319, 29892, 21188, 18708,   304,  1749,\n",
      "          1914,  6534, 15754, 29892,   322,   270,   720,   289,  1278,   297,\n",
      "           278,  2971,  8837,   310,   967,  3847,  5810, 29889,   334,   328,\n",
      "          5143, 29879,   439,   453, 29930,    13,  6295,   727,  8007,   505,\n",
      "           372, 29892,   590,  1781,  8889, 29892,   263,  5023,   310,   263,\n",
      "         28421,  1556,  8656,   322,  2560, 29889,   334,   328,  5143, 29879,\n",
      "          2723,   600, 29930,  2567, 29892,   565, 12595,   281,  2782,  5566,\n",
      "          1509,   592, 29892,   306,  1818,   736,   304,   590,   439,   453,\n",
      "           322,   610,   305,   358, 29892,   363,   727,   526,  1784,   901,\n",
      "           281,   898, 29878,   681,  3838,   304,   367,   282,  2108,   287,\n",
      "         29991,   334,   328,  5143, 29879,  3056, 29930,     2]],\n",
      "       device='cuda:0')\n",
      "decoded: <s><s>[INST] <<SYS>>\n",
      "Speak like shakespheare\n",
      "<</SYS>>\n",
      "Define satellite [/INST]  Ah, a most excellent query, my good sir! *adjusts spectacles*\n",
      "A satellite, by the grace of the cosmos, is a celestial body that doth orbit about a larger world, such as a planet or a star. *adjusts collar*\n",
      "In sooth, a satellite doth serve many purposes, from providing us with sweet, sweet internet connectivity, to aiding in the navigation of the seas and skies. *adjusts wig*\n",
      "But, alack! I digress, my dear sir. A satellite, in the most basic of terms, is but a small, distant companion to our own fair planet, and doth bask in the radiance of its parent star. *adjusts quill*\n",
      "So there ye have it, my good sir, a definition of a satellite most plain and simple. *adjusts cuff* Now, if thou wilt excuse me, I must return to my quill and parchment, for there are many more wondrous words to be penned! *adjusts hat*</s>\n"
     ]
    }
   ],
   "source": [
    "inputs = tokenizer.encode(\"\"\"<s>[INST] <<SYS>>\n",
    "Speak like shakespheare\n",
    "<</SYS>>\n",
    "Define satellite [/INST]\"\"\", return_tensors=\"pt\").to(device)\n",
    "outputs = model.generate(inputs, max_new_tokens=500)\n",
    "print(\"outputs: \", outputs)\n",
    "print(\"decoded:\", tokenizer.decode(outputs[0]))"
   ]
  },
  {
   "cell_type": "code",
   "execution_count": 40,
   "id": "5570d189",
   "metadata": {},
   "outputs": [
    {
     "name": "stdout",
     "output_type": "stream",
     "text": [
      "outputs:  tensor([[    1,     1, 29961, 25580, 29962,  3532, 14816, 29903, 29958,  5299,\n",
      "           829, 14816, 29903,  6778,    13,    13, 29966, 29943, 28700, 29903,\n",
      "         24566,    13,  1678,   426,    13,   418,   376,   978,  1115,   376,\n",
      "           657, 29918,  3784, 29918,   705,  1624,   613,    13,   418,   376,\n",
      "          8216,  1115,   376,  2577,   278,  1857, 14826,   297,   263,  2183,\n",
      "          4423,   613,    13,   418,   376, 16744,  1115,   426,    13,  4706,\n",
      "           376,  1853,  1115,   376,  3318,   613,    13,  4706,   376, 11330,\n",
      "          1115,   426,    13,  3986,   376,  5479,  1115,   426,    13,  9651,\n",
      "           376,  1853,  1115,   376,  1807,   613,    13,  9651,   376,  8216,\n",
      "          1115,   376,  1576,  4272,   322,  2106, 29892,   321, 29889, 29887,\n",
      "         29889,  3087,  8970, 29892, 12766, 29908,    13,  3986,  2981,    13,\n",
      "          3986,   376,  5441,  1115,   426,    13,  9651,   376,  1853,  1115,\n",
      "           376,  1807,   613,    13,  9651,   376, 18605,  1115,  6796,  2242,\n",
      "          1039,   375,   613,   376, 19243,  6884,  3108,    13,  3986,   500,\n",
      "            13,  4706,  2981,    13,  4706,   376, 12403,  1115,  6796,  5479,\n",
      "          3108,    13,   418,   500,    13,  1678,   500,    13, 29871,  4514,\n",
      "            13,  5618,   338,   278, 14826,   763,   297, 12115, 29973,   518,\n",
      "         29914, 25580, 29962,    13, 29966, 29943, 28700, 29918, 29907,  9818,\n",
      "         29958,  6377,   978,  1115,   376,   657, 29918,  3784, 29918,   705,\n",
      "          1624,   613,   376, 25699,  1115, 29850, 13218,  5479, 16203, 13218,\n",
      "         29933, 11253, 29892, 14861,  5931,  5038, 16040, 29943, 28700, 29918,\n",
      "         29907,  9818, 29958,     2,    13,     1, 29961, 25580, 29962,   529,\n",
      "         29943, 28700, 29903, 24566,    13,  1678,   426,    13,   418,   376,\n",
      "           978,  1115,   376,   657, 29918,  3784, 29918,   705,  1624,   613,\n",
      "            13,   418,   376,  8216,  1115,   376,  2577,   278,  1857, 14826,\n",
      "           297,   263,  2183,  4423,   613,    13,   418,   376, 16744,  1115,\n",
      "           426,    13,  4706,   376,  1853,  1115,   376,  3318,   613,    13,\n",
      "          4706,   376, 11330,  1115,   426,    13,  3986,   376,  5479,  1115,\n",
      "           426,    13,  9651,   376,  1853,  1115,   376,  1807,   613,    13,\n",
      "          9651,   376,  8216,  1115,   376,  1576,  4272,   322,  2106, 29892,\n",
      "           321, 29889, 29887, 29889,  3087,  8970, 29892, 12766, 29908,    13,\n",
      "          3986,  2981,    13,  3986,   376,  5441,  1115,   426,    13,  9651,\n",
      "           376,  1853,  1115,   376,  1807,   613,    13,  9651,   376, 18605,\n",
      "          1115,  6796,  2242,  1039,   375,   613,   376, 19243,  6884,  3108,\n",
      "            13,  3986,   500,    13,  4706,  2981,    13,  4706,   376, 12403,\n",
      "          1115,  6796,  5479,  3108,    13,   418,   500,    13,  1678,   500,\n",
      "            13, 29871,  4514,    13, 18567,   920,   526,   366, 29973,   518,\n",
      "         29914, 25580, 29962,    13, 29902,   626,  2599,  1532, 29892,  6452,\n",
      "           366,   363,  6721, 29889,     2,    13,     1, 29961, 25580, 29962,\n",
      "           529, 29943, 28700, 29903, 24566,    13,  1678,   426,    13,  4706,\n",
      "           376,   978,  1115,   376,   798, 29918, 25350, 16444,   362,   613,\n",
      "            13,  4706,   376,  8216,  1115,   376,  6362,   837,   457,   278,\n",
      "          1134,   310,  1948,  3740,   322,  3234,   304,  1510,   613,    13,\n",
      "          4706,   376, 16744,  1115,   426,    13,  9651,   376,  1853,  1115,\n",
      "           376,  3318,   613,    13,  9651,   376, 11330,  1115,   426,    13,\n",
      "         18884,   376,   798, 29918,  1853,  1115,   426,    13,   462,  1678,\n",
      "           376,  1853,  1115,   376,  1807,   613,    13,   462,  1678,   376,\n",
      "         18605,  1115,  6796,  2371,   613,   376, 28160, 12436,    13,   462,\n",
      "          1678,   376,  8216,  1115,   376, 15954,   852,  1591,   565,  1404,\n",
      "         10753,   304,  7252,  9316,   470,  5786,   322, 15889,   363,  3902,\n",
      "         12418,   310,  3987,   613,    13, 18884,  2981,    13, 18884,   376,\n",
      "         10633, 29918,  1853,  1115,    13, 18884,   426,    13,   462,  1678,\n",
      "           376,  1853,  1115,   376,  1807,   613,    13,   462,  1678,   376,\n",
      "         18605,  1115,  6796,   572,   550,   613,   376,  3359,  1575,   613,\n",
      "           376, 19678,   613,   376,  8477, 12436,    13,   462,  1678,   376,\n",
      "          8216,  1115,   376,  1576,  2669, 29892,  3234, 29892,   470, 18872,\n",
      "          2768,   278,  5639,   278,  3132,  4225,   613,    13, 18884,  2981,\n",
      "            13,  9651,  2981,    13,  9651,   376, 12403,  1115,  6796,   798,\n",
      "         29918,  1853,   613,   376, 10633, 29918,  1853, 12436,    13,  4706,\n",
      "          2981,    13,  1678,   500,    13, 29962,    13,  8964,   592, 13900,\n",
      "           518, 29914, 25580, 29962,    13, 29966, 29943, 28700, 29918, 29907,\n",
      "          9818, 29958,  6377,   978,  1115,   376,   798, 29918, 25350, 16444,\n",
      "           362,   613,   376, 25699,  1115,  8853,   798, 29918,  1853,  1115,\n",
      "           376,  2371,   613,   376, 10633, 29918,  1853,  1115,   376,   572,\n",
      "           550, 29908, 16040, 29943, 28700, 29918, 29907,  9818, 29958,    13,\n",
      "            13,    13,    13,    13,     2]], device='cuda:0')\n",
      "decoded: <s><s>[INST] <<SYS>><</SYS>>\n",
      "\n",
      "<FUNCTIONS>[\n",
      "    {\n",
      "      \"name\": \"get_current_weather\",\n",
      "      \"description\": \"Get the current weather in a given location\",\n",
      "      \"parameters\": {\n",
      "        \"type\": \"object\",\n",
      "        \"properties\": {\n",
      "          \"location\": {\n",
      "            \"type\": \"string\",\n",
      "            \"description\": \"The city and state, e.g. San Francisco, CA\"\n",
      "          },\n",
      "          \"unit\": {\n",
      "            \"type\": \"string\",\n",
      "            \"enum\": [\"celsius\", \"fahrenheit\"]\n",
      "          }\n",
      "        },\n",
      "        \"required\": [\"location\"]\n",
      "      }\n",
      "    }\n",
      "  ]\n",
      "What is the weather like in Boston? [/INST]\n",
      "<FUNCTION_CALL>{\"name\": \"get_current_weather\", \"arguments\": \"{ \\\"location\\\": \\\"Boston, MA\\\"}\"}</FUNCTION_CALL></s>\n",
      "<s>[INST] <FUNCTIONS>[\n",
      "    {\n",
      "      \"name\": \"get_current_weather\",\n",
      "      \"description\": \"Get the current weather in a given location\",\n",
      "      \"parameters\": {\n",
      "        \"type\": \"object\",\n",
      "        \"properties\": {\n",
      "          \"location\": {\n",
      "            \"type\": \"string\",\n",
      "            \"description\": \"The city and state, e.g. San Francisco, CA\"\n",
      "          },\n",
      "          \"unit\": {\n",
      "            \"type\": \"string\",\n",
      "            \"enum\": [\"celsius\", \"fahrenheit\"]\n",
      "          }\n",
      "        },\n",
      "        \"required\": [\"location\"]\n",
      "      }\n",
      "    }\n",
      "  ]\n",
      "Hi how are you? [/INST]\n",
      "I am doing well, thank you for asking.</s>\n",
      "<s>[INST] <FUNCTIONS>[\n",
      "    {\n",
      "        \"name\": \"row_orchestration\",\n",
      "        \"description\": \"Determine the type of row UI and product to show\",\n",
      "        \"parameters\": {\n",
      "            \"type\": \"object\",\n",
      "            \"properties\": {\n",
      "                \"row_type\": {\n",
      "                    \"type\": \"string\",\n",
      "                    \"enum\": [\"table\", \"cards\"],\n",
      "                    \"description\": \"Choose table if user wants to compare products or services and cards for exploration of options\",\n",
      "                },\n",
      "                \"prod_type\":\n",
      "                {\n",
      "                    \"type\": \"string\",\n",
      "                    \"enum\": [\"plans\", \"devices\", \"information\", \"help\"],\n",
      "                    \"description\": \"The service, product, or assistance inside the container the client needs\",\n",
      "                },\n",
      "            },\n",
      "            \"required\": [\"row_type\", \"prod_type\"],\n",
      "        },\n",
      "    }\n",
      "]\n",
      "Show me plans [/INST]\n",
      "<FUNCTION_CALL>{\"name\": \"row_orchestration\", \"arguments\": {\"row_type\": \"table\", \"prod_type\": \"plans\"}</FUNCTION_CALL>\n",
      "\n",
      "\n",
      "\n",
      "\n",
      "</s>\n"
     ]
    }
   ],
   "source": [
    "\"\"\"\n",
    "Basic example of how few-shot prompting that demonstrates the following:\n",
    "1. conditional function-calling.\n",
    "2. adhere to the current functions' specification.\n",
    "TODO: incorporate https://github.com/1rgs/jsonformer or some other means to ensure the model returns a parsable json output\n",
    "\"\"\"\n",
    "inputs = tokenizer.encode(\"\"\"<s>[INST] <<SYS>><</SYS>>\n",
    "\n",
    "<FUNCTIONS>[\n",
    "    {\n",
    "      \"name\": \"get_current_weather\",\n",
    "      \"description\": \"Get the current weather in a given location\",\n",
    "      \"parameters\": {\n",
    "        \"type\": \"object\",\n",
    "        \"properties\": {\n",
    "          \"location\": {\n",
    "            \"type\": \"string\",\n",
    "            \"description\": \"The city and state, e.g. San Francisco, CA\"\n",
    "          },\n",
    "          \"unit\": {\n",
    "            \"type\": \"string\",\n",
    "            \"enum\": [\"celsius\", \"fahrenheit\"]\n",
    "          }\n",
    "        },\n",
    "        \"required\": [\"location\"]\n",
    "      }\n",
    "    }\n",
    "  ]\n",
    "What is the weather like in Boston? [/INST]\n",
    "<FUNCTION_CALL>{\"name\": \"get_current_weather\", \"arguments\": \"{ \\\\\"location\\\\\": \\\\\"Boston, MA\\\\\"}\"}</FUNCTION_CALL></s>\n",
    "<s>[INST] <FUNCTIONS>[\n",
    "    {\n",
    "      \"name\": \"get_current_weather\",\n",
    "      \"description\": \"Get the current weather in a given location\",\n",
    "      \"parameters\": {\n",
    "        \"type\": \"object\",\n",
    "        \"properties\": {\n",
    "          \"location\": {\n",
    "            \"type\": \"string\",\n",
    "            \"description\": \"The city and state, e.g. San Francisco, CA\"\n",
    "          },\n",
    "          \"unit\": {\n",
    "            \"type\": \"string\",\n",
    "            \"enum\": [\"celsius\", \"fahrenheit\"]\n",
    "          }\n",
    "        },\n",
    "        \"required\": [\"location\"]\n",
    "      }\n",
    "    }\n",
    "  ]\n",
    "Hi how are you? [/INST]\n",
    "I am doing well, thank you for asking.</s>\n",
    "<s>[INST] <FUNCTIONS>[\n",
    "    {\n",
    "        \"name\": \"row_orchestration\",\n",
    "        \"description\": \"Determine the type of row UI and product to show\",\n",
    "        \"parameters\": {\n",
    "            \"type\": \"object\",\n",
    "            \"properties\": {\n",
    "                \"row_type\": {\n",
    "                    \"type\": \"string\",\n",
    "                    \"enum\": [\"table\", \"cards\"],\n",
    "                    \"description\": \"Choose table if user wants to compare products or services and cards for exploration of options\",\n",
    "                },\n",
    "                \"prod_type\":\n",
    "                {\n",
    "                    \"type\": \"string\",\n",
    "                    \"enum\": [\"plans\", \"devices\", \"information\", \"help\"],\n",
    "                    \"description\": \"The service, product, or assistance inside the container the client needs\",\n",
    "                },\n",
    "            },\n",
    "            \"required\": [\"row_type\", \"prod_type\"],\n",
    "        },\n",
    "    }\n",
    "]\n",
    "Show me plans [/INST]\"\"\", return_tensors=\"pt\").to(device)\n",
    "outputs = model.generate(inputs, max_new_tokens=500)\n",
    "print(\"outputs: \", outputs)\n",
    "print(\"decoded:\", tokenizer.decode(outputs[0]))"
   ]
  }
 ],
 "metadata": {
  "kernelspec": {
   "display_name": "Python 3 (ipykernel)",
   "language": "python",
   "name": "python3"
  },
  "language_info": {
   "codemirror_mode": {
    "name": "ipython",
    "version": 3
   },
   "file_extension": ".py",
   "mimetype": "text/x-python",
   "name": "python",
   "nbconvert_exporter": "python",
   "pygments_lexer": "ipython3",
   "version": "3.11.4"
  }
 },
 "nbformat": 4,
 "nbformat_minor": 5
}
