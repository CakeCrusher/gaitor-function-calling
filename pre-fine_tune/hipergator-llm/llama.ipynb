{
 "cells": [
  {
   "cell_type": "markdown",
   "id": "fa17d398-a505-429e-b8e9-3faee3a5bcde",
   "metadata": {
    "id": "fa17d398-a505-429e-b8e9-3faee3a5bcde",
    "tags": []
   },
   "source": [
    "## LLAMA 70B\n",
    "\n",
    "1. Choose the following kernel: PyTorch-2.0.1\n",
    "2. Install accelerate and trnasformers by running the below cell\n",
    "3. You can find more information about LLAMA 70B: https://huggingface.co/upstage/SOLAR-0-70b-16bit\n",
    "\n",
    "**Please do not edit any code**"
   ]
  },
  {
   "cell_type": "code",
   "execution_count": 1,
   "id": "5dc30797-5a90-427b-866e-f66826ed9066",
   "metadata": {
    "id": "5dc30797-5a90-427b-866e-f66826ed9066",
    "tags": []
   },
   "outputs": [
    {
     "name": "stdout",
     "output_type": "stream",
     "text": [
      "Defaulting to user installation because normal site-packages is not writeable\n",
      "Requirement already satisfied: accelerate in /home/steffankunoy/.local/lib/python3.10/site-packages (0.23.0)\n",
      "Requirement already satisfied: numpy>=1.17 in /apps/pytorch/2.0.1/lib/python3.10/site-packages (from accelerate) (1.24.3)\n",
      "Requirement already satisfied: packaging>=20.0 in /apps/pytorch/2.0.1/lib/python3.10/site-packages (from accelerate) (23.1)\n",
      "Requirement already satisfied: psutil in /apps/pytorch/2.0.1/lib/python3.10/site-packages (from accelerate) (5.9.5)\n",
      "Requirement already satisfied: pyyaml in /home/steffankunoy/.local/lib/python3.10/site-packages (from accelerate) (6.0.1)\n",
      "Requirement already satisfied: torch>=1.10.0 in /apps/pytorch/2.0.1/lib/python3.10/site-packages (from accelerate) (2.0.1)\n",
      "Requirement already satisfied: huggingface-hub in /home/steffankunoy/.local/lib/python3.10/site-packages (from accelerate) (0.17.3)\n",
      "Requirement already satisfied: filelock in /apps/pytorch/2.0.1/lib/python3.10/site-packages (from torch>=1.10.0->accelerate) (3.12.0)\n",
      "Requirement already satisfied: typing-extensions in /apps/pytorch/2.0.1/lib/python3.10/site-packages (from torch>=1.10.0->accelerate) (4.5.0)\n",
      "Requirement already satisfied: sympy in /apps/pytorch/2.0.1/lib/python3.10/site-packages (from torch>=1.10.0->accelerate) (1.12)\n",
      "Requirement already satisfied: networkx in /apps/pytorch/2.0.1/lib/python3.10/site-packages (from torch>=1.10.0->accelerate) (3.1)\n",
      "Requirement already satisfied: jinja2 in /apps/pytorch/2.0.1/lib/python3.10/site-packages (from torch>=1.10.0->accelerate) (3.1.2)\n",
      "Requirement already satisfied: fsspec in /home/steffankunoy/.local/lib/python3.10/site-packages (from huggingface-hub->accelerate) (2023.9.2)\n",
      "Requirement already satisfied: requests in /apps/pytorch/2.0.1/lib/python3.10/site-packages (from huggingface-hub->accelerate) (2.29.0)\n",
      "Requirement already satisfied: tqdm>=4.42.1 in /apps/pytorch/2.0.1/lib/python3.10/site-packages (from huggingface-hub->accelerate) (4.65.0)\n",
      "Requirement already satisfied: MarkupSafe>=2.0 in /apps/pytorch/2.0.1/lib/python3.10/site-packages (from jinja2->torch>=1.10.0->accelerate) (2.1.2)\n",
      "Requirement already satisfied: charset-normalizer<4,>=2 in /apps/pytorch/2.0.1/lib/python3.10/site-packages (from requests->huggingface-hub->accelerate) (3.1.0)\n",
      "Requirement already satisfied: idna<4,>=2.5 in /apps/pytorch/2.0.1/lib/python3.10/site-packages (from requests->huggingface-hub->accelerate) (3.4)\n",
      "Requirement already satisfied: urllib3<1.27,>=1.21.1 in /apps/pytorch/2.0.1/lib/python3.10/site-packages (from requests->huggingface-hub->accelerate) (1.26.15)\n",
      "Requirement already satisfied: certifi>=2017.4.17 in /apps/pytorch/2.0.1/lib/python3.10/site-packages (from requests->huggingface-hub->accelerate) (2023.7.22)\n",
      "Requirement already satisfied: mpmath>=0.19 in /apps/pytorch/2.0.1/lib/python3.10/site-packages (from sympy->torch>=1.10.0->accelerate) (1.3.0)\n",
      "Defaulting to user installation because normal site-packages is not writeable\n",
      "Collecting git+https://github.com/huggingface/transformers\n",
      "  Cloning https://github.com/huggingface/transformers to /scratch/local/13718414/pip-req-build-ylqghv_a\n",
      "  Running command git clone --filter=blob:none --quiet https://github.com/huggingface/transformers /scratch/local/13718414/pip-req-build-ylqghv_a\n",
      "  Resolved https://github.com/huggingface/transformers to commit 6f316016877197014193b9463b2fd39fa8f0c8e4\n",
      "  Installing build dependencies ... \u001b[?25ldone\n",
      "\u001b[?25h  Getting requirements to build wheel ... \u001b[?25ldone\n",
      "\u001b[?25h  Preparing metadata (pyproject.toml) ... \u001b[?25ldone\n",
      "\u001b[?25hRequirement already satisfied: filelock in /apps/pytorch/2.0.1/lib/python3.10/site-packages (from transformers==4.35.0.dev0) (3.12.0)\n",
      "Requirement already satisfied: huggingface-hub<1.0,>=0.16.4 in /home/steffankunoy/.local/lib/python3.10/site-packages (from transformers==4.35.0.dev0) (0.17.3)\n",
      "Requirement already satisfied: numpy>=1.17 in /apps/pytorch/2.0.1/lib/python3.10/site-packages (from transformers==4.35.0.dev0) (1.24.3)\n",
      "Requirement already satisfied: packaging>=20.0 in /apps/pytorch/2.0.1/lib/python3.10/site-packages (from transformers==4.35.0.dev0) (23.1)\n",
      "Requirement already satisfied: pyyaml>=5.1 in /home/steffankunoy/.local/lib/python3.10/site-packages (from transformers==4.35.0.dev0) (6.0.1)\n",
      "Requirement already satisfied: regex!=2019.12.17 in /home/steffankunoy/.local/lib/python3.10/site-packages (from transformers==4.35.0.dev0) (2023.10.3)\n",
      "Requirement already satisfied: requests in /apps/pytorch/2.0.1/lib/python3.10/site-packages (from transformers==4.35.0.dev0) (2.29.0)\n",
      "Requirement already satisfied: tokenizers<0.15,>=0.14 in /home/steffankunoy/.local/lib/python3.10/site-packages (from transformers==4.35.0.dev0) (0.14.1)\n",
      "Requirement already satisfied: safetensors>=0.3.1 in /home/steffankunoy/.local/lib/python3.10/site-packages (from transformers==4.35.0.dev0) (0.4.0)\n",
      "Requirement already satisfied: tqdm>=4.27 in /apps/pytorch/2.0.1/lib/python3.10/site-packages (from transformers==4.35.0.dev0) (4.65.0)\n",
      "Requirement already satisfied: fsspec in /home/steffankunoy/.local/lib/python3.10/site-packages (from huggingface-hub<1.0,>=0.16.4->transformers==4.35.0.dev0) (2023.9.2)\n",
      "Requirement already satisfied: typing-extensions>=3.7.4.3 in /apps/pytorch/2.0.1/lib/python3.10/site-packages (from huggingface-hub<1.0,>=0.16.4->transformers==4.35.0.dev0) (4.5.0)\n",
      "Requirement already satisfied: charset-normalizer<4,>=2 in /apps/pytorch/2.0.1/lib/python3.10/site-packages (from requests->transformers==4.35.0.dev0) (3.1.0)\n",
      "Requirement already satisfied: idna<4,>=2.5 in /apps/pytorch/2.0.1/lib/python3.10/site-packages (from requests->transformers==4.35.0.dev0) (3.4)\n",
      "Requirement already satisfied: urllib3<1.27,>=1.21.1 in /apps/pytorch/2.0.1/lib/python3.10/site-packages (from requests->transformers==4.35.0.dev0) (1.26.15)\n",
      "Requirement already satisfied: certifi>=2017.4.17 in /apps/pytorch/2.0.1/lib/python3.10/site-packages (from requests->transformers==4.35.0.dev0) (2023.7.22)\n"
     ]
    }
   ],
   "source": [
    "!pip install accelerate\n",
    "!pip3 install git+https://github.com/huggingface/transformers"
   ]
  },
  {
   "cell_type": "code",
   "execution_count": 2,
   "id": "ce0cb71c-447d-4ecf-b422-1798749c3a66",
   "metadata": {
    "id": "ce0cb71c-447d-4ecf-b422-1798749c3a66",
    "tags": []
   },
   "outputs": [],
   "source": [
    "from tqdm import tqdm\n",
    "import pandas as pd\n",
    "import numpy as np\n",
    "import transformers\n",
    "import torch\n",
    "import os\n",
    "from transformers import AutoTokenizer, AutoModelForCausalLM,AutoConfig,AutoModelForCausalLM"
   ]
  },
  {
   "cell_type": "code",
   "execution_count": 3,
   "id": "b08d8667-e69d-4219-a221-5220930ae7c4",
   "metadata": {
    "id": "b08d8667-e69d-4219-a221-5220930ae7c4"
   },
   "outputs": [],
   "source": [
    "output_dir=\"/blue/cap4641/LLM/llama\"\n",
    "model_config=\"/blue/cap4641/LLM/llama/models--upstage--SOLAR-0-70b-16bit/snapshots/cfd79568e72039d4f857a1f04d16232ad5da51f1\""
   ]
  },
  {
   "cell_type": "code",
   "execution_count": 4,
   "id": "0be8c38f-12bd-45eb-a752-2d20f6f418e7",
   "metadata": {
    "id": "0be8c38f-12bd-45eb-a752-2d20f6f418e7",
    "tags": []
   },
   "outputs": [],
   "source": [
    "def initialize_llm(output_dir,model_config):\n",
    "    config = AutoConfig.from_pretrained(model_config, trust_remote_code=True,cache_dir=output_dir)\n",
    "    tokenizer = AutoTokenizer.from_pretrained(model_config,config = AutoConfig.from_pretrained(model_config, trust_remote_code=True,cache_dir=output_dir)\n",
    ",cache_dir=output_dir)\n",
    "\n",
    "\n",
    "    pipeline = transformers.pipeline(\n",
    "        \"text-generation\",\n",
    "        model=model_config,\n",
    "        tokenizer=tokenizer,\n",
    "        torch_dtype=torch.bfloat16,\n",
    "        trust_remote_code=True,\n",
    "    device_map=\"auto\",\n",
    "        config=config,model_kwargs={'cache_dir':output_dir},\n",
    "    )\n",
    "    return pipeline,tokenizer\n",
    "\n",
    "def get_response(text,pipeline,tokenizer):\n",
    "    '''\n",
    "    Gets Response from LLAMA 70B\n",
    "    Keyword Arguments:\n",
    "    :pipeline:Created pipeline object\n",
    "    :tokenizer:LLAMA70B Tokenizer\n",
    "    '''\n",
    "\n",
    "    input_text=\"### User:\\n\"+text+\"\\n\\n### Assistant:\\n\"\n",
    "\n",
    "    sequences = pipeline(\n",
    "    input_text,\n",
    "    max_length=1000,\n",
    "    do_sample=True,\n",
    "    return_full_text=False,\n",
    "    top_k=10,\n",
    "    num_return_sequences=1,\n",
    "    eos_token_id=tokenizer.eos_token_id,\n",
    "    pad_token_id=tokenizer.eos_token_id\n",
    ")\n",
    "\n",
    "    return sequences[0]['generated_text']\n",
    "\n",
    "def chat(pipeline,tokenizer):\n",
    "    flag=True\n",
    "    while flag:\n",
    "        x=input(\"Enter your Question:\")\n",
    "        if x.lower()=='end':\n",
    "            flag=False\n",
    "        else:\n",
    "            print(\"LLAMA 2 :\")\n",
    "            print(get_response(x,pipeline,tokenizer))\n"
   ]
  },
  {
   "cell_type": "code",
   "execution_count": null,
   "id": "c2f96f74-cfb5-4b68-8fbd-98eb01b44517",
   "metadata": {
    "id": "c2f96f74-cfb5-4b68-8fbd-98eb01b44517",
    "tags": []
   },
   "outputs": [
    {
     "data": {
      "application/vnd.jupyter.widget-view+json": {
       "model_id": "ea0b5038ee5745d1a646a4a661eca34b",
       "version_major": 2,
       "version_minor": 0
      },
      "text/plain": [
       "Loading checkpoint shards:   0%|          | 0/15 [00:00<?, ?it/s]"
      ]
     },
     "metadata": {},
     "output_type": "display_data"
    }
   ],
   "source": [
    "if __name__ == \"__main__\":\n",
    "  pipeline,tokenizer=initialize_llm(output_dir,model_config)\n"
   ]
  },
  {
   "cell_type": "code",
   "execution_count": null,
   "id": "34fe07ee-3207-4568-aa0a-c7cec33217dc",
   "metadata": {
    "id": "34fe07ee-3207-4568-aa0a-c7cec33217dc",
    "tags": []
   },
   "outputs": [],
   "source": [
    "if __name__ == \"__main__\":\n",
    "  chat(pipeline,tokenizer)"
   ]
  }
 ],
 "metadata": {
  "colab": {
   "provenance": []
  },
  "kernelspec": {
   "display_name": "PyTorch-2.0.1",
   "language": "python",
   "name": "pytorch-2.0.1"
  },
  "language_info": {
   "codemirror_mode": {
    "name": "ipython",
    "version": 3
   },
   "file_extension": ".py",
   "mimetype": "text/x-python",
   "name": "python",
   "nbconvert_exporter": "python",
   "pygments_lexer": "ipython3",
   "version": "3.10.11"
  }
 },
 "nbformat": 4,
 "nbformat_minor": 5
}
