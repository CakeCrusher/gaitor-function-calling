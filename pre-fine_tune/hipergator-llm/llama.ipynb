{
 "cells": [
  {
   "cell_type": "markdown",
   "id": "fa17d398-a505-429e-b8e9-3faee3a5bcde",
   "metadata": {
    "id": "fa17d398-a505-429e-b8e9-3faee3a5bcde",
    "tags": []
   },
   "source": [
    "## LLAMA 70B\n",
    "\n",
    "1. Choose the following kernel: PyTorch-2.0.1\n",
    "2. Install accelerate and trnasformers by running the below cell\n",
    "3. You can find more information about LLAMA 70B: https://huggingface.co/upstage/SOLAR-0-70b-16bit\n",
    "\n",
    "**Please do not edit any code**"
   ]
  },
  {
   "cell_type": "code",
   "execution_count": 1,
   "id": "5dc30797-5a90-427b-866e-f66826ed9066",
   "metadata": {
    "id": "5dc30797-5a90-427b-866e-f66826ed9066",
    "tags": []
   },
   "outputs": [
    {
     "name": "stdout",
     "output_type": "stream",
     "text": [
      "Defaulting to user installation because normal site-packages is not writeable\n",
      "Requirement already satisfied: accelerate in /home/sosa.s/.local/lib/python3.10/site-packages (0.24.0)\n",
      "Requirement already satisfied: sentencepiece in /home/sosa.s/.local/lib/python3.10/site-packages (0.1.99)\n",
      "Requirement already satisfied: jsonformer in /home/sosa.s/.local/lib/python3.10/site-packages (0.12.0)\n",
      "Requirement already satisfied: numpy>=1.17 in /apps/pytorch/2.0.1/lib/python3.10/site-packages (from accelerate) (1.24.3)\n",
      "Requirement already satisfied: packaging>=20.0 in /apps/pytorch/2.0.1/lib/python3.10/site-packages (from accelerate) (23.1)\n",
      "Requirement already satisfied: psutil in /apps/pytorch/2.0.1/lib/python3.10/site-packages (from accelerate) (5.9.5)\n",
      "Requirement already satisfied: pyyaml in /home/sosa.s/.local/lib/python3.10/site-packages (from accelerate) (6.0.1)\n",
      "Requirement already satisfied: torch>=1.10.0 in /apps/pytorch/2.0.1/lib/python3.10/site-packages (from accelerate) (2.0.1)\n",
      "Requirement already satisfied: huggingface-hub in /home/sosa.s/.local/lib/python3.10/site-packages (from accelerate) (0.17.3)\n",
      "Requirement already satisfied: termcolor<3.0.0,>=2.3.0 in /home/sosa.s/.local/lib/python3.10/site-packages (from jsonformer) (2.3.0)\n",
      "Requirement already satisfied: filelock in /home/sosa.s/.local/lib/python3.10/site-packages (from torch>=1.10.0->accelerate) (3.12.4)\n",
      "Requirement already satisfied: typing-extensions in /home/sosa.s/.local/lib/python3.10/site-packages (from torch>=1.10.0->accelerate) (4.8.0)\n",
      "Requirement already satisfied: sympy in /apps/pytorch/2.0.1/lib/python3.10/site-packages (from torch>=1.10.0->accelerate) (1.12)\n",
      "Requirement already satisfied: networkx in /apps/pytorch/2.0.1/lib/python3.10/site-packages (from torch>=1.10.0->accelerate) (3.1)\n",
      "Requirement already satisfied: jinja2 in /apps/pytorch/2.0.1/lib/python3.10/site-packages (from torch>=1.10.0->accelerate) (3.1.2)\n",
      "Requirement already satisfied: fsspec in /home/sosa.s/.local/lib/python3.10/site-packages (from huggingface-hub->accelerate) (2023.9.2)\n",
      "Requirement already satisfied: requests in /apps/pytorch/2.0.1/lib/python3.10/site-packages (from huggingface-hub->accelerate) (2.29.0)\n",
      "Requirement already satisfied: tqdm>=4.42.1 in /apps/pytorch/2.0.1/lib/python3.10/site-packages (from huggingface-hub->accelerate) (4.65.0)\n",
      "Requirement already satisfied: MarkupSafe>=2.0 in /apps/pytorch/2.0.1/lib/python3.10/site-packages (from jinja2->torch>=1.10.0->accelerate) (2.1.2)\n",
      "Requirement already satisfied: charset-normalizer<4,>=2 in /apps/pytorch/2.0.1/lib/python3.10/site-packages (from requests->huggingface-hub->accelerate) (3.1.0)\n",
      "Requirement already satisfied: idna<4,>=2.5 in /apps/pytorch/2.0.1/lib/python3.10/site-packages (from requests->huggingface-hub->accelerate) (3.4)\n",
      "Requirement already satisfied: urllib3<1.27,>=1.21.1 in /apps/pytorch/2.0.1/lib/python3.10/site-packages (from requests->huggingface-hub->accelerate) (1.26.15)\n",
      "Requirement already satisfied: certifi>=2017.4.17 in /apps/pytorch/2.0.1/lib/python3.10/site-packages (from requests->huggingface-hub->accelerate) (2023.7.22)\n",
      "Requirement already satisfied: mpmath>=0.19 in /apps/pytorch/2.0.1/lib/python3.10/site-packages (from sympy->torch>=1.10.0->accelerate) (1.3.0)\n",
      "Defaulting to user installation because normal site-packages is not writeable\n",
      "Collecting git+https://github.com/huggingface/transformers\n",
      "  Cloning https://github.com/huggingface/transformers to /scratch/local/13736565/pip-req-build-5bgrgkde\n",
      "  Running command git clone --filter=blob:none --quiet https://github.com/huggingface/transformers /scratch/local/13736565/pip-req-build-5bgrgkde\n",
      "  Resolved https://github.com/huggingface/transformers to commit 6f316016877197014193b9463b2fd39fa8f0c8e4\n",
      "  Installing build dependencies ... \u001b[?25ldone\n",
      "\u001b[?25h  Getting requirements to build wheel ... \u001b[?25ldone\n",
      "\u001b[?25h  Preparing metadata (pyproject.toml) ... \u001b[?25ldone\n",
      "\u001b[?25hRequirement already satisfied: filelock in /home/sosa.s/.local/lib/python3.10/site-packages (from transformers==4.35.0.dev0) (3.12.4)\n",
      "Requirement already satisfied: huggingface-hub<1.0,>=0.16.4 in /home/sosa.s/.local/lib/python3.10/site-packages (from transformers==4.35.0.dev0) (0.17.3)\n",
      "Requirement already satisfied: numpy>=1.17 in /apps/pytorch/2.0.1/lib/python3.10/site-packages (from transformers==4.35.0.dev0) (1.24.3)\n",
      "Requirement already satisfied: packaging>=20.0 in /apps/pytorch/2.0.1/lib/python3.10/site-packages (from transformers==4.35.0.dev0) (23.1)\n",
      "Requirement already satisfied: pyyaml>=5.1 in /home/sosa.s/.local/lib/python3.10/site-packages (from transformers==4.35.0.dev0) (6.0.1)\n",
      "Requirement already satisfied: regex!=2019.12.17 in /home/sosa.s/.local/lib/python3.10/site-packages (from transformers==4.35.0.dev0) (2023.8.8)\n",
      "Requirement already satisfied: requests in /apps/pytorch/2.0.1/lib/python3.10/site-packages (from transformers==4.35.0.dev0) (2.29.0)\n",
      "Requirement already satisfied: tokenizers<0.15,>=0.14 in /home/sosa.s/.local/lib/python3.10/site-packages (from transformers==4.35.0.dev0) (0.14.1)\n",
      "Requirement already satisfied: safetensors>=0.3.1 in /home/sosa.s/.local/lib/python3.10/site-packages (from transformers==4.35.0.dev0) (0.3.3)\n",
      "Requirement already satisfied: tqdm>=4.27 in /apps/pytorch/2.0.1/lib/python3.10/site-packages (from transformers==4.35.0.dev0) (4.65.0)\n",
      "Requirement already satisfied: fsspec in /home/sosa.s/.local/lib/python3.10/site-packages (from huggingface-hub<1.0,>=0.16.4->transformers==4.35.0.dev0) (2023.9.2)\n",
      "Requirement already satisfied: typing-extensions>=3.7.4.3 in /home/sosa.s/.local/lib/python3.10/site-packages (from huggingface-hub<1.0,>=0.16.4->transformers==4.35.0.dev0) (4.8.0)\n",
      "Requirement already satisfied: charset-normalizer<4,>=2 in /apps/pytorch/2.0.1/lib/python3.10/site-packages (from requests->transformers==4.35.0.dev0) (3.1.0)\n",
      "Requirement already satisfied: idna<4,>=2.5 in /apps/pytorch/2.0.1/lib/python3.10/site-packages (from requests->transformers==4.35.0.dev0) (3.4)\n",
      "Requirement already satisfied: urllib3<1.27,>=1.21.1 in /apps/pytorch/2.0.1/lib/python3.10/site-packages (from requests->transformers==4.35.0.dev0) (1.26.15)\n",
      "Requirement already satisfied: certifi>=2017.4.17 in /apps/pytorch/2.0.1/lib/python3.10/site-packages (from requests->transformers==4.35.0.dev0) (2023.7.22)\n"
     ]
    }
   ],
   "source": [
    "!pip install accelerate sentencepiece jsonformer \n",
    "!pip3 install git+https://github.com/huggingface/transformers"
   ]
  },
  {
   "cell_type": "code",
   "execution_count": 2,
   "id": "4bdd7455-b866-45e0-9fa0-a835b93686b5",
   "metadata": {
    "tags": []
   },
   "outputs": [
    {
     "data": {
      "application/vnd.jupyter.widget-view+json": {
       "model_id": "9c31547020794ebc9c322525f254b4b2",
       "version_major": 2,
       "version_minor": 0
      },
      "text/plain": [
       "VBox(children=(HTML(value='<center> <img\\nsrc=https://huggingface.co/front/assets/huggingface_logo-noborder.sv…"
      ]
     },
     "metadata": {},
     "output_type": "display_data"
    }
   ],
   "source": [
    "from huggingface_hub import notebook_login\n",
    "notebook_login()\n"
   ]
  },
  {
   "cell_type": "code",
   "execution_count": 3,
   "id": "ce0cb71c-447d-4ecf-b422-1798749c3a66",
   "metadata": {
    "id": "ce0cb71c-447d-4ecf-b422-1798749c3a66",
    "tags": []
   },
   "outputs": [],
   "source": [
    "from tqdm import tqdm\n",
    "import pandas as pd\n",
    "import numpy as np\n",
    "import transformers\n",
    "import torch\n",
    "import os\n",
    "from transformers import AutoTokenizer, AutoModelForCausalLM,AutoConfig,AutoModelForCausalLM, LlamaForCausalLM, LlamaTokenizer\n",
    "import json\n",
    "from jsonformer import Jsonformer"
   ]
  },
  {
   "cell_type": "code",
   "execution_count": 4,
   "id": "b08d8667-e69d-4219-a221-5220930ae7c4",
   "metadata": {
    "id": "b08d8667-e69d-4219-a221-5220930ae7c4",
    "tags": []
   },
   "outputs": [
    {
     "data": {
      "application/vnd.jupyter.widget-view+json": {
       "model_id": "dfbcb8ff17f04a49b36fb16e929611bb",
       "version_major": 2,
       "version_minor": 0
      },
      "text/plain": [
       "Loading checkpoint shards:   0%|          | 0/2 [00:00<?, ?it/s]"
      ]
     },
     "metadata": {},
     "output_type": "display_data"
    }
   ],
   "source": [
    "path_to_model=\"/blue/cap4773/sosa.s/Llama-2-7b-chat-hf\"\n",
    "device = \"cuda\"\n",
    "tokenizer = LlamaTokenizer.from_pretrained(path_to_model)\n",
    "model = LlamaForCausalLM.from_pretrained(path_to_model, torch_dtype=torch.float16, device_map=device)"
   ]
  },
  {
   "cell_type": "code",
   "execution_count": 18,
   "id": "65330d77-baf0-493a-9603-2595adbbce95",
   "metadata": {
    "tags": []
   },
   "outputs": [],
   "source": [
    "current_functions = [\n",
    "    {\n",
    "        \"name\": \"row_orchestration\",\n",
    "        \"description\": \"Determine the type of row UI and product to show\",\n",
    "        \"parameters\": {\n",
    "            \"type\": \"object\",\n",
    "            \"properties\": {\n",
    "                \"prod_type\":\n",
    "                {\n",
    "                    \"type\": \"string\",\n",
    "                    \"enum\": [\"plans\", \"devices\", \"information\", \"help\"],\n",
    "                    \"description\": \"The service, product, or assistance inside the container the client needs\",\n",
    "                },\n",
    "                \"row_type\": {\n",
    "                    \"type\": \"string\",\n",
    "                    \"enum\": [\"table\", \"cards\"],\n",
    "                    \"description\": \"Choose table if user wants to compare prod_type and cards for exploration prod_type\",\n",
    "                },\n",
    "\n",
    "            },\n",
    "            \"required\": [\"row_type\", \"prod_type\"],\n",
    "        },\n",
    "    }\n",
    "]\n",
    "prompt = \"\"\"<s>[INST] <<SYS>>\n",
    "When returning in function format you must begin with <FUNCTION_CALL> with no context\n",
    "<</SYS>>\n",
    "\n",
    "<FUNCTIONS>[\n",
    "    {\n",
    "      \"name\": \"get_current_weather\",\n",
    "      \"description\": \"Get the current weather in a given location\",\n",
    "      \"parameters\": {\n",
    "        \"type\": \"object\",\n",
    "        \"properties\": {\n",
    "          \"location\": {\n",
    "            \"type\": \"string\",\n",
    "            \"description\": \"The city and state, e.g. San Francisco, CA\"\n",
    "          },\n",
    "          \"unit\": {\n",
    "            \"type\": \"string\",\n",
    "            \"enum\": [\"celsius\", \"fahrenheit\"]\n",
    "          }\n",
    "        },\n",
    "        \"required\": [\"location\"]\n",
    "      }\n",
    "    }\n",
    "  ]\n",
    "What is the weather like in Boston? [/INST]\n",
    "<FUNCTION_CALL>{\"name\": \"get_current_weather\", \"arguments\": \"{ \\\\\"location\\\\\": \\\\\"Boston, MA\\\\\"}\"}</FUNCTION_CALL></s>\n",
    "<s>[INST] <FUNCTIONS>[\n",
    "    {\n",
    "      \"name\": \"get_current_weather\",\n",
    "      \"description\": \"Get the current weather in a given location\",\n",
    "      \"parameters\": {\n",
    "        \"type\": \"object\",\n",
    "        \"properties\": {\n",
    "          \"location\": {\n",
    "            \"type\": \"string\",\n",
    "            \"description\": \"The city and state, e.g. San Francisco, CA\"\n",
    "          },\n",
    "          \"unit\": {\n",
    "            \"type\": \"string\",\n",
    "            \"enum\": [\"celsius\", \"fahrenheit\"]\n",
    "          }\n",
    "        },\n",
    "        \"required\": [\"location\"]\n",
    "      }\n",
    "    }\n",
    "  ]\n",
    "Hi how are you? [/INST]\n",
    "I am doing well, thank you for asking.</s>\n",
    "<s>[INST] <FUNCTIONS>\"\"\" + json.dumps(current_functions) + \"\"\"\n",
    "Show me devices to compare [/INST]\"\"\""
   ]
  },
  {
   "cell_type": "code",
   "execution_count": 19,
   "id": "c2f96f74-cfb5-4b68-8fbd-98eb01b44517",
   "metadata": {
    "id": "c2f96f74-cfb5-4b68-8fbd-98eb01b44517",
    "tags": []
   },
   "outputs": [
    {
     "name": "stdout",
     "output_type": "stream",
     "text": [
      "Generated:  <FUNCTION_CALL>{\"name\": \"row_orchestration\", \"arguments\": {\"type\": {\"prod_type\": \"devices\", \"row_type\": \"cards\"}}}</FUNCTION_CALL></s>\n"
     ]
    }
   ],
   "source": [
    "# jsonformer\n",
    "current_prompt = prompt.replace(\"[SYSTEM_MESSAGE]\", \"When returning in function format you must respond like so: <FUNCTION_CALL>[NAME_OF_FUNCTION]<FUNCTION_CALL>\")\n",
    "inputs = tokenizer.encode(current_prompt, return_tensors=\"pt\").to(device)\n",
    "\n",
    "outputs = model.generate(inputs, max_new_tokens=500)\n",
    "if int(outputs[0][0]) == 1 and int(outputs[0][1]) == 1:\n",
    "     outputs = outputs[:, 1:]\n",
    "\n",
    "generated_string = tokenizer.decode(outputs[0])[len(current_prompt):].strip()\n",
    "print(\"Generated: \", generated_string)"
   ]
  },
  {
   "cell_type": "code",
   "execution_count": 20,
   "id": "add11470-3973-4843-b348-b2a934829491",
   "metadata": {
    "tags": []
   },
   "outputs": [
    {
     "name": "stdout",
     "output_type": "stream",
     "text": [
      "Function Name: row_orchestration\n"
     ]
    }
   ],
   "source": [
    "def extract_function_name(generated_string):\n",
    "    \"\"\"\n",
    "    Extracts the function name from the generated string.\n",
    "\n",
    "    :param generated_string: The generated string containing the function call\n",
    "    :return: The function name as a string, or None if not found\n",
    "    \"\"\"\n",
    "    # Strip <FUNCTION_CALL> tags and any surrounding whitespace\n",
    "    if (\"<FUNCTION_CALL>\" not in generated_string or \"</FUNCTION_CALL>\" not in generated_string):\n",
    "        print(\"Error: Not a function call\")\n",
    "        return None\n",
    "        \n",
    "    stripped_string = generated_string.replace(\"<FUNCTION_CALL>\", \"\").replace(\"</FUNCTION_CALL>\", \"\").strip()\n",
    "\n",
    "    # Find the start and end of the \"name\" value\n",
    "    name_key = '\"name\":'\n",
    "    start_idx = stripped_string.find(name_key)\n",
    "    if start_idx == -1:\n",
    "        print(\"Error: 'name' key not found.\")\n",
    "        return None\n",
    "    \n",
    "    # Adjust start index to the beginning of the value\n",
    "    start_idx += len(name_key)\n",
    "    \n",
    "    # Find the start and end quotes of the value\n",
    "    start_quote = stripped_string.find('\"', start_idx)\n",
    "    end_quote = stripped_string.find('\"', start_quote + 1)\n",
    "    \n",
    "    if start_quote == -1 or end_quote == -1:\n",
    "        print(\"Error: Unable to find the value for 'name'.\")\n",
    "        return None\n",
    "    \n",
    "    # Extract the function name\n",
    "    function_name = stripped_string[start_quote + 1:end_quote]\n",
    "\n",
    "    return function_name\n",
    "\n",
    "# Example usage\n",
    "_generated_string = '   <FUNCTION_CALL>{\"name\": \"row_orchestration\", \"arguments\": {\"row_type\": \"cards\", \"prod_type\": \"devices\"}}</FUNCTION_CALL></s>'\n",
    "_function_name = extract_function_name(_generated_string)\n",
    "if _function_name:\n",
    "    print(\"Function Name:\", _function_name)\n"
   ]
  },
  {
   "cell_type": "code",
   "execution_count": 21,
   "id": "bd4a962e-1fa5-4906-a457-6cac59deeb40",
   "metadata": {
    "tags": []
   },
   "outputs": [
    {
     "data": {
      "text/plain": [
       "'<FUNCTION_CALL>{\"prod_type\": \"devices\", \"row_type\": \"table\"}</FUNCTION_CALL></s>'"
      ]
     },
     "execution_count": 21,
     "metadata": {},
     "output_type": "execute_result"
    }
   ],
   "source": [
    "function_name = extract_function_name(generated_string)\n",
    "\n",
    "if (function_name):\n",
    "    function_to_use = next((func for func in current_functions if func[\"name\"] == function_name), None)\n",
    "    jsonformer = Jsonformer(model, tokenizer, function_to_use[\"parameters\"], prompt)\n",
    "    generated_string = \"<FUNCTION_CALL>\" + json.dumps(jsonformer())+ \"</FUNCTION_CALL></s>\"\n",
    "\n",
    "generated_string"
   ]
  },
  {
   "cell_type": "code",
   "execution_count": null,
   "id": "0cd9de66-d06d-4d4e-a24a-da666b204d85",
   "metadata": {},
   "outputs": [],
   "source": []
  }
 ],
 "metadata": {
  "colab": {
   "provenance": []
  },
  "kernelspec": {
   "display_name": "PyTorch-2.0.1",
   "language": "python",
   "name": "pytorch-2.0.1"
  },
  "language_info": {
   "codemirror_mode": {
    "name": "ipython",
    "version": 3
   },
   "file_extension": ".py",
   "mimetype": "text/x-python",
   "name": "python",
   "nbconvert_exporter": "python",
   "pygments_lexer": "ipython3",
   "version": "3.10.11"
  }
 },
 "nbformat": 4,
 "nbformat_minor": 5
}
