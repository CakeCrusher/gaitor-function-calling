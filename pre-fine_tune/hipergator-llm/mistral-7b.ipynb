{
 "cells": [
  {
   "cell_type": "markdown",
   "id": "99587e90-ec87-4a9d-b336-4a0986a7fc89",
   "metadata": {},
   "source": [
    "# Mistral-7B-v0.1"
   ]
  },
  {
   "cell_type": "code",
   "execution_count": 1,
   "id": "a58a8c17-9c73-4714-91d3-01710469620c",
   "metadata": {
    "tags": []
   },
   "outputs": [
    {
     "name": "stdout",
     "output_type": "stream",
     "text": [
      "Defaulting to user installation because normal site-packages is not writeable\n",
      "Collecting git+https://github.com/huggingface/transformers\n",
      "  Cloning https://github.com/huggingface/transformers to /scratch/local/13705991/pip-req-build-4hu2p3vd\n",
      "  Running command git clone --filter=blob:none --quiet https://github.com/huggingface/transformers /scratch/local/13705991/pip-req-build-4hu2p3vd\n",
      "  Resolved https://github.com/huggingface/transformers to commit 34a640642be61e0e2eb622e497140be3aea202bc\n",
      "  Installing build dependencies ... \u001b[?25ldone\n",
      "\u001b[?25h  Getting requirements to build wheel ... \u001b[?25ldone\n",
      "\u001b[?25h  Preparing metadata (pyproject.toml) ... \u001b[?25ldone\n",
      "\u001b[?25hRequirement already satisfied: filelock in /apps/pytorch/2.0.1/lib/python3.10/site-packages (from transformers==4.35.0.dev0) (3.12.0)\n",
      "Requirement already satisfied: huggingface-hub<1.0,>=0.16.4 in /home/steffankunoy/.local/lib/python3.10/site-packages (from transformers==4.35.0.dev0) (0.17.3)\n",
      "Requirement already satisfied: numpy>=1.17 in /apps/pytorch/2.0.1/lib/python3.10/site-packages (from transformers==4.35.0.dev0) (1.24.3)\n",
      "Requirement already satisfied: packaging>=20.0 in /apps/pytorch/2.0.1/lib/python3.10/site-packages (from transformers==4.35.0.dev0) (23.1)\n",
      "Requirement already satisfied: pyyaml>=5.1 in /home/steffankunoy/.local/lib/python3.10/site-packages (from transformers==4.35.0.dev0) (6.0.1)\n",
      "Requirement already satisfied: regex!=2019.12.17 in /home/steffankunoy/.local/lib/python3.10/site-packages (from transformers==4.35.0.dev0) (2023.10.3)\n",
      "Requirement already satisfied: requests in /apps/pytorch/2.0.1/lib/python3.10/site-packages (from transformers==4.35.0.dev0) (2.29.0)\n",
      "Requirement already satisfied: tokenizers<0.15,>=0.14 in /home/steffankunoy/.local/lib/python3.10/site-packages (from transformers==4.35.0.dev0) (0.14.1)\n",
      "Requirement already satisfied: safetensors>=0.3.1 in /home/steffankunoy/.local/lib/python3.10/site-packages (from transformers==4.35.0.dev0) (0.4.0)\n",
      "Requirement already satisfied: tqdm>=4.27 in /apps/pytorch/2.0.1/lib/python3.10/site-packages (from transformers==4.35.0.dev0) (4.65.0)\n",
      "Requirement already satisfied: fsspec in /home/steffankunoy/.local/lib/python3.10/site-packages (from huggingface-hub<1.0,>=0.16.4->transformers==4.35.0.dev0) (2023.9.2)\n",
      "Requirement already satisfied: typing-extensions>=3.7.4.3 in /apps/pytorch/2.0.1/lib/python3.10/site-packages (from huggingface-hub<1.0,>=0.16.4->transformers==4.35.0.dev0) (4.5.0)\n",
      "Requirement already satisfied: charset-normalizer<4,>=2 in /apps/pytorch/2.0.1/lib/python3.10/site-packages (from requests->transformers==4.35.0.dev0) (3.1.0)\n",
      "Requirement already satisfied: idna<4,>=2.5 in /apps/pytorch/2.0.1/lib/python3.10/site-packages (from requests->transformers==4.35.0.dev0) (3.4)\n",
      "Requirement already satisfied: urllib3<1.27,>=1.21.1 in /apps/pytorch/2.0.1/lib/python3.10/site-packages (from requests->transformers==4.35.0.dev0) (1.26.15)\n",
      "Requirement already satisfied: certifi>=2017.4.17 in /apps/pytorch/2.0.1/lib/python3.10/site-packages (from requests->transformers==4.35.0.dev0) (2023.7.22)\n"
     ]
    }
   ],
   "source": [
    "!pip3 install git+https://github.com/huggingface/transformers"
   ]
  },
  {
   "cell_type": "code",
   "execution_count": 2,
   "id": "3667851b-7748-4c9c-9349-702f4bb048f5",
   "metadata": {
    "tags": []
   },
   "outputs": [],
   "source": [
    "from tqdm import tqdm\n",
    "import pandas as pd\n",
    "import numpy as np\n",
    "import transformers\n",
    "import torch\n",
    "import os\n",
    "from transformers import AutoTokenizer, AutoModelForCausalLM,AutoConfig,AutoModelForCausalLM"
   ]
  },
  {
   "cell_type": "code",
   "execution_count": null,
   "id": "9dbd5880-e43f-4dde-b232-67d2d8e793d1",
   "metadata": {},
   "outputs": [],
   "source": [
    "model_config = \"/blue/cap4641/steffankunoy/LLM/mistral-7b/models--mistralai--Mistral-7B-v0.1/snapshots/5e9c98b96d071dce59368012254c55b0ec6f8658\"\n",
    "output_dir = \"/blue/cap4641/steffankunoy/LLM/mistral-7b\"\n",
    "device = \"cuda\""
   ]
  },
  {
   "cell_type": "code",
   "execution_count": 3,
   "id": "15e8f58b-4a8a-46dc-be16-6fb85c19dec9",
   "metadata": {
    "tags": []
   },
   "outputs": [],
   "source": [
    "def initialize_llm(output_dir,model_config):\n",
    "    config = AutoConfig.from_pretrained(model_config, trust_remote_code=True,cache_dir=output_dir)\n",
    "    tokenizer = AutoTokenizer.from_pretrained(model_config,config = AutoConfig.from_pretrained(model_config, trust_remote_code=True,cache_dir=output_dir)\n",
    ",cache_dir=output_dir)\n",
    "\n",
    "\n",
    "    pipeline = transformers.pipeline(\n",
    "        \"text-generation\",\n",
    "        model=model_config,\n",
    "        tokenizer=tokenizer,\n",
    "        torch_dtype=torch.bfloat16,\n",
    "        trust_remote_code=True,\n",
    "        device_map=device,\n",
    "        config=config,model_kwargs={'cache_dir':output_dir},\n",
    "    )\n",
    "    return pipeline,tokenizer\n",
    "\n",
    "def get_response(text,pipeline,tokenizer):\n",
    "    '''\n",
    "    Gets Response from mistral-7b\n",
    "    Keyword Arguments:\n",
    "    :pipeline:Created pipeline object\n",
    "    :tokenizer:mistral-7b Tokenizer\n",
    "    '''\n",
    "\n",
    "    sequences = pipeline(\n",
    "        text,\n",
    "        max_length=100,\n",
    "        do_sample=True,\n",
    "        return_full_text=False,\n",
    "        top_k=10,\n",
    "        num_return_sequences=1,\n",
    "        eos_token_id=tokenizer.eos_token_id,\n",
    "        pad_token_id=tokenizer.eos_token_id\n",
    "    )\n",
    "\n",
    "    return sequences[0]['generated_text']\n",
    "\n",
    "def chat(pipeline,tokenizer):\n",
    "    flag=True\n",
    "    while flag:\n",
    "        x=input(\"Enter your Question:\")\n",
    "        if x.lower()=='end':\n",
    "            flag=False\n",
    "        else:\n",
    "            print(\"Mistral 7B:\")\n",
    "            print(get_response(x,pipeline,tokenizer))\n"
   ]
  },
  {
   "cell_type": "code",
   "execution_count": 4,
   "id": "1bfcfab6-c65f-4b6a-9bbb-e67ce559b922",
   "metadata": {
    "tags": []
   },
   "outputs": [
    {
     "name": "stderr",
     "output_type": "stream",
     "text": [
      "Special tokens have been added in the vocabulary, make sure the associated word embeddings are fine-tuned or trained.\n"
     ]
    },
    {
     "data": {
      "application/vnd.jupyter.widget-view+json": {
       "model_id": "fcdf35f2a12e449f8f347a765052bfe3",
       "version_major": 2,
       "version_minor": 0
      },
      "text/plain": [
       "Loading checkpoint shards:   0%|          | 0/2 [00:00<?, ?it/s]"
      ]
     },
     "metadata": {},
     "output_type": "display_data"
    }
   ],
   "source": [
    "if __name__ == \"__main__\":\n",
    "  pipeline,tokenizer=initialize_llm(output_dir,model_config)"
   ]
  },
  {
   "cell_type": "code",
   "execution_count": null,
   "id": "1fbbc8eb-f406-4344-8800-0fabf13af8f1",
   "metadata": {
    "tags": []
   },
   "outputs": [
    {
     "name": "stdin",
     "output_type": "stream",
     "text": [
      "Enter your Question: When did Einstein propose the Theory of Relativity?\n"
     ]
    },
    {
     "name": "stdout",
     "output_type": "stream",
     "text": [
      "Mistral 7B:\n",
      "\n",
      "11. How did Galileo contribute to the study of astronomy, physics, and mathematics?\n",
      "\n",
      "## 14 Test 2\n",
      "\n",
      "## 15 Test 3\n",
      "\n",
      "## Appendix B Test Answer Keys\n",
      "\n",
      "**Test 1**\n",
      "\n",
      "1. **C.** The word \"turbulence\" is defined as \"disturbed, chaotic, or irregular movement\" (_American Heritage\n"
     ]
    },
    {
     "name": "stdin",
     "output_type": "stream",
     "text": [
      "Enter your Question: What color is the sky?\n"
     ]
    },
    {
     "name": "stdout",
     "output_type": "stream",
     "text": [
      "Mistral 7B:\n",
      " Is this sky blue or pink? What about the grass? What about the flowers? What about the sun? It was a very beautiful sight. 7. What do you think? 8. Did you enjoy this trip? I think you'll have a good time when you go to Japan. I hope you'll have a lot of fun when you go to Japan. 9. How many days will you stay in Japan? It's a long\n"
     ]
    }
   ],
   "source": [
    "if __name__ == \"__main__\":\n",
    "  chat(pipeline,tokenizer)"
   ]
  }
 ],
 "metadata": {
  "kernelspec": {
   "display_name": "PyTorch-2.0.1",
   "language": "python",
   "name": "pytorch-2.0.1"
  },
  "language_info": {
   "codemirror_mode": {
    "name": "ipython",
    "version": 3
   },
   "file_extension": ".py",
   "mimetype": "text/x-python",
   "name": "python",
   "nbconvert_exporter": "python",
   "pygments_lexer": "ipython3",
   "version": "3.10.11"
  }
 },
 "nbformat": 4,
 "nbformat_minor": 5
}
